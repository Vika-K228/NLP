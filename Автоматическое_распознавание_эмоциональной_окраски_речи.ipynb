{
  "nbformat": 4,
  "nbformat_minor": 0,
  "metadata": {
    "colab": {
      "provenance": [],
      "gpuType": "T4"
    },
    "kernelspec": {
      "name": "python3",
      "display_name": "Python 3"
    },
    "language_info": {
      "name": "python"
    },
    "accelerator": "GPU",
    "widgets": {
      "application/vnd.jupyter.widget-state+json": {
        "3a53e851b60b44ba852f8a46647a2bb7": {
          "model_module": "catboost-widget",
          "model_name": "CatboostWidgetModel",
          "model_module_version": "^1.0.0",
          "state": {
            "_dom_classes": [],
            "_model_module": "catboost-widget",
            "_model_module_version": "^1.0.0",
            "_model_name": "CatboostWidgetModel",
            "_view_count": null,
            "_view_module": "catboost-widget",
            "_view_module_version": "^1.0.0",
            "_view_name": "CatboostWidgetView",
            "data": {
              "catboost_info": {
                "path": "catboost_info",
                "name": "catboost_info",
                "content": {
                  "passed_iterations": 1425,
                  "total_iterations": 10000,
                  "data": {
                    "iterations": [
                      {
                        "learn": [
                          0.2206735604,
                          1.766250828
                        ],
                        "iteration": 0,
                        "passed_time": 0.03876717467,
                        "remaining_time": 387.6329796,
                        "test": [
                          0.2044098595,
                          1.770724565
                        ]
                      },
                      {
                        "learn": [
                          0.2371272268,
                          1.749917195
                        ],
                        "iteration": 1,
                        "passed_time": 0.06628071484,
                        "remaining_time": 331.3372935,
                        "test": [
                          0.212870381,
                          1.75540134
                        ]
                      },
                      {
                        "learn": [
                          0.2516121836,
                          1.736623106
                        ],
                        "iteration": 2,
                        "passed_time": 0.09919007681,
                        "remaining_time": 330.5343993,
                        "test": [
                          0.2409676867,
                          1.741467641
                        ]
                      },
                      {
                        "learn": [
                          0.280201505,
                          1.718158327
                        ],
                        "iteration": 3,
                        "passed_time": 0.1265689254,
                        "remaining_time": 316.2957447,
                        "test": [
                          0.2693786784,
                          1.723354801
                        ]
                      },
                      {
                        "learn": [
                          0.3008986735,
                          1.704241092
                        ],
                        "iteration": 4,
                        "passed_time": 0.1538991314,
                        "remaining_time": 307.6443637,
                        "test": [
                          0.2935280214,
                          1.708735654
                        ]
                      },
                      {
                        "learn": [
                          0.3008986735,
                          1.692729607
                        ],
                        "iteration": 5,
                        "passed_time": 0.1811992442,
                        "remaining_time": 301.8175411,
                        "test": [
                          0.2935280214,
                          1.697554313
                        ]
                      },
                      {
                        "learn": [
                          0.3149636662,
                          1.680579378
                        ],
                        "iteration": 6,
                        "passed_time": 0.2085442329,
                        "remaining_time": 297.7117884,
                        "test": [
                          0.2998778453,
                          1.686456141
                        ]
                      },
                      {
                        "learn": [
                          0.3149636662,
                          1.669524716
                        ],
                        "iteration": 7,
                        "passed_time": 0.2361400326,
                        "remaining_time": 294.9389007,
                        "test": [
                          0.2998778453,
                          1.678684589
                        ]
                      },
                      {
                        "learn": [
                          0.3149636662,
                          1.661214898
                        ],
                        "iteration": 8,
                        "passed_time": 0.2655927686,
                        "remaining_time": 294.8374834,
                        "test": [
                          0.2998778453,
                          1.670429424
                        ]
                      },
                      {
                        "learn": [
                          0.3149636662,
                          1.651711729
                        ],
                        "iteration": 9,
                        "passed_time": 0.2811344063,
                        "remaining_time": 280.8532719,
                        "test": [
                          0.2998778453,
                          1.659365576
                        ]
                      },
                      {
                        "learn": [
                          0.3300217556,
                          1.641652152
                        ],
                        "iteration": 10,
                        "passed_time": 0.295404899,
                        "remaining_time": 268.2545033,
                        "test": [
                          0.3165479783,
                          1.648430662
                        ]
                      },
                      {
                        "learn": [
                          0.3300217556,
                          1.634201241
                        ],
                        "iteration": 11,
                        "passed_time": 0.3103001772,
                        "remaining_time": 258.2731809,
                        "test": [
                          0.3165479783,
                          1.640013853
                        ]
                      },
                      {
                        "learn": [
                          0.3300217556,
                          1.62711267
                        ],
                        "iteration": 12,
                        "passed_time": 0.3272101852,
                        "remaining_time": 251.3729323,
                        "test": [
                          0.3165479783,
                          1.631726124
                        ]
                      },
                      {
                        "learn": [
                          0.3383309557,
                          1.620138231
                        ],
                        "iteration": 13,
                        "passed_time": 0.3415704684,
                        "remaining_time": 243.6373355,
                        "test": [
                          0.3219932327,
                          1.626919327
                        ]
                      },
                      {
                        "learn": [
                          0.3457714319,
                          1.612933579
                        ],
                        "iteration": 14,
                        "passed_time": 0.3558364873,
                        "remaining_time": 236.8684884,
                        "test": [
                          0.3278149492,
                          1.620556078
                        ]
                      },
                      {
                        "learn": [
                          0.3457714319,
                          1.605430627
                        ],
                        "iteration": 15,
                        "passed_time": 0.3701166359,
                        "remaining_time": 230.9527808,
                        "test": [
                          0.3278149492,
                          1.614431775
                        ]
                      },
                      {
                        "learn": [
                          0.3457714319,
                          1.598277716
                        ],
                        "iteration": 16,
                        "passed_time": 0.3856691473,
                        "remaining_time": 226.4785352,
                        "test": [
                          0.3278149492,
                          1.608698822
                        ]
                      },
                      {
                        "learn": [
                          0.3596603209,
                          1.59128213
                        ],
                        "iteration": 17,
                        "passed_time": 0.3998179993,
                        "remaining_time": 221.7212927,
                        "test": [
                          0.342692669,
                          1.601290017
                        ]
                      },
                      {
                        "learn": [
                          0.3596603209,
                          1.585414506
                        ],
                        "iteration": 18,
                        "passed_time": 0.4153511048,
                        "remaining_time": 218.1904935,
                        "test": [
                          0.342692669,
                          1.595719735
                        ]
                      },
                      {
                        "learn": [
                          0.3743217058,
                          1.578145815
                        ],
                        "iteration": 19,
                        "passed_time": 0.4297955498,
                        "remaining_time": 214.4679793,
                        "test": [
                          0.3597813563,
                          1.588146059
                        ]
                      },
                      {
                        "learn": [
                          0.3800576366,
                          1.572014385
                        ],
                        "iteration": 20,
                        "passed_time": 0.4443443209,
                        "remaining_time": 211.1481894,
                        "test": [
                          0.3635919343,
                          1.584112867
                        ]
                      },
                      {
                        "learn": [
                          0.393423382,
                          1.564502734
                        ],
                        "iteration": 21,
                        "passed_time": 0.4587749833,
                        "remaining_time": 208.0753083,
                        "test": [
                          0.3780931921,
                          1.575422788
                        ]
                      },
                      {
                        "learn": [
                          0.4040745087,
                          1.558506431
                        ],
                        "iteration": 22,
                        "passed_time": 0.472070114,
                        "remaining_time": 204.7758056,
                        "test": [
                          0.3903834823,
                          1.569414071
                        ]
                      },
                      {
                        "learn": [
                          0.4041436247,
                          1.553311595
                        ],
                        "iteration": 23,
                        "passed_time": 0.4848886912,
                        "remaining_time": 201.552066,
                        "test": [
                          0.3903834823,
                          1.563315584
                        ]
                      },
                      {
                        "learn": [
                          0.4148909793,
                          1.547279449
                        ],
                        "iteration": 24,
                        "passed_time": 0.4973912454,
                        "remaining_time": 198.4591069,
                        "test": [
                          0.4052612021,
                          1.556338027
                        ]
                      },
                      {
                        "learn": [
                          0.4211740481,
                          1.541419323
                        ],
                        "iteration": 25,
                        "passed_time": 0.5098492429,
                        "remaining_time": 195.5860134,
                        "test": [
                          0.4072017743,
                          1.552526326
                        ]
                      },
                      {
                        "learn": [
                          0.4266303973,
                          1.535712473
                        ],
                        "iteration": 26,
                        "passed_time": 0.5224278919,
                        "remaining_time": 192.9693839,
                        "test": [
                          0.4143172055,
                          1.546913213
                        ]
                      },
                      {
                        "learn": [
                          0.43692378,
                          1.530302422
                        ],
                        "iteration": 27,
                        "passed_time": 0.5349864674,
                        "remaining_time": 190.531609,
                        "test": [
                          0.4249021445,
                          1.541482427
                        ]
                      },
                      {
                        "learn": [
                          0.4427919304,
                          1.525125134
                        ],
                        "iteration": 28,
                        "passed_time": 0.5476899687,
                        "remaining_time": 188.3109199,
                        "test": [
                          0.4322879711,
                          1.536134076
                        ]
                      },
                      {
                        "learn": [
                          0.4481400545,
                          1.519623749
                        ],
                        "iteration": 29,
                        "passed_time": 0.5658683158,
                        "remaining_time": 188.0569036,
                        "test": [
                          0.4381096875,
                          1.530639043
                        ]
                      },
                      {
                        "learn": [
                          0.4482482796,
                          1.514718214
                        ],
                        "iteration": 30,
                        "passed_time": 0.5801268091,
                        "remaining_time": 186.5575535,
                        "test": [
                          0.4381096875,
                          1.526471636
                        ]
                      },
                      {
                        "learn": [
                          0.4539842104,
                          1.509147841
                        ],
                        "iteration": 31,
                        "passed_time": 0.5926563115,
                        "remaining_time": 184.612441,
                        "test": [
                          0.4436138558,
                          1.520667689
                        ]
                      },
                      {
                        "learn": [
                          0.4547134919,
                          1.504332442
                        ],
                        "iteration": 32,
                        "passed_time": 0.6099105734,
                        "remaining_time": 184.2114753,
                        "test": [
                          0.4401713291,
                          1.515827594
                        ]
                      },
                      {
                        "learn": [
                          0.4655990786,
                          1.498502762
                        ],
                        "iteration": 33,
                        "passed_time": 0.6222925108,
                        "remaining_time": 182.4049166,
                        "test": [
                          0.4523555526,
                          1.509048646
                        ]
                      },
                      {
                        "learn": [
                          0.4657644225,
                          1.494491679
                        ],
                        "iteration": 34,
                        "passed_time": 0.6346219776,
                        "remaining_time": 180.685943,
                        "test": [
                          0.4523555526,
                          1.505501561
                        ]
                      },
                      {
                        "learn": [
                          0.4762622303,
                          1.489323088
                        ],
                        "iteration": 35,
                        "passed_time": 0.6471520779,
                        "remaining_time": 179.117314,
                        "test": [
                          0.4587770823,
                          1.502524925
                        ]
                      },
                      {
                        "learn": [
                          0.4863602064,
                          1.484270279
                        ],
                        "iteration": 36,
                        "passed_time": 0.6595126387,
                        "remaining_time": 177.5871465,
                        "test": [
                          0.4734313423,
                          1.496103443
                        ]
                      },
                      {
                        "learn": [
                          0.4899416394,
                          1.479749431
                        ],
                        "iteration": 37,
                        "passed_time": 0.6720181096,
                        "remaining_time": 176.1748528,
                        "test": [
                          0.4825700565,
                          1.492337801
                        ]
                      },
                      {
                        "learn": [
                          0.5031273562,
                          1.474345679
                        ],
                        "iteration": 38,
                        "passed_time": 0.6844925595,
                        "remaining_time": 174.8264201,
                        "test": [
                          0.4966609246,
                          1.486628317
                        ]
                      },
                      {
                        "learn": [
                          0.5080349773,
                          1.470079189
                        ],
                        "iteration": 39,
                        "passed_time": 0.6969684254,
                        "remaining_time": 173.5451379,
                        "test": [
                          0.4998738054,
                          1.482966526
                        ]
                      },
                      {
                        "learn": [
                          0.5181819541,
                          1.464358391
                        ],
                        "iteration": 40,
                        "passed_time": 0.7093668874,
                        "remaining_time": 172.3069471,
                        "test": [
                          0.5104587444,
                          1.476966463
                        ]
                      },
                      {
                        "learn": [
                          0.5225392528,
                          1.460220579
                        ],
                        "iteration": 41,
                        "passed_time": 0.7229163555,
                        "remaining_time": 171.4000254,
                        "test": [
                          0.5189820419,
                          1.471010993
                        ]
                      },
                      {
                        "learn": [
                          0.5225392528,
                          1.456390366
                        ],
                        "iteration": 42,
                        "passed_time": 0.7353538547,
                        "remaining_time": 170.2771705,
                        "test": [
                          0.5185586444,
                          1.466089049
                        ]
                      },
                      {
                        "learn": [
                          0.5316941443,
                          1.451816577
                        ],
                        "iteration": 43,
                        "passed_time": 0.7476936373,
                        "remaining_time": 169.1826785,
                        "test": [
                          0.5247832213,
                          1.462452194
                        ]
                      },
                      {
                        "learn": [
                          0.541197395,
                          1.447321674
                        ],
                        "iteration": 44,
                        "passed_time": 0.7599832524,
                        "remaining_time": 168.125184,
                        "test": [
                          0.5403347351,
                          1.455552672
                        ]
                      },
                      {
                        "learn": [
                          0.545410358,
                          1.44301709
                        ],
                        "iteration": 45,
                        "passed_time": 0.7724518067,
                        "remaining_time": 167.151854,
                        "test": [
                          0.5454155059,
                          1.451412109
                        ]
                      },
                      {
                        "learn": [
                          0.5504262043,
                          1.43863122
                        ],
                        "iteration": 46,
                        "passed_time": 0.7847088506,
                        "remaining_time": 166.1746211,
                        "test": [
                          0.5518153603,
                          1.446918479
                        ]
                      },
                      {
                        "learn": [
                          0.5504262043,
                          1.43478106
                        ],
                        "iteration": 47,
                        "passed_time": 0.797025507,
                        "remaining_time": 165.2499551,
                        "test": [
                          0.5518153603,
                          1.443801175
                        ]
                      },
                      {
                        "learn": [
                          0.5502097541,
                          1.43069109
                        ],
                        "iteration": 48,
                        "passed_time": 0.8093949775,
                        "remaining_time": 164.3732535,
                        "test": [
                          0.5513919627,
                          1.43892221
                        ]
                      },
                      {
                        "learn": [
                          0.5578073087,
                          1.426582674
                        ],
                        "iteration": 49,
                        "passed_time": 0.8217215793,
                        "remaining_time": 163.5225943,
                        "test": [
                          0.5600505893,
                          1.434805555
                        ]
                      },
                      {
                        "learn": [
                          0.5713228016,
                          1.421738479
                        ],
                        "iteration": 50,
                        "passed_time": 0.8341360336,
                        "remaining_time": 162.721949,
                        "test": [
                          0.5688296408,
                          1.431452091
                        ]
                      },
                      {
                        "learn": [
                          0.5792715338,
                          1.417562274
                        ],
                        "iteration": 51,
                        "passed_time": 0.8477189221,
                        "remaining_time": 162.1751507,
                        "test": [
                          0.5750542177,
                          1.427904566
                        ]
                      },
                      {
                        "learn": [
                          0.5867690622,
                          1.413480853
                        ],
                        "iteration": 52,
                        "passed_time": 0.8601082543,
                        "remaining_time": 161.424468,
                        "test": [
                          0.5833478692,
                          1.423676286
                        ]
                      },
                      {
                        "learn": [
                          0.587220582,
                          1.409747824
                        ],
                        "iteration": 53,
                        "passed_time": 0.8734919863,
                        "remaining_time": 160.8842833,
                        "test": [
                          0.5833478692,
                          1.419456954
                        ]
                      },
                      {
                        "learn": [
                          0.587220582,
                          1.405872618
                        ],
                        "iteration": 54,
                        "passed_time": 0.8860066152,
                        "remaining_time": 160.2061052,
                        "test": [
                          0.5833478692,
                          1.416026188
                        ]
                      },
                      {
                        "learn": [
                          0.5873859259,
                          1.402348504
                        ],
                        "iteration": 55,
                        "passed_time": 0.8982418777,
                        "remaining_time": 159.5020934,
                        "test": [
                          0.5846415839,
                          1.41305278
                        ]
                      },
                      {
                        "learn": [
                          0.5873859259,
                          1.399224374
                        ],
                        "iteration": 56,
                        "passed_time": 0.910668625,
                        "remaining_time": 158.8557568,
                        "test": [
                          0.5846415839,
                          1.410342667
                        ]
                      },
                      {
                        "learn": [
                          0.5874243196,
                          1.395594228
                        ],
                        "iteration": 57,
                        "passed_time": 0.9229372479,
                        "remaining_time": 158.2041745,
                        "test": [
                          0.5846415839,
                          1.408169707
                        ]
                      },
                      {
                        "learn": [
                          0.5906906919,
                          1.392421356
                        ],
                        "iteration": 58,
                        "passed_time": 0.9350459459,
                        "remaining_time": 157.5473178,
                        "test": [
                          0.5874780027,
                          1.40553235
                        ]
                      },
                      {
                        "learn": [
                          0.5943255427,
                          1.388280394
                        ],
                        "iteration": 59,
                        "passed_time": 0.9473321125,
                        "remaining_time": 156.9413533,
                        "test": [
                          0.5938289661,
                          1.401029039
                        ]
                      },
                      {
                        "learn": [
                          0.5945751173,
                          1.38457766
                        ],
                        "iteration": 60,
                        "passed_time": 0.9599466903,
                        "remaining_time": 156.4083632,
                        "test": [
                          0.5934055685,
                          1.39744763
                        ]
                      },
                      {
                        "learn": [
                          0.5986166877,
                          1.380765144
                        ],
                        "iteration": 61,
                        "passed_time": 0.9723618768,
                        "remaining_time": 155.8601989,
                        "test": [
                          0.5979490199,
                          1.393158917
                        ]
                      },
                      {
                        "learn": [
                          0.6024679887,
                          1.376863543
                        ],
                        "iteration": 62,
                        "passed_time": 0.9849043209,
                        "remaining_time": 155.3491149,
                        "test": [
                          0.601759598,
                          1.388977282
                        ]
                      },
                      {
                        "learn": [
                          0.6095474126,
                          1.373009034
                        ],
                        "iteration": 63,
                        "passed_time": 0.9973358289,
                        "remaining_time": 154.8363874,
                        "test": [
                          0.6083941301,
                          1.385876553
                        ]
                      },
                      {
                        "learn": [
                          0.6134022049,
                          1.369635195
                        ],
                        "iteration": 64,
                        "passed_time": 1.009919573,
                        "remaining_time": 154.3623225,
                        "test": [
                          0.6144673811,
                          1.382008672
                        ]
                      },
                      {
                        "learn": [
                          0.6134984327,
                          1.366474471
                        ],
                        "iteration": 65,
                        "passed_time": 1.03068315,
                        "remaining_time": 155.1334305,
                        "test": [
                          0.6144673811,
                          1.378024326
                        ]
                      },
                      {
                        "learn": [
                          0.6134984327,
                          1.363227511
                        ],
                        "iteration": 66,
                        "passed_time": 1.043376054,
                        "remaining_time": 154.6843932,
                        "test": [
                          0.6144673811,
                          1.374060955
                        ]
                      },
                      {
                        "learn": [
                          0.6205268055,
                          1.359733692
                        ],
                        "iteration": 67,
                        "passed_time": 1.055822968,
                        "remaining_time": 154.2122605,
                        "test": [
                          0.6200923053,
                          1.371308891
                        ]
                      },
                      {
                        "learn": [
                          0.6250760037,
                          1.356352505
                        ],
                        "iteration": 68,
                        "passed_time": 1.069436627,
                        "remaining_time": 153.9213789,
                        "test": [
                          0.6220523366,
                          1.368898011
                        ]
                      },
                      {
                        "learn": [
                          0.6291241962,
                          1.353158336
                        ],
                        "iteration": 69,
                        "passed_time": 1.081828763,
                        "remaining_time": 153.4651374,
                        "test": [
                          0.6246875708,
                          1.366037989
                        ]
                      },
                      {
                        "learn": [
                          0.6323925898,
                          1.349739055
                        ],
                        "iteration": 70,
                        "passed_time": 1.096106407,
                        "remaining_time": 153.2850776,
                        "test": [
                          0.6258028314,
                          1.36273117
                        ]
                      },
                      {
                        "learn": [
                          0.6363379323,
                          1.34597978
                        ],
                        "iteration": 71,
                        "passed_time": 1.108537618,
                        "remaining_time": 152.8550204,
                        "test": [
                          0.6295674517,
                          1.358362515
                        ]
                      },
                      {
                        "learn": [
                          0.6364461574,
                          1.342916239
                        ],
                        "iteration": 72,
                        "passed_time": 1.121048202,
                        "remaining_time": 152.4471986,
                        "test": [
                          0.6295674517,
                          1.354292652
                        ]
                      },
                      {
                        "learn": [
                          0.6397115301,
                          1.339617538
                        ],
                        "iteration": 73,
                        "passed_time": 1.133539176,
                        "remaining_time": 152.0474306,
                        "test": [
                          0.6340495474,
                          1.350782091
                        ]
                      },
                      {
                        "learn": [
                          0.6442344243,
                          1.336425469
                        ],
                        "iteration": 74,
                        "passed_time": 1.146165245,
                        "remaining_time": 151.6758674,
                        "test": [
                          0.6416365585,
                          1.346541783
                        ]
                      },
                      {
                        "learn": [
                          0.6472199245,
                          1.333067378
                        ],
                        "iteration": 75,
                        "passed_time": 1.15859762,
                        "remaining_time": 151.2884577,
                        "test": [
                          0.6429795938,
                          1.343557227
                        ]
                      },
                      {
                        "learn": [
                          0.6471472356,
                          1.33010657
                        ],
                        "iteration": 76,
                        "passed_time": 1.171152332,
                        "remaining_time": 150.9265531,
                        "test": [
                          0.6441231053,
                          1.340865889
                        ]
                      },
                      {
                        "learn": [
                          0.6497927382,
                          1.327023983
                        ],
                        "iteration": 77,
                        "passed_time": 1.18348128,
                        "remaining_time": 150.544888,
                        "test": [
                          0.6467105348,
                          1.337134864
                        ]
                      },
                      {
                        "learn": [
                          0.6500786232,
                          1.324101119
                        ],
                        "iteration": 78,
                        "passed_time": 1.195938712,
                        "remaining_time": 150.1887084,
                        "test": [
                          0.6469339947,
                          1.332451867
                        ]
                      },
                      {
                        "learn": [
                          0.6536390542,
                          1.320922098
                        ],
                        "iteration": 79,
                        "passed_time": 1.210213647,
                        "remaining_time": 150.0664922,
                        "test": [
                          0.6499456909,
                          1.330122103
                        ]
                      },
                      {
                        "learn": [
                          0.6634207963,
                          1.317228662
                        ],
                        "iteration": 80,
                        "passed_time": 1.222838291,
                        "remaining_time": 149.7448519,
                        "test": [
                          0.6646651038,
                          1.324926743
                        ]
                      },
                      {
                        "learn": [
                          0.6635290214,
                          1.314064638
                        ],
                        "iteration": 81,
                        "passed_time": 1.236388586,
                        "remaining_time": 149.5427073,
                        "test": [
                          0.6650885014,
                          1.321692532
                        ]
                      },
                      {
                        "learn": [
                          0.669732905,
                          1.311026594
                        ],
                        "iteration": 82,
                        "passed_time": 1.248935471,
                        "remaining_time": 149.2252177,
                        "test": [
                          0.6691481772,
                          1.319296321
                        ]
                      },
                      {
                        "learn": [
                          0.672866739,
                          1.307953605
                        ],
                        "iteration": 83,
                        "passed_time": 1.263828033,
                        "remaining_time": 149.1918901,
                        "test": [
                          0.6704318123,
                          1.316505826
                        ]
                      },
                      {
                        "learn": [
                          0.672866739,
                          1.305188065
                        ],
                        "iteration": 84,
                        "passed_time": 1.276385618,
                        "remaining_time": 148.8866283,
                        "test": [
                          0.6708552099,
                          1.313820943
                        ]
                      },
                      {
                        "learn": [
                          0.6729178453,
                          1.302339738
                        ],
                        "iteration": 85,
                        "passed_time": 1.288813332,
                        "remaining_time": 148.573202,
                        "test": [
                          0.6708552099,
                          1.310884939
                        ]
                      },
                      {
                        "learn": [
                          0.6730206953,
                          1.299336338
                        ],
                        "iteration": 86,
                        "passed_time": 1.3031157,
                        "remaining_time": 148.480298,
                        "test": [
                          0.6712786075,
                          1.308279265
                        ]
                      },
                      {
                        "learn": [
                          0.6735491475,
                          1.296287345
                        ],
                        "iteration": 87,
                        "passed_time": 1.31768665,
                        "remaining_time": 148.4194326,
                        "test": [
                          0.6708552099,
                          1.304705924
                        ]
                      },
                      {
                        "learn": [
                          0.6735491475,
                          1.293290993
                        ],
                        "iteration": 88,
                        "passed_time": 1.330089095,
                        "remaining_time": 148.1181239,
                        "test": [
                          0.6708552099,
                          1.302306779
                        ]
                      },
                      {
                        "learn": [
                          0.6735491475,
                          1.29036558
                        ],
                        "iteration": 89,
                        "passed_time": 1.342427159,
                        "remaining_time": 147.8161461,
                        "test": [
                          0.671702005,
                          1.299717239
                        ]
                      },
                      {
                        "learn": [
                          0.6765980699,
                          1.287336834
                        ],
                        "iteration": 90,
                        "passed_time": 1.354731812,
                        "remaining_time": 147.5168959,
                        "test": [
                          0.674665788,
                          1.296324612
                        ]
                      },
                      {
                        "learn": [
                          0.6827142868,
                          1.284074126
                        ],
                        "iteration": 91,
                        "passed_time": 1.366950445,
                        "remaining_time": 147.2146197,
                        "test": [
                          0.6821940507,
                          1.292917609
                        ]
                      },
                      {
                        "learn": [
                          0.6828105147,
                          1.281274992
                        ],
                        "iteration": 92,
                        "passed_time": 1.379313231,
                        "remaining_time": 146.9339374,
                        "test": [
                          0.6815471933,
                          1.290252674
                        ]
                      },
                      {
                        "learn": [
                          0.6828105147,
                          1.278599437
                        ],
                        "iteration": 93,
                        "passed_time": 1.391746005,
                        "remaining_time": 146.6663396,
                        "test": [
                          0.6815471933,
                          1.287355541
                        ]
                      },
                      {
                        "learn": [
                          0.6827981987,
                          1.276018516
                        ],
                        "iteration": 94,
                        "passed_time": 1.40404354,
                        "remaining_time": 146.3900133,
                        "test": [
                          0.6815471933,
                          1.283981835
                        ]
                      },
                      {
                        "learn": [
                          0.6854543982,
                          1.273327814
                        ],
                        "iteration": 95,
                        "passed_time": 1.416329717,
                        "remaining_time": 146.1180158,
                        "test": [
                          0.6853118136,
                          1.281452289
                        ]
                      },
                      {
                        "learn": [
                          0.6855626234,
                          1.270840327
                        ],
                        "iteration": 96,
                        "passed_time": 1.428767358,
                        "remaining_time": 145.8668366,
                        "test": [
                          0.6853118136,
                          1.277663618
                        ]
                      },
                      {
                        "learn": [
                          0.6856588512,
                          1.268448525
                        ],
                        "iteration": 97,
                        "passed_time": 1.4411164,
                        "remaining_time": 145.6115775,
                        "test": [
                          0.6853118136,
                          1.275223695
                        ]
                      },
                      {
                        "learn": [
                          0.6857790736,
                          1.26583491
                        ],
                        "iteration": 98,
                        "passed_time": 1.453448986,
                        "remaining_time": 145.3595799,
                        "test": [
                          0.6853118136,
                          1.272931189
                        ]
                      },
                      {
                        "learn": [
                          0.6883106573,
                          1.263093216
                        ],
                        "iteration": 99,
                        "passed_time": 1.465743894,
                        "remaining_time": 145.1086456,
                        "test": [
                          0.6878992431,
                          1.270690608
                        ]
                      },
                      {
                        "learn": [
                          0.6881453134,
                          1.260570486
                        ],
                        "iteration": 100,
                        "passed_time": 1.478141042,
                        "remaining_time": 144.8724571,
                        "test": [
                          0.6878992431,
                          1.268380059
                        ]
                      },
                      {
                        "learn": [
                          0.6882655358,
                          1.258026759
                        ],
                        "iteration": 101,
                        "passed_time": 1.490438425,
                        "remaining_time": 144.6309758,
                        "test": [
                          0.6878992431,
                          1.266302297
                        ]
                      },
                      {
                        "learn": [
                          0.6883617636,
                          1.255713993
                        ],
                        "iteration": 102,
                        "passed_time": 1.502763985,
                        "remaining_time": 144.3966521,
                        "test": [
                          0.6878992431,
                          1.264022552
                        ]
                      },
                      {
                        "learn": [
                          0.6882535385,
                          1.253319042
                        ],
                        "iteration": 103,
                        "passed_time": 1.5150411,
                        "remaining_time": 144.1619877,
                        "test": [
                          0.6878992431,
                          1.261854872
                        ]
                      },
                      {
                        "learn": [
                          0.6884188824,
                          1.250826306
                        ],
                        "iteration": 104,
                        "passed_time": 1.528406989,
                        "remaining_time": 144.0341634,
                        "test": [
                          0.6878992431,
                          1.259463208
                        ]
                      },
                      {
                        "learn": [
                          0.6907998348,
                          1.248227913
                        ],
                        "iteration": 105,
                        "passed_time": 1.540735799,
                        "remaining_time": 143.8116981,
                        "test": [
                          0.6900162309,
                          1.257280127
                        ]
                      },
                      {
                        "learn": [
                          0.6936551122,
                          1.245753625
                        ],
                        "iteration": 106,
                        "passed_time": 1.553060069,
                        "remaining_time": 143.5927408,
                        "test": [
                          0.6937808512,
                          1.254483618
                        ]
                      },
                      {
                        "learn": [
                          0.6937633373,
                          1.243567889
                        ],
                        "iteration": 107,
                        "passed_time": 1.565355969,
                        "remaining_time": 143.3750116,
                        "test": [
                          0.6937808512,
                          1.252132439
                        ]
                      },
                      {
                        "learn": [
                          0.6944928159,
                          1.240951424
                        ],
                        "iteration": 108,
                        "passed_time": 1.577654459,
                        "remaining_time": 143.1612868,
                        "test": [
                          0.6940812576,
                          1.249657899
                        ]
                      },
                      {
                        "learn": [
                          0.696402435,
                          1.23859719
                        ],
                        "iteration": 109,
                        "passed_time": 1.589983103,
                        "remaining_time": 142.9539354,
                        "test": [
                          0.6991620284,
                          1.246062262
                        ]
                      },
                      {
                        "learn": [
                          0.696402435,
                          1.236502039
                        ],
                        "iteration": 110,
                        "passed_time": 1.626982037,
                        "remaining_time": 144.9479762,
                        "test": [
                          0.6991620284,
                          1.244619049
                        ]
                      },
                      {
                        "learn": [
                          0.696402435,
                          1.234468302
                        ],
                        "iteration": 111,
                        "passed_time": 1.639495162,
                        "remaining_time": 144.7440014,
                        "test": [
                          0.6991620284,
                          1.24215331
                        ]
                      },
                      {
                        "learn": [
                          0.6964986629,
                          1.232144889
                        ],
                        "iteration": 112,
                        "passed_time": 1.651859991,
                        "remaining_time": 144.5304401,
                        "test": [
                          0.6991620284,
                          1.239565531
                        ]
                      },
                      {
                        "learn": [
                          0.6994312966,
                          1.229275716
                        ],
                        "iteration": 113,
                        "passed_time": 1.664270319,
                        "remaining_time": 144.3243541,
                        "test": [
                          0.7021737246,
                          1.23707603
                        ]
                      },
                      {
                        "learn": [
                          0.6994312966,
                          1.227076332
                        ],
                        "iteration": 114,
                        "passed_time": 1.676882622,
                        "remaining_time": 144.1389975,
                        "test": [
                          0.7021737246,
                          1.234759027
                        ]
                      },
                      {
                        "learn": [
                          0.7027152886,
                          1.224447644
                        ],
                        "iteration": 115,
                        "passed_time": 1.68946163,
                        "remaining_time": 143.9537823,
                        "test": [
                          0.7036920373,
                          1.232393179
                        ]
                      },
                      {
                        "learn": [
                          0.7027152886,
                          1.222199293
                        ],
                        "iteration": 116,
                        "passed_time": 1.701964733,
                        "remaining_time": 143.7651065,
                        "test": [
                          0.7036920373,
                          1.230325171
                        ]
                      },
                      {
                        "learn": [
                          0.7056141219,
                          1.219882253
                        ],
                        "iteration": 117,
                        "passed_time": 1.714476039,
                        "remaining_time": 143.5801035,
                        "test": [
                          0.7051978854,
                          1.227589316
                        ]
                      },
                      {
                        "learn": [
                          0.7075417833,
                          1.217606832
                        ],
                        "iteration": 118,
                        "passed_time": 1.726941643,
                        "remaining_time": 143.3942048,
                        "test": [
                          0.7077873775,
                          1.225586214
                        ]
                      },
                      {
                        "learn": [
                          0.7101913607,
                          1.215034909
                        ],
                        "iteration": 119,
                        "passed_time": 1.740718642,
                        "remaining_time": 143.3191682,
                        "test": [
                          0.7111755357,
                          1.22285828
                        ]
                      },
                      {
                        "learn": [
                          0.7098095666,
                          1.212642957
                        ],
                        "iteration": 120,
                        "passed_time": 1.753135921,
                        "remaining_time": 143.1341303,
                        "test": [
                          0.7111755357,
                          1.220279302
                        ]
                      },
                      {
                        "learn": [
                          0.7097133387,
                          1.210022593
                        ],
                        "iteration": 121,
                        "passed_time": 1.765737744,
                        "remaining_time": 142.9668643,
                        "test": [
                          0.7111755357,
                          1.217830651
                        ]
                      },
                      {
                        "learn": [
                          0.7098786826,
                          1.207911244
                        ],
                        "iteration": 122,
                        "passed_time": 1.779711287,
                        "remaining_time": 142.9122632,
                        "test": [
                          0.7111755357,
                          1.21558765
                        ]
                      },
                      {
                        "learn": [
                          0.7114058869,
                          1.205921525
                        ],
                        "iteration": 123,
                        "passed_time": 1.792161002,
                        "remaining_time": 142.7369521,
                        "test": [
                          0.7124692505,
                          1.214305055
                        ]
                      },
                      {
                        "learn": [
                          0.7114058869,
                          1.204026065
                        ],
                        "iteration": 124,
                        "passed_time": 1.80462413,
                        "remaining_time": 142.5653062,
                        "test": [
                          0.7124692505,
                          1.21232425
                        ]
                      },
                      {
                        "learn": [
                          0.7136786142,
                          1.201567149
                        ],
                        "iteration": 125,
                        "passed_time": 1.817149785,
                        "remaining_time": 142.4010871,
                        "test": [
                          0.7150096358,
                          1.209866799
                        ]
                      },
                      {
                        "learn": [
                          0.7165600751,
                          1.199029496
                        ],
                        "iteration": 126,
                        "passed_time": 1.830578631,
                        "remaining_time": 142.309471,
                        "test": [
                          0.7195271801,
                          1.206487666
                        ]
                      },
                      {
                        "learn": [
                          0.7166683002,
                          1.196952342
                        ],
                        "iteration": 127,
                        "passed_time": 1.843047747,
                        "remaining_time": 142.1450574,
                        "test": [
                          0.7195271801,
                          1.204478037
                        ]
                      },
                      {
                        "learn": [
                          0.7166683002,
                          1.194973646
                        ],
                        "iteration": 128,
                        "passed_time": 1.855543231,
                        "remaining_time": 141.9850173,
                        "test": [
                          0.7199505777,
                          1.202210467
                        ]
                      },
                      {
                        "learn": [
                          0.7186890854,
                          1.193033794
                        ],
                        "iteration": 129,
                        "passed_time": 1.867986121,
                        "remaining_time": 141.8232539,
                        "test": [
                          0.7225858119,
                          1.20024345
                        ]
                      },
                      {
                        "learn": [
                          0.7186890854,
                          1.190446799
                        ],
                        "iteration": 130,
                        "passed_time": 1.880475669,
                        "remaining_time": 141.6672853,
                        "test": [
                          0.7225858119,
                          1.198206025
                        ]
                      },
                      {
                        "learn": [
                          0.7186890854,
                          1.188153755
                        ],
                        "iteration": 131,
                        "passed_time": 1.892886956,
                        "remaining_time": 141.50764,
                        "test": [
                          0.7225858119,
                          1.195377759
                        ]
                      },
                      {
                        "learn": [
                          0.7212624935,
                          1.18587316
                        ],
                        "iteration": 132,
                        "passed_time": 1.905456484,
                        "remaining_time": 141.3619483,
                        "test": [
                          0.7238560045,
                          1.193655996
                        ]
                      },
                      {
                        "learn": [
                          0.7212624935,
                          1.183462386
                        ],
                        "iteration": 133,
                        "passed_time": 1.917893924,
                        "remaining_time": 141.2085184,
                        "test": [
                          0.7238560045,
                          1.191825393
                        ]
                      },
                      {
                        "learn": [
                          0.7235271594,
                          1.181313243
                        ],
                        "iteration": 134,
                        "passed_time": 1.930177112,
                        "remaining_time": 141.0459052,
                        "test": [
                          0.7257383147,
                          1.189853756
                        ]
                      },
                      {
                        "learn": [
                          0.722300636,
                          1.17928543
                        ],
                        "iteration": 135,
                        "passed_time": 1.942598359,
                        "remaining_time": 140.8955163,
                        "test": [
                          0.7244445999,
                          1.187557142
                        ]
                      },
                      {
                        "learn": [
                          0.7223968638,
                          1.176833638
                        ],
                        "iteration": 136,
                        "passed_time": 1.956328419,
                        "remaining_time": 140.8413664,
                        "test": [
                          0.7244445999,
                          1.184710321
                        ]
                      },
                      {
                        "learn": [
                          0.7224930917,
                          1.174788353
                        ],
                        "iteration": 137,
                        "passed_time": 1.968631508,
                        "remaining_time": 140.6858256,
                        "test": [
                          0.7244445999,
                          1.182974549
                        ]
                      },
                      {
                        "learn": [
                          0.724649448,
                          1.172650459
                        ],
                        "iteration": 138,
                        "passed_time": 1.98115909,
                        "remaining_time": 140.5482718,
                        "test": [
                          0.725056933,
                          1.181448021
                        ]
                      },
                      {
                        "learn": [
                          0.7244897979,
                          1.170680687
                        ],
                        "iteration": 139,
                        "passed_time": 1.993662741,
                        "remaining_time": 140.4108188,
                        "test": [
                          0.725056933,
                          1.179610525
                        ]
                      },
                      {
                        "learn": [
                          0.7245205203,
                          1.168566038
                        ],
                        "iteration": 140,
                        "passed_time": 2.007341797,
                        "remaining_time": 140.3573247,
                        "test": [
                          0.725056933,
                          1.177887074
                        ]
                      },
                      {
                        "learn": [
                          0.7245205203,
                          1.166371678
                        ],
                        "iteration": 141,
                        "passed_time": 2.037468382,
                        "remaining_time": 141.4462205,
                        "test": [
                          0.725056933,
                          1.175772861
                        ]
                      },
                      {
                        "learn": [
                          0.7245205203,
                          1.164667962
                        ],
                        "iteration": 142,
                        "passed_time": 2.04990661,
                        "remaining_time": 141.300206,
                        "test": [
                          0.725056933,
                          1.174624921
                        ]
                      },
                      {
                        "learn": [
                          0.7245205203,
                          1.162646748
                        ],
                        "iteration": 143,
                        "passed_time": 2.062213452,
                        "remaining_time": 141.1470541,
                        "test": [
                          0.725056933,
                          1.173208845
                        ]
                      },
                      {
                        "learn": [
                          0.7244242925,
                          1.160471135
                        ],
                        "iteration": 144,
                        "passed_time": 2.075735053,
                        "remaining_time": 141.0784066,
                        "test": [
                          0.725056933,
                          1.171751477
                        ]
                      },
                      {
                        "learn": [
                          0.7245448335,
                          1.15863229
                        ],
                        "iteration": 145,
                        "passed_time": 2.089593133,
                        "remaining_time": 141.0332242,
                        "test": [
                          0.725056933,
                          1.169041438
                        ]
                      },
                      {
                        "learn": [
                          0.7245448335,
                          1.156744929
                        ],
                        "iteration": 146,
                        "passed_time": 2.10180564,
                        "remaining_time": 140.8781699,
                        "test": [
                          0.725056933,
                          1.167940363
                        ]
                      },
                      {
                        "learn": [
                          0.7246410614,
                          1.154823749
                        ],
                        "iteration": 147,
                        "passed_time": 2.115291399,
                        "remaining_time": 140.8098031,
                        "test": [
                          0.725056933,
                          1.166305802
                        ]
                      },
                      {
                        "learn": [
                          0.7244126139,
                          1.153031547
                        ],
                        "iteration": 148,
                        "passed_time": 2.127620403,
                        "remaining_time": 140.6656952,
                        "test": [
                          0.725056933,
                          1.164587633
                        ]
                      },
                      {
                        "learn": [
                          0.7269145384,
                          1.150981013
                        ],
                        "iteration": 149,
                        "passed_time": 2.139895377,
                        "remaining_time": 140.5197965,
                        "test": [
                          0.7280216937,
                          1.161634833
                        ]
                      },
                      {
                        "learn": [
                          0.7305068331,
                          1.148884437
                        ],
                        "iteration": 150,
                        "passed_time": 2.15331238,
                        "remaining_time": 140.4501565,
                        "test": [
                          0.7301051883,
                          1.160033643
                        ]
                      },
                      {
                        "learn": [
                          0.7308375209,
                          1.147140377
                        ],
                        "iteration": 151,
                        "passed_time": 2.165684107,
                        "remaining_time": 140.3135335,
                        "test": [
                          0.7307520457,
                          1.157339226
                        ]
                      },
                      {
                        "learn": [
                          0.7305759492,
                          1.145301008
                        ],
                        "iteration": 152,
                        "passed_time": 2.178056621,
                        "remaining_time": 140.1785853,
                        "test": [
                          0.7307520457,
                          1.155344632
                        ]
                      },
                      {
                        "learn": [
                          0.7305759492,
                          1.143525153
                        ],
                        "iteration": 153,
                        "passed_time": 2.192402051,
                        "remaining_time": 140.1713675,
                        "test": [
                          0.7307520457,
                          1.153954152
                        ]
                      },
                      {
                        "learn": [
                          0.7305759492,
                          1.14167866
                        ],
                        "iteration": 154,
                        "passed_time": 2.204807069,
                        "remaining_time": 140.0408103,
                        "test": [
                          0.7307520457,
                          1.152474929
                        ]
                      },
                      {
                        "learn": [
                          0.7304106052,
                          1.139937075
                        ],
                        "iteration": 155,
                        "passed_time": 2.217044052,
                        "remaining_time": 139.9011644,
                        "test": [
                          0.7307520457,
                          1.149735259
                        ]
                      },
                      {
                        "learn": [
                          0.7305188304,
                          1.138327918
                        ],
                        "iteration": 156,
                        "passed_time": 2.22935254,
                        "remaining_time": 139.7676245,
                        "test": [
                          0.7307520457,
                          1.147644809
                        ]
                      },
                      {
                        "learn": [
                          0.7306460555,
                          1.13647865
                        ],
                        "iteration": 157,
                        "passed_time": 2.241583798,
                        "remaining_time": 139.6308085,
                        "test": [
                          0.7307520457,
                          1.145196965
                        ]
                      },
                      {
                        "learn": [
                          0.7306460555,
                          1.134963827
                        ],
                        "iteration": 158,
                        "passed_time": 2.253898201,
                        "remaining_time": 139.5007056,
                        "test": [
                          0.7307520457,
                          1.143013151
                        ]
                      },
                      {
                        "learn": [
                          0.7304535997,
                          1.13323244
                        ],
                        "iteration": 159,
                        "passed_time": 2.266372929,
                        "remaining_time": 139.3819351,
                        "test": [
                          0.7307520457,
                          1.141120795
                        ]
                      },
                      {
                        "learn": [
                          0.7305879464,
                          1.131537872
                        ],
                        "iteration": 160,
                        "passed_time": 2.278798436,
                        "remaining_time": 139.2614771,
                        "test": [
                          0.7307520457,
                          1.139904574
                        ]
                      },
                      {
                        "learn": [
                          0.7304535997,
                          1.129682681
                        ],
                        "iteration": 161,
                        "passed_time": 2.291236,
                        "remaining_time": 139.143085,
                        "test": [
                          0.7307520457,
                          1.138137559
                        ]
                      },
                      {
                        "learn": [
                          0.7305064152,
                          1.127736829
                        ],
                        "iteration": 162,
                        "passed_time": 2.305043221,
                        "remaining_time": 139.1086513,
                        "test": [
                          0.7301511996,
                          1.135998849
                        ]
                      },
                      {
                        "learn": [
                          0.7320670732,
                          1.126174614
                        ],
                        "iteration": 163,
                        "passed_time": 2.317495043,
                        "remaining_time": 138.9931783,
                        "test": [
                          0.7315717491,
                          1.134495717
                        ]
                      },
                      {
                        "learn": [
                          0.7321633011,
                          1.124481171
                        ],
                        "iteration": 164,
                        "passed_time": 2.329719011,
                        "remaining_time": 138.8653726,
                        "test": [
                          0.7315717491,
                          1.13271528
                        ]
                      },
                      {
                        "learn": [
                          0.7319327265,
                          1.122525796
                        ],
                        "iteration": 165,
                        "passed_time": 2.343234681,
                        "remaining_time": 138.8154811,
                        "test": [
                          0.7315717491,
                          1.130883065
                        ]
                      },
                      {
                        "learn": [
                          0.7319327265,
                          1.120690551
                        ],
                        "iteration": 166,
                        "passed_time": 2.356606075,
                        "remaining_time": 138.7575302,
                        "test": [
                          0.7315717491,
                          1.12954473
                        ]
                      },
                      {
                        "learn": [
                          0.7319327265,
                          1.1190421
                        ],
                        "iteration": 167,
                        "passed_time": 2.369029334,
                        "remaining_time": 138.6446215,
                        "test": [
                          0.7315717491,
                          1.127869612
                        ]
                      },
                      {
                        "learn": [
                          0.7317402708,
                          1.116825544
                        ],
                        "iteration": 168,
                        "passed_time": 2.381492564,
                        "remaining_time": 138.5352272,
                        "test": [
                          0.7315717491,
                          1.126287857
                        ]
                      },
                      {
                        "learn": [
                          0.7317402708,
                          1.115075635
                        ],
                        "iteration": 169,
                        "passed_time": 2.394102603,
                        "remaining_time": 138.4354623,
                        "test": [
                          0.7315717491,
                          1.124237157
                        ]
                      },
                      {
                        "learn": [
                          0.7319119182,
                          1.113434983
                        ],
                        "iteration": 170,
                        "passed_time": 2.406617585,
                        "remaining_time": 138.3312529,
                        "test": [
                          0.7319951467,
                          1.122416236
                        ]
                      },
                      {
                        "learn": [
                          0.7319119182,
                          1.111927284
                        ],
                        "iteration": 171,
                        "passed_time": 2.419080085,
                        "remaining_time": 138.2251109,
                        "test": [
                          0.7319951467,
                          1.121427667
                        ]
                      },
                      {
                        "learn": [
                          0.7287812015,
                          1.110099463
                        ],
                        "iteration": 172,
                        "passed_time": 2.43166538,
                        "remaining_time": 138.1270271,
                        "test": [
                          0.7274776024,
                          1.119457056
                        ]
                      },
                      {
                        "learn": [
                          0.7287812015,
                          1.10831356
                        ],
                        "iteration": 173,
                        "passed_time": 2.445332017,
                        "remaining_time": 138.0909908,
                        "test": [
                          0.7274776024,
                          1.117820809
                        ]
                      },
                      {
                        "learn": [
                          0.7287812015,
                          1.106727424
                        ],
                        "iteration": 174,
                        "passed_time": 2.457655731,
                        "remaining_time": 137.9798146,
                        "test": [
                          0.7274776024,
                          1.116091051
                        ]
                      },
                      {
                        "learn": [
                          0.7346809682,
                          1.104527364
                        ],
                        "iteration": 175,
                        "passed_time": 2.471296211,
                        "remaining_time": 137.9432612,
                        "test": [
                          0.7349589296,
                          1.113401988
                        ]
                      },
                      {
                        "learn": [
                          0.7366055255,
                          1.102999719
                        ],
                        "iteration": 176,
                        "passed_time": 2.483810882,
                        "remaining_time": 137.8444875,
                        "test": [
                          0.7364178422,
                          1.111593975
                        ]
                      },
                      {
                        "learn": [
                          0.7366055255,
                          1.101468173
                        ],
                        "iteration": 177,
                        "passed_time": 2.496189492,
                        "remaining_time": 137.7391752,
                        "test": [
                          0.7357709848,
                          1.11028087
                        ]
                      },
                      {
                        "learn": [
                          0.7365421032,
                          1.099401517
                        ],
                        "iteration": 178,
                        "passed_time": 2.50867271,
                        "remaining_time": 137.6406407,
                        "test": [
                          0.7357709848,
                          1.10837876
                        ]
                      },
                      {
                        "learn": [
                          0.7364458754,
                          1.098138727
                        ],
                        "iteration": 179,
                        "passed_time": 2.521220528,
                        "remaining_time": 137.5465866,
                        "test": [
                          0.7357709848,
                          1.107754184
                        ]
                      },
                      {
                        "learn": [
                          0.7386311424,
                          1.096332428
                        ],
                        "iteration": 180,
                        "passed_time": 2.533742942,
                        "remaining_time": 137.452055,
                        "test": [
                          0.7395019259,
                          1.105718226
                        ]
                      },
                      {
                        "learn": [
                          0.738885043,
                          1.094736018
                        ],
                        "iteration": 181,
                        "passed_time": 2.546025607,
                        "remaining_time": 137.3454913,
                        "test": [
                          0.7393517226,
                          1.104561045
                        ]
                      },
                      {
                        "learn": [
                          0.738885043,
                          1.093097091
                        ],
                        "iteration": 182,
                        "passed_time": 2.558348095,
                        "remaining_time": 137.2420943,
                        "test": [
                          0.7393517226,
                          1.10342594
                        ]
                      },
                      {
                        "learn": [
                          0.7387888151,
                          1.091511404
                        ],
                        "iteration": 183,
                        "passed_time": 2.570866848,
                        "remaining_time": 137.1501575,
                        "test": [
                          0.7393517226,
                          1.102118629
                        ]
                      },
                      {
                        "learn": [
                          0.738885043,
                          1.089851181
                        ],
                        "iteration": 184,
                        "passed_time": 2.583293441,
                        "remaining_time": 137.0541899,
                        "test": [
                          0.7393517226,
                          1.100659574
                        ]
                      },
                      {
                        "learn": [
                          0.738719699,
                          1.08819808
                        ],
                        "iteration": 185,
                        "passed_time": 2.59593617,
                        "remaining_time": 136.9705246,
                        "test": [
                          0.7393517226,
                          1.098773013
                        ]
                      },
                      {
                        "learn": [
                          0.738719699,
                          1.086647863
                        ],
                        "iteration": 186,
                        "passed_time": 2.608478781,
                        "remaining_time": 136.8823651,
                        "test": [
                          0.7393517226,
                          1.097275674
                        ]
                      },
                      {
                        "learn": [
                          0.7404505787,
                          1.08501546
                        ],
                        "iteration": 187,
                        "passed_time": 2.620928938,
                        "remaining_time": 136.7901848,
                        "test": [
                          0.7420914179,
                          1.09566803
                        ]
                      },
                      {
                        "learn": [
                          0.7407512596,
                          1.083566326
                        ],
                        "iteration": 188,
                        "passed_time": 2.641549334,
                        "remaining_time": 137.1229657,
                        "test": [
                          0.7417149559,
                          1.094674473
                        ]
                      },
                      {
                        "learn": [
                          0.7406550317,
                          1.082210701
                        ],
                        "iteration": 189,
                        "passed_time": 2.662099242,
                        "remaining_time": 137.4483872,
                        "test": [
                          0.7417149559,
                          1.093362102
                        ]
                      },
                      {
                        "learn": [
                          0.7405916094,
                          1.080619541
                        ],
                        "iteration": 190,
                        "passed_time": 2.675539966,
                        "remaining_time": 137.4050865,
                        "test": [
                          0.7417149559,
                          1.092193553
                        ]
                      },
                      {
                        "learn": [
                          0.7409547177,
                          1.078950993
                        ],
                        "iteration": 191,
                        "passed_time": 2.688026637,
                        "remaining_time": 137.3133607,
                        "test": [
                          0.7417149559,
                          1.09029753
                        ]
                      },
                      {
                        "learn": [
                          0.7409547177,
                          1.07738008
                        ],
                        "iteration": 192,
                        "passed_time": 2.700401669,
                        "remaining_time": 137.2167832,
                        "test": [
                          0.7417149559,
                          1.088998947
                        ]
                      },
                      {
                        "learn": [
                          0.7383823889,
                          1.075763274
                        ],
                        "iteration": 193,
                        "passed_time": 2.712935939,
                        "remaining_time": 137.1291228,
                        "test": [
                          0.7405987965,
                          1.087952364
                        ]
                      },
                      {
                        "learn": [
                          0.7385988391,
                          1.074027987
                        ],
                        "iteration": 194,
                        "passed_time": 2.725340466,
                        "remaining_time": 137.0357091,
                        "test": [
                          0.7405987965,
                          1.086657375
                        ]
                      },
                      {
                        "learn": [
                          0.7403484785,
                          1.07244935
                        ],
                        "iteration": 195,
                        "passed_time": 2.738800831,
                        "remaining_time": 136.9959354,
                        "test": [
                          0.7417369621,
                          1.085176611
                        ]
                      },
                      {
                        "learn": [
                          0.7403484785,
                          1.070869588
                        ],
                        "iteration": 196,
                        "passed_time": 2.751108976,
                        "remaining_time": 136.8990928,
                        "test": [
                          0.7417369621,
                          1.083424264
                        ]
                      },
                      {
                        "learn": [
                          0.7403484785,
                          1.069217162
                        ],
                        "iteration": 197,
                        "passed_time": 2.763316264,
                        "remaining_time": 136.7981112,
                        "test": [
                          0.7417369621,
                          1.082156191
                        ]
                      },
                      {
                        "learn": [
                          0.7402402533,
                          1.067809047
                        ],
                        "iteration": 198,
                        "passed_time": 2.77559595,
                        "remaining_time": 136.7015875,
                        "test": [
                          0.7429602192,
                          1.080232372
                        ]
                      },
                      {
                        "learn": [
                          0.7402282561,
                          1.066458821
                        ],
                        "iteration": 199,
                        "passed_time": 2.78784645,
                        "remaining_time": 136.6044761,
                        "test": [
                          0.7425837572,
                          1.079212266
                        ]
                      },
                      {
                        "learn": [
                          0.740273059,
                          1.064679967
                        ],
                        "iteration": 200,
                        "passed_time": 2.80035005,
                        "remaining_time": 136.520548,
                        "test": [
                          0.7425837572,
                          1.077575652
                        ]
                      },
                      {
                        "learn": [
                          0.7413381876,
                          1.063406754
                        ],
                        "iteration": 201,
                        "passed_time": 2.812711668,
                        "remaining_time": 136.4304402,
                        "test": [
                          0.7444660673,
                          1.075862543
                        ]
                      },
                      {
                        "learn": [
                          0.7414211093,
                          1.062098222
                        ],
                        "iteration": 202,
                        "passed_time": 2.824966606,
                        "remaining_time": 136.3359499,
                        "test": [
                          0.7450178068,
                          1.074793738
                        ]
                      },
                      {
                        "learn": [
                          0.7414211093,
                          1.06060297
                        ],
                        "iteration": 203,
                        "passed_time": 2.837327488,
                        "remaining_time": 136.2473533,
                        "test": [
                          0.7450178068,
                          1.073216751
                        ]
                      },
                      {
                        "learn": [
                          0.7415173372,
                          1.059232048
                        ],
                        "iteration": 204,
                        "passed_time": 2.849603322,
                        "remaining_time": 136.1554368,
                        "test": [
                          0.7450178068,
                          1.072037934
                        ]
                      },
                      {
                        "learn": [
                          0.7415173372,
                          1.05751056
                        ],
                        "iteration": 205,
                        "passed_time": 2.861919785,
                        "remaining_time": 136.0662251,
                        "test": [
                          0.7450178068,
                          1.070143231
                        ]
                      },
                      {
                        "learn": [
                          0.741613565,
                          1.056147661
                        ],
                        "iteration": 206,
                        "passed_time": 2.874122641,
                        "remaining_time": 135.9723818,
                        "test": [
                          0.7450178068,
                          1.068934198
                        ]
                      },
                      {
                        "learn": [
                          0.7417097929,
                          1.054907293
                        ],
                        "iteration": 207,
                        "passed_time": 2.886254587,
                        "remaining_time": 135.8759852,
                        "test": [
                          0.7450178068,
                          1.067773496
                        ]
                      },
                      {
                        "learn": [
                          0.7403547336,
                          1.053533446
                        ],
                        "iteration": 208,
                        "passed_time": 2.899416651,
                        "remaining_time": 135.8286528,
                        "test": [
                          0.7446044889,
                          1.065721623
                        ]
                      },
                      {
                        "learn": [
                          0.7401121618,
                          1.052177072
                        ],
                        "iteration": 209,
                        "passed_time": 2.911659578,
                        "remaining_time": 135.7387965,
                        "test": [
                          0.7446044889,
                          1.064509949
                        ]
                      },
                      {
                        "learn": [
                          0.7417480356,
                          1.050757258
                        ],
                        "iteration": 210,
                        "passed_time": 2.923866342,
                        "remaining_time": 135.6479982,
                        "test": [
                          0.746110337,
                          1.063226694
                        ]
                      },
                      {
                        "learn": [
                          0.7417480356,
                          1.049055566
                        ],
                        "iteration": 211,
                        "passed_time": 2.938588142,
                        "remaining_time": 135.6740601,
                        "test": [
                          0.746110337,
                          1.06203629
                        ]
                      },
                      {
                        "learn": [
                          0.741971988,
                          1.047849766
                        ],
                        "iteration": 212,
                        "passed_time": 2.950884143,
                        "remaining_time": 135.5882775,
                        "test": [
                          0.7465609467,
                          1.060648303
                        ]
                      },
                      {
                        "learn": [
                          0.7425772447,
                          1.046222162
                        ],
                        "iteration": 213,
                        "passed_time": 2.963416322,
                        "remaining_time": 135.5139819,
                        "test": [
                          0.7467392923,
                          1.05881044
                        ]
                      },
                      {
                        "learn": [
                          0.7425071384,
                          1.044764854
                        ],
                        "iteration": 214,
                        "passed_time": 2.976069668,
                        "remaining_time": 135.4457754,
                        "test": [
                          0.7467392923,
                          1.057416513
                        ]
                      },
                      {
                        "learn": [
                          0.7425071384,
                          1.043334242
                        ],
                        "iteration": 215,
                        "passed_time": 2.988370047,
                        "remaining_time": 135.3620951,
                        "test": [
                          0.7467392923,
                          1.056359223
                        ]
                      },
                      {
                        "learn": [
                          0.7424623355,
                          1.041881509
                        ],
                        "iteration": 216,
                        "passed_time": 3.000759192,
                        "remaining_time": 135.2830745,
                        "test": [
                          0.7471626898,
                          1.055086162
                        ]
                      },
                      {
                        "learn": [
                          0.7425585634,
                          1.040496714
                        ],
                        "iteration": 217,
                        "passed_time": 3.013050034,
                        "remaining_time": 135.2002543,
                        "test": [
                          0.7471626898,
                          1.053502134
                        ]
                      },
                      {
                        "learn": [
                          0.742077424,
                          1.039069102
                        ],
                        "iteration": 218,
                        "passed_time": 3.047890026,
                        "remaining_time": 136.1251705,
                        "test": [
                          0.7471626898,
                          1.052121775
                        ]
                      },
                      {
                        "learn": [
                          0.742077424,
                          1.037676508
                        ],
                        "iteration": 219,
                        "passed_time": 3.06031812,
                        "remaining_time": 136.045051,
                        "test": [
                          0.7467392923,
                          1.050405219
                        ]
                      },
                      {
                        "learn": [
                          0.742077424,
                          1.036244472
                        ],
                        "iteration": 220,
                        "passed_time": 3.072683908,
                        "remaining_time": 135.962787,
                        "test": [
                          0.7467392923,
                          1.048443555
                        ]
                      },
                      {
                        "learn": [
                          0.7418849683,
                          1.034952512
                        ],
                        "iteration": 221,
                        "passed_time": 3.087274467,
                        "remaining_time": 135.979143,
                        "test": [
                          0.7467392923,
                          1.047115416
                        ]
                      },
                      {
                        "learn": [
                          0.7421648408,
                          1.03333923
                        ],
                        "iteration": 222,
                        "passed_time": 3.099789258,
                        "remaining_time": 135.9042134,
                        "test": [
                          0.7457418799,
                          1.046087902
                        ]
                      },
                      {
                        "learn": [
                          0.7437044866,
                          1.032036472
                        ],
                        "iteration": 223,
                        "passed_time": 3.112308375,
                        "remaining_time": 135.8300298,
                        "test": [
                          0.7480006521,
                          1.04458719
                        ]
                      },
                      {
                        "learn": [
                          0.7439089396,
                          1.030537096
                        ],
                        "iteration": 224,
                        "passed_time": 3.124715,
                        "remaining_time": 135.7515072,
                        "test": [
                          0.7483771141,
                          1.042653763
                        ]
                      },
                      {
                        "learn": [
                          0.7439089396,
                          1.029095461
                        ],
                        "iteration": 225,
                        "passed_time": 3.137167212,
                        "remaining_time": 135.6755413,
                        "test": [
                          0.7483771141,
                          1.041528485
                        ]
                      },
                      {
                        "learn": [
                          0.7439089396,
                          1.0278053
                        ],
                        "iteration": 226,
                        "passed_time": 3.149641993,
                        "remaining_time": 135.6011066,
                        "test": [
                          0.7483771141,
                          1.039912407
                        ]
                      },
                      {
                        "learn": [
                          0.745066347,
                          1.02657333
                        ],
                        "iteration": 227,
                        "passed_time": 3.162046791,
                        "remaining_time": 135.524216,
                        "test": [
                          0.7490239715,
                          1.03873469
                        ]
                      },
                      {
                        "learn": [
                          0.7452827972,
                          1.025383653
                        ],
                        "iteration": 228,
                        "passed_time": 3.174558049,
                        "remaining_time": 135.452431,
                        "test": [
                          0.748694445,
                          1.037567535
                        ]
                      },
                      {
                        "learn": [
                          0.7473237931,
                          1.023993534
                        ],
                        "iteration": 229,
                        "passed_time": 3.188976486,
                        "remaining_time": 135.4621751,
                        "test": [
                          0.7501298184,
                          1.035731359
                        ]
                      },
                      {
                        "learn": [
                          0.747368596,
                          1.022917988
                        ],
                        "iteration": 230,
                        "passed_time": 3.201385347,
                        "remaining_time": 135.3867249,
                        "test": [
                          0.7501298184,
                          1.034346086
                        ]
                      },
                      {
                        "learn": [
                          0.7500100961,
                          1.02155194
                        ],
                        "iteration": 231,
                        "passed_time": 3.214955262,
                        "remaining_time": 135.3607026,
                        "test": [
                          0.7531305658,
                          1.033155754
                        ]
                      },
                      {
                        "learn": [
                          0.7501369406,
                          1.020078885
                        ],
                        "iteration": 232,
                        "passed_time": 3.227286069,
                        "remaining_time": 135.2828456,
                        "test": [
                          0.7529552883,
                          1.031935499
                        ]
                      },
                      {
                        "learn": [
                          0.7504256242,
                          1.01872851
                        ],
                        "iteration": 233,
                        "passed_time": 3.240059935,
                        "remaining_time": 135.2240398,
                        "test": [
                          0.7518850334,
                          1.030180879
                        ]
                      },
                      {
                        "learn": [
                          0.7505338493,
                          1.017550006
                        ],
                        "iteration": 234,
                        "passed_time": 3.255291666,
                        "remaining_time": 135.2677579,
                        "test": [
                          0.7515085714,
                          1.029003749
                        ]
                      },
                      {
                        "learn": [
                          0.7503413936,
                          1.016152838
                        ],
                        "iteration": 235,
                        "passed_time": 3.267682808,
                        "remaining_time": 135.1934531,
                        "test": [
                          0.7517320312,
                          1.027505824
                        ]
                      },
                      {
                        "learn": [
                          0.7505578438,
                          1.014673934
                        ],
                        "iteration": 236,
                        "passed_time": 3.280237186,
                        "remaining_time": 135.1263951,
                        "test": [
                          0.7514025047,
                          1.025761764
                        ]
                      },
                      {
                        "learn": [
                          0.7505962374,
                          1.013159261
                        ],
                        "iteration": 237,
                        "passed_time": 3.293358761,
                        "remaining_time": 135.0830598,
                        "test": [
                          0.7515527079,
                          1.024620352
                        ]
                      },
                      {
                        "learn": [
                          0.7519189888,
                          1.011925641
                        ],
                        "iteration": 238,
                        "passed_time": 3.306014714,
                        "remaining_time": 135.0209608,
                        "test": [
                          0.7534932801,
                          1.023585284
                        ]
                      },
                      {
                        "learn": [
                          0.7518107637,
                          1.010833298
                        ],
                        "iteration": 239,
                        "passed_time": 3.318500571,
                        "remaining_time": 134.9523565,
                        "test": [
                          0.7534932801,
                          1.022826567
                        ]
                      },
                      {
                        "learn": [
                          0.7518107637,
                          1.009634173
                        ],
                        "iteration": 240,
                        "passed_time": 3.331011751,
                        "remaining_time": 134.8852435,
                        "test": [
                          0.7534932801,
                          1.021614307
                        ]
                      },
                      {
                        "learn": [
                          0.7520272139,
                          1.0082697
                        ],
                        "iteration": 241,
                        "passed_time": 3.343361012,
                        "remaining_time": 134.8120527,
                        "test": [
                          0.7539166776,
                          1.020223313
                        ]
                      },
                      {
                        "learn": [
                          0.7520272139,
                          1.006962217
                        ],
                        "iteration": 242,
                        "passed_time": 3.355880181,
                        "remaining_time": 134.7461849,
                        "test": [
                          0.7539166776,
                          1.019292904
                        ]
                      },
                      {
                        "learn": [
                          0.7519002636,
                          1.00567873
                        ],
                        "iteration": 243,
                        "passed_time": 3.368266708,
                        "remaining_time": 134.6754508,
                        "test": [
                          0.7539166776,
                          1.018033704
                        ]
                      },
                      {
                        "learn": [
                          0.7518762691,
                          1.004552043
                        ],
                        "iteration": 244,
                        "passed_time": 3.380526119,
                        "remaining_time": 134.6001318,
                        "test": [
                          0.7539166776,
                          1.017012278
                        ]
                      },
                      {
                        "learn": [
                          0.7527863823,
                          1.003405409
                        ],
                        "iteration": 245,
                        "passed_time": 3.392729115,
                        "remaining_time": 134.5230886,
                        "test": [
                          0.7537414002,
                          1.016043145
                        ]
                      },
                      {
                        "learn": [
                          0.752875988,
                          1.002158966
                        ],
                        "iteration": 246,
                        "passed_time": 3.405000771,
                        "remaining_time": 134.4492815,
                        "test": [
                          0.7537414002,
                          1.015120216
                        ]
                      },
                      {
                        "learn": [
                          0.7527797601,
                          1.000938244
                        ],
                        "iteration": 247,
                        "passed_time": 3.417490443,
                        "remaining_time": 134.3845435,
                        "test": [
                          0.7541647977,
                          1.013786062
                        ]
                      },
                      {
                        "learn": [
                          0.7543538982,
                          0.9996081152
                        ],
                        "iteration": 248,
                        "passed_time": 3.429844512,
                        "remaining_time": 134.314915,
                        "test": [
                          0.7553664236,
                          1.012649637
                        ]
                      },
                      {
                        "learn": [
                          0.7544621233,
                          0.9983878431
                        ],
                        "iteration": 249,
                        "passed_time": 3.442168435,
                        "remaining_time": 134.244569,
                        "test": [
                          0.7553664236,
                          1.011425788
                        ]
                      },
                      {
                        "learn": [
                          0.7544621233,
                          0.9972078394
                        ],
                        "iteration": 250,
                        "passed_time": 3.454503318,
                        "remaining_time": 134.1751109,
                        "test": [
                          0.7553664236,
                          1.010108576
                        ]
                      },
                      {
                        "learn": [
                          0.7545703484,
                          0.9959683706
                        ],
                        "iteration": 251,
                        "passed_time": 3.466954201,
                        "remaining_time": 134.1105935,
                        "test": [
                          0.7553664236,
                          1.009220338
                        ]
                      },
                      {
                        "learn": [
                          0.7546151513,
                          0.9947327261
                        ],
                        "iteration": 252,
                        "passed_time": 3.479300052,
                        "remaining_time": 134.0424411,
                        "test": [
                          0.7553664236,
                          1.007762604
                        ]
                      },
                      {
                        "learn": [
                          0.7562596673,
                          0.9935192779
                        ],
                        "iteration": 253,
                        "passed_time": 3.491680772,
                        "remaining_time": 133.9760661,
                        "test": [
                          0.7567182527,
                          1.006631386
                        ]
                      },
                      {
                        "learn": [
                          0.7582550861,
                          0.9923697191
                        ],
                        "iteration": 254,
                        "passed_time": 3.503845619,
                        "remaining_time": 133.9018649,
                        "test": [
                          0.7577696753,
                          1.005901858
                        ]
                      },
                      {
                        "learn": [
                          0.7582550861,
                          0.9909547794
                        ],
                        "iteration": 255,
                        "passed_time": 3.516249301,
                        "remaining_time": 133.837239,
                        "test": [
                          0.7577696753,
                          1.004350247
                        ]
                      },
                      {
                        "learn": [
                          0.7582998889,
                          0.9899644192
                        ],
                        "iteration": 256,
                        "passed_time": 3.5285276,
                        "remaining_time": 133.7682662,
                        "test": [
                          0.7577696753,
                          1.003491492
                        ]
                      },
                      {
                        "learn": [
                          0.7582036611,
                          0.9887737672
                        ],
                        "iteration": 257,
                        "passed_time": 3.540878462,
                        "remaining_time": 133.7024728,
                        "test": [
                          0.7577696753,
                          1.002297787
                        ]
                      },
                      {
                        "learn": [
                          0.7593635207,
                          0.9876533786
                        ],
                        "iteration": 258,
                        "passed_time": 3.553226492,
                        "remaining_time": 133.6369855,
                        "test": [
                          0.7594632656,
                          1.001338041
                        ]
                      },
                      {
                        "learn": [
                          0.7593635207,
                          0.9863658427
                        ],
                        "iteration": 259,
                        "passed_time": 3.565559553,
                        "remaining_time": 133.5713463,
                        "test": [
                          0.7594632656,
                          0.9995270945
                        ]
                      },
                      {
                        "learn": [
                          0.7594597485,
                          0.9849852473
                        ],
                        "iteration": 260,
                        "passed_time": 3.579037057,
                        "remaining_time": 133.5488195,
                        "test": [
                          0.7596385431,
                          0.9981297202
                        ]
                      },
                      {
                        "learn": [
                          0.7594597485,
                          0.9838618592
                        ],
                        "iteration": 261,
                        "passed_time": 3.591209265,
                        "remaining_time": 133.4778466,
                        "test": [
                          0.7598138205,
                          0.9968301833
                        ]
                      },
                      {
                        "learn": [
                          0.7594597485,
                          0.9828007107
                        ],
                        "iteration": 262,
                        "passed_time": 3.603357898,
                        "remaining_time": 133.4064481,
                        "test": [
                          0.7598138205,
                          0.9956765226
                        ]
                      },
                      {
                        "learn": [
                          0.7594597485,
                          0.9813743729
                        ],
                        "iteration": 263,
                        "passed_time": 3.615660986,
                        "remaining_time": 133.3411945,
                        "test": [
                          0.7598138205,
                          0.9942139478
                        ]
                      },
                      {
                        "learn": [
                          0.7596829267,
                          0.9800859372
                        ],
                        "iteration": 264,
                        "passed_time": 3.628156799,
                        "remaining_time": 133.2834205,
                        "test": [
                          0.7602372181,
                          0.9929545288
                        ]
                      },
                      {
                        "learn": [
                          0.7597277296,
                          0.9788381447
                        ],
                        "iteration": 265,
                        "passed_time": 3.640426174,
                        "remaining_time": 133.2177007,
                        "test": [
                          0.7602372181,
                          0.9918984121
                        ]
                      },
                      {
                        "learn": [
                          0.7616026073,
                          0.9776213971
                        ],
                        "iteration": 266,
                        "passed_time": 3.652841182,
                        "remaining_time": 133.15769,
                        "test": [
                          0.7612635665,
                          0.9909718165
                        ]
                      },
                      {
                        "learn": [
                          0.7616026073,
                          0.9763707551
                        ],
                        "iteration": 267,
                        "passed_time": 3.672141733,
                        "remaining_time": 133.3480722,
                        "test": [
                          0.7612635665,
                          0.9897348399
                        ]
                      },
                      {
                        "learn": [
                          0.7616026073,
                          0.9751372103
                        ],
                        "iteration": 268,
                        "passed_time": 3.693867597,
                        "remaining_time": 133.6246304,
                        "test": [
                          0.7612635665,
                          0.9886753496
                        ]
                      },
                      {
                        "learn": [
                          0.7614943822,
                          0.9739344104
                        ],
                        "iteration": 269,
                        "passed_time": 3.706339414,
                        "remaining_time": 133.5654907,
                        "test": [
                          0.7612635665,
                          0.9876797397
                        ]
                      },
                      {
                        "learn": [
                          0.7614943822,
                          0.9728559397
                        ],
                        "iteration": 270,
                        "passed_time": 3.718944214,
                        "remaining_time": 133.5114696,
                        "test": [
                          0.7612635665,
                          0.9863881237
                        ]
                      },
                      {
                        "learn": [
                          0.7612779319,
                          0.9715044395
                        ],
                        "iteration": 271,
                        "passed_time": 3.736477308,
                        "remaining_time": 133.634012,
                        "test": [
                          0.7608401689,
                          0.9849780614
                        ]
                      },
                      {
                        "learn": [
                          0.7634090212,
                          0.9703608047
                        ],
                        "iteration": 272,
                        "passed_time": 3.755725453,
                        "remaining_time": 133.8166355,
                        "test": [
                          0.7630932174,
                          0.983785163
                        ]
                      },
                      {
                        "learn": [
                          0.7634090212,
                          0.9692985314
                        ],
                        "iteration": 273,
                        "passed_time": 3.768382079,
                        "remaining_time": 133.7638106,
                        "test": [
                          0.7634696795,
                          0.9825328581
                        ]
                      },
                      {
                        "learn": [
                          0.7646829661,
                          0.9681325504
                        ],
                        "iteration": 274,
                        "passed_time": 3.782433342,
                        "remaining_time": 133.7605973,
                        "test": [
                          0.764996786,
                          0.9816708762
                        ]
                      },
                      {
                        "learn": [
                          0.7646829661,
                          0.9671079958
                        ],
                        "iteration": 275,
                        "passed_time": 3.79507249,
                        "remaining_time": 133.707554,
                        "test": [
                          0.764996786,
                          0.9805723683
                        ]
                      },
                      {
                        "learn": [
                          0.7647213597,
                          0.966132858
                        ],
                        "iteration": 276,
                        "passed_time": 3.80769687,
                        "remaining_time": 133.654284,
                        "test": [
                          0.764996786,
                          0.9795778585
                        ]
                      },
                      {
                        "learn": [
                          0.7646765568,
                          0.9648436724
                        ],
                        "iteration": 277,
                        "passed_time": 3.828286226,
                        "remaining_time": 133.8798514,
                        "test": [
                          0.764996786,
                          0.9786910139
                        ]
                      },
                      {
                        "learn": [
                          0.7664746473,
                          0.9636681679
                        ],
                        "iteration": 278,
                        "passed_time": 3.840950939,
                        "remaining_time": 133.8275415,
                        "test": [
                          0.7677004443,
                          0.9775614091
                        ]
                      },
                      {
                        "learn": [
                          0.7672444702,
                          0.9626607854
                        ],
                        "iteration": 279,
                        "passed_time": 3.853698818,
                        "remaining_time": 133.7784018,
                        "test": [
                          0.7688298303,
                          0.9763261928
                        ]
                      },
                      {
                        "learn": [
                          0.7672892731,
                          0.9614512366
                        ],
                        "iteration": 280,
                        "passed_time": 3.866233807,
                        "remaining_time": 133.7221579,
                        "test": [
                          0.7688298303,
                          0.9751990083
                        ]
                      },
                      {
                        "learn": [
                          0.7672892731,
                          0.9604733993
                        ],
                        "iteration": 281,
                        "passed_time": 3.878900182,
                        "remaining_time": 133.6707517,
                        "test": [
                          0.7688298303,
                          0.9743212581
                        ]
                      },
                      {
                        "learn": [
                          0.768620231,
                          0.9595617759
                        ],
                        "iteration": 282,
                        "passed_time": 3.892177074,
                        "remaining_time": 133.6405817,
                        "test": [
                          0.7704569917,
                          0.9732345581
                        ]
                      },
                      {
                        "learn": [
                          0.7685120059,
                          0.9586137086
                        ],
                        "iteration": 283,
                        "passed_time": 3.90478493,
                        "remaining_time": 133.5876422,
                        "test": [
                          0.7708334537,
                          0.972322264
                        ]
                      },
                      {
                        "learn": [
                          0.7685120059,
                          0.9575927534
                        ],
                        "iteration": 284,
                        "passed_time": 3.917273644,
                        "remaining_time": 133.5309244,
                        "test": [
                          0.7708334537,
                          0.9714924057
                        ]
                      },
                      {
                        "learn": [
                          0.7685120059,
                          0.9564881871
                        ],
                        "iteration": 285,
                        "passed_time": 3.929756847,
                        "remaining_time": 133.4743287,
                        "test": [
                          0.7702347786,
                          0.9699759249
                        ]
                      },
                      {
                        "learn": [
                          0.7685120059,
                          0.955473006
                        ],
                        "iteration": 286,
                        "passed_time": 3.942079157,
                        "remaining_time": 133.4125953,
                        "test": [
                          0.7702347786,
                          0.9685738568
                        ]
                      },
                      {
                        "learn": [
                          0.7686322282,
                          0.9544767966
                        ],
                        "iteration": 287,
                        "passed_time": 3.955574555,
                        "remaining_time": 133.3907642,
                        "test": [
                          0.7702347786,
                          0.9677101148
                        ]
                      },
                      {
                        "learn": [
                          0.7685938346,
                          0.9532289292
                        ],
                        "iteration": 288,
                        "passed_time": 3.968103929,
                        "remaining_time": 133.3365303,
                        "test": [
                          0.7704100561,
                          0.9664244395
                        ]
                      },
                      {
                        "learn": [
                          0.7690161644,
                          0.9523495505
                        ],
                        "iteration": 289,
                        "passed_time": 3.980532954,
                        "remaining_time": 133.2792241,
                        "test": [
                          0.7708606658,
                          0.9659131764
                        ]
                      },
                      {
                        "learn": [
                          0.7691123922,
                          0.9512647809
                        ],
                        "iteration": 290,
                        "passed_time": 3.992994524,
                        "remaining_time": 133.2233122,
                        "test": [
                          0.7704372683,
                          0.9645009138
                        ]
                      },
                      {
                        "learn": [
                          0.7691123922,
                          0.9505279534
                        ],
                        "iteration": 291,
                        "passed_time": 4.005386942,
                        "remaining_time": 133.1653987,
                        "test": [
                          0.7704372683,
                          0.964062552
                        ]
                      },
                      {
                        "learn": [
                          0.7691571951,
                          0.9495516908
                        ],
                        "iteration": 292,
                        "passed_time": 4.017928016,
                        "remaining_time": 133.112721,
                        "test": [
                          0.7704372683,
                          0.963180988
                        ]
                      },
                      {
                        "learn": [
                          0.7705777587,
                          0.9483740117
                        ],
                        "iteration": 293,
                        "passed_time": 4.030301405,
                        "remaining_time": 133.0547804,
                        "test": [
                          0.7723899103,
                          0.9617267741
                        ]
                      },
                      {
                        "learn": [
                          0.7705329558,
                          0.9473030398
                        ],
                        "iteration": 294,
                        "passed_time": 4.067970197,
                        "remaining_time": 133.8293246,
                        "test": [
                          0.7723899103,
                          0.961122294
                        ]
                      },
                      {
                        "learn": [
                          0.7705777587,
                          0.9460577219
                        ],
                        "iteration": 295,
                        "passed_time": 4.083121802,
                        "remaining_time": 133.8601823,
                        "test": [
                          0.7723899103,
                          0.9594140988
                        ]
                      },
                      {
                        "learn": [
                          0.7706161523,
                          0.9450298679
                        ],
                        "iteration": 296,
                        "passed_time": 4.095620095,
                        "remaining_time": 133.8040464,
                        "test": [
                          0.7728133079,
                          0.9586379264
                        ]
                      },
                      {
                        "learn": [
                          0.7707123802,
                          0.9438527137
                        ],
                        "iteration": 297,
                        "passed_time": 4.107930618,
                        "remaining_time": 133.7420901,
                        "test": [
                          0.7728133079,
                          0.9578270635
                        ]
                      },
                      {
                        "learn": [
                          0.7706675773,
                          0.9428234349
                        ],
                        "iteration": 298,
                        "passed_time": 4.120248591,
                        "remaining_time": 133.6807076,
                        "test": [
                          0.7728133079,
                          0.9569931715
                        ]
                      },
                      {
                        "learn": [
                          0.7733856904,
                          0.9418156025
                        ],
                        "iteration": 299,
                        "passed_time": 4.132474978,
                        "remaining_time": 133.616691,
                        "test": [
                          0.7751401257,
                          0.9556889408
                        ]
                      },
                      {
                        "learn": [
                          0.7733856904,
                          0.9405550622
                        ],
                        "iteration": 300,
                        "passed_time": 4.144774709,
                        "remaining_time": 133.5553817,
                        "test": [
                          0.7751401257,
                          0.9549536196
                        ]
                      },
                      {
                        "learn": [
                          0.8135485374,
                          0.9395213591
                        ],
                        "iteration": 301,
                        "passed_time": 4.157119691,
                        "remaining_time": 133.4958502,
                        "test": [
                          0.7991797926,
                          0.9539855861
                        ]
                      },
                      {
                        "learn": [
                          0.815063689,
                          0.9385102273
                        ],
                        "iteration": 302,
                        "passed_time": 4.169392585,
                        "remaining_time": 133.4343231,
                        "test": [
                          0.8021435755,
                          0.9523294632
                        ]
                      },
                      {
                        "learn": [
                          0.8151719141,
                          0.9375215167
                        ],
                        "iteration": 303,
                        "passed_time": 4.182806821,
                        "remaining_time": 133.4095228,
                        "test": [
                          0.8017671135,
                          0.9516224518
                        ]
                      },
                      {
                        "learn": [
                          0.8151719141,
                          0.9367187752
                        ],
                        "iteration": 304,
                        "passed_time": 4.19519894,
                        "remaining_time": 133.3523073,
                        "test": [
                          0.801814049,
                          0.9502946785
                        ]
                      },
                      {
                        "learn": [
                          0.8159052454,
                          0.9356760737
                        ],
                        "iteration": 305,
                        "passed_time": 4.20852528,
                        "remaining_time": 133.3249806,
                        "test": [
                          0.8023313176,
                          0.9492738392
                        ]
                      },
                      {
                        "learn": [
                          0.8161166541,
                          0.9347693245
                        ],
                        "iteration": 306,
                        "passed_time": 4.220974499,
                        "remaining_time": 133.2700515,
                        "test": [
                          0.8019079201,
                          0.9484265256
                        ]
                      },
                      {
                        "learn": [
                          0.8161166541,
                          0.9336364879
                        ],
                        "iteration": 307,
                        "passed_time": 4.233281554,
                        "remaining_time": 133.2109248,
                        "test": [
                          0.8019079201,
                          0.9473187766
                        ]
                      },
                      {
                        "learn": [
                          0.8157535459,
                          0.9327185656
                        ],
                        "iteration": 308,
                        "passed_time": 4.24668135,
                        "remaining_time": 133.186372,
                        "test": [
                          0.8019079201,
                          0.9462815821
                        ]
                      },
                      {
                        "learn": [
                          0.8157535459,
                          0.9315776304
                        ],
                        "iteration": 309,
                        "passed_time": 4.259165453,
                        "remaining_time": 133.1332685,
                        "test": [
                          0.8015314581,
                          0.9453754487
                        ]
                      },
                      {
                        "learn": [
                          0.7769665215,
                          0.9305257803
                        ],
                        "iteration": 310,
                        "passed_time": 4.275111881,
                        "remaining_time": 133.1882927,
                        "test": [
                          0.7780926042,
                          0.9444337447
                        ]
                      },
                      {
                        "learn": [
                          0.8157535459,
                          0.9295684145
                        ],
                        "iteration": 311,
                        "passed_time": 4.289418703,
                        "remaining_time": 133.19195,
                        "test": [
                          0.8015314581,
                          0.9434055712
                        ]
                      },
                      {
                        "learn": [
                          0.8166939923,
                          0.9283806871
                        ],
                        "iteration": 312,
                        "passed_time": 4.302878472,
                        "remaining_time": 133.1692772,
                        "test": [
                          0.8012586243,
                          0.9423316326
                        ]
                      },
                      {
                        "learn": [
                          0.818537319,
                          0.9272653976
                        ],
                        "iteration": 313,
                        "passed_time": 4.315333419,
                        "remaining_time": 133.1156672,
                        "test": [
                          0.8025106409,
                          0.9413452637
                        ]
                      },
                      {
                        "learn": [
                          0.8200413887,
                          0.9262192466
                        ],
                        "iteration": 314,
                        "passed_time": 4.32762793,
                        "remaining_time": 133.0573857,
                        "test": [
                          0.8039128607,
                          0.9403792837
                        ]
                      },
                      {
                        "learn": [
                          0.8198249385,
                          0.9251190296
                        ],
                        "iteration": 315,
                        "passed_time": 4.340094002,
                        "remaining_time": 133.0046529,
                        "test": [
                          0.8042423872,
                          0.9393823537
                        ]
                      },
                      {
                        "learn": [
                          0.8197167134,
                          0.9240876511
                        ],
                        "iteration": 316,
                        "passed_time": 4.352606908,
                        "remaining_time": 132.9536047,
                        "test": [
                          0.8042423872,
                          0.9382817188
                        ]
                      },
                      {
                        "learn": [
                          0.8211952079,
                          0.9230912169
                        ],
                        "iteration": 317,
                        "passed_time": 4.365017462,
                        "remaining_time": 132.8996826,
                        "test": [
                          0.8058198845,
                          0.937256919
                        ]
                      },
                      {
                        "learn": [
                          0.8214639632,
                          0.9222215115
                        ],
                        "iteration": 318,
                        "passed_time": 4.377427954,
                        "remaining_time": 132.8460189,
                        "test": [
                          0.8059700877,
                          0.9363950105
                        ]
                      },
                      {
                        "learn": [
                          0.821866247,
                          0.9212612212
                        ],
                        "iteration": 319,
                        "passed_time": 4.390000315,
                        "remaining_time": 132.7975095,
                        "test": [
                          0.8063465497,
                          0.9353387472
                        ]
                      },
                      {
                        "learn": [
                          0.8214333466,
                          0.9201655035
                        ],
                        "iteration": 320,
                        "passed_time": 4.402704272,
                        "remaining_time": 132.753192,
                        "test": [
                          0.8063465497,
                          0.9342615816
                        ]
                      },
                      {
                        "learn": [
                          0.8213371187,
                          0.9190174444
                        ],
                        "iteration": 321,
                        "passed_time": 4.416207617,
                        "remaining_time": 132.7330973,
                        "test": [
                          0.8063465497,
                          0.9332248271
                        ]
                      },
                      {
                        "learn": [
                          0.8228222354,
                          0.9182370492
                        ],
                        "iteration": 322,
                        "passed_time": 4.428894732,
                        "remaining_time": 132.6885892,
                        "test": [
                          0.8073982146,
                          0.9325544131
                        ]
                      },
                      {
                        "learn": [
                          0.8227260076,
                          0.9173705683
                        ],
                        "iteration": 323,
                        "passed_time": 4.44141703,
                        "remaining_time": 132.6393555,
                        "test": [
                          0.8075484178,
                          0.931518172
                        ]
                      },
                      {
                        "learn": [
                          0.8227260076,
                          0.9163681351
                        ],
                        "iteration": 324,
                        "passed_time": 4.454161853,
                        "remaining_time": 132.5969721,
                        "test": [
                          0.8075484178,
                          0.9305973704
                        ]
                      },
                      {
                        "learn": [
                          0.8227260076,
                          0.9152709926
                        ],
                        "iteration": 325,
                        "passed_time": 4.466850395,
                        "remaining_time": 132.5531004,
                        "test": [
                          0.8071250203,
                          0.9297656785
                        ]
                      },
                      {
                        "learn": [
                          0.8242045021,
                          0.9141108605
                        ],
                        "iteration": 326,
                        "passed_time": 4.479555047,
                        "remaining_time": 132.5098959,
                        "test": [
                          0.8085272401,
                          0.928768015
                        ]
                      },
                      {
                        "learn": [
                          0.8243644858,
                          0.9131784656
                        ],
                        "iteration": 327,
                        "passed_time": 4.492139789,
                        "remaining_time": 132.4633416,
                        "test": [
                          0.8085272401,
                          0.9281922848
                        ]
                      },
                      {
                        "learn": [
                          0.8243644858,
                          0.9122942877
                        ],
                        "iteration": 328,
                        "passed_time": 4.504644233,
                        "remaining_time": 132.4146334,
                        "test": [
                          0.8085272401,
                          0.9268997888
                        ]
                      },
                      {
                        "learn": [
                          0.8242562607,
                          0.9112918544
                        ],
                        "iteration": 329,
                        "passed_time": 4.517257495,
                        "remaining_time": 132.3693333,
                        "test": [
                          0.8085272401,
                          0.9261275768
                        ]
                      },
                      {
                        "learn": [
                          0.8260460656,
                          0.9102137587
                        ],
                        "iteration": 330,
                        "passed_time": 4.529863851,
                        "remaining_time": 132.3240289,
                        "test": [
                          0.8099294599,
                          0.9249039484
                        ]
                      },
                      {
                        "learn": [
                          0.8260460656,
                          0.9094341134
                        ],
                        "iteration": 331,
                        "passed_time": 4.542457808,
                        "remaining_time": 132.2785605,
                        "test": [
                          0.8099294599,
                          0.9240612554
                        ]
                      },
                      {
                        "learn": [
                          0.8257213903,
                          0.9085323884
                        ],
                        "iteration": 332,
                        "passed_time": 4.55501703,
                        "remaining_time": 132.2322812,
                        "test": [
                          0.8099294599,
                          0.9230102726
                        ]
                      },
                      {
                        "learn": [
                          0.8258301619,
                          0.9074182987
                        ],
                        "iteration": 333,
                        "passed_time": 4.56769166,
                        "remaining_time": 132.1895437,
                        "test": [
                          0.8099294599,
                          0.9216389346
                        ]
                      },
                      {
                        "learn": [
                          0.8270148106,
                          0.9063795714
                        ],
                        "iteration": 334,
                        "passed_time": 4.580209654,
                        "remaining_time": 132.1424666,
                        "test": [
                          0.8104552924,
                          0.920770792
                        ]
                      },
                      {
                        "learn": [
                          0.8271678386,
                          0.9054058584
                        ],
                        "iteration": 335,
                        "passed_time": 4.592704967,
                        "remaining_time": 132.0949429,
                        "test": [
                          0.8104552924,
                          0.9198315817
                        ]
                      },
                      {
                        "learn": [
                          0.8271678386,
                          0.9043948765
                        ],
                        "iteration": 336,
                        "passed_time": 4.605112105,
                        "remaining_time": 132.0450987,
                        "test": [
                          0.8106054956,
                          0.9188098622
                        ]
                      },
                      {
                        "learn": [
                          0.8282431074,
                          0.9034728299
                        ],
                        "iteration": 337,
                        "passed_time": 4.617647885,
                        "remaining_time": 131.9991534,
                        "test": [
                          0.8130593803,
                          0.9174472517
                        ]
                      },
                      {
                        "learn": [
                          0.8281348823,
                          0.9025353358
                        ],
                        "iteration": 338,
                        "passed_time": 4.630154509,
                        "remaining_time": 131.9525744,
                        "test": [
                          0.8130593803,
                          0.9165880569
                        ]
                      },
                      {
                        "learn": [
                          0.8281468795,
                          0.9016131392
                        ],
                        "iteration": 339,
                        "passed_time": 4.643745103,
                        "remaining_time": 131.9369932,
                        "test": [
                          0.8126829182,
                          0.9156170163
                        ]
                      },
                      {
                        "learn": [
                          0.8281468795,
                          0.9005271698
                        ],
                        "iteration": 340,
                        "passed_time": 4.65636709,
                        "remaining_time": 131.8939874,
                        "test": [
                          0.8126829182,
                          0.9145975704
                        ]
                      },
                      {
                        "learn": [
                          0.8305876528,
                          0.8995851765
                        ],
                        "iteration": 341,
                        "passed_time": 4.668978016,
                        "remaining_time": 131.850847,
                        "test": [
                          0.8148380621,
                          0.9137161531
                        ]
                      },
                      {
                        "learn": [
                          0.8319055552,
                          0.8988218785
                        ],
                        "iteration": 342,
                        "passed_time": 4.681476926,
                        "remaining_time": 131.8047308,
                        "test": [
                          0.815889727,
                          0.9131572914
                        ]
                      },
                      {
                        "learn": [
                          0.8319055552,
                          0.8979000568
                        ],
                        "iteration": 343,
                        "passed_time": 4.703973091,
                        "remaining_time": 132.0394307,
                        "test": [
                          0.816488402,
                          0.9121254508
                        ]
                      },
                      {
                        "learn": [
                          0.8317853329,
                          0.897093266
                        ],
                        "iteration": 344,
                        "passed_time": 4.721855088,
                        "remaining_time": 132.1435098,
                        "test": [
                          0.81611194,
                          0.9113419443
                        ]
                      },
                      {
                        "learn": [
                          0.8318237265,
                          0.8961908661
                        ],
                        "iteration": 345,
                        "passed_time": 4.73640466,
                        "remaining_time": 132.1539034,
                        "test": [
                          0.81611194,
                          0.9105139195
                        ]
                      },
                      {
                        "learn": [
                          0.8318237265,
                          0.8950184361
                        ],
                        "iteration": 346,
                        "passed_time": 4.748906885,
                        "remaining_time": 132.1071993,
                        "test": [
                          0.81611194,
                          0.9096159271
                        ]
                      },
                      {
                        "learn": [
                          0.8327453855,
                          0.894116711
                        ],
                        "iteration": 347,
                        "passed_time": 4.761362212,
                        "remaining_time": 132.059391,
                        "test": [
                          0.8174549753,
                          0.9087029729
                        ]
                      },
                      {
                        "learn": [
                          0.8329687915,
                          0.8931534213
                        ],
                        "iteration": 348,
                        "passed_time": 4.774949045,
                        "remaining_time": 132.0430752,
                        "test": [
                          0.8176051785,
                          0.9077090498
                        ]
                      },
                      {
                        "learn": [
                          0.8328605664,
                          0.8922555956
                        ],
                        "iteration": 349,
                        "passed_time": 4.787575868,
                        "remaining_time": 132.0003061,
                        "test": [
                          0.8176051785,
                          0.9068404673
                        ]
                      },
                      {
                        "learn": [
                          0.8329309443,
                          0.8913229007
                        ],
                        "iteration": 350,
                        "passed_time": 4.800099509,
                        "remaining_time": 131.9548722,
                        "test": [
                          0.8177553817,
                          0.906082777
                        ]
                      },
                      {
                        "learn": [
                          0.8329757472,
                          0.8903747584
                        ],
                        "iteration": 351,
                        "passed_time": 4.812527462,
                        "remaining_time": 131.9070027,
                        "test": [
                          0.8181787793,
                          0.9050284205
                        ]
                      },
                      {
                        "learn": [
                          0.8331293216,
                          0.8894888558
                        ],
                        "iteration": 352,
                        "passed_time": 4.824951254,
                        "remaining_time": 131.8592202,
                        "test": [
                          0.8183289825,
                          0.9042150641
                        ]
                      },
                      {
                        "learn": [
                          0.8333527276,
                          0.8885114683
                        ],
                        "iteration": 353,
                        "passed_time": 4.837281238,
                        "remaining_time": 131.8090814,
                        "test": [
                          0.8183289825,
                          0.9032557581
                        ]
                      },
                      {
                        "learn": [
                          0.83376871,
                          0.8875446541
                        ],
                        "iteration": 354,
                        "passed_time": 4.849649514,
                        "remaining_time": 131.7601959,
                        "test": [
                          0.818979944,
                          0.9019358324
                        ]
                      },
                      {
                        "learn": [
                          0.8336791042,
                          0.8864920542
                        ],
                        "iteration": 355,
                        "passed_time": 4.862238638,
                        "remaining_time": 131.7174984,
                        "test": [
                          0.8188046665,
                          0.9013002556
                        ]
                      },
                      {
                        "learn": [
                          0.8349335845,
                          0.885561459
                        ],
                        "iteration": 356,
                        "passed_time": 4.87467448,
                        "remaining_time": 131.6708292,
                        "test": [
                          0.8196810539,
                          0.900335229
                        ]
                      },
                      {
                        "learn": [
                          0.8351500347,
                          0.8847423702
                        ],
                        "iteration": 357,
                        "passed_time": 4.887217189,
                        "remaining_time": 131.6272294,
                        "test": [
                          0.8193045919,
                          0.8997974163
                        ]
                      },
                      {
                        "learn": [
                          0.8367757564,
                          0.8837679073
                        ],
                        "iteration": 358,
                        "passed_time": 4.899620474,
                        "remaining_time": 131.5800585,
                        "test": [
                          0.8201809792,
                          0.8989571435
                        ]
                      },
                      {
                        "learn": [
                          0.8384334624,
                          0.8826104748
                        ],
                        "iteration": 359,
                        "passed_time": 4.912008579,
                        "remaining_time": 131.5326742,
                        "test": [
                          0.8224846607,
                          0.897874844
                        ]
                      },
                      {
                        "learn": [
                          0.8385102496,
                          0.8815904945
                        ],
                        "iteration": 360,
                        "passed_time": 4.924434154,
                        "remaining_time": 131.4864842,
                        "test": [
                          0.8227850672,
                          0.8969514754
                        ]
                      },
                      {
                        "learn": [
                          0.8384140218,
                          0.8806547251
                        ],
                        "iteration": 361,
                        "passed_time": 4.936927512,
                        "remaining_time": 131.4422855,
                        "test": [
                          0.8227850672,
                          0.8958949187
                        ]
                      },
                      {
                        "learn": [
                          0.8395853055,
                          0.880059924
                        ],
                        "iteration": 362,
                        "passed_time": 4.949348151,
                        "remaining_time": 131.396331,
                        "test": [
                          0.8243876387,
                          0.8949793243
                        ]
                      },
                      {
                        "learn": [
                          0.8398017557,
                          0.8791321783
                        ],
                        "iteration": 363,
                        "passed_time": 4.961636949,
                        "remaining_time": 131.3470704,
                        "test": [
                          0.8243876387,
                          0.8942063056
                        ]
                      },
                      {
                        "learn": [
                          0.8398017557,
                          0.8786194886
                        ],
                        "iteration": 364,
                        "passed_time": 4.973968467,
                        "remaining_time": 131.2991402,
                        "test": [
                          0.8243876387,
                          0.8938629211
                        ]
                      },
                      {
                        "learn": [
                          0.8398591023,
                          0.8776903182
                        ],
                        "iteration": 365,
                        "passed_time": 4.986308797,
                        "remaining_time": 131.2516365,
                        "test": [
                          0.8245378419,
                          0.8929208504
                        ]
                      },
                      {
                        "learn": [
                          0.8405326974,
                          0.8768647055
                        ],
                        "iteration": 366,
                        "passed_time": 4.999565993,
                        "remaining_time": 131.2283902,
                        "test": [
                          0.825667228,
                          0.8921452647
                        ]
                      },
                      {
                        "learn": [
                          0.840571091,
                          0.875899841
                        ],
                        "iteration": 367,
                        "passed_time": 5.011951347,
                        "remaining_time": 131.1823787,
                        "test": [
                          0.825667228,
                          0.8908292261
                        ]
                      },
                      {
                        "learn": [
                          0.841652769,
                          0.8749261279
                        ],
                        "iteration": 368,
                        "passed_time": 5.024269687,
                        "remaining_time": 131.1348004,
                        "test": [
                          0.8268941703,
                          0.8895304227
                        ]
                      },
                      {
                        "learn": [
                          0.8426134035,
                          0.8740714951
                        ],
                        "iteration": 369,
                        "passed_time": 5.036640974,
                        "remaining_time": 131.0887907,
                        "test": [
                          0.8274200028,
                          0.8888460004
                        ]
                      },
                      {
                        "learn": [
                          0.8426517971,
                          0.8731299517
                        ],
                        "iteration": 370,
                        "passed_time": 5.04913824,
                        "remaining_time": 131.0462321,
                        "test": [
                          0.827570206,
                          0.8878383625
                        ]
                      },
                      {
                        "learn": [
                          0.8428437651,
                          0.8721797097
                        ],
                        "iteration": 371,
                        "passed_time": 5.061465708,
                        "remaining_time": 130.9994404,
                        "test": [
                          0.8269233486,
                          0.8871024546
                        ]
                      },
                      {
                        "learn": [
                          0.8429973396,
                          0.8711538053
                        ],
                        "iteration": 372,
                        "passed_time": 5.088110652,
                        "remaining_time": 131.3223626,
                        "test": [
                          0.8269233486,
                          0.886158037
                        ]
                      },
                      {
                        "learn": [
                          0.844277968,
                          0.8703331418
                        ],
                        "iteration": 373,
                        "passed_time": 5.110668686,
                        "remaining_time": 131.5382267,
                        "test": [
                          0.828519022,
                          0.8855644115
                        ]
                      },
                      {
                        "learn": [
                          0.8455068731,
                          0.8694812085
                        ],
                        "iteration": 374,
                        "passed_time": 5.122989816,
                        "remaining_time": 131.4900719,
                        "test": [
                          0.8287193737,
                          0.8847795115
                        ]
                      },
                      {
                        "learn": [
                          0.8455954298,
                          0.8685372655
                        ],
                        "iteration": 375,
                        "passed_time": 5.1354586,
                        "remaining_time": 131.4458871,
                        "test": [
                          0.8282959762,
                          0.8843211275
                        ]
                      },
                      {
                        "learn": [
                          0.8469843186,
                          0.8676187433
                        ],
                        "iteration": 376,
                        "passed_time": 5.14800246,
                        "remaining_time": 131.4037869,
                        "test": [
                          0.829347641,
                          0.8833934317
                        ]
                      },
                      {
                        "learn": [
                          0.8469843186,
                          0.866790656
                        ],
                        "iteration": 377,
                        "passed_time": 5.160594791,
                        "remaining_time": 131.3630769,
                        "test": [
                          0.8291974378,
                          0.8826724121
                        ]
                      },
                      {
                        "learn": [
                          0.8490405691,
                          0.8659738169
                        ],
                        "iteration": 378,
                        "passed_time": 5.175267389,
                        "remaining_time": 131.3753233,
                        "test": [
                          0.8318447761,
                          0.8816755554
                        ]
                      },
                      {
                        "learn": [
                          0.8503660357,
                          0.8651117603
                        ],
                        "iteration": 379,
                        "passed_time": 5.187739261,
                        "remaining_time": 131.331715,
                        "test": [
                          0.8339481058,
                          0.8805793944
                        ]
                      },
                      {
                        "learn": [
                          0.8515757131,
                          0.8642015617
                        ],
                        "iteration": 380,
                        "passed_time": 5.201302466,
                        "remaining_time": 131.3158226,
                        "test": [
                          0.8348495674,
                          0.8797534232
                        ]
                      },
                      {
                        "learn": [
                          0.851467488,
                          0.8632360223
                        ],
                        "iteration": 381,
                        "passed_time": 5.213972162,
                        "remaining_time": 131.2774457,
                        "test": [
                          0.8348495674,
                          0.879072228
                        ]
                      },
                      {
                        "learn": [
                          0.851467488,
                          0.8624516527
                        ],
                        "iteration": 382,
                        "passed_time": 5.226591609,
                        "remaining_time": 131.2379413,
                        "test": [
                          0.8348495674,
                          0.8782111262
                        ]
                      },
                      {
                        "learn": [
                          0.851537866,
                          0.8615623756
                        ],
                        "iteration": 383,
                        "passed_time": 5.239235984,
                        "remaining_time": 131.1992011,
                        "test": [
                          0.8349997707,
                          0.8775098355
                        ]
                      },
                      {
                        "learn": [
                          0.8513725221,
                          0.8607451616
                        ],
                        "iteration": 384,
                        "passed_time": 5.252963169,
                        "remaining_time": 131.1876386,
                        "test": [
                          0.8349997707,
                          0.8768639175
                        ]
                      },
                      {
                        "learn": [
                          0.8512762942,
                          0.8599636415
                        ],
                        "iteration": 385,
                        "passed_time": 5.26618315,
                        "remaining_time": 131.1634321,
                        "test": [
                          0.8349997707,
                          0.8760486541
                        ]
                      },
                      {
                        "learn": [
                          0.8512758065,
                          0.859113433
                        ],
                        "iteration": 386,
                        "passed_time": 5.280796561,
                        "remaining_time": 131.1738949,
                        "test": [
                          0.8354503804,
                          0.8752399915
                        ]
                      },
                      {
                        "learn": [
                          0.8515179377,
                          0.8582617996
                        ],
                        "iteration": 387,
                        "passed_time": 5.293900341,
                        "remaining_time": 131.1468301,
                        "test": [
                          0.8354503804,
                          0.8746517199
                        ]
                      },
                      {
                        "learn": [
                          0.8516709656,
                          0.8576451022
                        ],
                        "iteration": 388,
                        "passed_time": 5.306433281,
                        "remaining_time": 131.1057333,
                        "test": [
                          0.8354503804,
                          0.8740954251
                        ]
                      },
                      {
                        "learn": [
                          0.8518055871,
                          0.8567587496
                        ],
                        "iteration": 389,
                        "passed_time": 5.318935873,
                        "remaining_time": 131.0640352,
                        "test": [
                          0.8356005836,
                          0.8734278714
                        ]
                      },
                      {
                        "learn": [
                          0.8516016566,
                          0.8559713806
                        ],
                        "iteration": 390,
                        "passed_time": 5.33342605,
                        "remaining_time": 131.0713323,
                        "test": [
                          0.8355258453,
                          0.8728957793
                        ]
                      },
                      {
                        "learn": [
                          0.8516912623,
                          0.8552677726
                        ],
                        "iteration": 391,
                        "passed_time": 5.345989053,
                        "remaining_time": 131.0312827,
                        "test": [
                          0.8357011228,
                          0.8721160132
                        ]
                      },
                      {
                        "learn": [
                          0.8541001402,
                          0.8543824698
                        ],
                        "iteration": 392,
                        "passed_time": 5.358610293,
                        "remaining_time": 130.9927967,
                        "test": [
                          0.8396355391,
                          0.870996603
                        ]
                      },
                      {
                        "learn": [
                          0.8542083654,
                          0.8532771537
                        ],
                        "iteration": 393,
                        "passed_time": 5.372523653,
                        "remaining_time": 130.9859447,
                        "test": [
                          0.8396355391,
                          0.8697834624
                        ]
                      },
                      {
                        "learn": [
                          0.8542083654,
                          0.8525061319
                        ],
                        "iteration": 394,
                        "passed_time": 5.385174687,
                        "remaining_time": 130.9483617,
                        "test": [
                          0.8396355391,
                          0.8689770733
                        ]
                      },
                      {
                        "learn": [
                          0.855220785,
                          0.8516500743
                        ],
                        "iteration": 395,
                        "passed_time": 5.397762339,
                        "remaining_time": 130.9093674,
                        "test": [
                          0.8400589367,
                          0.8685978248
                        ]
                      },
                      {
                        "learn": [
                          0.855220785,
                          0.8509374678
                        ],
                        "iteration": 396,
                        "passed_time": 5.410203163,
                        "remaining_time": 130.8669546,
                        "test": [
                          0.8400589367,
                          0.867812118
                        ]
                      },
                      {
                        "learn": [
                          0.8554889938,
                          0.8501282024
                        ],
                        "iteration": 397,
                        "passed_time": 5.422609759,
                        "remaining_time": 130.8238666,
                        "test": [
                          0.8403844174,
                          0.8668455513
                        ]
                      },
                      {
                        "learn": [
                          0.8565128375,
                          0.8493752527
                        ],
                        "iteration": 398,
                        "passed_time": 5.434997452,
                        "remaining_time": 130.7804775,
                        "test": [
                          0.841636434,
                          0.8662980575
                        ]
                      },
                      {
                        "learn": [
                          0.8566090654,
                          0.8483283518
                        ],
                        "iteration": 399,
                        "passed_time": 5.447535082,
                        "remaining_time": 130.740842,
                        "test": [
                          0.841636434,
                          0.8651239346
                        ]
                      },
                      {
                        "learn": [
                          0.8565706718,
                          0.8474842922
                        ],
                        "iteration": 400,
                        "passed_time": 5.460083572,
                        "remaining_time": 130.7016015,
                        "test": [
                          0.8424334946,
                          0.8643190857
                        ]
                      },
                      {
                        "learn": [
                          0.8564744439,
                          0.8467247435
                        ],
                        "iteration": 401,
                        "passed_time": 5.472613914,
                        "remaining_time": 130.6620606,
                        "test": [
                          0.8424334946,
                          0.8636884227
                        ]
                      },
                      {
                        "learn": [
                          0.8563662188,
                          0.8457849998
                        ],
                        "iteration": 402,
                        "passed_time": 5.485617923,
                        "remaining_time": 130.6339335,
                        "test": [
                          0.8424334946,
                          0.8631134259
                        ]
                      },
                      {
                        "learn": [
                          0.8562579937,
                          0.8448721766
                        ],
                        "iteration": 403,
                        "passed_time": 5.498185175,
                        "remaining_time": 130.5955073,
                        "test": [
                          0.8424334946,
                          0.8622680926
                        ]
                      },
                      {
                        "learn": [
                          0.8573716561,
                          0.8440863823
                        ],
                        "iteration": 404,
                        "passed_time": 5.510639506,
                        "remaining_time": 130.5545335,
                        "test": [
                          0.8439859176,
                          0.861481359
                        ]
                      },
                      {
                        "learn": [
                          0.8573716561,
                          0.8433614779
                        ],
                        "iteration": 405,
                        "passed_time": 5.523220467,
                        "remaining_time": 130.5166925,
                        "test": [
                          0.8439859176,
                          0.8610173278
                        ]
                      },
                      {
                        "learn": [
                          0.8592496987,
                          0.8424659019
                        ],
                        "iteration": 406,
                        "passed_time": 5.535754867,
                        "remaining_time": 130.4778782,
                        "test": [
                          0.8459584088,
                          0.8600518612
                        ]
                      },
                      {
                        "learn": [
                          0.8601154996,
                          0.8417876397
                        ],
                        "iteration": 407,
                        "passed_time": 5.548166493,
                        "remaining_time": 130.4363064,
                        "test": [
                          0.8459584088,
                          0.8589668481
                        ]
                      },
                      {
                        "learn": [
                          0.8598586796,
                          0.8409117104
                        ],
                        "iteration": 408,
                        "passed_time": 5.561723325,
                        "remaining_time": 130.421732,
                        "test": [
                          0.8443625817,
                          0.8581940494
                        ]
                      },
                      {
                        "learn": [
                          0.8608379334,
                          0.8401816318
                        ],
                        "iteration": 409,
                        "passed_time": 5.574046457,
                        "remaining_time": 130.3783061,
                        "test": [
                          0.8447131367,
                          0.8577022951
                        ]
                      },
                      {
                        "learn": [
                          0.8610549301,
                          0.8393714665
                        ],
                        "iteration": 410,
                        "passed_time": 5.58642694,
                        "remaining_time": 130.3363697,
                        "test": [
                          0.8447131367,
                          0.857037235
                        ]
                      },
                      {
                        "learn": [
                          0.8612210483,
                          0.8385768237
                        ],
                        "iteration": 411,
                        "passed_time": 5.598823462,
                        "remaining_time": 130.2949499,
                        "test": [
                          0.8448633399,
                          0.856635544
                        ]
                      },
                      {
                        "learn": [
                          0.8612210483,
                          0.8377963535
                        ],
                        "iteration": 412,
                        "passed_time": 5.611151031,
                        "remaining_time": 130.2520701,
                        "test": [
                          0.8448633399,
                          0.8557711419
                        ]
                      },
                      {
                        "learn": [
                          0.8613746227,
                          0.8368635837
                        ],
                        "iteration": 413,
                        "passed_time": 5.623647061,
                        "remaining_time": 130.2132385,
                        "test": [
                          0.8448633399,
                          0.8550831993
                        ]
                      },
                      {
                        "learn": [
                          0.8613746227,
                          0.8361353048
                        ],
                        "iteration": 414,
                        "passed_time": 5.63596919,
                        "remaining_time": 130.1705173,
                        "test": [
                          0.8448633399,
                          0.8544848799
                        ]
                      },
                      {
                        "learn": [
                          0.8613682135,
                          0.8351636914
                        ],
                        "iteration": 415,
                        "passed_time": 5.648642516,
                        "remaining_time": 130.1360333,
                        "test": [
                          0.8452867374,
                          0.8535631981
                        ]
                      },
                      {
                        "learn": [
                          0.8613682135,
                          0.8344342127
                        ],
                        "iteration": 416,
                        "passed_time": 5.66097839,
                        "remaining_time": 130.0938991,
                        "test": [
                          0.8452867374,
                          0.8530536218
                        ]
                      },
                      {
                        "learn": [
                          0.8615412286,
                          0.8335699815
                        ],
                        "iteration": 417,
                        "passed_time": 5.674453198,
                        "remaining_time": 130.0780156,
                        "test": [
                          0.8452867374,
                          0.8521517422
                        ]
                      },
                      {
                        "learn": [
                          0.8614450007,
                          0.8327826124
                        ],
                        "iteration": 418,
                        "passed_time": 5.687006793,
                        "remaining_time": 130.041079,
                        "test": [
                          0.8452867374,
                          0.851656981
                        ]
                      },
                      {
                        "learn": [
                          0.8624754666,
                          0.8319453767
                        ],
                        "iteration": 419,
                        "passed_time": 5.699470531,
                        "remaining_time": 130.0022088,
                        "test": [
                          0.8472147897,
                          0.8504374596
                        ]
                      },
                      {
                        "learn": [
                          0.8637555219,
                          0.8311904023
                        ],
                        "iteration": 420,
                        "passed_time": 5.711923231,
                        "remaining_time": 129.9632129,
                        "test": [
                          0.8477147151,
                          0.849695171
                        ]
                      },
                      {
                        "learn": [
                          0.8647150015,
                          0.830404158
                        ],
                        "iteration": 421,
                        "passed_time": 5.735103508,
                        "remaining_time": 130.1678232,
                        "test": [
                          0.8494674898,
                          0.8486469019
                        ]
                      },
                      {
                        "learn": [
                          0.8648112294,
                          0.8296124397
                        ],
                        "iteration": 422,
                        "passed_time": 5.761818545,
                        "remaining_time": 130.4513858,
                        "test": [
                          0.8494674898,
                          0.8475882917
                        ]
                      },
                      {
                        "learn": [
                          0.864798198,
                          0.8288384185
                        ],
                        "iteration": 423,
                        "passed_time": 5.774322682,
                        "remaining_time": 130.412533,
                        "test": [
                          0.8494674898,
                          0.8470214358
                        ]
                      },
                      {
                        "learn": [
                          0.8648430009,
                          0.8279474166
                        ],
                        "iteration": 424,
                        "passed_time": 5.786722942,
                        "remaining_time": 130.3714639,
                        "test": [
                          0.8494674898,
                          0.8464744554
                        ]
                      },
                      {
                        "learn": [
                          0.8661934961,
                          0.8270884345
                        ],
                        "iteration": 425,
                        "passed_time": 5.799357623,
                        "remaining_time": 130.3357978,
                        "test": [
                          0.8506944322,
                          0.84554984
                        ]
                      },
                      {
                        "learn": [
                          0.8661934961,
                          0.8262520986
                        ],
                        "iteration": 426,
                        "passed_time": 5.811708952,
                        "remaining_time": 130.2938871,
                        "test": [
                          0.8506944322,
                          0.8446962191
                        ]
                      },
                      {
                        "learn": [
                          0.8661934961,
                          0.8253072558
                        ],
                        "iteration": 427,
                        "passed_time": 5.824247167,
                        "remaining_time": 130.2562941,
                        "test": [
                          0.8510708942,
                          0.8438256563
                        ]
                      },
                      {
                        "learn": [
                          0.8672520026,
                          0.8245972739
                        ],
                        "iteration": 428,
                        "passed_time": 5.836721973,
                        "remaining_time": 130.2174033,
                        "test": [
                          0.8500006393,
                          0.8433138798
                        ]
                      },
                      {
                        "learn": [
                          0.8673602277,
                          0.8237156455
                        ],
                        "iteration": 429,
                        "passed_time": 5.8503306,
                        "remaining_time": 130.2038694,
                        "test": [
                          0.8500006393,
                          0.842667155
                        ]
                      },
                      {
                        "learn": [
                          0.8672639999,
                          0.8231718359
                        ],
                        "iteration": 430,
                        "passed_time": 5.862832926,
                        "remaining_time": 130.1657733,
                        "test": [
                          0.8500006393,
                          0.8420747763
                        ]
                      },
                      {
                        "learn": [
                          0.8674564556,
                          0.8224761017
                        ],
                        "iteration": 431,
                        "passed_time": 5.876208903,
                        "remaining_time": 130.1471453,
                        "test": [
                          0.8495772417,
                          0.8412106675
                        ]
                      },
                      {
                        "learn": [
                          0.8675526834,
                          0.8219541885
                        ],
                        "iteration": 432,
                        "passed_time": 5.888604532,
                        "remaining_time": 130.1068812,
                        "test": [
                          0.8495772417,
                          0.8409533858
                        ]
                      },
                      {
                        "learn": [
                          0.8686279522,
                          0.8211668194
                        ],
                        "iteration": 433,
                        "passed_time": 5.901128059,
                        "remaining_time": 130.0695646,
                        "test": [
                          0.8504034806,
                          0.8403362177
                        ]
                      },
                      {
                        "learn": [
                          0.8686663458,
                          0.8205544713
                        ],
                        "iteration": 434,
                        "passed_time": 5.913642551,
                        "remaining_time": 130.0321632,
                        "test": [
                          0.8504034806,
                          0.8397692884
                        ]
                      },
                      {
                        "learn": [
                          0.8687865682,
                          0.8197556291
                        ],
                        "iteration": 435,
                        "passed_time": 5.926757246,
                        "remaining_time": 130.008042,
                        "test": [
                          0.8505536838,
                          0.8391726559
                        ]
                      },
                      {
                        "learn": [
                          0.8688313711,
                          0.819052996
                        ],
                        "iteration": 436,
                        "passed_time": 5.93960807,
                        "remaining_time": 129.9781967,
                        "test": [
                          0.8505536838,
                          0.8383103806
                        ]
                      },
                      {
                        "learn": [
                          0.8691440491,
                          0.8182188348
                        ],
                        "iteration": 437,
                        "passed_time": 5.952280761,
                        "remaining_time": 129.9445403,
                        "test": [
                          0.8498007598,
                          0.8375207868
                        ]
                      },
                      {
                        "learn": [
                          0.8691560464,
                          0.8175634438
                        ],
                        "iteration": 438,
                        "passed_time": 5.966540684,
                        "remaining_time": 129.9455478,
                        "test": [
                          0.8498007598,
                          0.8368751622
                        ]
                      },
                      {
                        "learn": [
                          0.8692074714,
                          0.8168958298
                        ],
                        "iteration": 439,
                        "passed_time": 5.979002433,
                        "remaining_time": 129.9074165,
                        "test": [
                          0.8498007598,
                          0.8362258705
                        ]
                      },
                      {
                        "learn": [
                          0.8692272456,
                          0.8160444964
                        ],
                        "iteration": 440,
                        "passed_time": 5.99136403,
                        "remaining_time": 129.8672308,
                        "test": [
                          0.8498007598,
                          0.8351925631
                        ]
                      },
                      {
                        "learn": [
                          0.8694506516,
                          0.8151912883
                        ],
                        "iteration": 441,
                        "passed_time": 6.00379213,
                        "remaining_time": 129.828609,
                        "test": [
                          0.8498007598,
                          0.8346950881
                        ]
                      },
                      {
                        "learn": [
                          0.8695658324,
                          0.8144867055
                        ],
                        "iteration": 442,
                        "passed_time": 6.016313287,
                        "remaining_time": 129.7921131,
                        "test": [
                          0.8496254823,
                          0.834187052
                        ]
                      },
                      {
                        "learn": [
                          0.8709867056,
                          0.8136556187
                        ],
                        "iteration": 443,
                        "passed_time": 6.028622355,
                        "remaining_time": 129.7511604,
                        "test": [
                          0.8512029796,
                          0.8332171116
                        ]
                      },
                      {
                        "learn": [
                          0.8711213271,
                          0.813016725
                        ],
                        "iteration": 444,
                        "passed_time": 6.040935789,
                        "remaining_time": 129.7104303,
                        "test": [
                          0.8512029796,
                          0.8324582478
                        ]
                      },
                      {
                        "learn": [
                          0.8724084001,
                          0.8122045351
                        ],
                        "iteration": 445,
                        "passed_time": 6.053216507,
                        "remaining_time": 129.6691267,
                        "test": [
                          0.8519291637,
                          0.8318696095
                        ]
                      },
                      {
                        "learn": [
                          0.8721919498,
                          0.8115051264
                        ],
                        "iteration": 446,
                        "passed_time": 6.065730339,
                        "remaining_time": 129.632935,
                        "test": [
                          0.8519291637,
                          0.8311087655
                        ]
                      },
                      {
                        "learn": [
                          0.8718870487,
                          0.8106681906
                        ],
                        "iteration": 447,
                        "passed_time": 6.079644286,
                        "remaining_time": 129.6267014,
                        "test": [
                          0.8526820878,
                          0.830415909
                        ]
                      },
                      {
                        "learn": [
                          0.871950471,
                          0.809932413
                        ],
                        "iteration": 448,
                        "passed_time": 6.103689676,
                        "remaining_time": 129.8359468,
                        "test": [
                          0.8531054854,
                          0.8294454552
                        ]
                      },
                      {
                        "learn": [
                          0.8731089362,
                          0.8091472186
                        ],
                        "iteration": 449,
                        "passed_time": 6.115905916,
                        "remaining_time": 129.7931144,
                        "test": [
                          0.8547080569,
                          0.828731403
                        ]
                      },
                      {
                        "learn": [
                          0.8733323422,
                          0.8083519009
                        ],
                        "iteration": 450,
                        "passed_time": 6.13848161,
                        "remaining_time": 129.9697581,
                        "test": [
                          0.8547080569,
                          0.828000409
                        ]
                      },
                      {
                        "learn": [
                          0.8733323422,
                          0.8076061499
                        ],
                        "iteration": 451,
                        "passed_time": 6.150941197,
                        "remaining_time": 129.9318287,
                        "test": [
                          0.8547080569,
                          0.827291344
                        ]
                      },
                      {
                        "learn": [
                          0.8730761306,
                          0.8071470013
                        ],
                        "iteration": 452,
                        "passed_time": 6.164942585,
                        "remaining_time": 129.9265052,
                        "test": [
                          0.8548582601,
                          0.8268180717
                        ]
                      },
                      {
                        "learn": [
                          0.8733373837,
                          0.8064345448
                        ],
                        "iteration": 453,
                        "passed_time": 6.177324198,
                        "remaining_time": 129.8870854,
                        "test": [
                          0.8548582601,
                          0.8258286225
                        ]
                      },
                      {
                        "learn": [
                          0.8735689621,
                          0.8057304869
                        ],
                        "iteration": 454,
                        "passed_time": 6.189663023,
                        "remaining_time": 129.8468869,
                        "test": [
                          0.8552088151,
                          0.8252394708
                        ]
                      },
                      {
                        "learn": [
                          0.8735241593,
                          0.804888302
                        ],
                        "iteration": 455,
                        "passed_time": 6.203012308,
                        "remaining_time": 129.8279594,
                        "test": [
                          0.8552088151,
                          0.824489628
                        ]
                      },
                      {
                        "learn": [
                          0.8735500092,
                          0.8041834192
                        ],
                        "iteration": 456,
                        "passed_time": 6.215507092,
                        "remaining_time": 129.7912127,
                        "test": [
                          0.8552338893,
                          0.8238641723
                        ]
                      },
                      {
                        "learn": [
                          0.8753027395,
                          0.8034831107
                        ],
                        "iteration": 457,
                        "passed_time": 6.227921541,
                        "remaining_time": 129.7528981,
                        "test": [
                          0.8567354372,
                          0.8233746915
                        ]
                      },
                      {
                        "learn": [
                          0.8774298927,
                          0.802729786
                        ],
                        "iteration": 458,
                        "passed_time": 6.240989001,
                        "remaining_time": 129.7282703,
                        "test": [
                          0.8589164881,
                          0.8224310073
                        ]
                      },
                      {
                        "learn": [
                          0.8774298927,
                          0.8023295775
                        ],
                        "iteration": 459,
                        "passed_time": 6.253378629,
                        "remaining_time": 129.689635,
                        "test": [
                          0.8589164881,
                          0.8223139544
                        ]
                      },
                      {
                        "learn": [
                          0.8757219033,
                          0.8017742949
                        ],
                        "iteration": 460,
                        "passed_time": 6.266413017,
                        "remaining_time": 129.664455,
                        "test": [
                          0.8570684893,
                          0.8217557528
                        ]
                      },
                      {
                        "learn": [
                          0.8775130892,
                          0.8010492405
                        ],
                        "iteration": 461,
                        "passed_time": 6.279678742,
                        "remaining_time": 129.6441036,
                        "test": [
                          0.8582696308,
                          0.8209310284
                        ]
                      },
                      {
                        "learn": [
                          0.8784230141,
                          0.8002659958
                        ],
                        "iteration": 462,
                        "passed_time": 6.292048612,
                        "remaining_time": 129.6053296,
                        "test": [
                          0.8600224055,
                          0.8201369607
                        ]
                      },
                      {
                        "learn": [
                          0.8792678593,
                          0.7995578135
                        ],
                        "iteration": 463,
                        "passed_time": 6.304511278,
                        "remaining_time": 129.5685766,
                        "test": [
                          0.8612493479,
                          0.8194824618
                        ]
                      },
                      {
                        "learn": [
                          0.8792294656,
                          0.7988450571
                        ],
                        "iteration": 464,
                        "passed_time": 6.316894459,
                        "remaining_time": 129.5302982,
                        "test": [
                          0.8614246253,
                          0.8187181707
                        ]
                      },
                      {
                        "learn": [
                          0.8791846628,
                          0.7981819424
                        ],
                        "iteration": 465,
                        "passed_time": 6.329277532,
                        "remaining_time": 129.4921287,
                        "test": [
                          0.8615748286,
                          0.8180198136
                        ]
                      },
                      {
                        "learn": [
                          0.879349688,
                          0.7975077295
                        ],
                        "iteration": 466,
                        "passed_time": 6.341583532,
                        "remaining_time": 129.4524964,
                        "test": [
                          0.8614246253,
                          0.8174204675
                        ]
                      },
                      {
                        "learn": [
                          0.8799662608,
                          0.7967253097
                        ],
                        "iteration": 467,
                        "passed_time": 6.353992006,
                        "remaining_time": 129.4150679,
                        "test": [
                          0.8620714827,
                          0.8164640952
                        ]
                      },
                      {
                        "learn": [
                          0.8806398559,
                          0.7961689022
                        ],
                        "iteration": 468,
                        "passed_time": 6.366320314,
                        "remaining_time": 129.3761171,
                        "test": [
                          0.8628244068,
                          0.8158591017
                        ]
                      },
                      {
                        "learn": [
                          0.8806846587,
                          0.7953779338
                        ],
                        "iteration": 469,
                        "passed_time": 6.378588849,
                        "remaining_time": 129.3360675,
                        "test": [
                          0.8628244068,
                          0.8151085255
                        ]
                      },
                      {
                        "learn": [
                          0.8815869124,
                          0.7947124195
                        ],
                        "iteration": 470,
                        "passed_time": 6.390878147,
                        "remaining_time": 129.296556,
                        "test": [
                          0.864752459,
                          0.8140046636
                        ]
                      },
                      {
                        "learn": [
                          0.8815869124,
                          0.7939807661
                        ],
                        "iteration": 471,
                        "passed_time": 6.403273485,
                        "remaining_time": 129.2593003,
                        "test": [
                          0.864752459,
                          0.8135566208
                        ]
                      },
                      {
                        "learn": [
                          0.881625306,
                          0.7932088445
                        ],
                        "iteration": 472,
                        "passed_time": 6.415637937,
                        "remaining_time": 129.2215277,
                        "test": [
                          0.864752459,
                          0.8127778082
                        ]
                      },
                      {
                        "learn": [
                          0.8816636996,
                          0.7924449466
                        ],
                        "iteration": 473,
                        "passed_time": 6.427954617,
                        "remaining_time": 129.1829023,
                        "test": [
                          0.864752459,
                          0.8121698077
                        ]
                      },
                      {
                        "learn": [
                          0.8816636996,
                          0.7918479709
                        ],
                        "iteration": 474,
                        "passed_time": 6.440119622,
                        "remaining_time": 129.1413461,
                        "test": [
                          0.864752459,
                          0.8116660254
                        ]
                      },
                      {
                        "learn": [
                          0.8816636996,
                          0.7912200253
                        ],
                        "iteration": 475,
                        "passed_time": 6.452581804,
                        "remaining_time": 129.1058595,
                        "test": [
                          0.864752459,
                          0.8109002675
                        ]
                      },
                      {
                        "learn": [
                          0.8816636996,
                          0.7906757659
                        ],
                        "iteration": 476,
                        "passed_time": 6.464807559,
                        "remaining_time": 129.0657492,
                        "test": [
                          0.864752459,
                          0.8104149673
                        ]
                      },
                      {
                        "learn": [
                          0.8837514251,
                          0.7899925545
                        ],
                        "iteration": 477,
                        "passed_time": 6.477099067,
                        "remaining_time": 129.0270655,
                        "test": [
                          0.8680110819,
                          0.8096253001
                        ]
                      },
                      {
                        "learn": [
                          0.8838476529,
                          0.7893228409
                        ],
                        "iteration": 478,
                        "passed_time": 6.489466249,
                        "remaining_time": 128.9899961,
                        "test": [
                          0.8680110819,
                          0.8087700657
                        ]
                      },
                      {
                        "learn": [
                          0.8838028501,
                          0.7886236572
                        ],
                        "iteration": 479,
                        "passed_time": 6.501937171,
                        "remaining_time": 128.9550872,
                        "test": [
                          0.8680110819,
                          0.8083427785
                        ]
                      },
                      {
                        "learn": [
                          0.8837584698,
                          0.7879681912
                        ],
                        "iteration": 480,
                        "passed_time": 6.514639169,
                        "remaining_time": 128.9248446,
                        "test": [
                          0.8683363204,
                          0.8077268571
                        ]
                      },
                      {
                        "learn": [
                          0.8837584698,
                          0.7871849465
                        ],
                        "iteration": 481,
                        "passed_time": 6.527261207,
                        "remaining_time": 128.8930958,
                        "test": [
                          0.8683363204,
                          0.8069941763
                        ]
                      },
                      {
                        "learn": [
                          0.8835660141,
                          0.7864838881
                        ],
                        "iteration": 482,
                        "passed_time": 6.539730205,
                        "remaining_time": 128.8584107,
                        "test": [
                          0.8683363204,
                          0.8062804908
                        ]
                      },
                      {
                        "learn": [
                          0.8835660141,
                          0.7857259891
                        ],
                        "iteration": 483,
                        "passed_time": 6.552296794,
                        "remaining_time": 128.8257361,
                        "test": [
                          0.8683363204,
                          0.805588441
                        ]
                      },
                      {
                        "learn": [
                          0.8835661379,
                          0.7851036676
                        ],
                        "iteration": 484,
                        "passed_time": 6.564620181,
                        "remaining_time": 128.7883732,
                        "test": [
                          0.8683114884,
                          0.8050113907
                        ]
                      },
                      {
                        "learn": [
                          0.8835081798,
                          0.784410033
                        ],
                        "iteration": 485,
                        "passed_time": 6.57713938,
                        "remaining_time": 128.7549466,
                        "test": [
                          0.8683363204,
                          0.8042440926
                        ]
                      },
                      {
                        "learn": [
                          0.8835081798,
                          0.7837962601
                        ],
                        "iteration": 486,
                        "passed_time": 6.58945504,
                        "remaining_time": 128.71763,
                        "test": [
                          0.8687597179,
                          0.803429856
                        ]
                      },
                      {
                        "learn": [
                          0.8835081798,
                          0.7830186394
                        ],
                        "iteration": 487,
                        "passed_time": 6.601922582,
                        "remaining_time": 128.6833762,
                        "test": [
                          0.8687597179,
                          0.8026113657
                        ]
                      },
                      {
                        "learn": [
                          0.8835081798,
                          0.7823533501
                        ],
                        "iteration": 488,
                        "passed_time": 6.614436535,
                        "remaining_time": 128.6501143,
                        "test": [
                          0.8687597179,
                          0.8020075457
                        ]
                      },
                      {
                        "learn": [
                          0.8835465734,
                          0.7815939514
                        ],
                        "iteration": 489,
                        "passed_time": 6.626803538,
                        "remaining_time": 128.614085,
                        "test": [
                          0.8687597179,
                          0.8014849146
                        ]
                      },
                      {
                        "learn": [
                          0.8845770394,
                          0.7810040245
                        ],
                        "iteration": 490,
                        "passed_time": 6.639550368,
                        "remaining_time": 128.585508,
                        "test": [
                          0.8692855504,
                          0.8010028414
                        ]
                      },
                      {
                        "learn": [
                          0.8844688143,
                          0.7804071988
                        ],
                        "iteration": 491,
                        "passed_time": 6.652131103,
                        "remaining_time": 128.5537856,
                        "test": [
                          0.8692855504,
                          0.8005893424
                        ]
                      },
                      {
                        "learn": [
                          0.8845770394,
                          0.779762606
                        ],
                        "iteration": 492,
                        "passed_time": 6.664551957,
                        "remaining_time": 128.5190577,
                        "test": [
                          0.8692855504,
                          0.8000404551
                        ]
                      },
                      {
                        "learn": [
                          0.8859019595,
                          0.7789876099
                        ],
                        "iteration": 493,
                        "passed_time": 6.676967275,
                        "remaining_time": 128.4843136,
                        "test": [
                          0.8706127897,
                          0.7993765685
                        ]
                      },
                      {
                        "learn": [
                          0.8858385372,
                          0.7782749284
                        ],
                        "iteration": 494,
                        "passed_time": 6.690326622,
                        "remaining_time": 128.4677869,
                        "test": [
                          0.8707880672,
                          0.7985976825
                        ]
                      },
                      {
                        "learn": [
                          0.8858385372,
                          0.7775448499
                        ],
                        "iteration": 495,
                        "passed_time": 6.702799031,
                        "remaining_time": 128.4342782,
                        "test": [
                          0.8707880672,
                          0.7980002432
                        ]
                      },
                      {
                        "learn": [
                          0.8860305053,
                          0.776864863
                        ],
                        "iteration": 496,
                        "passed_time": 6.715225397,
                        "remaining_time": 128.3999737,
                        "test": [
                          0.8709382704,
                          0.7971464023
                        ]
                      },
                      {
                        "learn": [
                          0.8860753082,
                          0.7761402585
                        ],
                        "iteration": 497,
                        "passed_time": 6.727772125,
                        "remaining_time": 128.3680537,
                        "test": [
                          0.8709382704,
                          0.7965316544
                        ]
                      },
                      {
                        "learn": [
                          0.886120111,
                          0.7754320013
                        ],
                        "iteration": 498,
                        "passed_time": 6.740456358,
                        "remaining_time": 128.3388294,
                        "test": [
                          0.8709382704,
                          0.795924754
                        ]
                      },
                      {
                        "learn": [
                          0.8860118859,
                          0.7746909745
                        ],
                        "iteration": 499,
                        "passed_time": 6.766115691,
                        "remaining_time": 128.5561981,
                        "test": [
                          0.8709382704,
                          0.7950513309
                        ]
                      },
                      {
                        "learn": [
                          0.8858652672,
                          0.7739869916
                        ],
                        "iteration": 500,
                        "passed_time": 6.787775398,
                        "remaining_time": 128.6967635,
                        "test": [
                          0.8709382704,
                          0.794402626
                        ]
                      },
                      {
                        "learn": [
                          0.8859670831,
                          0.7735888828
                        ],
                        "iteration": 501,
                        "passed_time": 6.80024128,
                        "remaining_time": 128.6627324,
                        "test": [
                          0.8709382704,
                          0.7940295381
                        ]
                      },
                      {
                        "learn": [
                          0.8859036608,
                          0.7728082627
                        ],
                        "iteration": 502,
                        "passed_time": 6.813771442,
                        "remaining_time": 128.6488815,
                        "test": [
                          0.8710884736,
                          0.7933443091
                        ]
                      },
                      {
                        "learn": [
                          0.886266769,
                          0.7720934066
                        ],
                        "iteration": 503,
                        "passed_time": 6.826318786,
                        "remaining_time": 128.6165143,
                        "test": [
                          0.8710884736,
                          0.7927540573
                        ]
                      },
                      {
                        "learn": [
                          0.8862283754,
                          0.7713882239
                        ],
                        "iteration": 504,
                        "passed_time": 6.838622812,
                        "remaining_time": 128.5796507,
                        "test": [
                          0.8710884736,
                          0.7919448813
                        ]
                      },
                      {
                        "learn": [
                          0.8869606316,
                          0.7707731012
                        ],
                        "iteration": 505,
                        "passed_time": 6.850973327,
                        "remaining_time": 128.5437565,
                        "test": [
                          0.8707880672,
                          0.7916242325
                        ]
                      },
                      {
                        "learn": [
                          0.8869606316,
                          0.7700576452
                        ],
                        "iteration": 506,
                        "passed_time": 6.864094226,
                        "remaining_time": 128.5223797,
                        "test": [
                          0.8709633446,
                          0.7910553964
                        ]
                      },
                      {
                        "learn": [
                          0.8869606316,
                          0.7696275167
                        ],
                        "iteration": 507,
                        "passed_time": 6.876384416,
                        "remaining_time": 128.4855135,
                        "test": [
                          0.8709633446,
                          0.790791734
                        ]
                      },
                      {
                        "learn": [
                          0.8870688567,
                          0.7688934638
                        ],
                        "iteration": 508,
                        "passed_time": 6.888717591,
                        "remaining_time": 128.4495455,
                        "test": [
                          0.8712114647,
                          0.7903267493
                        ]
                      },
                      {
                        "learn": [
                          0.8869606316,
                          0.7685147768
                        ],
                        "iteration": 509,
                        "passed_time": 6.900968779,
                        "remaining_time": 128.4121445,
                        "test": [
                          0.8712114647,
                          0.7900791486
                        ]
                      },
                      {
                        "learn": [
                          0.886876401,
                          0.7677862729
                        ],
                        "iteration": 510,
                        "passed_time": 6.913272812,
                        "remaining_time": 128.3758233,
                        "test": [
                          0.8718583221,
                          0.7890726108
                        ]
                      },
                      {
                        "learn": [
                          0.8871136596,
                          0.7671445297
                        ],
                        "iteration": 511,
                        "passed_time": 6.925727287,
                        "remaining_time": 128.3423838,
                        "test": [
                          0.8712114647,
                          0.7884908666
                        ]
                      },
                      {
                        "learn": [
                          0.8871968561,
                          0.7665705751
                        ],
                        "iteration": 512,
                        "passed_time": 6.939288708,
                        "remaining_time": 128.329497,
                        "test": [
                          0.8712114647,
                          0.7880401835
                        ]
                      },
                      {
                        "learn": [
                          0.8881792553,
                          0.7658531695
                        ],
                        "iteration": 513,
                        "passed_time": 6.954202661,
                        "remaining_time": 128.341569,
                        "test": [
                          0.8717694852,
                          0.7871983705
                        ]
                      },
                      {
                        "learn": [
                          0.8899776585,
                          0.7650609262
                        ],
                        "iteration": 514,
                        "passed_time": 6.967659022,
                        "remaining_time": 128.3266909,
                        "test": [
                          0.8743517119,
                          0.7864645162
                        ]
                      },
                      {
                        "learn": [
                          0.8900224613,
                          0.7644300562
                        ],
                        "iteration": 515,
                        "passed_time": 6.980038223,
                        "remaining_time": 128.2920204,
                        "test": [
                          0.8743517119,
                          0.7858805717
                        ]
                      },
                      {
                        "learn": [
                          0.8899142362,
                          0.7636822056
                        ],
                        "iteration": 516,
                        "passed_time": 6.994646959,
                        "remaining_time": 128.298331,
                        "test": [
                          0.8739283143,
                          0.7853239836
                        ]
                      },
                      {
                        "learn": [
                          0.8900294171,
                          0.763198611
                        ],
                        "iteration": 517,
                        "passed_time": 7.006759911,
                        "remaining_time": 128.2588754,
                        "test": [
                          0.8743517119,
                          0.784790498
                        ]
                      },
                      {
                        "learn": [
                          0.8901376422,
                          0.7626337299
                        ],
                        "iteration": 518,
                        "passed_time": 7.019156848,
                        "remaining_time": 128.2247131,
                        "test": [
                          0.8743517119,
                          0.7841197906
                        ]
                      },
                      {
                        "learn": [
                          0.89016908,
                          0.762007959
                        ],
                        "iteration": 519,
                        "passed_time": 7.031219571,
                        "remaining_time": 128.1845414,
                        "test": [
                          0.8739283143,
                          0.7834702056
                        ]
                      },
                      {
                        "learn": [
                          0.8902653079,
                          0.761496844
                        ],
                        "iteration": 520,
                        "passed_time": 7.043529128,
                        "remaining_time": 128.1489685,
                        "test": [
                          0.8743517119,
                          0.783242187
                        ]
                      },
                      {
                        "learn": [
                          0.8902588367,
                          0.7606548091
                        ],
                        "iteration": 521,
                        "passed_time": 7.055865577,
                        "remaining_time": 128.1139731,
                        "test": [
                          0.8744517666,
                          0.782670784
                        ]
                      },
                      {
                        "learn": [
                          0.8902588367,
                          0.7600097664
                        ],
                        "iteration": 522,
                        "passed_time": 7.070719192,
                        "remaining_time": 128.1246765,
                        "test": [
                          0.8744517666,
                          0.7818010279
                        ]
                      },
                      {
                        "learn": [
                          0.8902204431,
                          0.7594117408
                        ],
                        "iteration": 523,
                        "passed_time": 7.083069588,
                        "remaining_time": 128.0900142,
                        "test": [
                          0.8744517666,
                          0.7809273115
                        ]
                      },
                      {
                        "learn": [
                          0.8902972304,
                          0.758972014
                        ],
                        "iteration": 524,
                        "passed_time": 7.095473664,
                        "remaining_time": 128.0564056,
                        "test": [
                          0.8744517666,
                          0.7807889162
                        ]
                      },
                      {
                        "learn": [
                          0.8913341055,
                          0.7583511173
                        ],
                        "iteration": 525,
                        "passed_time": 7.107814058,
                        "remaining_time": 128.0217308,
                        "test": [
                          0.8746270441,
                          0.7804331369
                        ]
                      },
                      {
                        "learn": [
                          0.8913724991,
                          0.7578865695
                        ],
                        "iteration": 526,
                        "passed_time": 7.120157071,
                        "remaining_time": 127.9871877,
                        "test": [
                          0.8746270441,
                          0.7800875521
                        ]
                      },
                      {
                        "learn": [
                          0.8914871335,
                          0.7572303537
                        ],
                        "iteration": 527,
                        "passed_time": 7.145007492,
                        "remaining_time": 128.1771041,
                        "test": [
                          0.8748023216,
                          0.779567268
                        ]
                      },
                      {
                        "learn": [
                          0.8915767392,
                          0.7567562825
                        ],
                        "iteration": 528,
                        "passed_time": 7.17293298,
                        "remaining_time": 128.4212632,
                        "test": [
                          0.8749525248,
                          0.7788185986
                        ]
                      },
                      {
                        "learn": [
                          0.8916849643,
                          0.7561814281
                        ],
                        "iteration": 529,
                        "passed_time": 7.185263347,
                        "remaining_time": 128.3857432,
                        "test": [
                          0.8749525248,
                          0.7782350209
                        ]
                      },
                      {
                        "learn": [
                          0.8916785551,
                          0.7555132143
                        ],
                        "iteration": 530,
                        "passed_time": 7.197743935,
                        "remaining_time": 128.3529893,
                        "test": [
                          0.8746270441,
                          0.7775123144
                        ]
                      },
                      {
                        "learn": [
                          0.8915767392,
                          0.754853324
                        ],
                        "iteration": 531,
                        "passed_time": 7.210238249,
                        "remaining_time": 128.3205559,
                        "test": [
                          0.8746270441,
                          0.7768242251
                        ]
                      },
                      {
                        "learn": [
                          0.8912520246,
                          0.7541134971
                        ],
                        "iteration": 532,
                        "passed_time": 7.223767682,
                        "remaining_time": 128.3065828,
                        "test": [
                          0.8746270441,
                          0.7762432143
                        ]
                      },
                      {
                        "learn": [
                          0.8912520246,
                          0.7533605473
                        ],
                        "iteration": 533,
                        "passed_time": 7.236687832,
                        "remaining_time": 128.2818109,
                        "test": [
                          0.8746270441,
                          0.7754545739
                        ]
                      },
                      {
                        "learn": [
                          0.8914829359,
                          0.7525119135
                        ],
                        "iteration": 534,
                        "passed_time": 7.249567093,
                        "remaining_time": 128.2563599,
                        "test": [
                          0.8741035918,
                          0.7747848199
                        ]
                      },
                      {
                        "learn": [
                          0.8938008101,
                          0.7518588471
                        ],
                        "iteration": 535,
                        "passed_time": 7.264008778,
                        "remaining_time": 128.2585431,
                        "test": [
                          0.8759564213,
                          0.7743400041
                        ]
                      },
                      {
                        "learn": [
                          0.8947416703,
                          0.7512151541
                        ],
                        "iteration": 536,
                        "passed_time": 7.276576814,
                        "remaining_time": 128.2276469,
                        "test": [
                          0.8766575312,
                          0.7736872654
                        ]
                      },
                      {
                        "learn": [
                          0.8948632604,
                          0.7505401914
                        ],
                        "iteration": 537,
                        "passed_time": 7.289140955,
                        "remaining_time": 128.1967504,
                        "test": [
                          0.8772562062,
                          0.7729952156
                        ]
                      },
                      {
                        "learn": [
                          0.8948632604,
                          0.7500183532
                        ],
                        "iteration": 538,
                        "passed_time": 7.301812336,
                        "remaining_time": 128.1678043,
                        "test": [
                          0.8768328087,
                          0.772705737
                        ]
                      },
                      {
                        "learn": [
                          0.894901654,
                          0.7493855335
                        ],
                        "iteration": 539,
                        "passed_time": 7.31420154,
                        "remaining_time": 128.1339751,
                        "test": [
                          0.8770080862,
                          0.7720227083
                        ]
                      },
                      {
                        "learn": [
                          0.8947416703,
                          0.748816828
                        ],
                        "iteration": 540,
                        "passed_time": 7.326733674,
                        "remaining_time": 128.1027242,
                        "test": [
                          0.8770080862,
                          0.7715602905
                        ]
                      },
                      {
                        "learn": [
                          0.8946398544,
                          0.7482719687
                        ],
                        "iteration": 541,
                        "passed_time": 7.339058486,
                        "remaining_time": 128.0679247,
                        "test": [
                          0.8770080862,
                          0.7711222222
                        ]
                      },
                      {
                        "learn": [
                          0.8944932357,
                          0.7476676442
                        ],
                        "iteration": 542,
                        "passed_time": 7.351626359,
                        "remaining_time": 128.037441,
                        "test": [
                          0.8770080862,
                          0.7706650117
                        ]
                      },
                      {
                        "learn": [
                          0.8947673512,
                          0.7469989054
                        ],
                        "iteration": 543,
                        "passed_time": 7.364054043,
                        "remaining_time": 128.0045864,
                        "test": [
                          0.8765846886,
                          0.7700435897
                        ]
                      },
                      {
                        "learn": [
                          0.8962644651,
                          0.7463570872
                        ],
                        "iteration": 544,
                        "passed_time": 7.37652148,
                        "remaining_time": 127.9724965,
                        "test": [
                          0.877110521,
                          0.7694936024
                        ]
                      },
                      {
                        "learn": [
                          0.8962708744,
                          0.7457483384
                        ],
                        "iteration": 545,
                        "passed_time": 7.388822852,
                        "remaining_time": 127.937603,
                        "test": [
                          0.8772607243,
                          0.7687986923
                        ]
                      },
                      {
                        "learn": [
                          0.8962324808,
                          0.7451354653
                        ],
                        "iteration": 546,
                        "passed_time": 7.401355441,
                        "remaining_time": 127.9067879,
                        "test": [
                          0.8772607243,
                          0.7681505741
                        ]
                      },
                      {
                        "learn": [
                          0.896309268,
                          0.7446720424
                        ],
                        "iteration": 547,
                        "passed_time": 7.41489462,
                        "remaining_time": 127.8934014,
                        "test": [
                          0.8779075816,
                          0.7677243137
                        ]
                      },
                      {
                        "learn": [
                          0.8962010429,
                          0.7440415473
                        ],
                        "iteration": 548,
                        "passed_time": 7.427380036,
                        "remaining_time": 127.8618738,
                        "test": [
                          0.8779075816,
                          0.7671694857
                        ]
                      },
                      {
                        "learn": [
                          0.8963934986,
                          0.7433986792
                        ],
                        "iteration": 549,
                        "passed_time": 7.439828741,
                        "remaining_time": 127.8297847,
                        "test": [
                          0.8774841841,
                          0.7666719375
                        ]
                      },
                      {
                        "learn": [
                          0.8965017237,
                          0.7426172342
                        ],
                        "iteration": 550,
                        "passed_time": 7.452323519,
                        "remaining_time": 127.798557,
                        "test": [
                          0.8774841841,
                          0.7660815389
                        ]
                      },
                      {
                        "learn": [
                          0.8965017237,
                          0.7420420049
                        ],
                        "iteration": 551,
                        "passed_time": 7.465806796,
                        "remaining_time": 127.7843163,
                        "test": [
                          0.8773339808,
                          0.7652189704
                        ]
                      },
                      {
                        "learn": [
                          0.8964318922,
                          0.7413940376
                        ],
                        "iteration": 552,
                        "passed_time": 7.478312372,
                        "remaining_time": 127.7533761,
                        "test": [
                          0.8771587034,
                          0.7643751039
                        ]
                      },
                      {
                        "learn": [
                          0.8971140485,
                          0.740832831
                        ],
                        "iteration": 553,
                        "passed_time": 7.490729199,
                        "remaining_time": 127.7209892,
                        "test": [
                          0.8784288961,
                          0.7638215961
                        ]
                      },
                      {
                        "learn": [
                          0.8969610205,
                          0.740225507
                        ],
                        "iteration": 554,
                        "passed_time": 7.50324389,
                        "remaining_time": 127.6903397,
                        "test": [
                          0.8784288961,
                          0.7632696285
                        ]
                      },
                      {
                        "learn": [
                          0.8970572484,
                          0.7396352802
                        ],
                        "iteration": 555,
                        "passed_time": 7.51589332,
                        "remaining_time": 127.6620441,
                        "test": [
                          0.8784288961,
                          0.7625887266
                        ]
                      },
                      {
                        "learn": [
                          0.8970826106,
                          0.7390236819
                        ],
                        "iteration": 556,
                        "passed_time": 7.528269251,
                        "remaining_time": 127.6291679,
                        "test": [
                          0.878180776,
                          0.7618267092
                        ]
                      },
                      {
                        "learn": [
                          0.8970890199,
                          0.7384208572
                        ],
                        "iteration": 557,
                        "passed_time": 7.540691953,
                        "remaining_time": 127.5971567,
                        "test": [
                          0.878180776,
                          0.761264107
                        ]
                      },
                      {
                        "learn": [
                          0.8970890199,
                          0.7378078341
                        ],
                        "iteration": 558,
                        "passed_time": 7.553105654,
                        "remaining_time": 127.5650635,
                        "test": [
                          0.878557238,
                          0.7605646498
                        ]
                      },
                      {
                        "learn": [
                          0.8974146372,
                          0.7371798886
                        ],
                        "iteration": 559,
                        "passed_time": 7.565411988,
                        "remaining_time": 127.5312307,
                        "test": [
                          0.8792583479,
                          0.7600315309
                        ]
                      },
                      {
                        "learn": [
                          0.897389275,
                          0.7366626996
                        ],
                        "iteration": 560,
                        "passed_time": 7.577676522,
                        "remaining_time": 127.4967713,
                        "test": [
                          0.8792583479,
                          0.75914718
                        ]
                      },
                      {
                        "learn": [
                          0.8972740941,
                          0.736010758
                        ],
                        "iteration": 561,
                        "passed_time": 7.590220283,
                        "remaining_time": 127.4670801,
                        "test": [
                          0.8790830704,
                          0.7587063246
                        ]
                      },
                      {
                        "learn": [
                          0.8984389686,
                          0.7353146488
                        ],
                        "iteration": 562,
                        "passed_time": 7.602470629,
                        "remaining_time": 127.4325317,
                        "test": [
                          0.8807075033,
                          0.7578407491
                        ]
                      },
                      {
                        "learn": [
                          0.8988020769,
                          0.7347797628
                        ],
                        "iteration": 563,
                        "passed_time": 7.614687341,
                        "remaining_time": 127.3974995,
                        "test": [
                          0.8805573,
                          0.7574155154
                        ]
                      },
                      {
                        "learn": [
                          0.8988020769,
                          0.7342386528
                        ],
                        "iteration": 564,
                        "passed_time": 7.626885377,
                        "remaining_time": 127.3622363,
                        "test": [
                          0.8805573,
                          0.7570804184
                        ]
                      },
                      {
                        "learn": [
                          0.8988468797,
                          0.7334716053
                        ],
                        "iteration": 565,
                        "passed_time": 7.63929041,
                        "remaining_time": 127.3305048,
                        "test": [
                          0.8807325775,
                          0.7562521003
                        ]
                      },
                      {
                        "learn": [
                          0.8990513327,
                          0.7330177058
                        ],
                        "iteration": 566,
                        "passed_time": 7.651577815,
                        "remaining_time": 127.2968845,
                        "test": [
                          0.8807325775,
                          0.7559815438
                        ]
                      },
                      {
                        "learn": [
                          0.8990961356,
                          0.7324735213
                        ],
                        "iteration": 567,
                        "passed_time": 7.66404307,
                        "remaining_time": 127.2662927,
                        "test": [
                          0.8808827807,
                          0.7555662113
                        ]
                      },
                      {
                        "learn": [
                          0.9002162072,
                          0.7318429512
                        ],
                        "iteration": 568,
                        "passed_time": 7.676478653,
                        "remaining_time": 127.2352727,
                        "test": [
                          0.882810833,
                          0.75470995
                        ]
                      },
                      {
                        "learn": [
                          0.9002994037,
                          0.7312018828
                        ],
                        "iteration": 569,
                        "passed_time": 7.688831565,
                        "remaining_time": 127.2029503,
                        "test": [
                          0.8829610362,
                          0.7540827341
                        ]
                      },
                      {
                        "learn": [
                          0.9001911786,
                          0.7306386515
                        ],
                        "iteration": 570,
                        "passed_time": 7.701363912,
                        "remaining_time": 127.1736608,
                        "test": [
                          0.8829610362,
                          0.7535248992
                        ]
                      },
                      {
                        "learn": [
                          0.9002994037,
                          0.7299980331
                        ],
                        "iteration": 571,
                        "passed_time": 7.715219879,
                        "remaining_time": 127.1662465,
                        "test": [
                          0.8829610362,
                          0.7527248175
                        ]
                      },
                      {
                        "learn": [
                          0.9001911786,
                          0.7294254283
                        ],
                        "iteration": 572,
                        "passed_time": 7.727698362,
                        "remaining_time": 127.1361474,
                        "test": [
                          0.8829610362,
                          0.7520232334
                        ]
                      },
                      {
                        "learn": [
                          0.9001911786,
                          0.7287755114
                        ],
                        "iteration": 573,
                        "passed_time": 7.740200385,
                        "remaining_time": 127.1064962,
                        "test": [
                          0.8829610362,
                          0.7513500324
                        ]
                      },
                      {
                        "learn": [
                          0.9003258001,
                          0.7281244697
                        ],
                        "iteration": 574,
                        "passed_time": 7.752833332,
                        "remaining_time": 127.0790507,
                        "test": [
                          0.8823141788,
                          0.7509427674
                        ]
                      },
                      {
                        "learn": [
                          0.9013050539,
                          0.7275493903
                        ],
                        "iteration": 575,
                        "passed_time": 7.765287679,
                        "remaining_time": 127.0487345,
                        "test": [
                          0.8833658437,
                          0.75039234
                        ]
                      },
                      {
                        "learn": [
                          0.9013050539,
                          0.7269794101
                        ],
                        "iteration": 576,
                        "passed_time": 7.784280765,
                        "remaining_time": 127.1252646,
                        "test": [
                          0.8835411212,
                          0.7499167208
                        ]
                      },
                      {
                        "learn": [
                          0.9011125981,
                          0.7264087551
                        ],
                        "iteration": 577,
                        "passed_time": 7.796934766,
                        "remaining_time": 127.0981304,
                        "test": [
                          0.8835411212,
                          0.7494834196
                        ]
                      },
                      {
                        "learn": [
                          0.9011125981,
                          0.726084359
                        ],
                        "iteration": 578,
                        "passed_time": 7.817326145,
                        "remaining_time": 127.1969423,
                        "test": [
                          0.8835411212,
                          0.7493053466
                        ]
                      },
                      {
                        "learn": [
                          0.9011125981,
                          0.7257180449
                        ],
                        "iteration": 579,
                        "passed_time": 7.829598829,
                        "remaining_time": 127.1634844,
                        "test": [
                          0.8835411212,
                          0.7488362548
                        ]
                      },
                      {
                        "learn": [
                          0.901214414,
                          0.7251709359
                        ],
                        "iteration": 580,
                        "passed_time": 7.842122189,
                        "remaining_time": 127.1341633,
                        "test": [
                          0.8835411212,
                          0.7484327303
                        ]
                      },
                      {
                        "learn": [
                          0.9012338546,
                          0.7244988977
                        ],
                        "iteration": 581,
                        "passed_time": 7.854863702,
                        "remaining_time": 127.1084301,
                        "test": [
                          0.8833909179,
                          0.7478509861
                        ]
                      },
                      {
                        "learn": [
                          0.9012338546,
                          0.7239958814
                        ],
                        "iteration": 582,
                        "passed_time": 7.867358666,
                        "remaining_time": 127.0787591,
                        "test": [
                          0.8833909179,
                          0.7470499509
                        ]
                      },
                      {
                        "learn": [
                          0.9011506581,
                          0.7233557129
                        ],
                        "iteration": 583,
                        "passed_time": 7.879916972,
                        "remaining_time": 127.0501682,
                        "test": [
                          0.8833909179,
                          0.7466174565
                        ]
                      },
                      {
                        "learn": [
                          0.9012402639,
                          0.7229574541
                        ],
                        "iteration": 584,
                        "passed_time": 7.892508532,
                        "remaining_time": 127.0221672,
                        "test": [
                          0.8833909179,
                          0.7461722007
                        ]
                      },
                      {
                        "learn": [
                          0.9015150111,
                          0.7223229846
                        ],
                        "iteration": 585,
                        "passed_time": 7.907041067,
                        "remaining_time": 127.0254003,
                        "test": [
                          0.8836735089,
                          0.7456816199
                        ]
                      },
                      {
                        "learn": [
                          0.9012139967,
                          0.7217967971
                        ],
                        "iteration": 586,
                        "passed_time": 7.919722647,
                        "remaining_time": 126.9988914,
                        "test": [
                          0.8834982314,
                          0.7449539995
                        ]
                      },
                      {
                        "learn": [
                          0.9012843747,
                          0.721184224
                        ],
                        "iteration": 587,
                        "passed_time": 7.932026862,
                        "remaining_time": 126.9663892,
                        "test": [
                          0.8834982314,
                          0.7444331287
                        ]
                      },
                      {
                        "learn": [
                          0.9012843747,
                          0.7206650104
                        ],
                        "iteration": 588,
                        "passed_time": 7.94456745,
                        "remaining_time": 126.9377322,
                        "test": [
                          0.8836484346,
                          0.7438482308
                        ]
                      },
                      {
                        "learn": [
                          0.9012843747,
                          0.7200458384
                        ],
                        "iteration": 589,
                        "passed_time": 7.956854047,
                        "remaining_time": 126.905079,
                        "test": [
                          0.8836484346,
                          0.7431148898
                        ]
                      },
                      {
                        "learn": [
                          0.9013925998,
                          0.7193593276
                        ],
                        "iteration": 590,
                        "passed_time": 7.969095601,
                        "remaining_time": 126.8717775,
                        "test": [
                          0.8840718322,
                          0.7425143702
                        ]
                      },
                      {
                        "learn": [
                          0.9013083692,
                          0.7189691675
                        ],
                        "iteration": 591,
                        "passed_time": 7.981358053,
                        "remaining_time": 126.8388793,
                        "test": [
                          0.8828955106,
                          0.7422807044
                        ]
                      },
                      {
                        "learn": [
                          0.9011430253,
                          0.7184749247
                        ],
                        "iteration": 592,
                        "passed_time": 7.993465043,
                        "remaining_time": 126.8035846,
                        "test": [
                          0.8828955106,
                          0.7420274564
                        ]
                      },
                      {
                        "learn": [
                          0.9011430253,
                          0.7178945212
                        ],
                        "iteration": 593,
                        "passed_time": 8.005605721,
                        "remaining_time": 126.7689014,
                        "test": [
                          0.8828955106,
                          0.7414641209
                        ]
                      },
                      {
                        "learn": [
                          0.9013090846,
                          0.7173342144
                        ],
                        "iteration": 594,
                        "passed_time": 8.019000101,
                        "remaining_time": 126.7541108,
                        "test": [
                          0.8831687049,
                          0.7409166271
                        ]
                      },
                      {
                        "learn": [
                          0.9013602967,
                          0.7167332643
                        ],
                        "iteration": 595,
                        "passed_time": 8.031385169,
                        "remaining_time": 126.7233995,
                        "test": [
                          0.8831687049,
                          0.7401955341
                        ]
                      },
                      {
                        "learn": [
                          0.9013986903,
                          0.7162192998
                        ],
                        "iteration": 596,
                        "passed_time": 8.0436186,
                        "remaining_time": 126.6903613,
                        "test": [
                          0.8827922429,
                          0.7396678425
                        ]
                      },
                      {
                        "learn": [
                          0.9013986903,
                          0.7157805478
                        ],
                        "iteration": 597,
                        "passed_time": 8.055926525,
                        "remaining_time": 126.6585639,
                        "test": [
                          0.8827922429,
                          0.7392468627
                        ]
                      },
                      {
                        "learn": [
                          0.9014818868,
                          0.715244312
                        ],
                        "iteration": 598,
                        "passed_time": 8.068255297,
                        "remaining_time": 126.6271587,
                        "test": [
                          0.8827922429,
                          0.7388981975
                        ]
                      },
                      {
                        "learn": [
                          0.9015650833,
                          0.7147307224
                        ],
                        "iteration": 599,
                        "passed_time": 8.080613283,
                        "remaining_time": 126.5962748,
                        "test": [
                          0.8831687049,
                          0.7383686724
                        ]
                      },
                      {
                        "learn": [
                          0.9017815335,
                          0.7140934034
                        ],
                        "iteration": 600,
                        "passed_time": 8.094832729,
                        "remaining_time": 126.5945638,
                        "test": [
                          0.8829934274,
                          0.7381500416
                        ]
                      },
                      {
                        "learn": [
                          0.9019017559,
                          0.7133353545
                        ],
                        "iteration": 601,
                        "passed_time": 8.107253937,
                        "remaining_time": 126.5647384,
                        "test": [
                          0.8827922429,
                          0.7374106133
                        ]
                      },
                      {
                        "learn": [
                          0.9019017559,
                          0.7127236812
                        ],
                        "iteration": 602,
                        "passed_time": 8.119557157,
                        "remaining_time": 126.533132,
                        "test": [
                          0.8829675204,
                          0.736662604
                        ]
                      },
                      {
                        "learn": [
                          0.9028373882,
                          0.7121773971
                        ],
                        "iteration": 603,
                        "passed_time": 8.131880815,
                        "remaining_time": 126.5019075,
                        "test": [
                          0.8846611106,
                          0.7364126564
                        ]
                      },
                      {
                        "learn": [
                          0.9030149893,
                          0.7117261971
                        ],
                        "iteration": 604,
                        "passed_time": 8.146376252,
                        "remaining_time": 126.5044709,
                        "test": [
                          0.8847371662,
                          0.736092081
                        ]
                      },
                      {
                        "learn": [
                          0.9030597922,
                          0.711083929
                        ],
                        "iteration": 605,
                        "passed_time": 8.171412441,
                        "remaining_time": 126.670377,
                        "test": [
                          0.8847371662,
                          0.7355533149
                        ]
                      },
                      {
                        "learn": [
                          0.9030662014,
                          0.7106043837
                        ],
                        "iteration": 606,
                        "passed_time": 8.183722702,
                        "remaining_time": 126.6387271,
                        "test": [
                          0.8847371662,
                          0.7349741376
                        ]
                      },
                      {
                        "learn": [
                          0.903104595,
                          0.7101022672
                        ],
                        "iteration": 607,
                        "passed_time": 8.213019188,
                        "remaining_time": 126.8695332,
                        "test": [
                          0.8847371662,
                          0.7345056325
                        ]
                      },
                      {
                        "learn": [
                          0.903269939,
                          0.7097200558
                        ],
                        "iteration": 608,
                        "passed_time": 8.22659708,
                        "remaining_time": 126.8570988,
                        "test": [
                          0.8847371662,
                          0.7341247705
                        ]
                      },
                      {
                        "learn": [
                          0.903269939,
                          0.7091519503
                        ],
                        "iteration": 609,
                        "passed_time": 8.239140334,
                        "remaining_time": 126.828734,
                        "test": [
                          0.8847371662,
                          0.7337260131
                        ]
                      },
                      {
                        "learn": [
                          0.9040315877,
                          0.7085477758
                        ],
                        "iteration": 610,
                        "passed_time": 8.252495366,
                        "remaining_time": 126.8128952,
                        "test": [
                          0.886489941,
                          0.7328886007
                        ]
                      },
                      {
                        "learn": [
                          0.9039801627,
                          0.7079783205
                        ],
                        "iteration": 611,
                        "passed_time": 8.264908398,
                        "remaining_time": 126.7826144,
                        "test": [
                          0.8861134789,
                          0.732426843
                        ]
                      },
                      {
                        "learn": [
                          0.904298468,
                          0.7073052325
                        ],
                        "iteration": 612,
                        "passed_time": 8.277467497,
                        "remaining_time": 126.7546287,
                        "test": [
                          0.886489941,
                          0.7317765979
                        ]
                      },
                      {
                        "learn": [
                          0.904298468,
                          0.7067904431
                        ],
                        "iteration": 613,
                        "passed_time": 8.289791367,
                        "remaining_time": 126.7230973,
                        "test": [
                          0.886489941,
                          0.7311900865
                        ]
                      },
                      {
                        "learn": [
                          0.904298468,
                          0.7060525658
                        ],
                        "iteration": 614,
                        "passed_time": 8.302174179,
                        "remaining_time": 126.6925279,
                        "test": [
                          0.886489941,
                          0.7303607416
                        ]
                      },
                      {
                        "learn": [
                          0.9043432709,
                          0.7055124306
                        ],
                        "iteration": 615,
                        "passed_time": 8.314484189,
                        "remaining_time": 126.6609085,
                        "test": [
                          0.886489941,
                          0.7298859291
                        ]
                      },
                      {
                        "learn": [
                          0.9043432709,
                          0.7050145884
                        ],
                        "iteration": 616,
                        "passed_time": 8.327771537,
                        "remaining_time": 126.6442145,
                        "test": [
                          0.8863397377,
                          0.7292613535
                        ]
                      },
                      {
                        "learn": [
                          0.9043816645,
                          0.704572537
                        ],
                        "iteration": 617,
                        "passed_time": 8.340058642,
                        "remaining_time": 126.6123466,
                        "test": [
                          0.886489941,
                          0.7290727193
                        ]
                      },
                      {
                        "learn": [
                          0.9050857538,
                          0.7041865762
                        ],
                        "iteration": 618,
                        "passed_time": 8.352391995,
                        "remaining_time": 126.5812428,
                        "test": [
                          0.8870408476,
                          0.728700805
                        ]
                      },
                      {
                        "learn": [
                          0.9050857538,
                          0.7036672875
                        ],
                        "iteration": 619,
                        "passed_time": 8.364817912,
                        "remaining_time": 126.5516,
                        "test": [
                          0.8870408476,
                          0.7281935023
                        ]
                      },
                      {
                        "learn": [
                          0.9050857538,
                          0.7032466075
                        ],
                        "iteration": 620,
                        "passed_time": 8.377282777,
                        "remaining_time": 126.5226009,
                        "test": [
                          0.8861940525,
                          0.7279950404
                        ]
                      },
                      {
                        "learn": [
                          0.9050857538,
                          0.7028339511
                        ],
                        "iteration": 621,
                        "passed_time": 8.389723941,
                        "remaining_time": 126.4932976,
                        "test": [
                          0.8861940525,
                          0.7276102912
                        ]
                      },
                      {
                        "learn": [
                          0.9051305566,
                          0.7024266939
                        ],
                        "iteration": 622,
                        "passed_time": 8.402144742,
                        "remaining_time": 126.463742,
                        "test": [
                          0.8861940525,
                          0.727339588
                        ]
                      },
                      {
                        "learn": [
                          0.9051689502,
                          0.7018948073
                        ],
                        "iteration": 623,
                        "passed_time": 8.414429358,
                        "remaining_time": 126.432195,
                        "test": [
                          0.8866174501,
                          0.72663331
                        ]
                      },
                      {
                        "learn": [
                          0.9049316916,
                          0.7015293931
                        ],
                        "iteration": 624,
                        "passed_time": 8.427008593,
                        "remaining_time": 126.4051289,
                        "test": [
                          0.886018775,
                          0.7261119258
                        ]
                      },
                      {
                        "learn": [
                          0.9063653834,
                          0.7009099212
                        ],
                        "iteration": 625,
                        "passed_time": 8.439476796,
                        "remaining_time": 126.3764465,
                        "test": [
                          0.8872457174,
                          0.7257851897
                        ]
                      },
                      {
                        "learn": [
                          0.9063723391,
                          0.7003432404
                        ],
                        "iteration": 626,
                        "passed_time": 8.451942257,
                        "remaining_time": 126.3477748,
                        "test": [
                          0.8878443924,
                          0.7253367802
                        ]
                      },
                      {
                        "learn": [
                          0.9065760766,
                          0.6998253765
                        ],
                        "iteration": 627,
                        "passed_time": 8.46437347,
                        "remaining_time": 126.3186436,
                        "test": [
                          0.8878443924,
                          0.7248170095
                        ]
                      },
                      {
                        "learn": [
                          0.9065760766,
                          0.6992318503
                        ],
                        "iteration": 628,
                        "passed_time": 8.477913098,
                        "remaining_time": 126.3060789,
                        "test": [
                          0.8878443924,
                          0.7240117939
                        ]
                      },
                      {
                        "learn": [
                          0.9066909239,
                          0.6986465726
                        ],
                        "iteration": 629,
                        "passed_time": 8.491430164,
                        "remaining_time": 126.2931756,
                        "test": [
                          0.8878443924,
                          0.7235795928
                        ]
                      },
                      {
                        "learn": [
                          0.9067423489,
                          0.6981942478
                        ],
                        "iteration": 630,
                        "passed_time": 8.503896453,
                        "remaining_time": 126.2646686,
                        "test": [
                          0.8874209948,
                          0.7232177262
                        ]
                      },
                      {
                        "learn": [
                          0.9066581182,
                          0.6976928812
                        ],
                        "iteration": 631,
                        "passed_time": 8.516346767,
                        "remaining_time": 126.2359755,
                        "test": [
                          0.8875962723,
                          0.722838331
                        ]
                      },
                      {
                        "learn": [
                          0.9066581182,
                          0.6970985301
                        ],
                        "iteration": 632,
                        "passed_time": 8.528839854,
                        "remaining_time": 126.2079667,
                        "test": [
                          0.8875962723,
                          0.7222321641
                        ]
                      },
                      {
                        "learn": [
                          0.9065882867,
                          0.6964943556
                        ],
                        "iteration": 633,
                        "passed_time": 8.541451606,
                        "remaining_time": 126.1817598,
                        "test": [
                          0.8875962723,
                          0.7217100464
                        ]
                      },
                      {
                        "learn": [
                          0.9066845146,
                          0.6961032956
                        ],
                        "iteration": 634,
                        "passed_time": 8.553801015,
                        "remaining_time": 126.1517268,
                        "test": [
                          0.8875962723,
                          0.7213779564
                        ]
                      },
                      {
                        "learn": [
                          0.9068575297,
                          0.695656295
                        ],
                        "iteration": 635,
                        "passed_time": 8.566190649,
                        "remaining_time": 126.1223416,
                        "test": [
                          0.8880196699,
                          0.7210053819
                        ]
                      },
                      {
                        "learn": [
                          0.9067613018,
                          0.6951793743
                        ],
                        "iteration": 636,
                        "passed_time": 8.578723039,
                        "remaining_time": 126.095108,
                        "test": [
                          0.8875962723,
                          0.7205934231
                        ]
                      },
                      {
                        "learn": [
                          0.9068191361,
                          0.6946414138
                        ],
                        "iteration": 637,
                        "passed_time": 8.592377826,
                        "remaining_time": 126.0843906,
                        "test": [
                          0.8880196699,
                          0.7200680785
                        ]
                      },
                      {
                        "learn": [
                          0.9067349055,
                          0.6940502871
                        ],
                        "iteration": 638,
                        "passed_time": 8.604649402,
                        "remaining_time": 126.0534007,
                        "test": [
                          0.8880196699,
                          0.7196869964
                        ]
                      },
                      {
                        "learn": [
                          0.9067349055,
                          0.6935555944
                        ],
                        "iteration": 639,
                        "passed_time": 8.617013991,
                        "remaining_time": 126.0238296,
                        "test": [
                          0.8877464756,
                          0.7188949823
                        ]
                      },
                      {
                        "learn": [
                          0.9066266803,
                          0.6930070606
                        ],
                        "iteration": 640,
                        "passed_time": 8.62942362,
                        "remaining_time": 125.9949698,
                        "test": [
                          0.8877464756,
                          0.7183897331
                        ]
                      },
                      {
                        "learn": [
                          0.906665074,
                          0.6925079436
                        ],
                        "iteration": 641,
                        "passed_time": 8.641898476,
                        "remaining_time": 125.967112,
                        "test": [
                          0.8878966788,
                          0.7179532783
                        ]
                      },
                      {
                        "learn": [
                          0.9068367213,
                          0.6921661505
                        ],
                        "iteration": 642,
                        "passed_time": 8.654567699,
                        "remaining_time": 125.9421306,
                        "test": [
                          0.8878966788,
                          0.7176549987
                        ]
                      },
                      {
                        "learn": [
                          0.9068367213,
                          0.6917867136
                        ],
                        "iteration": 643,
                        "passed_time": 8.666874991,
                        "remaining_time": 125.9119292,
                        "test": [
                          0.8878966788,
                          0.7171925076
                        ]
                      },
                      {
                        "learn": [
                          0.906716499,
                          0.6912779232
                        ],
                        "iteration": 644,
                        "passed_time": 8.679145928,
                        "remaining_time": 125.8812561,
                        "test": [
                          0.8882731408,
                          0.7165859006
                        ]
                      },
                      {
                        "learn": [
                          0.9061305313,
                          0.6908116508
                        ],
                        "iteration": 645,
                        "passed_time": 8.691355148,
                        "remaining_time": 125.8497462,
                        "test": [
                          0.8882731408,
                          0.7159799537
                        ]
                      },
                      {
                        "learn": [
                          0.9063469815,
                          0.6902682911
                        ],
                        "iteration": 646,
                        "passed_time": 8.703609921,
                        "remaining_time": 125.8189545,
                        "test": [
                          0.8882731408,
                          0.7155335244
                        ]
                      },
                      {
                        "learn": [
                          0.9062507536,
                          0.6897491525
                        ],
                        "iteration": 647,
                        "passed_time": 8.715860916,
                        "remaining_time": 125.7881656,
                        "test": [
                          0.8878497433,
                          0.7148877531
                        ]
                      },
                      {
                        "learn": [
                          0.9062507536,
                          0.6892294889
                        ],
                        "iteration": 648,
                        "passed_time": 8.72820136,
                        "remaining_time": 125.7587225,
                        "test": [
                          0.8878497433,
                          0.7144337697
                        ]
                      },
                      {
                        "learn": [
                          0.9060209384,
                          0.688838204
                        ],
                        "iteration": 649,
                        "passed_time": 8.740747233,
                        "remaining_time": 125.7322871,
                        "test": [
                          0.8884966006,
                          0.7141346833
                        ]
                      },
                      {
                        "learn": [
                          0.9062059507,
                          0.6883127664
                        ],
                        "iteration": 650,
                        "passed_time": 8.753077143,
                        "remaining_time": 125.702793,
                        "test": [
                          0.8884966006,
                          0.7136767394
                        ]
                      },
                      {
                        "learn": [
                          0.9061483294,
                          0.6878140243
                        ],
                        "iteration": 651,
                        "passed_time": 8.765570939,
                        "remaining_time": 125.6757011,
                        "test": [
                          0.8878497433,
                          0.7133731792
                        ]
                      },
                      {
                        "learn": [
                          0.906601004,
                          0.6872191483
                        ],
                        "iteration": 652,
                        "passed_time": 8.777911234,
                        "remaining_time": 125.6464568,
                        "test": [
                          0.88769954,
                          0.7129062144
                        ]
                      },
                      {
                        "learn": [
                          0.9065375818,
                          0.6865459852
                        ],
                        "iteration": 653,
                        "passed_time": 8.790283347,
                        "remaining_time": 125.6177189,
                        "test": [
                          0.88769954,
                          0.7122051436
                        ]
                      },
                      {
                        "learn": [
                          0.9066458069,
                          0.6860565416
                        ],
                        "iteration": 654,
                        "passed_time": 8.814903135,
                        "remaining_time": 125.7637707,
                        "test": [
                          0.88769954,
                          0.7117501334
                        ]
                      },
                      {
                        "learn": [
                          0.906754032,
                          0.6855321539
                        ],
                        "iteration": 655,
                        "passed_time": 8.838680455,
                        "remaining_time": 125.8973021,
                        "test": [
                          0.88769954,
                          0.7112730474
                        ]
                      },
                      {
                        "learn": [
                          0.9067924256,
                          0.6849976428
                        ],
                        "iteration": 656,
                        "passed_time": 8.851237414,
                        "remaining_time": 125.8707932,
                        "test": [
                          0.8878497433,
                          0.710910374
                        ]
                      },
                      {
                        "learn": [
                          0.9068372285,
                          0.6844736299
                        ],
                        "iteration": 657,
                        "passed_time": 8.863561636,
                        "remaining_time": 125.8410225,
                        "test": [
                          0.8878497433,
                          0.710372928
                        ]
                      },
                      {
                        "learn": [
                          0.9081440757,
                          0.6838629315
                        ],
                        "iteration": 658,
                        "passed_time": 8.876015756,
                        "remaining_time": 125.8131459,
                        "test": [
                          0.8892519631,
                          0.7096334997
                        ]
                      },
                      {
                        "learn": [
                          0.907997457,
                          0.6833456675
                        ],
                        "iteration": 659,
                        "passed_time": 8.888387173,
                        "remaining_time": 125.7841457,
                        "test": [
                          0.8892519631,
                          0.7090878394
                        ]
                      },
                      {
                        "learn": [
                          0.9079590634,
                          0.682922213
                        ],
                        "iteration": 660,
                        "passed_time": 8.900836553,
                        "remaining_time": 125.7562974,
                        "test": [
                          0.8892519631,
                          0.7086761006
                        ]
                      },
                      {
                        "learn": [
                          0.907997457,
                          0.6824749873
                        ],
                        "iteration": 661,
                        "passed_time": 8.913556396,
                        "remaining_time": 125.7323106,
                        "test": [
                          0.8892519631,
                          0.7082988323
                        ]
                      },
                      {
                        "learn": [
                          0.9081056821,
                          0.6819764703
                        ],
                        "iteration": 662,
                        "passed_time": 8.926283939,
                        "remaining_time": 125.7084663,
                        "test": [
                          0.8892519631,
                          0.7078059045
                        ]
                      },
                      {
                        "learn": [
                          0.9079908349,
                          0.6814016159
                        ],
                        "iteration": 663,
                        "passed_time": 8.940238674,
                        "remaining_time": 125.70191,
                        "test": [
                          0.8892519631,
                          0.7070674297
                        ]
                      },
                      {
                        "learn": [
                          0.9078826098,
                          0.6808523322
                        ],
                        "iteration": 664,
                        "passed_time": 8.952838494,
                        "remaining_time": 125.6763118,
                        "test": [
                          0.8892519631,
                          0.7065945241
                        ]
                      },
                      {
                        "learn": [
                          0.9080356377,
                          0.680444925
                        ],
                        "iteration": 665,
                        "passed_time": 8.965295576,
                        "remaining_time": 125.6487521,
                        "test": [
                          0.8892988986,
                          0.7060088195
                        ]
                      },
                      {
                        "learn": [
                          0.9081438628,
                          0.6801294525
                        ],
                        "iteration": 666,
                        "passed_time": 8.97888989,
                        "remaining_time": 125.6371504,
                        "test": [
                          0.8892988986,
                          0.7058070572
                        ]
                      },
                      {
                        "learn": [
                          0.9094495552,
                          0.6794652879
                        ],
                        "iteration": 667,
                        "passed_time": 8.992521984,
                        "remaining_time": 125.6260706,
                        "test": [
                          0.8907011184,
                          0.705104813
                        ]
                      },
                      {
                        "learn": [
                          0.9094495552,
                          0.6787768274
                        ],
                        "iteration": 668,
                        "passed_time": 9.004994015,
                        "remaining_time": 125.5988029,
                        "test": [
                          0.8908763959,
                          0.7045089872
                        ]
                      },
                      {
                        "learn": [
                          0.9095457831,
                          0.6782583637
                        ],
                        "iteration": 669,
                        "passed_time": 9.017333433,
                        "remaining_time": 125.5697327,
                        "test": [
                          0.8908763959,
                          0.7041511543
                        ]
                      },
                      {
                        "learn": [
                          0.9095457831,
                          0.6778121129
                        ],
                        "iteration": 670,
                        "passed_time": 9.029702293,
                        "remaining_time": 125.5411217,
                        "test": [
                          0.8908763959,
                          0.7037459429
                        ]
                      },
                      {
                        "learn": [
                          0.9101794324,
                          0.6773098464
                        ],
                        "iteration": 671,
                        "passed_time": 9.042151984,
                        "remaining_time": 125.5136811,
                        "test": [
                          0.8914022283,
                          0.7033614138
                        ]
                      },
                      {
                        "learn": [
                          0.9102178261,
                          0.6767514893
                        ],
                        "iteration": 672,
                        "passed_time": 9.057361791,
                        "remaining_time": 125.524537,
                        "test": [
                          0.8914022283,
                          0.7028290284
                        ]
                      },
                      {
                        "learn": [
                          0.9102178261,
                          0.6763960484
                        ],
                        "iteration": 673,
                        "passed_time": 9.069721916,
                        "remaining_time": 125.4958851,
                        "test": [
                          0.8914022283,
                          0.7026769916
                        ]
                      },
                      {
                        "learn": [
                          0.9101858417,
                          0.675839566
                        ],
                        "iteration": 674,
                        "passed_time": 9.082081211,
                        "remaining_time": 125.4672701,
                        "test": [
                          0.8912269509,
                          0.702243177
                        ]
                      },
                      {
                        "learn": [
                          0.9102690382,
                          0.6753246266
                        ],
                        "iteration": 675,
                        "passed_time": 9.094487248,
                        "remaining_time": 125.4393478,
                        "test": [
                          0.8912269509,
                          0.7018441263
                        ]
                      },
                      {
                        "learn": [
                          0.9106779441,
                          0.6747929651
                        ],
                        "iteration": 676,
                        "passed_time": 9.106989496,
                        "remaining_time": 125.4127963,
                        "test": [
                          0.8912269509,
                          0.7015110095
                        ]
                      },
                      {
                        "learn": [
                          0.910569719,
                          0.6742630282
                        ],
                        "iteration": 677,
                        "passed_time": 9.119464346,
                        "remaining_time": 125.3859095,
                        "test": [
                          0.8912269509,
                          0.7010701542
                        ]
                      },
                      {
                        "learn": [
                          0.910569719,
                          0.6738338746
                        ],
                        "iteration": 678,
                        "passed_time": 9.134031133,
                        "remaining_time": 125.3877823,
                        "test": [
                          0.8912269509,
                          0.7006754306
                        ]
                      },
                      {
                        "learn": [
                          0.9106145219,
                          0.6733484803
                        ],
                        "iteration": 679,
                        "passed_time": 9.14652183,
                        "remaining_time": 125.3611521,
                        "test": [
                          0.8908504888,
                          0.7004845962
                        ]
                      },
                      {
                        "learn": [
                          0.9106268378,
                          0.672791248
                        ],
                        "iteration": 680,
                        "passed_time": 9.159039997,
                        "remaining_time": 125.3349394,
                        "test": [
                          0.8912738864,
                          0.700021005
                        ]
                      },
                      {
                        "learn": [
                          0.9118045308,
                          0.6723228759
                        ],
                        "iteration": 681,
                        "passed_time": 9.171575094,
                        "remaining_time": 125.3089981,
                        "test": [
                          0.8928764579,
                          0.699559174
                        ]
                      },
                      {
                        "learn": [
                          0.9118429245,
                          0.67193774
                        ],
                        "iteration": 682,
                        "passed_time": 9.194660552,
                        "remaining_time": 125.4270166,
                        "test": [
                          0.8924530604,
                          0.6992769562
                        ]
                      },
                      {
                        "learn": [
                          0.9118877273,
                          0.671456695
                        ],
                        "iteration": 683,
                        "passed_time": 9.207101552,
                        "remaining_time": 125.3996463,
                        "test": [
                          0.8924530604,
                          0.6987574055
                        ]
                      },
                      {
                        "learn": [
                          0.9116328835,
                          0.6709602775
                        ],
                        "iteration": 684,
                        "passed_time": 9.248297053,
                        "remaining_time": 125.7633388,
                        "test": [
                          0.891806203,
                          0.6983601149
                        ]
                      },
                      {
                        "learn": [
                          0.9118307143,
                          0.6704548616
                        ],
                        "iteration": 685,
                        "passed_time": 9.273854649,
                        "remaining_time": 125.9135309,
                        "test": [
                          0.891806203,
                          0.698076577
                        ]
                      },
                      {
                        "learn": [
                          0.9120791489,
                          0.6699032533
                        ],
                        "iteration": 686,
                        "passed_time": 9.301221835,
                        "remaining_time": 126.0877423,
                        "test": [
                          0.891806203,
                          0.6976828068
                        ]
                      },
                      {
                        "learn": [
                          0.9120791489,
                          0.6692732081
                        ],
                        "iteration": 687,
                        "passed_time": 9.331296761,
                        "remaining_time": 126.2980166,
                        "test": [
                          0.891806203,
                          0.6971204247
                        ]
                      },
                      {
                        "learn": [
                          0.9118626987,
                          0.6688558276
                        ],
                        "iteration": 688,
                        "passed_time": 9.359788234,
                        "remaining_time": 126.4861948,
                        "test": [
                          0.891806203,
                          0.6967232075
                        ]
                      },
                      {
                        "learn": [
                          0.9119709238,
                          0.6684100267
                        ],
                        "iteration": 689,
                        "passed_time": 9.383469513,
                        "remaining_time": 126.6088423,
                        "test": [
                          0.8919814805,
                          0.6964250013
                        ]
                      },
                      {
                        "learn": [
                          0.9120930604,
                          0.6678257989
                        ],
                        "iteration": 690,
                        "passed_time": 9.419745413,
                        "remaining_time": 126.9007381,
                        "test": [
                          0.8921316837,
                          0.6959689643
                        ]
                      },
                      {
                        "learn": [
                          0.91232813,
                          0.6673768485
                        ],
                        "iteration": 691,
                        "passed_time": 9.446847228,
                        "remaining_time": 127.0682861,
                        "test": [
                          0.8919564062,
                          0.6957013414
                        ]
                      },
                      {
                        "learn": [
                          0.91232813,
                          0.6668914543
                        ],
                        "iteration": 692,
                        "passed_time": 9.481256748,
                        "remaining_time": 127.3334149,
                        "test": [
                          0.8919564062,
                          0.6952315162
                        ]
                      },
                      {
                        "learn": [
                          0.9123217207,
                          0.6664711492
                        ],
                        "iteration": 693,
                        "passed_time": 9.522563341,
                        "remaining_time": 127.6901649,
                        "test": [
                          0.8919564062,
                          0.6947654314
                        ]
                      },
                      {
                        "learn": [
                          0.9122702957,
                          0.6659769064
                        ],
                        "iteration": 694,
                        "passed_time": 9.552014274,
                        "remaining_time": 127.88704,
                        "test": [
                          0.8921316837,
                          0.694336164
                        ]
                      },
                      {
                        "learn": [
                          0.9122702957,
                          0.6653577344
                        ],
                        "iteration": 695,
                        "passed_time": 9.578049424,
                        "remaining_time": 128.0376032,
                        "test": [
                          0.8921316837,
                          0.6938894413
                        ]
                      },
                      {
                        "learn": [
                          0.9122702957,
                          0.6650060429
                        ],
                        "iteration": 696,
                        "passed_time": 9.616132576,
                        "remaining_time": 128.3484668,
                        "test": [
                          0.8921316837,
                          0.6935075525
                        ]
                      },
                      {
                        "learn": [
                          0.9123086893,
                          0.6645740397
                        ],
                        "iteration": 697,
                        "passed_time": 9.662071471,
                        "remaining_time": 128.7630212,
                        "test": [
                          0.8921316837,
                          0.6930014233
                        ]
                      },
                      {
                        "learn": [
                          0.9128860565,
                          0.6640342795
                        ],
                        "iteration": 698,
                        "passed_time": 9.708399732,
                        "remaining_time": 129.1814391,
                        "test": [
                          0.8925081457,
                          0.6925017481
                        ]
                      },
                      {
                        "learn": [
                          0.9128860565,
                          0.6637074839
                        ],
                        "iteration": 699,
                        "passed_time": 9.753989576,
                        "remaining_time": 129.5887186,
                        "test": [
                          0.8925081457,
                          0.6921973078
                        ]
                      },
                      {
                        "learn": [
                          0.9126696063,
                          0.6632022179
                        ],
                        "iteration": 700,
                        "passed_time": 9.801658697,
                        "remaining_time": 130.0222885,
                        "test": [
                          0.8925081457,
                          0.6918703517
                        ]
                      },
                      {
                        "learn": [
                          0.9126696063,
                          0.6627582167
                        ],
                        "iteration": 701,
                        "passed_time": 9.846964025,
                        "remaining_time": 130.4231788,
                        "test": [
                          0.8925081457,
                          0.6912713722
                        ]
                      },
                      {
                        "learn": [
                          0.9126696063,
                          0.6623349871
                        ],
                        "iteration": 702,
                        "passed_time": 9.889643761,
                        "remaining_time": 130.7880769,
                        "test": [
                          0.8925081457,
                          0.6907139774
                        ]
                      },
                      {
                        "learn": [
                          0.9129492659,
                          0.6619539005
                        ],
                        "iteration": 703,
                        "passed_time": 9.935303983,
                        "remaining_time": 131.1911731,
                        "test": [
                          0.8925081457,
                          0.6901867992
                        ]
                      },
                      {
                        "learn": [
                          0.9128858436,
                          0.6614535087
                        ],
                        "iteration": 704,
                        "passed_time": 9.980798135,
                        "remaining_time": 131.5908066,
                        "test": [
                          0.8925081457,
                          0.6895664773
                        ]
                      },
                      {
                        "learn": [
                          0.9128026471,
                          0.6611506341
                        ],
                        "iteration": 705,
                        "passed_time": 10.00807629,
                        "remaining_time": 131.7493782,
                        "test": [
                          0.8925081457,
                          0.6893017881
                        ]
                      },
                      {
                        "learn": [
                          0.9129556751,
                          0.660664565
                        ],
                        "iteration": 706,
                        "passed_time": 10.02058684,
                        "remaining_time": 131.7133147,
                        "test": [
                          0.8929315433,
                          0.6888759678
                        ]
                      },
                      {
                        "learn": [
                          0.9129556751,
                          0.6600947347
                        ],
                        "iteration": 707,
                        "passed_time": 10.03299327,
                        "remaining_time": 131.6759512,
                        "test": [
                          0.8929315433,
                          0.6883021444
                        ]
                      },
                      {
                        "learn": [
                          0.913000478,
                          0.6596189389
                        ],
                        "iteration": 708,
                        "passed_time": 10.04866227,
                        "remaining_time": 131.6814121,
                        "test": [
                          0.8929315433,
                          0.6877762863
                        ]
                      },
                      {
                        "learn": [
                          0.913000478,
                          0.6590627564
                        ],
                        "iteration": 709,
                        "passed_time": 10.06098805,
                        "remaining_time": 131.643069,
                        "test": [
                          0.8929315433,
                          0.6872606961
                        ]
                      },
                      {
                        "learn": [
                          0.9129620844,
                          0.6585439927
                        ],
                        "iteration": 710,
                        "passed_time": 10.07339298,
                        "remaining_time": 131.6058332,
                        "test": [
                          0.8925081457,
                          0.6867931445
                        ]
                      },
                      {
                        "learn": [
                          0.9130068872,
                          0.6580361771
                        ],
                        "iteration": 711,
                        "passed_time": 10.0856005,
                        "remaining_time": 131.5660919,
                        "test": [
                          0.8925081457,
                          0.6864463862
                        ]
                      },
                      {
                        "learn": [
                          0.913000478,
                          0.6575885766
                        ],
                        "iteration": 712,
                        "passed_time": 10.09795864,
                        "remaining_time": 131.5283898,
                        "test": [
                          0.8925081457,
                          0.6858690424
                        ]
                      },
                      {
                        "learn": [
                          0.9130772652,
                          0.6573164468
                        ],
                        "iteration": 713,
                        "passed_time": 10.11199161,
                        "remaining_time": 131.5125407,
                        "test": [
                          0.8929315433,
                          0.6854950011
                        ]
                      },
                      {
                        "learn": [
                          0.9130772652,
                          0.6570399678
                        ],
                        "iteration": 714,
                        "passed_time": 10.13163956,
                        "remaining_time": 131.5696131,
                        "test": [
                          0.8929315433,
                          0.6852620687
                        ]
                      },
                      {
                        "learn": [
                          0.9135101657,
                          0.6567258451
                        ],
                        "iteration": 715,
                        "passed_time": 10.16554545,
                        "remaining_time": 131.8113464,
                        "test": [
                          0.8933549409,
                          0.6850806954
                        ]
                      },
                      {
                        "learn": [
                          0.9137146186,
                          0.6563506075
                        ],
                        "iteration": 716,
                        "passed_time": 10.20632302,
                        "remaining_time": 132.1412783,
                        "test": [
                          0.8933549409,
                          0.6847789687
                        ]
                      },
                      {
                        "learn": [
                          0.9137146186,
                          0.6559723704
                        ],
                        "iteration": 717,
                        "passed_time": 10.24497226,
                        "remaining_time": 132.4426636,
                        "test": [
                          0.8933549409,
                          0.6845985488
                        ]
                      },
                      {
                        "learn": [
                          0.9137146186,
                          0.6558703874
                        ],
                        "iteration": 718,
                        "passed_time": 10.30355199,
                        "remaining_time": 133.00037,
                        "test": [
                          0.8933549409,
                          0.6846268586
                        ]
                      },
                      {
                        "learn": [
                          0.9137146186,
                          0.6553573227
                        ],
                        "iteration": 719,
                        "passed_time": 10.36275723,
                        "remaining_time": 133.5644266,
                        "test": [
                          0.8933549409,
                          0.6841677412
                        ]
                      },
                      {
                        "learn": [
                          0.9138108465,
                          0.6549542647
                        ],
                        "iteration": 720,
                        "passed_time": 10.40347761,
                        "remaining_time": 133.888861,
                        "test": [
                          0.8933549409,
                          0.6837292328
                        ]
                      },
                      {
                        "learn": [
                          0.9138492401,
                          0.6546345179
                        ],
                        "iteration": 721,
                        "passed_time": 10.44287233,
                        "remaining_time": 134.1952485,
                        "test": [
                          0.8933549409,
                          0.6834261127
                        ]
                      },
                      {
                        "learn": [
                          0.913894043,
                          0.6542887504
                        ],
                        "iteration": 722,
                        "passed_time": 10.46329537,
                        "remaining_time": 134.2572491,
                        "test": [
                          0.8933549409,
                          0.6832218568
                        ]
                      },
                      {
                        "learn": [
                          0.9137735019,
                          0.6538616215
                        ],
                        "iteration": 723,
                        "passed_time": 10.4979536,
                        "remaining_time": 134.5014055,
                        "test": [
                          0.8937054958,
                          0.6826286713
                        ]
                      },
                      {
                        "learn": [
                          0.9139593355,
                          0.6533705281
                        ],
                        "iteration": 724,
                        "passed_time": 10.54204621,
                        "remaining_time": 134.8654877,
                        "test": [
                          0.8937054958,
                          0.6822148056
                        ]
                      },
                      {
                        "learn": [
                          0.9140105476,
                          0.6529523227
                        ],
                        "iteration": 725,
                        "passed_time": 10.57279757,
                        "remaining_time": 135.058023,
                        "test": [
                          0.8937054958,
                          0.6817366928
                        ]
                      },
                      {
                        "learn": [
                          0.9137927297,
                          0.6524982732
                        ],
                        "iteration": 726,
                        "passed_time": 10.59264413,
                        "remaining_time": 135.1108514,
                        "test": [
                          0.8935302183,
                          0.6812483122
                        ]
                      },
                      {
                        "learn": [
                          0.9136965018,
                          0.6520502227
                        ],
                        "iteration": 727,
                        "passed_time": 10.61930528,
                        "remaining_time": 135.2502727,
                        "test": [
                          0.8935302183,
                          0.6809355844
                        ]
                      },
                      {
                        "learn": [
                          0.9135759608,
                          0.6514163532
                        ],
                        "iteration": 728,
                        "passed_time": 10.65325767,
                        "remaining_time": 135.4819641,
                        "test": [
                          0.8935302183,
                          0.680328244
                        ]
                      },
                      {
                        "learn": [
                          0.9136207636,
                          0.6508891909
                        ],
                        "iteration": 729,
                        "passed_time": 10.6938102,
                        "remaining_time": 135.7967405,
                        "test": [
                          0.8935302183,
                          0.6797165764
                        ]
                      },
                      {
                        "learn": [
                          0.9136207636,
                          0.6505318003
                        ],
                        "iteration": 730,
                        "passed_time": 10.7346563,
                        "remaining_time": 136.1142671,
                        "test": [
                          0.8935302183,
                          0.6794809304
                        ]
                      },
                      {
                        "learn": [
                          0.9135759608,
                          0.6500390573
                        ],
                        "iteration": 731,
                        "passed_time": 10.76607335,
                        "remaining_time": 136.3114314,
                        "test": [
                          0.8931068208,
                          0.6789437044
                        ]
                      },
                      {
                        "learn": [
                          0.9137105822,
                          0.6495679106
                        ],
                        "iteration": 732,
                        "passed_time": 10.80330682,
                        "remaining_time": 136.5815066,
                        "test": [
                          0.8931068208,
                          0.6785916656
                        ]
                      },
                      {
                        "learn": [
                          0.9137105822,
                          0.649385091
                        ],
                        "iteration": 733,
                        "passed_time": 10.84308015,
                        "remaining_time": 136.8828075,
                        "test": [
                          0.8931068208,
                          0.678411759
                        ]
                      },
                      {
                        "learn": [
                          0.9137105822,
                          0.648862353
                        ],
                        "iteration": 734,
                        "passed_time": 10.88618518,
                        "remaining_time": 137.2251778,
                        "test": [
                          0.8931068208,
                          0.67793724
                        ]
                      },
                      {
                        "learn": [
                          0.9138759262,
                          0.6484812664
                        ],
                        "iteration": 735,
                        "passed_time": 10.92654653,
                        "remaining_time": 137.5319661,
                        "test": [
                          0.8931068208,
                          0.6774739422
                        ]
                      },
                      {
                        "learn": [
                          0.9138759262,
                          0.6480122944
                        ],
                        "iteration": 736,
                        "passed_time": 10.96709593,
                        "remaining_time": 137.8401758,
                        "test": [
                          0.8931068208,
                          0.6771964915
                        ]
                      },
                      {
                        "learn": [
                          0.9138759262,
                          0.6474123941
                        ],
                        "iteration": 737,
                        "passed_time": 11.01047986,
                        "remaining_time": 138.1830142,
                        "test": [
                          0.8931068208,
                          0.6768503933
                        ]
                      },
                      {
                        "learn": [
                          0.9138114549,
                          0.6469773165
                        ],
                        "iteration": 738,
                        "passed_time": 11.05560501,
                        "remaining_time": 138.5466278,
                        "test": [
                          0.8931068208,
                          0.676264762
                        ]
                      },
                      {
                        "learn": [
                          0.9138114549,
                          0.6465266415
                        ],
                        "iteration": 739,
                        "passed_time": 11.09936308,
                        "remaining_time": 138.8920299,
                        "test": [
                          0.8931068208,
                          0.6759022353
                        ]
                      },
                      {
                        "learn": [
                          0.9138234521,
                          0.6461531286
                        ],
                        "iteration": 740,
                        "passed_time": 11.13986063,
                        "remaining_time": 139.1956404,
                        "test": [
                          0.8931068208,
                          0.6756282317
                        ]
                      },
                      {
                        "learn": [
                          0.9139316772,
                          0.6457592191
                        ],
                        "iteration": 741,
                        "passed_time": 11.18008845,
                        "remaining_time": 139.494958,
                        "test": [
                          0.8931068208,
                          0.6751863496
                        ]
                      },
                      {
                        "learn": [
                          0.9138234521,
                          0.6454040032
                        ],
                        "iteration": 742,
                        "passed_time": 11.22105801,
                        "remaining_time": 139.8026029,
                        "test": [
                          0.8931068208,
                          0.6747560554
                        ]
                      },
                      {
                        "learn": [
                          0.9138234521,
                          0.6451011286
                        ],
                        "iteration": 743,
                        "passed_time": 11.26181654,
                        "remaining_time": 140.1066853,
                        "test": [
                          0.8931068208,
                          0.6745326574
                        ]
                      },
                      {
                        "learn": [
                          0.9137536206,
                          0.6447057943
                        ],
                        "iteration": 744,
                        "passed_time": 11.30178775,
                        "remaining_time": 140.4000612,
                        "test": [
                          0.8931068208,
                          0.6740089996
                        ]
                      },
                      {
                        "learn": [
                          0.9139715005,
                          0.6442721414
                        ],
                        "iteration": 745,
                        "passed_time": 11.35849355,
                        "remaining_time": 140.9001332,
                        "test": [
                          0.8932820982,
                          0.6738732446
                        ]
                      },
                      {
                        "learn": [
                          0.9143225722,
                          0.6437573521
                        ],
                        "iteration": 746,
                        "passed_time": 11.41415631,
                        "remaining_time": 141.3857943,
                        "test": [
                          0.8929056362,
                          0.6732648774
                        ]
                      },
                      {
                        "learn": [
                          0.9143031315,
                          0.6433350973
                        ],
                        "iteration": 747,
                        "passed_time": 11.45604092,
                        "remaining_time": 141.6995864,
                        "test": [
                          0.8930558395,
                          0.672783831
                        ]
                      },
                      {
                        "learn": [
                          0.9143031315,
                          0.6429156171
                        ],
                        "iteration": 748,
                        "passed_time": 11.49685796,
                        "remaining_time": 141.999243,
                        "test": [
                          0.8934323015,
                          0.6722073673
                        ]
                      },
                      {
                        "learn": [
                          0.9142583287,
                          0.6425285314
                        ],
                        "iteration": 749,
                        "passed_time": 11.53769069,
                        "remaining_time": 142.2981851,
                        "test": [
                          0.8934323015,
                          0.6716450586
                        ]
                      },
                      {
                        "learn": [
                          0.9147000403,
                          0.6421227739
                        ],
                        "iteration": 750,
                        "passed_time": 11.57875031,
                        "remaining_time": 142.5990168,
                        "test": [
                          0.893984041,
                          0.6711580715
                        ]
                      },
                      {
                        "learn": [
                          0.9147514653,
                          0.6415918622
                        ],
                        "iteration": 751,
                        "passed_time": 11.6197338,
                        "remaining_time": 142.8980029,
                        "test": [
                          0.893984041,
                          0.6707975983
                        ]
                      },
                      {
                        "learn": [
                          0.9150729545,
                          0.6411764313
                        ],
                        "iteration": 752,
                        "passed_time": 11.66015755,
                        "remaining_time": 143.1892123,
                        "test": [
                          0.894360503,
                          0.6706970472
                        ]
                      },
                      {
                        "learn": [
                          0.9151691823,
                          0.6408516603
                        ],
                        "iteration": 753,
                        "passed_time": 11.70130093,
                        "remaining_time": 143.4883666,
                        "test": [
                          0.894360503,
                          0.6704717424
                        ]
                      },
                      {
                        "learn": [
                          0.915276692,
                          0.6403526933
                        ],
                        "iteration": 754,
                        "passed_time": 11.74304735,
                        "remaining_time": 143.7940036,
                        "test": [
                          0.894360503,
                          0.6701472799
                        ]
                      },
                      {
                        "learn": [
                          0.9153660849,
                          0.639855526
                        ],
                        "iteration": 755,
                        "passed_time": 11.78671114,
                        "remaining_time": 144.1221663,
                        "test": [
                          0.895184604,
                          0.6697040776
                        ]
                      },
                      {
                        "learn": [
                          0.915321282,
                          0.6393965274
                        ],
                        "iteration": 756,
                        "passed_time": 11.82876085,
                        "remaining_time": 144.4296387,
                        "test": [
                          0.895184604,
                          0.6693070804
                        ]
                      },
                      {
                        "learn": [
                          0.915321282,
                          0.6389408282
                        ],
                        "iteration": 757,
                        "passed_time": 11.87025438,
                        "remaining_time": 144.7294076,
                        "test": [
                          0.894808142,
                          0.6687234293
                        ]
                      },
                      {
                        "learn": [
                          0.9152818542,
                          0.6385943108
                        ],
                        "iteration": 758,
                        "passed_time": 11.91306393,
                        "remaining_time": 145.0443001,
                        "test": [
                          0.8943847444,
                          0.6683810715
                        ]
                      },
                      {
                        "learn": [
                          0.9152818542,
                          0.6381347872
                        ],
                        "iteration": 759,
                        "passed_time": 11.93830993,
                        "remaining_time": 145.1447155,
                        "test": [
                          0.8943847444,
                          0.6679980826
                        ]
                      },
                      {
                        "learn": [
                          0.9153586415,
                          0.6377027841
                        ],
                        "iteration": 760,
                        "passed_time": 11.95763082,
                        "remaining_time": 145.1728662,
                        "test": [
                          0.8945600219,
                          0.6675850236
                        ]
                      },
                      {
                        "learn": [
                          0.9153202478,
                          0.6373898611
                        ],
                        "iteration": 761,
                        "passed_time": 11.97798598,
                        "remaining_time": 145.2134311,
                        "test": [
                          0.8945600219,
                          0.6672706822
                        ]
                      },
                      {
                        "learn": [
                          0.9152560043,
                          0.6369241886
                        ],
                        "iteration": 762,
                        "passed_time": 12.00374365,
                        "remaining_time": 145.3192399,
                        "test": [
                          0.8945600219,
                          0.6664555656
                        ]
                      },
                      {
                        "learn": [
                          0.9154090323,
                          0.6365613989
                        ],
                        "iteration": 763,
                        "passed_time": 12.03638108,
                        "remaining_time": 145.5078739,
                        "test": [
                          0.8949834195,
                          0.6659967416
                        ]
                      },
                      {
                        "learn": [
                          0.9153642294,
                          0.6361311955
                        ],
                        "iteration": 764,
                        "passed_time": 12.05348015,
                        "remaining_time": 145.5083519,
                        "test": [
                          0.8951336227,
                          0.6654608357
                        ]
                      },
                      {
                        "learn": [
                          0.9152489867,
                          0.6358527668
                        ],
                        "iteration": 765,
                        "passed_time": 12.07250146,
                        "remaining_time": 145.5319563,
                        "test": [
                          0.8953348072,
                          0.6651594758
                        ]
                      },
                      {
                        "learn": [
                          0.9154410167,
                          0.6354653062
                        ],
                        "iteration": 766,
                        "passed_time": 12.10730836,
                        "remaining_time": 145.7454733,
                        "test": [
                          0.8955100847,
                          0.6646964714
                        ]
                      },
                      {
                        "learn": [
                          0.9155242131,
                          0.6350995171
                        ],
                        "iteration": 767,
                        "passed_time": 12.12945629,
                        "remaining_time": 145.8061724,
                        "test": [
                          0.8955100847,
                          0.6641792676
                        ]
                      },
                      {
                        "learn": [
                          0.9154026231,
                          0.6345917765
                        ],
                        "iteration": 768,
                        "passed_time": 12.15328177,
                        "remaining_time": 145.8867932,
                        "test": [
                          0.8953348072,
                          0.6634940386
                        ]
                      },
                      {
                        "learn": [
                          0.9152239581,
                          0.6341468005
                        ],
                        "iteration": 769,
                        "passed_time": 12.17547525,
                        "remaining_time": 145.94758,
                        "test": [
                          0.8951595298,
                          0.6631409729
                        ]
                      },
                      {
                        "learn": [
                          0.9152239581,
                          0.6337696883
                        ],
                        "iteration": 770,
                        "passed_time": 12.19226402,
                        "remaining_time": 145.9434561,
                        "test": [
                          0.8951595298,
                          0.6627579106
                        ]
                      },
                      {
                        "learn": [
                          0.915415988,
                          0.633446567
                        ],
                        "iteration": 771,
                        "passed_time": 12.22090543,
                        "remaining_time": 146.0809783,
                        "test": [
                          0.8957112693,
                          0.6624791399
                        ]
                      },
                      {
                        "learn": [
                          0.915569016,
                          0.6332108812
                        ],
                        "iteration": 772,
                        "passed_time": 12.26741835,
                        "remaining_time": 146.431396,
                        "test": [
                          0.8957112693,
                          0.6623585666
                        ]
                      },
                      {
                        "learn": [
                          0.915569016,
                          0.6328646638
                        ],
                        "iteration": 773,
                        "passed_time": 12.31485721,
                        "remaining_time": 146.7918251,
                        "test": [
                          0.8953348072,
                          0.6622042562
                        ]
                      },
                      {
                        "learn": [
                          0.915543379,
                          0.6324972249
                        ],
                        "iteration": 774,
                        "passed_time": 12.36406832,
                        "remaining_time": 147.1722971,
                        "test": [
                          0.8951595298,
                          0.6620115149
                        ]
                      },
                      {
                        "learn": [
                          0.9155945911,
                          0.632063872
                        ],
                        "iteration": 775,
                        "passed_time": 12.42258802,
                        "remaining_time": 147.6623091,
                        "test": [
                          0.8947830677,
                          0.6613776249
                        ]
                      },
                      {
                        "learn": [
                          0.9157866211,
                          0.6317612223
                        ],
                        "iteration": 776,
                        "passed_time": 12.47704663,
                        "remaining_time": 148.1027041,
                        "test": [
                          0.8954850105,
                          0.6610414278
                        ]
                      },
                      {
                        "learn": [
                          0.9157482275,
                          0.6314160547
                        ],
                        "iteration": 777,
                        "passed_time": 12.51109815,
                        "remaining_time": 148.2999321,
                        "test": [
                          0.8954850105,
                          0.6608016013
                        ]
                      },
                      {
                        "learn": [
                          0.9158116497,
                          0.6310050481
                        ],
                        "iteration": 778,
                        "passed_time": 12.54455617,
                        "remaining_time": 148.489541,
                        "test": [
                          0.8954850105,
                          0.6605962453
                        ]
                      },
                      {
                        "learn": [
                          0.9158762887,
                          0.6304211202
                        ],
                        "iteration": 779,
                        "passed_time": 12.56984904,
                        "remaining_time": 148.5820617,
                        "test": [
                          0.8950335679,
                          0.6601254667
                        ]
                      },
                      {
                        "learn": [
                          0.9157109448,
                          0.6300089888
                        ],
                        "iteration": 780,
                        "passed_time": 12.59469452,
                        "remaining_time": 148.6689997,
                        "test": [
                          0.8950335679,
                          0.6597349235
                        ]
                      },
                      {
                        "learn": [
                          0.9156725512,
                          0.6294985487
                        ],
                        "iteration": 781,
                        "passed_time": 12.62108018,
                        "remaining_time": 148.773807,
                        "test": [
                          0.8950335679,
                          0.6593102033
                        ]
                      },
                      {
                        "learn": [
                          0.9157807763,
                          0.6290280769
                        ],
                        "iteration": 782,
                        "passed_time": 12.64616081,
                        "remaining_time": 148.8629173,
                        "test": [
                          0.8950335679,
                          0.6589628583
                        ]
                      },
                      {
                        "learn": [
                          0.915973232,
                          0.6287459363
                        ],
                        "iteration": 783,
                        "passed_time": 12.75223137,
                        "remaining_time": 149.903781,
                        "test": [
                          0.8950335679,
                          0.6586168334
                        ]
                      },
                      {
                        "learn": [
                          0.915973232,
                          0.6283425034
                        ],
                        "iteration": 784,
                        "passed_time": 12.81689873,
                        "remaining_time": 150.4556966,
                        "test": [
                          0.8950335679,
                          0.6580014255
                        ]
                      },
                      {
                        "learn": [
                          0.9158846754,
                          0.6279082132
                        ],
                        "iteration": 785,
                        "passed_time": 12.87038584,
                        "remaining_time": 150.8749811,
                        "test": [
                          0.8945850961,
                          0.6576963985
                        ]
                      },
                      {
                        "learn": [
                          0.9157950077,
                          0.6274812342
                        ],
                        "iteration": 786,
                        "passed_time": 12.91715124,
                        "remaining_time": 151.2143766,
                        "test": [
                          0.8948353541,
                          0.6572982278
                        ]
                      },
                      {
                        "learn": [
                          0.9157950077,
                          0.6270441694
                        ],
                        "iteration": 787,
                        "passed_time": 12.97980055,
                        "remaining_time": 151.7384805,
                        "test": [
                          0.8946851509,
                          0.6572552497
                        ]
                      },
                      {
                        "learn": [
                          0.9156413713,
                          0.6265572379
                        ],
                        "iteration": 788,
                        "passed_time": 13.05553556,
                        "remaining_time": 152.4138631,
                        "test": [
                          0.8945098734,
                          0.656672112
                        ]
                      },
                      {
                        "learn": [
                          0.915679765,
                          0.6262488142
                        ],
                        "iteration": 789,
                        "passed_time": 13.12094801,
                        "remaining_time": 152.9670015,
                        "test": [
                          0.8943596702,
                          0.6563974484
                        ]
                      },
                      {
                        "learn": [
                          0.9158327929,
                          0.6258175609
                        ],
                        "iteration": 790,
                        "passed_time": 13.20606688,
                        "remaining_time": 153.7480024,
                        "test": [
                          0.8943596702,
                          0.6560193733
                        ]
                      },
                      {
                        "learn": [
                          0.9157879901,
                          0.6255414568
                        ],
                        "iteration": 791,
                        "passed_time": 13.30697822,
                        "remaining_time": 154.7104236,
                        "test": [
                          0.8943596702,
                          0.6558110103
                        ]
                      },
                      {
                        "learn": [
                          0.9158327929,
                          0.6250894695
                        ],
                        "iteration": 792,
                        "passed_time": 13.38996678,
                        "remaining_time": 155.4620733,
                        "test": [
                          0.8943596702,
                          0.655374042
                        ]
                      },
                      {
                        "learn": [
                          0.915941018,
                          0.6247738845
                        ],
                        "iteration": 793,
                        "passed_time": 13.46820637,
                        "remaining_time": 156.156559,
                        "test": [
                          0.8943596702,
                          0.6549079572
                        ]
                      },
                      {
                        "learn": [
                          0.9158962152,
                          0.6243509173
                        ],
                        "iteration": 794,
                        "passed_time": 13.57011569,
                        "remaining_time": 157.1231635,
                        "test": [
                          0.8943596702,
                          0.6545769674
                        ]
                      },
                      {
                        "learn": [
                          0.9159476402,
                          0.6238250298
                        ],
                        "iteration": 795,
                        "passed_time": 13.67866932,
                        "remaining_time": 158.1639101,
                        "test": [
                          0.8943596702,
                          0.6539952965
                        ]
                      },
                      {
                        "learn": [
                          0.9159476402,
                          0.6235903938
                        ],
                        "iteration": 796,
                        "passed_time": 13.72023366,
                        "remaining_time": 158.4282439,
                        "test": [
                          0.8943596702,
                          0.6539905293
                        ]
                      },
                      {
                        "learn": [
                          0.9159476402,
                          0.62319236
                        ],
                        "iteration": 797,
                        "passed_time": 13.7773906,
                        "remaining_time": 158.8716144,
                        "test": [
                          0.8943596702,
                          0.6532585084
                        ]
                      },
                      {
                        "learn": [
                          0.9159476402,
                          0.6227607693
                        ],
                        "iteration": 798,
                        "passed_time": 13.85718691,
                        "remaining_time": 159.574439,
                        "test": [
                          0.8943596702,
                          0.6527162952
                        ]
                      },
                      {
                        "learn": [
                          0.9157431872,
                          0.6224099777
                        ],
                        "iteration": 799,
                        "passed_time": 13.93015157,
                        "remaining_time": 160.1967431,
                        "test": [
                          0.8943596702,
                          0.6524887168
                        ]
                      },
                      {
                        "learn": [
                          0.9158394151,
                          0.6218569821
                        ],
                        "iteration": 800,
                        "passed_time": 13.99584377,
                        "remaining_time": 160.7337913,
                        "test": [
                          0.8943596702,
                          0.6518942111
                        ]
                      },
                      {
                        "learn": [
                          0.9160508238,
                          0.6214806197
                        ],
                        "iteration": 801,
                        "passed_time": 14.09232423,
                        "remaining_time": 161.6224418,
                        "test": [
                          0.8943596702,
                          0.6515126157
                        ]
                      },
                      {
                        "learn": [
                          0.9157261484,
                          0.620961931
                        ],
                        "iteration": 802,
                        "passed_time": 14.22233544,
                        "remaining_time": 162.8926763,
                        "test": [
                          0.8952064653,
                          0.6509755364
                        ]
                      },
                      {
                        "learn": [
                          0.9157709513,
                          0.6205570359
                        ],
                        "iteration": 803,
                        "passed_time": 14.34374878,
                        "remaining_time": 164.0610868,
                        "test": [
                          0.8952064653,
                          0.6506266512
                        ]
                      },
                      {
                        "learn": [
                          0.9157709513,
                          0.6200707792
                        ],
                        "iteration": 804,
                        "passed_time": 14.45070571,
                        "remaining_time": 165.0611665,
                        "test": [
                          0.8952064653,
                          0.6500732901
                        ]
                      },
                      {
                        "learn": [
                          0.9160956266,
                          0.6196094185
                        ],
                        "iteration": 805,
                        "passed_time": 14.51555523,
                        "remaining_time": 165.5781821,
                        "test": [
                          0.8952064653,
                          0.6495599734
                        ]
                      },
                      {
                        "learn": [
                          0.9164668681,
                          0.6192371804
                        ],
                        "iteration": 806,
                        "passed_time": 14.58635095,
                        "remaining_time": 166.1614923,
                        "test": [
                          0.8959075752,
                          0.649024801
                        ]
                      },
                      {
                        "learn": [
                          0.9165052617,
                          0.6189125594
                        ],
                        "iteration": 807,
                        "passed_time": 14.70873453,
                        "remaining_time": 167.3300591,
                        "test": [
                          0.8959075752,
                          0.6488397606
                        ]
                      },
                      {
                        "learn": [
                          0.9166462924,
                          0.6185219868
                        ],
                        "iteration": 808,
                        "passed_time": 14.82579964,
                        "remaining_time": 168.4350117,
                        "test": [
                          0.8959075752,
                          0.6483733824
                        ]
                      },
                      {
                        "learn": [
                          0.9166910953,
                          0.6181785814
                        ],
                        "iteration": 809,
                        "passed_time": 14.94009549,
                        "remaining_time": 169.5055279,
                        "test": [
                          0.8959075752,
                          0.6480384321
                        ]
                      },
                      {
                        "learn": [
                          0.9164688442,
                          0.6176943495
                        ],
                        "iteration": 810,
                        "passed_time": 15.0328089,
                        "remaining_time": 170.3285832,
                        "test": [
                          0.8960828527,
                          0.6476445886
                        ]
                      },
                      {
                        "learn": [
                          0.9165650721,
                          0.6171994318
                        ],
                        "iteration": 811,
                        "passed_time": 15.15500536,
                        "remaining_time": 171.4829917,
                        "test": [
                          0.8960828527,
                          0.6472770747
                        ]
                      },
                      {
                        "learn": [
                          0.9166612999,
                          0.6169222029
                        ],
                        "iteration": 812,
                        "passed_time": 15.30028349,
                        "remaining_time": 172.8950854,
                        "test": [
                          0.8960828527,
                          0.647038495
                        ]
                      },
                      {
                        "learn": [
                          0.9164568469,
                          0.6165530768
                        ],
                        "iteration": 813,
                        "passed_time": 15.40793453,
                        "remaining_time": 173.8787304,
                        "test": [
                          0.8960828527,
                          0.646911761
                        ]
                      },
                      {
                        "learn": [
                          0.9169816628,
                          0.616275173
                        ],
                        "iteration": 814,
                        "passed_time": 15.52001234,
                        "remaining_time": 174.9095869,
                        "test": [
                          0.8966086851,
                          0.6465493077
                        ]
                      },
                      {
                        "learn": [
                          0.9170898879,
                          0.6159135457
                        ],
                        "iteration": 815,
                        "passed_time": 15.5980926,
                        "remaining_time": 175.555003,
                        "test": [
                          0.8966086851,
                          0.6462277055
                        ]
                      },
                      {
                        "learn": [
                          0.9172615353,
                          0.6155854003
                        ],
                        "iteration": 816,
                        "passed_time": 15.68707672,
                        "remaining_time": 176.3212063,
                        "test": [
                          0.8970320827,
                          0.6461963154
                        ]
                      },
                      {
                        "learn": [
                          0.9172615353,
                          0.6152839879
                        ],
                        "iteration": 817,
                        "passed_time": 15.76618465,
                        "remaining_time": 176.974459,
                        "test": [
                          0.8974554802,
                          0.6458542509
                        ]
                      },
                      {
                        "learn": [
                          0.9172615353,
                          0.6149325213
                        ],
                        "iteration": 818,
                        "passed_time": 15.8764959,
                        "remaining_time": 177.9757129,
                        "test": [
                          0.8974554802,
                          0.6454970048
                        ]
                      },
                      {
                        "learn": [
                          0.917255126,
                          0.614486533
                        ],
                        "iteration": 819,
                        "passed_time": 15.98174439,
                        "remaining_time": 178.9175775,
                        "test": [
                          0.8974554802,
                          0.645013098
                        ]
                      },
                      {
                        "learn": [
                          0.9171783388,
                          0.6140553172
                        ],
                        "iteration": 820,
                        "passed_time": 16.06228683,
                        "remaining_time": 179.5806709,
                        "test": [
                          0.8974554802,
                          0.6446185211
                        ]
                      },
                      {
                        "learn": [
                          0.9171783388,
                          0.6136612203
                        ],
                        "iteration": 821,
                        "passed_time": 16.14615514,
                        "remaining_time": 180.2790898,
                        "test": [
                          0.8974554802,
                          0.6441529497
                        ]
                      },
                      {
                        "learn": [
                          0.9172932919,
                          0.6132729724
                        ],
                        "iteration": 822,
                        "passed_time": 16.2707449,
                        "remaining_time": 181.4296792,
                        "test": [
                          0.8974554802,
                          0.6435944547
                        ]
                      },
                      {
                        "learn": [
                          0.9172551111,
                          0.612992594
                        ],
                        "iteration": 823,
                        "passed_time": 16.37173367,
                        "remaining_time": 182.3143546,
                        "test": [
                          0.8974554802,
                          0.643397313
                        ]
                      },
                      {
                        "learn": [
                          0.9172167175,
                          0.6127645569
                        ],
                        "iteration": 824,
                        "passed_time": 16.46663224,
                        "remaining_time": 183.1289101,
                        "test": [
                          0.8974554802,
                          0.6431840361
                        ]
                      },
                      {
                        "learn": [
                          0.9172287148,
                          0.6124893902
                        ],
                        "iteration": 825,
                        "passed_time": 16.52165839,
                        "remaining_time": 183.498419,
                        "test": [
                          0.8972802028,
                          0.642950297
                        ]
                      },
                      {
                        "learn": [
                          0.9174835586,
                          0.6119934227
                        ],
                        "iteration": 826,
                        "passed_time": 16.54934669,
                        "remaining_time": 183.5636726,
                        "test": [
                          0.8972802028,
                          0.6424641899
                        ]
                      },
                      {
                        "learn": [
                          0.9172551111,
                          0.6115719553
                        ],
                        "iteration": 827,
                        "passed_time": 16.57608028,
                        "remaining_time": 183.618126,
                        "test": [
                          0.8972802028,
                          0.6420186408
                        ]
                      },
                      {
                        "learn": [
                          0.9173447169,
                          0.6111942806
                        ],
                        "iteration": 828,
                        "passed_time": 16.60535118,
                        "remaining_time": 183.7004531,
                        "test": [
                          0.8972802028,
                          0.6417172808
                        ]
                      },
                      {
                        "learn": [
                          0.9178160502,
                          0.610999838
                        ],
                        "iteration": 829,
                        "passed_time": 16.63169718,
                        "remaining_time": 183.7501965,
                        "test": [
                          0.8972802028,
                          0.6416409324
                        ]
                      },
                      {
                        "learn": [
                          0.9176814287,
                          0.6107161226
                        ],
                        "iteration": 830,
                        "passed_time": 16.65813163,
                        "remaining_time": 183.8007328,
                        "test": [
                          0.8968568052,
                          0.6413683223
                        ]
                      },
                      {
                        "learn": [
                          0.9177142343,
                          0.6101932346
                        ],
                        "iteration": 831,
                        "passed_time": 16.68462417,
                        "remaining_time": 183.851724,
                        "test": [
                          0.8968568052,
                          0.6407673626
                        ]
                      },
                      {
                        "learn": [
                          0.9176624758,
                          0.6098488544
                        ],
                        "iteration": 832,
                        "passed_time": 16.71123915,
                        "remaining_time": 183.9038767,
                        "test": [
                          0.8970320827,
                          0.6403246737
                        ]
                      },
                      {
                        "learn": [
                          0.918454954,
                          0.6095583527
                        ],
                        "iteration": 833,
                        "passed_time": 16.7376989,
                        "remaining_time": 183.9541345,
                        "test": [
                          0.898259025,
                          0.6399488722
                        ]
                      },
                      {
                        "learn": [
                          0.9182624982,
                          0.6091713046
                        ],
                        "iteration": 834,
                        "passed_time": 16.76332874,
                        "remaining_time": 183.9950993,
                        "test": [
                          0.898259025,
                          0.6395730707
                        ]
                      },
                      {
                        "learn": [
                          0.9185994895,
                          0.6088666303
                        ],
                        "iteration": 835,
                        "passed_time": 16.77945426,
                        "remaining_time": 183.9317211,
                        "test": [
                          0.898259025,
                          0.6393515796
                        ]
                      },
                      {
                        "learn": [
                          0.9185546866,
                          0.6084378141
                        ],
                        "iteration": 836,
                        "passed_time": 16.79346748,
                        "remaining_time": 183.8453316,
                        "test": [
                          0.898259025,
                          0.6390157492
                        ]
                      },
                      {
                        "learn": [
                          0.9186957174,
                          0.6080353935
                        ],
                        "iteration": 837,
                        "passed_time": 16.80757092,
                        "remaining_time": 183.7601011,
                        "test": [
                          0.898259025,
                          0.6387740158
                        ]
                      },
                      {
                        "learn": [
                          0.9185930803,
                          0.6076401717
                        ],
                        "iteration": 838,
                        "passed_time": 16.82151299,
                        "remaining_time": 183.6732783,
                        "test": [
                          0.898259025,
                          0.6384774964
                        ]
                      },
                      {
                        "learn": [
                          0.9186050775,
                          0.6072554857
                        ],
                        "iteration": 839,
                        "passed_time": 16.83568863,
                        "remaining_time": 183.589176,
                        "test": [
                          0.898259025,
                          0.6381580212
                        ]
                      },
                      {
                        "learn": [
                          0.9186434711,
                          0.606953436
                        ],
                        "iteration": 840,
                        "passed_time": 16.84986035,
                        "remaining_time": 183.5051973,
                        "test": [
                          0.898259025,
                          0.6377906539
                        ]
                      },
                      {
                        "learn": [
                          0.9184968524,
                          0.6066697207
                        ],
                        "iteration": 841,
                        "passed_time": 16.86390478,
                        "remaining_time": 183.42,
                        "test": [
                          0.898259025,
                          0.6374245335
                        ]
                      },
                      {
                        "learn": [
                          0.9185416553,
                          0.6064166378
                        ],
                        "iteration": 842,
                        "passed_time": 16.87785999,
                        "remaining_time": 183.3340023,
                        "test": [
                          0.898259025,
                          0.6372222578
                        ]
                      },
                      {
                        "learn": [
                          0.9185222146,
                          0.6059697121
                        ],
                        "iteration": 843,
                        "passed_time": 16.89301231,
                        "remaining_time": 183.261162,
                        "test": [
                          0.898259025,
                          0.6366882589
                        ]
                      },
                      {
                        "learn": [
                          0.918483821,
                          0.605558668
                        ],
                        "iteration": 844,
                        "passed_time": 16.90707755,
                        "remaining_time": 183.1766804,
                        "test": [
                          0.898259025,
                          0.6362501172
                        ]
                      },
                      {
                        "learn": [
                          0.918483821,
                          0.6054757692
                        ],
                        "iteration": 845,
                        "passed_time": 16.9208595,
                        "remaining_time": 183.0893,
                        "test": [
                          0.898259025,
                          0.6362594315
                        ]
                      },
                      {
                        "learn": [
                          0.9186696546,
                          0.6051324763
                        ],
                        "iteration": 846,
                        "passed_time": 16.93477727,
                        "remaining_time": 183.0035612,
                        "test": [
                          0.898259025,
                          0.6358166693
                        ]
                      },
                      {
                        "learn": [
                          0.9186696546,
                          0.6047470404
                        ],
                        "iteration": 847,
                        "passed_time": 16.96473957,
                        "remaining_time": 183.0911516,
                        "test": [
                          0.898259025,
                          0.6353295355
                        ]
                      },
                      {
                        "learn": [
                          0.9185614295,
                          0.6042811804
                        ],
                        "iteration": 848,
                        "passed_time": 17.00690358,
                        "remaining_time": 183.3099819,
                        "test": [
                          0.898259025,
                          0.6350030928
                        ]
                      },
                      {
                        "learn": [
                          0.9185230359,
                          0.6040385958
                        ],
                        "iteration": 849,
                        "passed_time": 17.02314587,
                        "remaining_time": 183.2491585,
                        "test": [
                          0.898259025,
                          0.6347888625
                        ]
                      },
                      {
                        "learn": [
                          0.9184334301,
                          0.6036726941
                        ],
                        "iteration": 850,
                        "passed_time": 17.03898537,
                        "remaining_time": 183.1841095,
                        "test": [
                          0.898259025,
                          0.6345042977
                        ]
                      },
                      {
                        "learn": [
                          0.9184334301,
                          0.6032932198
                        ],
                        "iteration": 851,
                        "passed_time": 17.05361439,
                        "remaining_time": 183.1061789,
                        "test": [
                          0.898259025,
                          0.6342161393
                        ]
                      },
                      {
                        "learn": [
                          0.9183950365,
                          0.6030075173
                        ],
                        "iteration": 852,
                        "passed_time": 17.06628063,
                        "remaining_time": 183.0073492,
                        "test": [
                          0.898259025,
                          0.6340948325
                        ]
                      },
                      {
                        "learn": [
                          0.9184912644,
                          0.6027257891
                        ],
                        "iteration": 853,
                        "passed_time": 17.08003306,
                        "remaining_time": 182.920354,
                        "test": [
                          0.898259025,
                          0.6339656049
                        ]
                      },
                      {
                        "learn": [
                          0.9185994895,
                          0.6023118955
                        ],
                        "iteration": 854,
                        "passed_time": 17.09374725,
                        "remaining_time": 182.8331212,
                        "test": [
                          0.8980837475,
                          0.6336545639
                        ]
                      },
                      {
                        "learn": [
                          0.919354729,
                          0.6019003639
                        ],
                        "iteration": 855,
                        "passed_time": 17.1077435,
                        "remaining_time": 182.7490731,
                        "test": [
                          0.8991354124,
                          0.633332595
                        ]
                      },
                      {
                        "learn": [
                          0.9197130312,
                          0.6014433149
                        ],
                        "iteration": 856,
                        "passed_time": 17.12320228,
                        "remaining_time": 182.6807917,
                        "test": [
                          0.8989601349,
                          0.6328929865
                        ]
                      },
                      {
                        "learn": [
                          0.9195784097,
                          0.6009425107
                        ],
                        "iteration": 857,
                        "passed_time": 17.13596087,
                        "remaining_time": 182.5838628,
                        "test": [
                          0.8989601349,
                          0.632294007
                        ]
                      },
                      {
                        "learn": [
                          0.9193619595,
                          0.6005734596
                        ],
                        "iteration": 858,
                        "passed_time": 17.1546616,
                        "remaining_time": 182.5503629,
                        "test": [
                          0.8989601349,
                          0.6319202591
                        ]
                      },
                      {
                        "learn": [
                          0.9192657316,
                          0.6003288128
                        ],
                        "iteration": 859,
                        "passed_time": 17.16754511,
                        "remaining_time": 182.4550725,
                        "test": [
                          0.8991354124,
                          0.6316865933
                        ]
                      },
                      {
                        "learn": [
                          0.9193619595,
                          0.6001308832
                        ],
                        "iteration": 860,
                        "passed_time": 17.18019278,
                        "remaining_time": 182.3574702,
                        "test": [
                          0.8991354124,
                          0.6315927896
                        ]
                      },
                      {
                        "learn": [
                          0.919641832,
                          0.5998779878
                        ],
                        "iteration": 861,
                        "passed_time": 17.19279413,
                        "remaining_time": 182.259574,
                        "test": [
                          0.8991354124,
                          0.6314604817
                        ]
                      },
                      {
                        "learn": [
                          0.9198910878,
                          0.5994151273
                        ],
                        "iteration": 862,
                        "passed_time": 17.21118368,
                        "remaining_time": 182.223158,
                        "test": [
                          0.8991354124,
                          0.6309137946
                        ]
                      },
                      {
                        "learn": [
                          0.9198910878,
                          0.5990123693
                        ],
                        "iteration": 863,
                        "passed_time": 17.22576909,
                        "remaining_time": 182.1465584,
                        "test": [
                          0.89955881,
                          0.6303456919
                        ]
                      },
                      {
                        "learn": [
                          0.9203839193,
                          0.5987049579
                        ],
                        "iteration": 864,
                        "passed_time": 17.24819035,
                        "remaining_time": 182.1528542,
                        "test": [
                          0.9000846424,
                          0.6300369978
                        ]
                      },
                      {
                        "learn": [
                          0.9204735251,
                          0.5983899353
                        ],
                        "iteration": 865,
                        "passed_time": 17.26087757,
                        "remaining_time": 182.0564154,
                        "test": [
                          0.9000846424,
                          0.6296907529
                        ]
                      },
                      {
                        "learn": [
                          0.9204735251,
                          0.5980440178
                        ],
                        "iteration": 866,
                        "passed_time": 17.27328032,
                        "remaining_time": 181.9571732,
                        "test": [
                          0.9002348456,
                          0.6292945625
                        ]
                      },
                      {
                        "learn": [
                          0.9205817502,
                          0.5977474422
                        ],
                        "iteration": 867,
                        "passed_time": 17.28595694,
                        "remaining_time": 181.8610125,
                        "test": [
                          0.9002348456,
                          0.6291109889
                        ]
                      },
                      {
                        "learn": [
                          0.9205817502,
                          0.5975600108
                        ],
                        "iteration": 868,
                        "passed_time": 17.29850359,
                        "remaining_time": 181.7636781,
                        "test": [
                          0.9006113077,
                          0.6288835571
                        ]
                      },
                      {
                        "learn": [
                          0.9205817502,
                          0.5973157015
                        ],
                        "iteration": 869,
                        "passed_time": 17.31088891,
                        "remaining_time": 181.6648457,
                        "test": [
                          0.9007615109,
                          0.6286877355
                        ]
                      },
                      {
                        "learn": [
                          0.9205369473,
                          0.5970259872
                        ],
                        "iteration": 870,
                        "passed_time": 17.32351897,
                        "remaining_time": 181.5687768,
                        "test": [
                          0.9007615109,
                          0.6284401348
                        ]
                      },
                      {
                        "learn": [
                          0.9205817502,
                          0.5967282117
                        ],
                        "iteration": 871,
                        "passed_time": 17.33716748,
                        "remaining_time": 181.4835605,
                        "test": [
                          0.9012881762,
                          0.6281096583
                        ]
                      },
                      {
                        "learn": [
                          0.920626553,
                          0.596323279
                        ],
                        "iteration": 872,
                        "passed_time": 17.34979943,
                        "remaining_time": 181.3878802,
                        "test": [
                          0.9012881762,
                          0.6277299698
                        ]
                      },
                      {
                        "learn": [
                          0.9207161588,
                          0.596038064
                        ],
                        "iteration": 873,
                        "passed_time": 17.36209731,
                        "remaining_time": 181.2889017,
                        "test": [
                          0.9010619174,
                          0.6275082586
                        ]
                      },
                      {
                        "learn": [
                          0.9207161588,
                          0.5956699127
                        ],
                        "iteration": 874,
                        "passed_time": 17.37474113,
                        "remaining_time": 181.1937289,
                        "test": [
                          0.9010619174,
                          0.6271819626
                        ]
                      },
                      {
                        "learn": [
                          0.9208057645,
                          0.5952727413
                        ],
                        "iteration": 875,
                        "passed_time": 17.38724782,
                        "remaining_time": 181.0973164,
                        "test": [
                          0.9010619174,
                          0.6268246431
                        ]
                      },
                      {
                        "learn": [
                          0.9208691867,
                          0.5949669046
                        ],
                        "iteration": 876,
                        "passed_time": 17.40010527,
                        "remaining_time": 181.0047439,
                        "test": [
                          0.9010619174,
                          0.6266668124
                        ]
                      },
                      {
                        "learn": [
                          0.9208307931,
                          0.5946967996
                        ],
                        "iteration": 877,
                        "passed_time": 17.41276225,
                        "remaining_time": 180.9102702,
                        "test": [
                          0.9010619174,
                          0.6263356025
                        ]
                      },
                      {
                        "learn": [
                          0.9208307931,
                          0.5942712078
                        ],
                        "iteration": 878,
                        "passed_time": 17.42532862,
                        "remaining_time": 180.8150424,
                        "test": [
                          0.9010619174,
                          0.625929951
                        ]
                      },
                      {
                        "learn": [
                          0.9208374153,
                          0.5938287814
                        ],
                        "iteration": 879,
                        "passed_time": 17.4378421,
                        "remaining_time": 180.7194545,
                        "test": [
                          0.9007113624,
                          0.6254280023
                        ]
                      },
                      {
                        "learn": [
                          0.9212607203,
                          0.5935905461
                        ],
                        "iteration": 880,
                        "passed_time": 17.45052336,
                        "remaining_time": 180.6257918,
                        "test": [
                          0.9012631019,
                          0.6252500026
                        ]
                      },
                      {
                        "learn": [
                          0.9216456318,
                          0.5933917541
                        ],
                        "iteration": 881,
                        "passed_time": 17.46302645,
                        "remaining_time": 180.5304707,
                        "test": [
                          0.9016395639,
                          0.6251216551
                        ]
                      },
                      {
                        "learn": [
                          0.9216072382,
                          0.5930336512
                        ],
                        "iteration": 882,
                        "passed_time": 17.47659381,
                        "remaining_time": 180.4463259,
                        "test": [
                          0.9016395639,
                          0.624800493
                        ]
                      },
                      {
                        "learn": [
                          0.9216770697,
                          0.5927329512
                        ],
                        "iteration": 883,
                        "passed_time": 17.48914227,
                        "remaining_time": 180.3518336,
                        "test": [
                          0.902016026,
                          0.6245077873
                        ]
                      },
                      {
                        "learn": [
                          0.9216770697,
                          0.5923503273
                        ],
                        "iteration": 884,
                        "passed_time": 17.50152679,
                        "remaining_time": 180.2558381,
                        "test": [
                          0.902016026,
                          0.624097442
                        ]
                      },
                      {
                        "learn": [
                          0.9220785715,
                          0.5920719736
                        ],
                        "iteration": 885,
                        "passed_time": 17.5139989,
                        "remaining_time": 180.1609323,
                        "test": [
                          0.902016026,
                          0.6240634849
                        ]
                      },
                      {
                        "learn": [
                          0.9221169651,
                          0.5916769768
                        ],
                        "iteration": 886,
                        "passed_time": 17.52653718,
                        "remaining_time": 180.0668921,
                        "test": [
                          0.902016026,
                          0.6237275078
                        ]
                      },
                      {
                        "learn": [
                          0.922161768,
                          0.5914644247
                        ],
                        "iteration": 887,
                        "passed_time": 17.53908495,
                        "remaining_time": 179.973133,
                        "test": [
                          0.902016026,
                          0.6234370758
                        ]
                      },
                      {
                        "learn": [
                          0.922161768,
                          0.5911180198
                        ],
                        "iteration": 888,
                        "passed_time": 17.5516427,
                        "remaining_time": 179.8796587,
                        "test": [
                          0.9021913034,
                          0.6231808941
                        ]
                      },
                      {
                        "learn": [
                          0.9223153424,
                          0.5907614166
                        ],
                        "iteration": 889,
                        "passed_time": 17.56410115,
                        "remaining_time": 179.7853499,
                        "test": [
                          0.9021913034,
                          0.6228009122
                        ]
                      },
                      {
                        "learn": [
                          0.9223473268,
                          0.5904180487
                        ],
                        "iteration": 890,
                        "passed_time": 17.57781995,
                        "remaining_time": 179.7041099,
                        "test": [
                          0.9021913034,
                          0.6225284488
                        ]
                      },
                      {
                        "learn": [
                          0.9223089332,
                          0.5901626412
                        ],
                        "iteration": 891,
                        "passed_time": 17.59018333,
                        "remaining_time": 179.6091814,
                        "test": [
                          0.9021913034,
                          0.6223506691
                        ]
                      },
                      {
                        "learn": [
                          0.9223089332,
                          0.5898220478
                        ],
                        "iteration": 892,
                        "passed_time": 17.60262573,
                        "remaining_time": 179.5152436,
                        "test": [
                          0.9027899785,
                          0.6220143253
                        ]
                      },
                      {
                        "learn": [
                          0.9223089332,
                          0.5894806296
                        ],
                        "iteration": 893,
                        "passed_time": 17.61629235,
                        "remaining_time": 179.4339577,
                        "test": [
                          0.9027899785,
                          0.6217995816
                        ]
                      },
                      {
                        "learn": [
                          0.9222193275,
                          0.5890959811
                        ],
                        "iteration": 894,
                        "passed_time": 17.62867457,
                        "remaining_time": 179.3397564,
                        "test": [
                          0.9027899785,
                          0.6213089275
                        ]
                      },
                      {
                        "learn": [
                          0.9222193275,
                          0.5887364159
                        ],
                        "iteration": 895,
                        "passed_time": 17.64113976,
                        "remaining_time": 179.2465808,
                        "test": [
                          0.9027899785,
                          0.6209757373
                        ]
                      },
                      {
                        "learn": [
                          0.9221559052,
                          0.5883527422
                        ],
                        "iteration": 896,
                        "passed_time": 17.65362146,
                        "remaining_time": 179.1537526,
                        "test": [
                          0.9027899785,
                          0.6203280592
                        ]
                      },
                      {
                        "learn": [
                          0.9222007081,
                          0.5879982762
                        ],
                        "iteration": 897,
                        "passed_time": 17.6660084,
                        "remaining_time": 179.0601431,
                        "test": [
                          0.9027899785,
                          0.6199839412
                        ]
                      },
                      {
                        "learn": [
                          0.9222391017,
                          0.5876464347
                        ],
                        "iteration": 898,
                        "passed_time": 17.67842592,
                        "remaining_time": 178.9670237,
                        "test": [
                          0.9027899785,
                          0.619668573
                        ]
                      },
                      {
                        "learn": [
                          0.9222204823,
                          0.5871747632
                        ],
                        "iteration": 899,
                        "passed_time": 17.6919688,
                        "remaining_time": 178.8854623,
                        "test": [
                          0.9027899785,
                          0.619209749
                        ]
                      },
                      {
                        "learn": [
                          0.9221756794,
                          0.5869529875
                        ],
                        "iteration": 900,
                        "passed_time": 17.70429042,
                        "remaining_time": 178.7917187,
                        "test": [
                          0.902614701,
                          0.6190399636
                        ]
                      },
                      {
                        "learn": [
                          0.9222460574,
                          0.5865879108
                        ],
                        "iteration": 901,
                        "passed_time": 17.71692692,
                        "remaining_time": 178.7013316,
                        "test": [
                          0.9024394235,
                          0.6187231286
                        ]
                      },
                      {
                        "learn": [
                          0.9222908603,
                          0.586162694
                        ],
                        "iteration": 902,
                        "passed_time": 17.72959013,
                        "remaining_time": 178.6113859,
                        "test": [
                          0.9024394235,
                          0.6183195307
                        ]
                      },
                      {
                        "learn": [
                          0.9221756794,
                          0.5859568532
                        ],
                        "iteration": 903,
                        "passed_time": 17.74222898,
                        "remaining_time": 178.5213659,
                        "test": [
                          0.902614701,
                          0.6182506631
                        ]
                      },
                      {
                        "learn": [
                          0.9222460574,
                          0.5857150934
                        ],
                        "iteration": 904,
                        "passed_time": 17.75615444,
                        "remaining_time": 178.4444471,
                        "test": [
                          0.902264146,
                          0.6181429246
                        ]
                      },
                      {
                        "learn": [
                          0.9222524667,
                          0.58523986
                        ],
                        "iteration": 905,
                        "passed_time": 17.7688818,
                        "remaining_time": 178.3556413,
                        "test": [
                          0.902264146,
                          0.6177758507
                        ]
                      },
                      {
                        "learn": [
                          0.9223356631,
                          0.5846694299
                        ],
                        "iteration": 906,
                        "passed_time": 17.78256181,
                        "remaining_time": 178.2765541,
                        "test": [
                          0.9018407485,
                          0.6173155599
                        ]
                      },
                      {
                        "learn": [
                          0.9222908603,
                          0.5838999078
                        ],
                        "iteration": 907,
                        "passed_time": 17.79504331,
                        "remaining_time": 178.1856099,
                        "test": [
                          0.9018407485,
                          0.6166962648
                        ]
                      },
                      {
                        "learn": [
                          0.9222908603,
                          0.5837824774
                        ],
                        "iteration": 908,
                        "passed_time": 17.80784739,
                        "remaining_time": 178.0980645,
                        "test": [
                          0.9018407485,
                          0.6167337423
                        ]
                      },
                      {
                        "learn": [
                          0.9222908603,
                          0.5834627681
                        ],
                        "iteration": 909,
                        "passed_time": 17.82051116,
                        "remaining_time": 178.0092818,
                        "test": [
                          0.9018407485,
                          0.6165225923
                        ]
                      },
                      {
                        "learn": [
                          0.922284451,
                          0.5832178588
                        ],
                        "iteration": 910,
                        "passed_time": 17.83305016,
                        "remaining_time": 177.9194214,
                        "test": [
                          0.9018407485,
                          0.6161814813
                        ]
                      },
                      {
                        "learn": [
                          0.9223292539,
                          0.5828518447
                        ],
                        "iteration": 911,
                        "passed_time": 17.84698121,
                        "remaining_time": 177.8436023,
                        "test": [
                          0.9018407485,
                          0.6159300669
                        ]
                      },
                      {
                        "learn": [
                          0.922284451,
                          0.5825805023
                        ],
                        "iteration": 912,
                        "passed_time": 17.8595815,
                        "remaining_time": 177.7546737,
                        "test": [
                          0.902016026,
                          0.6157270578
                        ]
                      },
                      {
                        "learn": [
                          0.9223228446,
                          0.5822549439
                        ],
                        "iteration": 913,
                        "passed_time": 17.87220063,
                        "remaining_time": 177.6660995,
                        "test": [
                          0.9018407485,
                          0.6154620752
                        ]
                      },
                      {
                        "learn": [
                          0.9222780418,
                          0.5820915836
                        ],
                        "iteration": 914,
                        "passed_time": 17.88468166,
                        "remaining_time": 177.5763201,
                        "test": [
                          0.902016026,
                          0.6153470025
                        ]
                      },
                      {
                        "learn": [
                          0.9220743042,
                          0.5817703745
                        ],
                        "iteration": 915,
                        "passed_time": 17.89749036,
                        "remaining_time": 177.4899589,
                        "test": [
                          0.902016026,
                          0.6150365849
                        ]
                      },
                      {
                        "learn": [
                          0.92216391,
                          0.5814176707
                        ],
                        "iteration": 916,
                        "passed_time": 17.91014666,
                        "remaining_time": 177.4022488,
                        "test": [
                          0.902016026,
                          0.6147691454
                        ]
                      },
                      {
                        "learn": [
                          0.9227324797,
                          0.581199757
                        ],
                        "iteration": 917,
                        "passed_time": 17.92275305,
                        "remaining_time": 177.3142083,
                        "test": [
                          0.9021913034,
                          0.6147143227
                        ]
                      },
                      {
                        "learn": [
                          0.9228407048,
                          0.5808395919
                        ],
                        "iteration": 918,
                        "passed_time": 17.93543159,
                        "remaining_time": 177.2270449,
                        "test": [
                          0.9021913034,
                          0.6143042707
                        ]
                      },
                      {
                        "learn": [
                          0.9226556925,
                          0.5803440743
                        ],
                        "iteration": 919,
                        "passed_time": 17.95000798,
                        "remaining_time": 177.1587744,
                        "test": [
                          0.9023665809,
                          0.6140540298
                        ]
                      },
                      {
                        "learn": [
                          0.9227519203,
                          0.580192262
                        ],
                        "iteration": 920,
                        "passed_time": 17.96239309,
                        "remaining_time": 177.0690194,
                        "test": [
                          0.9023665809,
                          0.6139157078
                        ]
                      },
                      {
                        "learn": [
                          0.9229172642,
                          0.579969699
                        ],
                        "iteration": 921,
                        "passed_time": 17.97494001,
                        "remaining_time": 176.9810254,
                        "test": [
                          0.9023665809,
                          0.6136144579
                        ]
                      },
                      {
                        "learn": [
                          0.9228090391,
                          0.5796682867
                        ],
                        "iteration": 922,
                        "passed_time": 18.00039105,
                        "remaining_time": 177.020097,
                        "test": [
                          0.9029183204,
                          0.6134671883
                        ]
                      },
                      {
                        "learn": [
                          0.9228922356,
                          0.5792995355
                        ],
                        "iteration": 923,
                        "passed_time": 18.01276226,
                        "remaining_time": 176.9305523,
                        "test": [
                          0.9030685236,
                          0.6131219702
                        ]
                      },
                      {
                        "learn": [
                          0.9228474327,
                          0.578950731
                        ],
                        "iteration": 924,
                        "passed_time": 18.02967604,
                        "remaining_time": 176.8857406,
                        "test": [
                          0.9028932462,
                          0.6128466831
                        ]
                      },
                      {
                        "learn": [
                          0.9228474327,
                          0.5787020349
                        ],
                        "iteration": 925,
                        "passed_time": 18.06437761,
                        "remaining_time": 177.0152942,
                        "test": [
                          0.9028932462,
                          0.6126646864
                        ]
                      },
                      {
                        "learn": [
                          0.9228474327,
                          0.5782601334
                        ],
                        "iteration": 926,
                        "passed_time": 18.07795922,
                        "remaining_time": 176.9377821,
                        "test": [
                          0.9030685236,
                          0.6121774426
                        ]
                      },
                      {
                        "learn": [
                          0.9228858264,
                          0.5778067963
                        ],
                        "iteration": 927,
                        "passed_time": 18.09050975,
                        "remaining_time": 176.850328,
                        "test": [
                          0.9030685236,
                          0.6118856903
                        ]
                      },
                      {
                        "learn": [
                          0.9228858264,
                          0.5775412654
                        ],
                        "iteration": 928,
                        "passed_time": 18.10313152,
                        "remaining_time": 176.7637309,
                        "test": [
                          0.9030685236,
                          0.6115708356
                        ]
                      },
                      {
                        "learn": [
                          0.9231796722,
                          0.577222081
                        ],
                        "iteration": 929,
                        "passed_time": 18.11570406,
                        "remaining_time": 176.6768127,
                        "test": [
                          0.9026920616,
                          0.6113732171
                        ]
                      },
                      {
                        "learn": [
                          0.9231916694,
                          0.5768818626
                        ],
                        "iteration": 930,
                        "passed_time": 18.12857379,
                        "remaining_time": 176.5929492,
                        "test": [
                          0.9026920616,
                          0.6111420816
                        ]
                      },
                      {
                        "learn": [
                          0.9234923503,
                          0.5765719017
                        ],
                        "iteration": 931,
                        "passed_time": 18.14189552,
                        "remaining_time": 176.5136358,
                        "test": [
                          0.9025167841,
                          0.610813842
                        ]
                      },
                      {
                        "learn": [
                          0.9234923503,
                          0.5763574373
                        ],
                        "iteration": 932,
                        "passed_time": 18.15441835,
                        "remaining_time": 176.4267001,
                        "test": [
                          0.9025167841,
                          0.6107159679
                        ]
                      },
                      {
                        "learn": [
                          0.9233961224,
                          0.5761291003
                        ],
                        "iteration": 933,
                        "passed_time": 18.16662785,
                        "remaining_time": 176.3368823,
                        "test": [
                          0.9025167841,
                          0.6104700907
                        ]
                      },
                      {
                        "learn": [
                          0.9233961224,
                          0.5758996385
                        ],
                        "iteration": 934,
                        "passed_time": 18.17887304,
                        "remaining_time": 176.2475766,
                        "test": [
                          0.9025167841,
                          0.6103242146
                        ]
                      },
                      {
                        "learn": [
                          0.9235113032,
                          0.5755237635
                        ],
                        "iteration": 935,
                        "passed_time": 18.19240347,
                        "remaining_time": 176.1708814,
                        "test": [
                          0.9021662292,
                          0.6100011089
                        ]
                      },
                      {
                        "learn": [
                          0.9235113032,
                          0.5752173645
                        ],
                        "iteration": 936,
                        "passed_time": 18.20491718,
                        "remaining_time": 176.0844871,
                        "test": [
                          0.9021662292,
                          0.6099691321
                        ]
                      },
                      {
                        "learn": [
                          0.9235113032,
                          0.5750300831
                        ],
                        "iteration": 937,
                        "passed_time": 18.21740772,
                        "remaining_time": 175.9980264,
                        "test": [
                          0.9023415067,
                          0.6098039305
                        ]
                      },
                      {
                        "learn": [
                          0.9235113032,
                          0.5747928976
                        ],
                        "iteration": 938,
                        "passed_time": 18.23850321,
                        "remaining_time": 175.9947578,
                        "test": [
                          0.9021662292,
                          0.609685154
                        ]
                      },
                      {
                        "learn": [
                          0.9236075311,
                          0.5744135732
                        ],
                        "iteration": 939,
                        "passed_time": 18.25343527,
                        "remaining_time": 175.9320463,
                        "test": [
                          0.9023415067,
                          0.6095058709
                        ]
                      },
                      {
                        "learn": [
                          0.9237157562,
                          0.5741240838
                        ],
                        "iteration": 940,
                        "passed_time": 18.2681627,
                        "remaining_time": 175.8674664,
                        "test": [
                          0.9023415067,
                          0.6092036309
                        ]
                      },
                      {
                        "learn": [
                          0.9237157562,
                          0.5739168933
                        ],
                        "iteration": 941,
                        "passed_time": 18.28071001,
                        "remaining_time": 175.782029,
                        "test": [
                          0.9023415067,
                          0.608942242
                        ]
                      },
                      {
                        "learn": [
                          0.9236075311,
                          0.5735446552
                        ],
                        "iteration": 942,
                        "passed_time": 18.29321803,
                        "remaining_time": 175.6963687,
                        "test": [
                          0.9027179687,
                          0.6086124256
                        ]
                      },
                      {
                        "learn": [
                          0.9236075311,
                          0.5732308324
                        ],
                        "iteration": 943,
                        "passed_time": 18.30558061,
                        "remaining_time": 175.6094683,
                        "test": [
                          0.9027179687,
                          0.6082616335
                        ]
                      },
                      {
                        "learn": [
                          0.923657922,
                          0.5728344108
                        ],
                        "iteration": 944,
                        "passed_time": 18.31794483,
                        "remaining_time": 175.5227412,
                        "test": [
                          0.9023415067,
                          0.6078309726
                        ]
                      },
                      {
                        "learn": [
                          0.9236131191,
                          0.572610798
                        ],
                        "iteration": 945,
                        "passed_time": 18.33049243,
                        "remaining_time": 175.4379265,
                        "test": [
                          0.9023415067,
                          0.6076155689
                        ]
                      },
                      {
                        "learn": [
                          0.923657922,
                          0.5724676468
                        ],
                        "iteration": 946,
                        "passed_time": 18.34264514,
                        "remaining_time": 175.3494894,
                        "test": [
                          0.9023415067,
                          0.6074852411
                        ]
                      },
                      {
                        "learn": [
                          0.923657922,
                          0.5722716669
                        ],
                        "iteration": 947,
                        "passed_time": 18.35591492,
                        "remaining_time": 175.2718796,
                        "test": [
                          0.9023415067,
                          0.6074433999
                        ]
                      },
                      {
                        "learn": [
                          0.923657922,
                          0.5719455087
                        ],
                        "iteration": 948,
                        "passed_time": 18.36833543,
                        "remaining_time": 175.1863056,
                        "test": [
                          0.9021662292,
                          0.6071286551
                        ]
                      },
                      {
                        "learn": [
                          0.923657922,
                          0.5716564692
                        ],
                        "iteration": 949,
                        "passed_time": 18.38072523,
                        "remaining_time": 175.100593,
                        "test": [
                          0.9021662292,
                          0.6068222346
                        ]
                      },
                      {
                        "learn": [
                          0.923657922,
                          0.5715274907
                        ],
                        "iteration": 950,
                        "passed_time": 18.39314891,
                        "remaining_time": 175.015357,
                        "test": [
                          0.9021662292,
                          0.6066364974
                        ]
                      },
                      {
                        "learn": [
                          0.9239466056,
                          0.5712198169
                        ],
                        "iteration": 951,
                        "passed_time": 18.405615,
                        "remaining_time": 174.930677,
                        "test": [
                          0.9027179687,
                          0.606315372
                        ]
                      },
                      {
                        "learn": [
                          0.9239466056,
                          0.5709133428
                        ],
                        "iteration": 952,
                        "passed_time": 18.41833253,
                        "remaining_time": 174.8485356,
                        "test": [
                          0.9025426912,
                          0.606052663
                        ]
                      },
                      {
                        "learn": [
                          0.9240548307,
                          0.570560939
                        ],
                        "iteration": 953,
                        "passed_time": 18.43101968,
                        "remaining_time": 174.7662516,
                        "test": [
                          0.9021192937,
                          0.6056556291
                        ]
                      },
                      {
                        "learn": [
                          0.9238119841,
                          0.5702761738
                        ],
                        "iteration": 954,
                        "passed_time": 18.44473589,
                        "remaining_time": 174.6938598,
                        "test": [
                          0.9021192937,
                          0.6054642447
                        ]
                      },
                      {
                        "learn": [
                          0.9239202092,
                          0.5699069727
                        ],
                        "iteration": 955,
                        "passed_time": 18.45740442,
                        "remaining_time": 174.6116795,
                        "test": [
                          0.9021192937,
                          0.6051865373
                        ]
                      },
                      {
                        "learn": [
                          0.9238239813,
                          0.5697581975
                        ],
                        "iteration": 956,
                        "passed_time": 18.46974179,
                        "remaining_time": 174.5265151,
                        "test": [
                          0.9021192937,
                          0.6051428625
                        ]
                      },
                      {
                        "learn": [
                          0.9237605591,
                          0.5694518734
                        ],
                        "iteration": 957,
                        "passed_time": 18.48219747,
                        "remaining_time": 174.4426196,
                        "test": [
                          0.9022945711,
                          0.6048889911
                        ]
                      },
                      {
                        "learn": [
                          0.9235568215,
                          0.569066325
                        ],
                        "iteration": 958,
                        "passed_time": 18.49470113,
                        "remaining_time": 174.3593252,
                        "test": [
                          0.9022945711,
                          0.6042430732
                        ]
                      },
                      {
                        "learn": [
                          0.9236016244,
                          0.5687862841
                        ],
                        "iteration": 959,
                        "passed_time": 18.5071222,
                        "remaining_time": 174.2754007,
                        "test": [
                          0.9022945711,
                          0.6039666126
                        ]
                      },
                      {
                        "learn": [
                          0.9235568215,
                          0.568441154
                        ],
                        "iteration": 960,
                        "passed_time": 18.51978944,
                        "remaining_time": 174.1939405,
                        "test": [
                          0.9024698486,
                          0.603746955
                        ]
                      },
                      {
                        "learn": [
                          0.9235568215,
                          0.5681643376
                        ],
                        "iteration": 961,
                        "passed_time": 18.53248324,
                        "remaining_time": 174.1128727,
                        "test": [
                          0.9018229912,
                          0.6036540315
                        ]
                      },
                      {
                        "learn": [
                          0.9235952152,
                          0.5680185243
                        ],
                        "iteration": 962,
                        "passed_time": 18.54480155,
                        "remaining_time": 174.0284233,
                        "test": [
                          0.9018229912,
                          0.6035887576
                        ]
                      },
                      {
                        "learn": [
                          0.9236016244,
                          0.5676162537
                        ],
                        "iteration": 963,
                        "passed_time": 18.55732864,
                        "remaining_time": 173.9460805,
                        "test": [
                          0.9018229912,
                          0.6031800625
                        ]
                      },
                      {
                        "learn": [
                          0.9236016244,
                          0.5673728442
                        ],
                        "iteration": 964,
                        "passed_time": 18.56998885,
                        "remaining_time": 173.8651288,
                        "test": [
                          0.9018229912,
                          0.6030275489
                        ]
                      },
                      {
                        "learn": [
                          0.9235568215,
                          0.5670527974
                        ],
                        "iteration": 965,
                        "passed_time": 18.58271963,
                        "remaining_time": 173.7849784,
                        "test": [
                          0.9018229912,
                          0.6029118895
                        ]
                      },
                      {
                        "learn": [
                          0.9236016244,
                          0.5667405494
                        ],
                        "iteration": 966,
                        "passed_time": 18.59532381,
                        "remaining_time": 173.7037849,
                        "test": [
                          0.9018229912,
                          0.6024800185
                        ]
                      },
                      {
                        "learn": [
                          0.9236146558,
                          0.5665525556
                        ],
                        "iteration": 967,
                        "passed_time": 18.60775185,
                        "remaining_time": 173.6210895,
                        "test": [
                          0.9018229912,
                          0.6024555225
                        ]
                      },
                      {
                        "learn": [
                          0.9236146558,
                          0.5664057676
                        ],
                        "iteration": 968,
                        "passed_time": 18.62034062,
                        "remaining_time": 173.5400373,
                        "test": [
                          0.9018229912,
                          0.6023561815
                        ]
                      },
                      {
                        "learn": [
                          0.9236594587,
                          0.5661485228
                        ],
                        "iteration": 969,
                        "passed_time": 18.63285947,
                        "remaining_time": 173.4584753,
                        "test": [
                          0.9018229912,
                          0.6021156216
                        ]
                      },
                      {
                        "learn": [
                          0.9236594587,
                          0.5659333461
                        ],
                        "iteration": 970,
                        "passed_time": 18.64547024,
                        "remaining_time": 173.3779102,
                        "test": [
                          0.9018229912,
                          0.6018651239
                        ]
                      },
                      {
                        "learn": [
                          0.9236594587,
                          0.5658043301
                        ],
                        "iteration": 971,
                        "passed_time": 18.65799967,
                        "remaining_time": 173.2967295,
                        "test": [
                          0.9018229912,
                          0.6018275365
                        ]
                      },
                      {
                        "learn": [
                          0.9238631962,
                          0.5655175403
                        ],
                        "iteration": 972,
                        "passed_time": 18.67030922,
                        "remaining_time": 173.2136499,
                        "test": [
                          0.9014465292,
                          0.6015781389
                        ]
                      },
                      {
                        "learn": [
                          0.9238631962,
                          0.5649976893
                        ],
                        "iteration": 973,
                        "passed_time": 18.68269219,
                        "remaining_time": 173.131396,
                        "test": [
                          0.9014465292,
                          0.6011001361
                        ]
                      },
                      {
                        "learn": [
                          0.9238631962,
                          0.5647560045
                        ],
                        "iteration": 974,
                        "passed_time": 18.69503764,
                        "remaining_time": 173.0489381,
                        "test": [
                          0.9014465292,
                          0.6009442123
                        ]
                      },
                      {
                        "learn": [
                          0.923799774,
                          0.5643968892
                        ],
                        "iteration": 975,
                        "passed_time": 18.70748635,
                        "remaining_time": 172.9675787,
                        "test": [
                          0.9018229912,
                          0.6004616623
                        ]
                      },
                      {
                        "learn": [
                          0.923799774,
                          0.5641146736
                        ],
                        "iteration": 976,
                        "passed_time": 18.72282614,
                        "remaining_time": 172.9130606,
                        "test": [
                          0.9018229912,
                          0.6001605591
                        ]
                      },
                      {
                        "learn": [
                          0.9238381676,
                          0.5639499635
                        ],
                        "iteration": 977,
                        "passed_time": 18.73539501,
                        "remaining_time": 172.8330611,
                        "test": [
                          0.9018229912,
                          0.6000765831
                        ]
                      },
                      {
                        "learn": [
                          0.9237869554,
                          0.5637052417
                        ],
                        "iteration": 978,
                        "passed_time": 18.74817132,
                        "remaining_time": 172.7551108,
                        "test": [
                          0.9018229912,
                          0.5998930829
                        ]
                      },
                      {
                        "learn": [
                          0.9237869554,
                          0.5634548584
                        ],
                        "iteration": 979,
                        "passed_time": 18.76176708,
                        "remaining_time": 172.6848358,
                        "test": [
                          0.9018229912,
                          0.5996879835
                        ]
                      },
                      {
                        "learn": [
                          0.9237869554,
                          0.5631643942
                        ],
                        "iteration": 980,
                        "passed_time": 18.77417008,
                        "remaining_time": 172.6037104,
                        "test": [
                          0.9018229912,
                          0.5994412263
                        ]
                      },
                      {
                        "learn": [
                          0.9238765612,
                          0.563035978
                        ],
                        "iteration": 981,
                        "passed_time": 18.78665114,
                        "remaining_time": 172.523442,
                        "test": [
                          0.9018229912,
                          0.5993652446
                        ]
                      },
                      {
                        "learn": [
                          0.9242285748,
                          0.5627661354
                        ],
                        "iteration": 982,
                        "passed_time": 18.79912653,
                        "remaining_time": 172.4432593,
                        "test": [
                          0.9019982687,
                          0.5991374094
                        ]
                      },
                      {
                        "learn": [
                          0.9242285748,
                          0.5625660687
                        ],
                        "iteration": 983,
                        "passed_time": 18.81165465,
                        "remaining_time": 172.3636975,
                        "test": [
                          0.9019982687,
                          0.598997804
                        ]
                      },
                      {
                        "learn": [
                          0.9242669685,
                          0.562116556
                        ],
                        "iteration": 984,
                        "passed_time": 18.82417824,
                        "remaining_time": 172.2842303,
                        "test": [
                          0.9019982687,
                          0.5986331504
                        ]
                      },
                      {
                        "learn": [
                          0.9242669685,
                          0.5619882148
                        ],
                        "iteration": 985,
                        "passed_time": 18.83673133,
                        "remaining_time": 172.2051686,
                        "test": [
                          0.9019982687,
                          0.5984711025
                        ]
                      },
                      {
                        "learn": [
                          0.9242669685,
                          0.5617400811
                        ],
                        "iteration": 986,
                        "passed_time": 18.84904987,
                        "remaining_time": 172.1240997,
                        "test": [
                          0.9019982687,
                          0.5982286724
                        ]
                      },
                      {
                        "learn": [
                          0.9243117713,
                          0.5615858317
                        ],
                        "iteration": 987,
                        "passed_time": 18.86156061,
                        "remaining_time": 172.0449233,
                        "test": [
                          0.9019982687,
                          0.5980876368
                        ]
                      },
                      {
                        "learn": [
                          0.9243885585,
                          0.5612339903
                        ],
                        "iteration": 988,
                        "passed_time": 18.87397435,
                        "remaining_time": 171.9649979,
                        "test": [
                          0.9021735462,
                          0.5977254035
                        ]
                      },
                      {
                        "learn": [
                          0.9245229671,
                          0.5609592734
                        ],
                        "iteration": 989,
                        "passed_time": 18.88651684,
                        "remaining_time": 171.8863806,
                        "test": [
                          0.9021735462,
                          0.5974918111
                        ]
                      },
                      {
                        "learn": [
                          0.9245229671,
                          0.5608024745
                        ],
                        "iteration": 990,
                        "passed_time": 18.89906078,
                        "remaining_time": 171.8079098,
                        "test": [
                          0.9021735462,
                          0.5973355571
                        ]
                      },
                      {
                        "learn": [
                          0.9246936713,
                          0.5606045449
                        ],
                        "iteration": 991,
                        "passed_time": 18.91289407,
                        "remaining_time": 171.74128,
                        "test": [
                          0.9020233429,
                          0.5972233814
                        ]
                      },
                      {
                        "learn": [
                          0.9248083056,
                          0.5602719003
                        ],
                        "iteration": 992,
                        "passed_time": 18.92537433,
                        "remaining_time": 171.662484,
                        "test": [
                          0.9020233429,
                          0.59684857
                        ]
                      },
                      {
                        "learn": [
                          0.9248083056,
                          0.5600580358
                        ],
                        "iteration": 993,
                        "passed_time": 18.93781339,
                        "remaining_time": 171.5834481,
                        "test": [
                          0.9016468809,
                          0.5966586524
                        ]
                      },
                      {
                        "learn": [
                          0.9248083056,
                          0.5598147013
                        ],
                        "iteration": 994,
                        "passed_time": 18.95023659,
                        "remaining_time": 171.5044025,
                        "test": [
                          0.9016468809,
                          0.5963998305
                        ]
                      },
                      {
                        "learn": [
                          0.9249165308,
                          0.5595167759
                        ],
                        "iteration": 995,
                        "passed_time": 18.96258722,
                        "remaining_time": 171.4248347,
                        "test": [
                          0.9016468809,
                          0.5962287249
                        ]
                      },
                      {
                        "learn": [
                          0.9249165308,
                          0.5592163758
                        ],
                        "iteration": 996,
                        "passed_time": 18.97488539,
                        "remaining_time": 171.344928,
                        "test": [
                          0.9016468809,
                          0.5959738268
                        ]
                      },
                      {
                        "learn": [
                          0.9250247559,
                          0.5588402759
                        ],
                        "iteration": 997,
                        "passed_time": 18.98725335,
                        "remaining_time": 171.2657862,
                        "test": [
                          0.9020233429,
                          0.5956871718
                        ]
                      },
                      {
                        "learn": [
                          0.9250247559,
                          0.5584971705
                        ],
                        "iteration": 998,
                        "passed_time": 18.99975949,
                        "remaining_time": 171.1880232,
                        "test": [
                          0.9020233429,
                          0.595290468
                        ]
                      },
                      {
                        "learn": [
                          0.9250247559,
                          0.5581459289
                        ],
                        "iteration": 999,
                        "passed_time": 19.01745309,
                        "remaining_time": 171.1570778,
                        "test": [
                          0.9020233429,
                          0.5949830941
                        ]
                      },
                      {
                        "learn": [
                          0.9251724087,
                          0.5577839641
                        ],
                        "iteration": 1000,
                        "passed_time": 19.04278752,
                        "remaining_time": 171.19485,
                        "test": [
                          0.9020233429,
                          0.5946213741
                        ]
                      },
                      {
                        "learn": [
                          0.9253068173,
                          0.5574620051
                        ],
                        "iteration": 1001,
                        "passed_time": 19.05652693,
                        "remaining_time": 171.1283726,
                        "test": [
                          0.9020233429,
                          0.5943462704
                        ]
                      },
                      {
                        "learn": [
                          0.9253068173,
                          0.5571218992
                        ],
                        "iteration": 1002,
                        "passed_time": 19.06896162,
                        "remaining_time": 171.0502968,
                        "test": [
                          0.9018731397,
                          0.5941321134
                        ]
                      },
                      {
                        "learn": [
                          0.9251724087,
                          0.5568933747
                        ],
                        "iteration": 1003,
                        "passed_time": 19.10259011,
                        "remaining_time": 171.1622516,
                        "test": [
                          0.9026952746,
                          0.5938900134
                        ]
                      },
                      {
                        "learn": [
                          0.9251724087,
                          0.5566232321
                        ],
                        "iteration": 1004,
                        "passed_time": 19.12074963,
                        "remaining_time": 171.1354656,
                        "test": [
                          0.9025199971,
                          0.5936333184
                        ]
                      },
                      {
                        "learn": [
                          0.9252491959,
                          0.5562833512
                        ],
                        "iteration": 1005,
                        "passed_time": 19.13338218,
                        "remaining_time": 171.0592837,
                        "test": [
                          0.9023447196,
                          0.5931979636
                        ]
                      },
                      {
                        "learn": [
                          0.9252491959,
                          0.5561667831
                        ],
                        "iteration": 1006,
                        "passed_time": 19.14589285,
                        "remaining_time": 170.9821394,
                        "test": [
                          0.9023447196,
                          0.5930223109
                        ]
                      },
                      {
                        "learn": [
                          0.9252491959,
                          0.5560942326
                        ],
                        "iteration": 1007,
                        "passed_time": 19.15822674,
                        "remaining_time": 170.9035465,
                        "test": [
                          0.9023447196,
                          0.5930006385
                        ]
                      },
                      {
                        "learn": [
                          0.9252043931,
                          0.5558132169
                        ],
                        "iteration": 1008,
                        "passed_time": 19.17064876,
                        "remaining_time": 170.8258701,
                        "test": [
                          0.9023447196,
                          0.5927222711
                        ]
                      },
                      {
                        "learn": [
                          0.9252043931,
                          0.5555365129
                        ],
                        "iteration": 1009,
                        "passed_time": 19.18311853,
                        "remaining_time": 170.7487481,
                        "test": [
                          0.9023447196,
                          0.5925050338
                        ]
                      },
                      {
                        "learn": [
                          0.9252043931,
                          0.5553919369
                        ],
                        "iteration": 1010,
                        "passed_time": 19.19539998,
                        "remaining_time": 170.6700796,
                        "test": [
                          0.9023447196,
                          0.5924320224
                        ]
                      },
                      {
                        "learn": [
                          0.9252043931,
                          0.5552069802
                        ],
                        "iteration": 1011,
                        "passed_time": 19.20781828,
                        "remaining_time": 170.5927576,
                        "test": [
                          0.9023447196,
                          0.5923184532
                        ]
                      },
                      {
                        "learn": [
                          0.9251659995,
                          0.554937475
                        ],
                        "iteration": 1012,
                        "passed_time": 19.22023861,
                        "remaining_time": 170.5155818,
                        "test": [
                          0.9016978622,
                          0.5920396091
                        ]
                      },
                      {
                        "learn": [
                          0.9253454238,
                          0.5544827507
                        ],
                        "iteration": 1013,
                        "passed_time": 19.23748406,
                        "remaining_time": 170.4812937,
                        "test": [
                          0.9016978622,
                          0.5918332996
                        ]
                      },
                      {
                        "learn": [
                          0.9253902267,
                          0.5541674281
                        ],
                        "iteration": 1014,
                        "passed_time": 19.26520506,
                        "remaining_time": 170.5397709,
                        "test": [
                          0.9016978622,
                          0.5915888526
                        ]
                      },
                      {
                        "learn": [
                          0.9253006209,
                          0.5538263098
                        ],
                        "iteration": 1015,
                        "passed_time": 19.28652772,
                        "remaining_time": 170.541501,
                        "test": [
                          0.9016978622,
                          0.5911550747
                        ]
                      },
                      {
                        "learn": [
                          0.9253006209,
                          0.5535796009
                        ],
                        "iteration": 1016,
                        "passed_time": 19.29890735,
                        "remaining_time": 170.4641934,
                        "test": [
                          0.9016978622,
                          0.5910873806
                        ]
                      },
                      {
                        "learn": [
                          0.9254088461,
                          0.5534228394
                        ],
                        "iteration": 1017,
                        "passed_time": 19.31122261,
                        "remaining_time": 170.3864454,
                        "test": [
                          0.9016978622,
                          0.5909612333
                        ]
                      },
                      {
                        "learn": [
                          0.925561874,
                          0.5532771762
                        ],
                        "iteration": 1018,
                        "passed_time": 19.3233581,
                        "remaining_time": 170.3072415,
                        "test": [
                          0.9016978622,
                          0.5909167151
                        ]
                      },
                      {
                        "learn": [
                          0.9255234804,
                          0.5530615495
                        ],
                        "iteration": 1019,
                        "passed_time": 19.33571641,
                        "remaining_time": 170.2301307,
                        "test": [
                          0.9021212598,
                          0.5906277865
                        ]
                      },
                      {
                        "learn": [
                          0.9254786776,
                          0.5529314462
                        ],
                        "iteration": 1020,
                        "passed_time": 19.3481009,
                        "remaining_time": 170.1533771,
                        "test": [
                          0.9021212598,
                          0.5905187278
                        ]
                      },
                      {
                        "learn": [
                          0.9255234804,
                          0.5527094456
                        ],
                        "iteration": 1021,
                        "passed_time": 19.36078446,
                        "remaining_time": 170.0793766,
                        "test": [
                          0.9021212598,
                          0.5903845863
                        ]
                      },
                      {
                        "learn": [
                          0.9255234804,
                          0.5524889073
                        ],
                        "iteration": 1022,
                        "passed_time": 19.37337472,
                        "remaining_time": 170.0046773,
                        "test": [
                          0.9021212598,
                          0.5900829697
                        ]
                      },
                      {
                        "learn": [
                          0.9256197083,
                          0.5520949978
                        ],
                        "iteration": 1023,
                        "passed_time": 19.38806159,
                        "remaining_time": 169.9484773,
                        "test": [
                          0.9021212598,
                          0.5896797752
                        ]
                      },
                      {
                        "learn": [
                          0.9256325268,
                          0.5518311167
                        ],
                        "iteration": 1024,
                        "passed_time": 19.40262914,
                        "remaining_time": 169.8913137,
                        "test": [
                          0.9021212598,
                          0.5896346702
                        ]
                      },
                      {
                        "learn": [
                          0.9258369798,
                          0.5516453726
                        ],
                        "iteration": 1025,
                        "passed_time": 19.4150296,
                        "remaining_time": 169.8152784,
                        "test": [
                          0.9021212598,
                          0.5895520511
                        ]
                      },
                      {
                        "learn": [
                          0.9259780105,
                          0.5513627071
                        ],
                        "iteration": 1026,
                        "passed_time": 19.42737149,
                        "remaining_time": 169.7388553,
                        "test": [
                          0.9016205016,
                          0.589219631
                        ]
                      },
                      {
                        "learn": [
                          0.9258697854,
                          0.5509949308
                        ],
                        "iteration": 1027,
                        "passed_time": 19.43979475,
                        "remaining_time": 169.663267,
                        "test": [
                          0.9017707048,
                          0.5888247974
                        ]
                      },
                      {
                        "learn": [
                          0.9258697854,
                          0.5506883818
                        ],
                        "iteration": 1028,
                        "passed_time": 19.45229208,
                        "remaining_time": 169.5884473,
                        "test": [
                          0.9017707048,
                          0.5883239855
                        ]
                      },
                      {
                        "learn": [
                          0.9258185733,
                          0.5503474135
                        ],
                        "iteration": 1029,
                        "passed_time": 19.46476618,
                        "remaining_time": 169.5135463,
                        "test": [
                          0.9017707048,
                          0.5879079562
                        ]
                      },
                      {
                        "learn": [
                          0.9260033727,
                          0.5500227175
                        ],
                        "iteration": 1030,
                        "passed_time": 19.47713921,
                        "remaining_time": 169.437887,
                        "test": [
                          0.9021941024,
                          0.5874800823
                        ]
                      },
                      {
                        "learn": [
                          0.925913767,
                          0.5498822658
                        ],
                        "iteration": 1031,
                        "passed_time": 19.48939329,
                        "remaining_time": 169.3613169,
                        "test": [
                          0.9021941024,
                          0.5874566864
                        ]
                      },
                      {
                        "learn": [
                          0.9258817826,
                          0.5496953594
                        ],
                        "iteration": 1032,
                        "passed_time": 19.50195434,
                        "remaining_time": 169.2875359,
                        "test": [
                          0.9021941024,
                          0.5873936128
                        ]
                      },
                      {
                        "learn": [
                          0.925900402,
                          0.5494170807
                        ],
                        "iteration": 1033,
                        "passed_time": 19.51479379,
                        "remaining_time": 169.2162874,
                        "test": [
                          0.9023693799,
                          0.5871204159
                        ]
                      },
                      {
                        "learn": [
                          0.925900402,
                          0.5491795577
                        ],
                        "iteration": 1034,
                        "passed_time": 19.52735145,
                        "remaining_time": 169.1427109,
                        "test": [
                          0.9023693799,
                          0.586828627
                        ]
                      },
                      {
                        "learn": [
                          0.9258873706,
                          0.5488487877
                        ],
                        "iteration": 1035,
                        "passed_time": 19.53963519,
                        "remaining_time": 169.0668821,
                        "test": [
                          0.9023693799,
                          0.5865592806
                        ]
                      },
                      {
                        "learn": [
                          0.9259321735,
                          0.5486104399
                        ],
                        "iteration": 1036,
                        "passed_time": 19.55239674,
                        "remaining_time": 168.9953057,
                        "test": [
                          0.9023693799,
                          0.5863948491
                        ]
                      },
                      {
                        "learn": [
                          0.9259705671,
                          0.5484719004
                        ],
                        "iteration": 1037,
                        "passed_time": 19.56473548,
                        "remaining_time": 168.9201921,
                        "test": [
                          0.9025195831,
                          0.58625209
                        ]
                      },
                      {
                        "learn": [
                          0.9261870173,
                          0.5482814321
                        ],
                        "iteration": 1038,
                        "passed_time": 19.57816019,
                        "remaining_time": 168.8545654,
                        "test": [
                          0.9025195831,
                          0.5862308944
                        ]
                      },
                      {
                        "learn": [
                          0.9261870173,
                          0.5481194215
                        ],
                        "iteration": 1039,
                        "passed_time": 19.59065938,
                        "remaining_time": 168.7810654,
                        "test": [
                          0.9025195831,
                          0.5860476875
                        ]
                      },
                      {
                        "learn": [
                          0.9261486237,
                          0.5479807321
                        ],
                        "iteration": 1040,
                        "passed_time": 19.6047035,
                        "remaining_time": 168.7209785,
                        "test": [
                          0.9023693799,
                          0.5859215402
                        ]
                      },
                      {
                        "learn": [
                          0.9260523958,
                          0.5476197796
                        ],
                        "iteration": 1041,
                        "passed_time": 19.61715782,
                        "remaining_time": 168.6473126,
                        "test": [
                          0.9025446574,
                          0.5854714072
                        ]
                      },
                      {
                        "learn": [
                          0.9260523958,
                          0.5474596438
                        ],
                        "iteration": 1042,
                        "passed_time": 19.62945295,
                        "remaining_time": 168.572397,
                        "test": [
                          0.9025446574,
                          0.5853520807
                        ]
                      },
                      {
                        "learn": [
                          0.9260403986,
                          0.5471049903
                        ],
                        "iteration": 1043,
                        "passed_time": 19.64435234,
                        "remaining_time": 168.5199421,
                        "test": [
                          0.9025446574,
                          0.5852456989
                        ]
                      },
                      {
                        "learn": [
                          0.9260403986,
                          0.5468235621
                        ],
                        "iteration": 1044,
                        "passed_time": 19.65675771,
                        "remaining_time": 168.4461869,
                        "test": [
                          0.9031915147,
                          0.5849574671
                        ]
                      },
                      {
                        "learn": [
                          0.9260468079,
                          0.5465340727
                        ],
                        "iteration": 1045,
                        "passed_time": 19.66899582,
                        "remaining_time": 168.3711171,
                        "test": [
                          0.9031915147,
                          0.5847017622
                        ]
                      },
                      {
                        "learn": [
                          0.9260468079,
                          0.5463079853
                        ],
                        "iteration": 1046,
                        "passed_time": 19.68129966,
                        "remaining_time": 168.2967296,
                        "test": [
                          0.9031915147,
                          0.584503557
                        ]
                      },
                      {
                        "learn": [
                          0.9260468079,
                          0.5460490159
                        ],
                        "iteration": 1047,
                        "passed_time": 19.69352288,
                        "remaining_time": 168.2217717,
                        "test": [
                          0.9031915147,
                          0.5842469353
                        ]
                      },
                      {
                        "learn": [
                          0.9260403986,
                          0.5458098807
                        ],
                        "iteration": 1048,
                        "passed_time": 19.70601049,
                        "remaining_time": 168.1491896,
                        "test": [
                          0.9031915147,
                          0.5839398547
                        ]
                      },
                      {
                        "learn": [
                          0.9260403986,
                          0.545555298
                        ],
                        "iteration": 1049,
                        "passed_time": 19.71833222,
                        "remaining_time": 168.075308,
                        "test": [
                          0.9031915147,
                          0.5838281557
                        ]
                      },
                      {
                        "learn": [
                          0.9260468079,
                          0.545353694
                        ],
                        "iteration": 1050,
                        "passed_time": 19.73044837,
                        "remaining_time": 167.999793,
                        "test": [
                          0.9031915147,
                          0.5836963979
                        ]
                      },
                      {
                        "learn": [
                          0.9260468079,
                          0.5450217243
                        ],
                        "iteration": 1051,
                        "passed_time": 19.74292758,
                        "remaining_time": 167.9274867,
                        "test": [
                          0.9025446574,
                          0.5832123811
                        ]
                      },
                      {
                        "learn": [
                          0.926002005,
                          0.5449253653
                        ],
                        "iteration": 1052,
                        "passed_time": 19.75527457,
                        "remaining_time": 167.8541705,
                        "test": [
                          0.9031915147,
                          0.5832098141
                        ]
                      },
                      {
                        "learn": [
                          0.926002005,
                          0.5448085347
                        ],
                        "iteration": 1053,
                        "passed_time": 19.76770731,
                        "remaining_time": 167.7816979,
                        "test": [
                          0.9025446574,
                          0.5831723733
                        ]
                      },
                      {
                        "learn": [
                          0.925848977,
                          0.544599207
                        ],
                        "iteration": 1054,
                        "passed_time": 19.78005514,
                        "remaining_time": 167.7086192,
                        "test": [
                          0.9025446574,
                          0.5830640114
                        ]
                      },
                      {
                        "learn": [
                          0.926002005,
                          0.5444171748
                        ],
                        "iteration": 1055,
                        "passed_time": 19.79246201,
                        "remaining_time": 167.6361555,
                        "test": [
                          0.9031915147,
                          0.582907024
                        ]
                      },
                      {
                        "learn": [
                          0.92605343,
                          0.5441734279
                        ],
                        "iteration": 1056,
                        "passed_time": 19.80472762,
                        "remaining_time": 167.5626103,
                        "test": [
                          0.9031915147,
                          0.5825502546
                        ]
                      },
                      {
                        "learn": [
                          0.92605343,
                          0.5438041518
                        ],
                        "iteration": 1057,
                        "passed_time": 19.81690239,
                        "remaining_time": 167.4884132,
                        "test": [
                          0.9031915147,
                          0.5822868122
                        ]
                      },
                      {
                        "learn": [
                          0.9261430357,
                          0.5435338217
                        ],
                        "iteration": 1058,
                        "passed_time": 19.82938365,
                        "remaining_time": 167.4169209,
                        "test": [
                          0.9031915147,
                          0.5819359102
                        ]
                      },
                      {
                        "learn": [
                          0.9261430357,
                          0.5433746607
                        ],
                        "iteration": 1059,
                        "passed_time": 19.85379875,
                        "remaining_time": 167.4461895,
                        "test": [
                          0.9031915147,
                          0.5817708186
                        ]
                      },
                      {
                        "learn": [
                          0.9261430357,
                          0.5432129501
                        ],
                        "iteration": 1060,
                        "passed_time": 19.86638579,
                        "remaining_time": 167.3757046,
                        "test": [
                          0.9030162373,
                          0.5816854125
                        ]
                      },
                      {
                        "learn": [
                          0.9261878386,
                          0.5428194156
                        ],
                        "iteration": 1061,
                        "passed_time": 19.87893201,
                        "remaining_time": 167.3049852,
                        "test": [
                          0.9030162373,
                          0.5813197321
                        ]
                      },
                      {
                        "learn": [
                          0.9262960637,
                          0.5425476608
                        ],
                        "iteration": 1062,
                        "passed_time": 19.89113865,
                        "remaining_time": 167.2315203,
                        "test": [
                          0.9030162373,
                          0.5810263297
                        ]
                      },
                      {
                        "learn": [
                          0.9263408666,
                          0.5423566675
                        ],
                        "iteration": 1063,
                        "passed_time": 19.90381082,
                        "remaining_time": 167.1620804,
                        "test": [
                          0.9030162373,
                          0.5808406659
                        ]
                      },
                      {
                        "learn": [
                          0.9263344573,
                          0.5420114624
                        ],
                        "iteration": 1064,
                        "passed_time": 19.91730473,
                        "remaining_time": 167.0996411,
                        "test": [
                          0.9031915147,
                          0.580573153
                        ]
                      },
                      {
                        "learn": [
                          0.926424063,
                          0.5416832795
                        ],
                        "iteration": 1065,
                        "passed_time": 19.92979673,
                        "remaining_time": 167.0288968,
                        "test": [
                          0.9031915147,
                          0.5802892483
                        ]
                      },
                      {
                        "learn": [
                          0.9265008503,
                          0.5413650325
                        ],
                        "iteration": 1066,
                        "passed_time": 19.9422908,
                        "remaining_time": 166.958279,
                        "test": [
                          0.9030413115,
                          0.5798391886
                        ]
                      },
                      {
                        "learn": [
                          0.9265008503,
                          0.5411779386
                        ],
                        "iteration": 1067,
                        "passed_time": 19.95483593,
                        "remaining_time": 166.8881971,
                        "test": [
                          0.9030413115,
                          0.5796535615
                        ]
                      },
                      {
                        "learn": [
                          0.9265008503,
                          0.5410580335
                        ],
                        "iteration": 1068,
                        "passed_time": 19.96712348,
                        "remaining_time": 166.8160709,
                        "test": [
                          0.9031915147,
                          0.579543366
                        ]
                      },
                      {
                        "learn": [
                          0.9265008503,
                          0.540772556
                        ],
                        "iteration": 1069,
                        "passed_time": 19.9795376,
                        "remaining_time": 166.7451129,
                        "test": [
                          0.9030413115,
                          0.5793262753
                        ]
                      },
                      {
                        "learn": [
                          0.9265008503,
                          0.5404578334
                        ],
                        "iteration": 1070,
                        "passed_time": 20.00262513,
                        "remaining_time": 166.7632491,
                        "test": [
                          0.9031915147,
                          0.5791069111
                        ]
                      },
                      {
                        "learn": [
                          0.9264046224,
                          0.5402093622
                        ],
                        "iteration": 1071,
                        "passed_time": 20.01696179,
                        "remaining_time": 166.708428,
                        "test": [
                          0.9025446574,
                          0.5788345577
                        ]
                      },
                      {
                        "learn": [
                          0.926443016,
                          0.5399594662
                        ],
                        "iteration": 1072,
                        "passed_time": 20.02935809,
                        "remaining_time": 166.6375393,
                        "test": [
                          0.9025446574,
                          0.5786182005
                        ]
                      },
                      {
                        "learn": [
                          0.926494441,
                          0.5396818249
                        ],
                        "iteration": 1073,
                        "passed_time": 20.04302058,
                        "remaining_time": 166.5772827,
                        "test": [
                          0.9025446574,
                          0.5783103865
                        ]
                      },
                      {
                        "learn": [
                          0.9265840467,
                          0.5394264174
                        ],
                        "iteration": 1074,
                        "passed_time": 20.05555681,
                        "remaining_time": 166.5077624,
                        "test": [
                          0.9025446574,
                          0.5781045171
                        ]
                      },
                      {
                        "learn": [
                          0.9265840467,
                          0.5389951266
                        ],
                        "iteration": 1075,
                        "passed_time": 20.0679426,
                        "remaining_time": 166.4371001,
                        "test": [
                          0.9025446574,
                          0.5777646163
                        ]
                      },
                      {
                        "learn": [
                          0.9264878189,
                          0.5386906773
                        ],
                        "iteration": 1076,
                        "passed_time": 20.08987571,
                        "remaining_time": 166.4456462,
                        "test": [
                          0.9025446574,
                          0.5775525495
                        ]
                      },
                      {
                        "learn": [
                          0.9265512411,
                          0.5383600573
                        ],
                        "iteration": 1077,
                        "passed_time": 20.10264577,
                        "remaining_time": 166.3782983,
                        "test": [
                          0.9025446574,
                          0.5772384282
                        ]
                      },
                      {
                        "learn": [
                          0.9264814096,
                          0.5381593157
                        ],
                        "iteration": 1078,
                        "passed_time": 20.11845725,
                        "remaining_time": 166.3361975,
                        "test": [
                          0.9025446574,
                          0.5770315686
                        ]
                      },
                      {
                        "learn": [
                          0.926443016,
                          0.5378848238
                        ],
                        "iteration": 1079,
                        "passed_time": 20.13091575,
                        "remaining_time": 166.2664523,
                        "test": [
                          0.9025446574,
                          0.5766637614
                        ]
                      },
                      {
                        "learn": [
                          0.926443016,
                          0.5378232216
                        ],
                        "iteration": 1080,
                        "passed_time": 20.14971583,
                        "remaining_time": 166.2491355,
                        "test": [
                          0.9025446574,
                          0.5766401821
                        ]
                      },
                      {
                        "learn": [
                          0.9265328346,
                          0.5375423933
                        ],
                        "iteration": 1081,
                        "passed_time": 20.16216764,
                        "remaining_time": 166.1794926,
                        "test": [
                          0.9025446574,
                          0.5762453852
                        ]
                      },
                      {
                        "learn": [
                          0.9266160311,
                          0.5373016833
                        ],
                        "iteration": 1082,
                        "passed_time": 20.18063234,
                        "remaining_time": 166.1594632,
                        "test": [
                          0.9025446574,
                          0.5759271567
                        ]
                      },
                      {
                        "learn": [
                          0.9266160311,
                          0.537098842
                        ],
                        "iteration": 1083,
                        "passed_time": 20.1930971,
                        "remaining_time": 166.0900865,
                        "test": [
                          0.9025446574,
                          0.5757253944
                        ]
                      },
                      {
                        "learn": [
                          0.9267940877,
                          0.536816364
                        ],
                        "iteration": 1084,
                        "passed_time": 20.20546945,
                        "remaining_time": 166.0200554,
                        "test": [
                          0.9011241078,
                          0.5756812429
                        ]
                      },
                      {
                        "learn": [
                          0.9266978598,
                          0.5364927178
                        ],
                        "iteration": 1085,
                        "passed_time": 20.21827685,
                        "remaining_time": 165.9537015,
                        "test": [
                          0.9011241078,
                          0.5755264558
                        ]
                      },
                      {
                        "learn": [
                          0.9266978598,
                          0.5362082902
                        ],
                        "iteration": 1086,
                        "passed_time": 20.23048824,
                        "remaining_time": 165.882559,
                        "test": [
                          0.901274311,
                          0.5755107607
                        ]
                      },
                      {
                        "learn": [
                          0.9266978598,
                          0.5359557322
                        ],
                        "iteration": 1087,
                        "passed_time": 20.24284107,
                        "remaining_time": 165.8126835,
                        "test": [
                          0.9011241078,
                          0.5753598974
                        ]
                      },
                      {
                        "learn": [
                          0.9266978598,
                          0.5357107854
                        ],
                        "iteration": 1088,
                        "passed_time": 20.26328072,
                        "remaining_time": 165.8090858,
                        "test": [
                          0.9011241078,
                          0.5750986186
                        ]
                      },
                      {
                        "learn": [
                          0.9266978598,
                          0.5356690923
                        ],
                        "iteration": 1089,
                        "passed_time": 20.27594118,
                        "remaining_time": 165.7418678,
                        "test": [
                          0.9009739045,
                          0.5751139102
                        ]
                      },
                      {
                        "learn": [
                          0.9266146634,
                          0.5354452921
                        ],
                        "iteration": 1090,
                        "passed_time": 20.29944452,
                        "remaining_time": 165.7632917,
                        "test": [
                          0.901149182,
                          0.5748472775
                        ]
                      },
                      {
                        "learn": [
                          0.9266594662,
                          0.5353393722
                        ],
                        "iteration": 1091,
                        "passed_time": 20.31353389,
                        "remaining_time": 165.7078387,
                        "test": [
                          0.901149182,
                          0.574836643
                        ]
                      },
                      {
                        "learn": [
                          0.9265325159,
                          0.5350424216
                        ],
                        "iteration": 1092,
                        "passed_time": 20.32605572,
                        "remaining_time": 165.6396873,
                        "test": [
                          0.901149182,
                          0.5744256376
                        ]
                      },
                      {
                        "learn": [
                          0.9264557287,
                          0.5347761034
                        ],
                        "iteration": 1093,
                        "passed_time": 20.33985287,
                        "remaining_time": 165.5820198,
                        "test": [
                          0.901149182,
                          0.5743414783
                        ]
                      },
                      {
                        "learn": [
                          0.9265005316,
                          0.5345435295
                        ],
                        "iteration": 1094,
                        "passed_time": 20.35242699,
                        "remaining_time": 165.5144862,
                        "test": [
                          0.901149182,
                          0.5741608017
                        ]
                      },
                      {
                        "learn": [
                          0.926462138,
                          0.5343315398
                        ],
                        "iteration": 1095,
                        "passed_time": 20.36487628,
                        "remaining_time": 165.4460387,
                        "test": [
                          0.901149182,
                          0.5739922264
                        ]
                      },
                      {
                        "learn": [
                          0.926462138,
                          0.534114226
                        ],
                        "iteration": 1096,
                        "passed_time": 20.37738184,
                        "remaining_time": 165.37815,
                        "test": [
                          0.901149182,
                          0.5738458736
                        ]
                      },
                      {
                        "learn": [
                          0.9266413494,
                          0.5338749408
                        ],
                        "iteration": 1097,
                        "passed_time": 20.39004457,
                        "remaining_time": 165.3116364,
                        "test": [
                          0.901149182,
                          0.5734367384
                        ]
                      },
                      {
                        "learn": [
                          0.9266413494,
                          0.5335124135
                        ],
                        "iteration": 1098,
                        "passed_time": 20.40250979,
                        "remaining_time": 165.2436212,
                        "test": [
                          0.901149182,
                          0.5731847006
                        ]
                      },
                      {
                        "learn": [
                          0.9265965466,
                          0.5333787858
                        ],
                        "iteration": 1099,
                        "passed_time": 20.41470393,
                        "remaining_time": 165.1735136,
                        "test": [
                          0.901149182,
                          0.5731076187
                        ]
                      },
                      {
                        "learn": [
                          0.9265581529,
                          0.5331892173
                        ],
                        "iteration": 1100,
                        "passed_time": 20.42722481,
                        "remaining_time": 165.1061522,
                        "test": [
                          0.901149182,
                          0.5729199013
                        ]
                      },
                      {
                        "learn": [
                          0.9266599688,
                          0.5329549188
                        ],
                        "iteration": 1101,
                        "passed_time": 20.43978312,
                        "remaining_time": 165.0391925,
                        "test": [
                          0.901149182,
                          0.5727768122
                        ]
                      },
                      {
                        "learn": [
                          0.9272709258,
                          0.5327376424
                        ],
                        "iteration": 1102,
                        "passed_time": 20.45221328,
                        "remaining_time": 164.9712978,
                        "test": [
                          0.8998788357,
                          0.5726431841
                        ]
                      },
                      {
                        "learn": [
                          0.927174698,
                          0.5324359676
                        ],
                        "iteration": 1103,
                        "passed_time": 20.46461441,
                        "remaining_time": 164.9032697,
                        "test": [
                          0.8998788357,
                          0.5723327665
                        ]
                      },
                      {
                        "learn": [
                          0.9272195008,
                          0.5321334679
                        ],
                        "iteration": 1104,
                        "passed_time": 20.47706994,
                        "remaining_time": 164.8357802,
                        "test": [
                          0.8998788357,
                          0.5721608909
                        ]
                      },
                      {
                        "learn": [
                          0.9271363044,
                          0.5317851508
                        ],
                        "iteration": 1105,
                        "passed_time": 20.48957867,
                        "remaining_time": 164.768818,
                        "test": [
                          0.8998788357,
                          0.5718318445
                        ]
                      },
                      {
                        "learn": [
                          0.927366728,
                          0.5316172913
                        ],
                        "iteration": 1106,
                        "passed_time": 20.5019949,
                        "remaining_time": 164.7012111,
                        "test": [
                          0.9004046681,
                          0.5716608857
                        ]
                      },
                      {
                        "learn": [
                          0.9275320719,
                          0.531420674
                        ],
                        "iteration": 1107,
                        "passed_time": 20.51429023,
                        "remaining_time": 164.6327335,
                        "test": [
                          0.9004046681,
                          0.5714657974
                        ]
                      },
                      {
                        "learn": [
                          0.9274686496,
                          0.5310127418
                        ],
                        "iteration": 1108,
                        "passed_time": 20.52738282,
                        "remaining_time": 164.570749,
                        "test": [
                          0.9005548713,
                          0.571033083
                        ]
                      },
                      {
                        "learn": [
                          0.9277693305,
                          0.5307299638
                        ],
                        "iteration": 1109,
                        "passed_time": 20.53980261,
                        "remaining_time": 164.5034642,
                        "test": [
                          0.9005548713,
                          0.5708737121
                        ]
                      },
                      {
                        "learn": [
                          0.9277573332,
                          0.5305627042
                        ],
                        "iteration": 1110,
                        "passed_time": 20.55201662,
                        "remaining_time": 164.4346316,
                        "test": [
                          0.9005548713,
                          0.5708147456
                        ]
                      },
                      {
                        "learn": [
                          0.9280773625,
                          0.5303819842
                        ],
                        "iteration": 1111,
                        "passed_time": 20.57291099,
                        "remaining_time": 164.4352814,
                        "test": [
                          0.9016065362,
                          0.5705714354
                        ]
                      },
                      {
                        "learn": [
                          0.9280325597,
                          0.5301314509
                        ],
                        "iteration": 1112,
                        "passed_time": 20.58652452,
                        "remaining_time": 164.3777569,
                        "test": [
                          0.9016065362,
                          0.5703529146
                        ]
                      },
                      {
                        "learn": [
                          0.928007531,
                          0.5298098294
                        ],
                        "iteration": 1113,
                        "passed_time": 20.5998525,
                        "remaining_time": 164.3180335,
                        "test": [
                          0.9016065362,
                          0.5700753539
                        ]
                      },
                      {
                        "learn": [
                          0.928007531,
                          0.5296562924
                        ],
                        "iteration": 1114,
                        "passed_time": 20.61200643,
                        "remaining_time": 164.2490378,
                        "test": [
                          0.9017567394,
                          0.5700323758
                        ]
                      },
                      {
                        "learn": [
                          0.928007531,
                          0.5294835212
                        ],
                        "iteration": 1115,
                        "passed_time": 20.62424868,
                        "remaining_time": 164.1808471,
                        "test": [
                          0.9017567394,
                          0.5698152852
                        ]
                      },
                      {
                        "learn": [
                          0.9279627282,
                          0.5292476104
                        ],
                        "iteration": 1116,
                        "passed_time": 20.6603359,
                        "remaining_time": 164.3023848,
                        "test": [
                          0.9017567394,
                          0.5696576378
                        ]
                      },
                      {
                        "learn": [
                          0.928217572,
                          0.5289911156
                        ],
                        "iteration": 1117,
                        "passed_time": 20.68590215,
                        "remaining_time": 164.3400563,
                        "test": [
                          0.9030270858,
                          0.5694731108
                        ]
                      },
                      {
                        "learn": [
                          0.928217572,
                          0.5288072836
                        ],
                        "iteration": 1118,
                        "passed_time": 20.71214013,
                        "remaining_time": 164.382946,
                        "test": [
                          0.9028518083,
                          0.5693834142
                        ]
                      },
                      {
                        "learn": [
                          0.9281727691,
                          0.5286068045
                        ],
                        "iteration": 1119,
                        "passed_time": 20.73687723,
                        "remaining_time": 164.4138123,
                        "test": [
                          0.9028518083,
                          0.5689024778
                        ]
                      },
                      {
                        "learn": [
                          0.9281791784,
                          0.5283247014
                        ],
                        "iteration": 1120,
                        "passed_time": 20.76317504,
                        "remaining_time": 164.4569413,
                        "test": [
                          0.9028518083,
                          0.5686938581
                        ]
                      },
                      {
                        "learn": [
                          0.928217572,
                          0.5281373451
                        ],
                        "iteration": 1121,
                        "passed_time": 20.80044668,
                        "remaining_time": 164.5867786,
                        "test": [
                          0.9028518083,
                          0.5685987342
                        ]
                      },
                      {
                        "learn": [
                          0.928217572,
                          0.5279247929
                        ],
                        "iteration": 1122,
                        "passed_time": 20.82732713,
                        "remaining_time": 164.634179,
                        "test": [
                          0.9027016051,
                          0.5685365407
                        ]
                      },
                      {
                        "learn": [
                          0.9281727691,
                          0.5278075499
                        ],
                        "iteration": 1123,
                        "passed_time": 20.84560993,
                        "remaining_time": 164.6135531,
                        "test": [
                          0.9027016051,
                          0.5684742371
                        ]
                      },
                      {
                        "learn": [
                          0.928217572,
                          0.5275409318
                        ],
                        "iteration": 1124,
                        "passed_time": 20.88908549,
                        "remaining_time": 164.7916744,
                        "test": [
                          0.9027016051,
                          0.568116881
                        ]
                      },
                      {
                        "learn": [
                          0.928217572,
                          0.527439961
                        ],
                        "iteration": 1125,
                        "passed_time": 20.9331814,
                        "remaining_time": 164.974291,
                        "test": [
                          0.9028518083,
                          0.5680483434
                        ]
                      },
                      {
                        "learn": [
                          0.9281791784,
                          0.5272740136
                        ],
                        "iteration": 1126,
                        "passed_time": 20.95354285,
                        "remaining_time": 164.9696413,
                        "test": [
                          0.9027016051,
                          0.5679295303
                        ]
                      },
                      {
                        "learn": [
                          0.9280773625,
                          0.5269547543
                        ],
                        "iteration": 1127,
                        "passed_time": 20.96718769,
                        "remaining_time": 164.9121358,
                        "test": [
                          0.9027016051,
                          0.5675090639
                        ]
                      },
                      {
                        "learn": [
                          0.9279691374,
                          0.526742727
                        ],
                        "iteration": 1128,
                        "passed_time": 21.0027893,
                        "remaining_time": 165.0272311,
                        "test": [
                          0.9027016051,
                          0.5672758748
                        ]
                      },
                      {
                        "learn": [
                          0.9282239813,
                          0.5264286418
                        ],
                        "iteration": 1129,
                        "passed_time": 21.04371695,
                        "remaining_time": 165.1838667,
                        "test": [
                          0.9028518083,
                          0.5669026036
                        ]
                      },
                      {
                        "learn": [
                          0.9284927985,
                          0.526255683
                        ],
                        "iteration": 1130,
                        "passed_time": 21.08371666,
                        "remaining_time": 165.3328763,
                        "test": [
                          0.9030270858,
                          0.5667952318
                        ]
                      },
                      {
                        "learn": [
                          0.9284927985,
                          0.5260345073
                        ],
                        "iteration": 1131,
                        "passed_time": 21.12433651,
                        "remaining_time": 165.48641,
                        "test": [
                          0.9028768825,
                          0.5666417281
                        ]
                      },
                      {
                        "learn": [
                          0.9282883455,
                          0.5258197055
                        ],
                        "iteration": 1132,
                        "passed_time": 21.16427237,
                        "remaining_time": 165.6342481,
                        "test": [
                          0.9028768825,
                          0.5664366655
                        ]
                      },
                      {
                        "learn": [
                          0.9284359983,
                          0.5255454387
                        ],
                        "iteration": 1133,
                        "passed_time": 21.21395129,
                        "remaining_time": 165.8579295,
                        "test": [
                          0.902453485,
                          0.5662039165
                        ]
                      },
                      {
                        "learn": [
                          0.9285191948,
                          0.525302779
                        ],
                        "iteration": 1134,
                        "passed_time": 21.27662893,
                        "remaining_time": 166.1826568,
                        "test": [
                          0.9026036882,
                          0.5660650445
                        ]
                      },
                      {
                        "learn": [
                          0.9284808012,
                          0.5251108109
                        ],
                        "iteration": 1135,
                        "passed_time": 21.33157695,
                        "remaining_time": 166.4463892,
                        "test": [
                          0.9026036882,
                          0.5658808108
                        ]
                      },
                      {
                        "learn": [
                          0.9284808012,
                          0.5250056034
                        ],
                        "iteration": 1136,
                        "passed_time": 21.37549117,
                        "remaining_time": 166.6235516,
                        "test": [
                          0.9026036882,
                          0.5658538578
                        ]
                      },
                      {
                        "learn": [
                          0.9285191948,
                          0.524755595
                        ],
                        "iteration": 1137,
                        "passed_time": 21.4149352,
                        "remaining_time": 166.7655147,
                        "test": [
                          0.9026036882,
                          0.5655839247
                        ]
                      },
                      {
                        "learn": [
                          0.9284808012,
                          0.5245474296
                        ],
                        "iteration": 1138,
                        "passed_time": 21.42968154,
                        "remaining_time": 166.7150203,
                        "test": [
                          0.9026036882,
                          0.5654841803
                        ]
                      },
                      {
                        "learn": [
                          0.9285770291,
                          0.5242472171
                        ],
                        "iteration": 1139,
                        "passed_time": 21.44528386,
                        "remaining_time": 166.6712412,
                        "test": [
                          0.9026036882,
                          0.5652401734
                        ]
                      },
                      {
                        "learn": [
                          0.9286218319,
                          0.5240559614
                        ],
                        "iteration": 1140,
                        "passed_time": 21.46518759,
                        "remaining_time": 166.6609087,
                        "test": [
                          0.9026036882,
                          0.5650596068
                        ]
                      },
                      {
                        "learn": [
                          0.9286666348,
                          0.5237893807
                        ],
                        "iteration": 1141,
                        "passed_time": 21.48446646,
                        "remaining_time": 166.6457127,
                        "test": [
                          0.9026036882,
                          0.5648054054
                        ]
                      },
                      {
                        "learn": [
                          0.928743422,
                          0.5236099356
                        ],
                        "iteration": 1142,
                        "passed_time": 21.50204265,
                        "remaining_time": 166.6173156,
                        "test": [
                          0.9026036882,
                          0.5645888648
                        ]
                      },
                      {
                        "learn": [
                          0.9287882249,
                          0.5233438048
                        ],
                        "iteration": 1143,
                        "passed_time": 21.52095523,
                        "remaining_time": 166.5992828,
                        "test": [
                          0.9026036882,
                          0.5644026142
                        ]
                      },
                      {
                        "learn": [
                          0.9288714214,
                          0.523252545
                        ],
                        "iteration": 1144,
                        "passed_time": 21.54060672,
                        "remaining_time": 166.5869629,
                        "test": [
                          0.9026036882,
                          0.5642609553
                        ]
                      },
                      {
                        "learn": [
                          0.9289796465,
                          0.5231658219
                        ],
                        "iteration": 1145,
                        "passed_time": 21.559745,
                        "remaining_time": 166.5706651,
                        "test": [
                          0.9026036882,
                          0.5642771637
                        ]
                      },
                      {
                        "learn": [
                          0.9290244493,
                          0.5229423966
                        ],
                        "iteration": 1146,
                        "passed_time": 21.57994795,
                        "remaining_time": 166.56258,
                        "test": [
                          0.9026036882,
                          0.5640645102
                        ]
                      },
                      {
                        "learn": [
                          0.9289796465,
                          0.522672404
                        ],
                        "iteration": 1147,
                        "passed_time": 21.59869708,
                        "remaining_time": 166.5432636,
                        "test": [
                          0.9026036882,
                          0.5637808989
                        ]
                      },
                      {
                        "learn": [
                          0.9289796465,
                          0.522618113
                        ],
                        "iteration": 1148,
                        "passed_time": 21.61750136,
                        "remaining_time": 166.524373,
                        "test": [
                          0.9026036882,
                          0.5637918635
                        ]
                      },
                      {
                        "learn": [
                          0.9292344903,
                          0.5221860724
                        ],
                        "iteration": 1149,
                        "passed_time": 21.63740143,
                        "remaining_time": 166.5139154,
                        "test": [
                          0.9026036882,
                          0.5633727539
                        ]
                      },
                      {
                        "learn": [
                          0.9290814623,
                          0.5220800025
                        ],
                        "iteration": 1150,
                        "passed_time": 21.66069523,
                        "remaining_time": 166.5295327,
                        "test": [
                          0.9027538914,
                          0.5632886679
                        ]
                      },
                      {
                        "learn": [
                          0.9291262652,
                          0.5219874304
                        ],
                        "iteration": 1151,
                        "passed_time": 21.67925512,
                        "remaining_time": 166.5087234,
                        "test": [
                          0.9026036882,
                          0.5630895093
                        ]
                      },
                      {
                        "learn": [
                          0.9292224931,
                          0.5216598099
                        ],
                        "iteration": 1152,
                        "passed_time": 21.70155812,
                        "remaining_time": 166.5166389,
                        "test": [
                          0.9026036882,
                          0.5630087603
                        ]
                      },
                      {
                        "learn": [
                          0.9291776902,
                          0.5215317312
                        ],
                        "iteration": 1153,
                        "passed_time": 21.72027799,
                        "remaining_time": 166.4970356,
                        "test": [
                          0.9027538914,
                          0.5629730431
                        ]
                      },
                      {
                        "learn": [
                          0.9291776902,
                          0.5213663087
                        ],
                        "iteration": 1154,
                        "passed_time": 21.73809132,
                        "remaining_time": 166.4704916,
                        "test": [
                          0.9023304939,
                          0.56285478
                        ]
                      },
                      {
                        "learn": [
                          0.9293187209,
                          0.5210833808
                        ],
                        "iteration": 1155,
                        "passed_time": 21.77358952,
                        "remaining_time": 166.579261,
                        "test": [
                          0.9021802907,
                          0.5624901998
                        ]
                      },
                      {
                        "learn": [
                          0.9292104958,
                          0.5208890506
                        ],
                        "iteration": 1156,
                        "passed_time": 21.81901855,
                        "remaining_time": 166.7636828,
                        "test": [
                          0.9023304939,
                          0.5622856138
                        ]
                      },
                      {
                        "learn": [
                          0.9292104958,
                          0.5206039106
                        ],
                        "iteration": 1157,
                        "passed_time": 21.86383179,
                        "remaining_time": 166.9430058,
                        "test": [
                          0.9024806971,
                          0.5618227927
                        ]
                      },
                      {
                        "learn": [
                          0.9292104958,
                          0.5204846054
                        ],
                        "iteration": 1158,
                        "passed_time": 21.90036601,
                        "remaining_time": 167.0587885,
                        "test": [
                          0.9024806971,
                          0.5617487546
                        ]
                      },
                      {
                        "learn": [
                          0.9293187209,
                          0.520288888
                        ],
                        "iteration": 1159,
                        "passed_time": 21.93862246,
                        "remaining_time": 167.1874332,
                        "test": [
                          0.9024806971,
                          0.5615242931
                        ]
                      },
                      {
                        "learn": [
                          0.9292419337,
                          0.5199780646
                        ],
                        "iteration": 1160,
                        "passed_time": 21.98761787,
                        "remaining_time": 167.397549,
                        "test": [
                          0.9024806971,
                          0.5611865925
                        ]
                      },
                      {
                        "learn": [
                          0.9293251302,
                          0.5197763107
                        ],
                        "iteration": 1161,
                        "passed_time": 22.02198333,
                        "remaining_time": 167.4959455,
                        "test": [
                          0.9024806971,
                          0.5609633778
                        ]
                      },
                      {
                        "learn": [
                          0.9292803273,
                          0.5194217322
                        ],
                        "iteration": 1162,
                        "passed_time": 22.03786584,
                        "remaining_time": 167.4536719,
                        "test": [
                          0.9030793722,
                          0.5605688743
                        ]
                      },
                      {
                        "learn": [
                          0.9292803273,
                          0.5193681536
                        ],
                        "iteration": 1163,
                        "passed_time": 22.05256132,
                        "remaining_time": 167.4024328,
                        "test": [
                          0.9030793722,
                          0.5605532159
                        ]
                      },
                      {
                        "learn": [
                          0.9292803273,
                          0.519302802
                        ],
                        "iteration": 1164,
                        "passed_time": 22.08805688,
                        "remaining_time": 167.5089979,
                        "test": [
                          0.9030793722,
                          0.5604809379
                        ]
                      },
                      {
                        "learn": [
                          0.9291840995,
                          0.519128006
                        ],
                        "iteration": 1165,
                        "passed_time": 22.10958285,
                        "remaining_time": 167.509481,
                        "test": [
                          0.9030793722,
                          0.560309429
                        ]
                      },
                      {
                        "learn": [
                          0.9291392966,
                          0.5189669328
                        ],
                        "iteration": 1166,
                        "passed_time": 22.13997891,
                        "remaining_time": 167.577064,
                        "test": [
                          0.9030793722,
                          0.5601429806
                        ]
                      },
                      {
                        "learn": [
                          0.9291971308,
                          0.5187757896
                        ],
                        "iteration": 1167,
                        "passed_time": 22.17975584,
                        "remaining_time": 167.715414,
                        "test": [
                          0.9030793722,
                          0.5601361232
                        ]
                      },
                      {
                        "learn": [
                          0.929011572,
                          0.5185731358
                        ],
                        "iteration": 1168,
                        "passed_time": 22.21864286,
                        "remaining_time": 167.8467366,
                        "test": [
                          0.9029291689,
                          0.5600067489
                        ]
                      },
                      {
                        "learn": [
                          0.9290883593,
                          0.5183777558
                        ],
                        "iteration": 1169,
                        "passed_time": 22.25478576,
                        "remaining_time": 167.9570584,
                        "test": [
                          0.9029291689,
                          0.5597900616
                        ]
                      },
                      {
                        "learn": [
                          0.9290883593,
                          0.5182547013
                        ],
                        "iteration": 1170,
                        "passed_time": 22.31294134,
                        "remaining_time": 168.2330991,
                        "test": [
                          0.9029291689,
                          0.5598153644
                        ]
                      },
                      {
                        "learn": [
                          0.9290883593,
                          0.5178637913
                        ],
                        "iteration": 1171,
                        "passed_time": 22.36339752,
                        "remaining_time": 168.4505745,
                        "test": [
                          0.9029291689,
                          0.5594480339
                        ]
                      },
                      {
                        "learn": [
                          0.9290883593,
                          0.5174510225
                        ],
                        "iteration": 1172,
                        "passed_time": 22.41332243,
                        "remaining_time": 168.6635951,
                        "test": [
                          0.9029291689,
                          0.5591105166
                        ]
                      },
                      {
                        "learn": [
                          0.9290883593,
                          0.5172273722
                        ],
                        "iteration": 1173,
                        "passed_time": 22.44097422,
                        "remaining_time": 168.708721,
                        "test": [
                          0.9029291689,
                          0.5589071041
                        ]
                      },
                      {
                        "learn": [
                          0.9291715557,
                          0.5169544551
                        ],
                        "iteration": 1174,
                        "passed_time": 22.46606909,
                        "remaining_time": 168.7345189,
                        "test": [
                          0.9030793722,
                          0.5585370966
                        ]
                      },
                      {
                        "learn": [
                          0.9291267529,
                          0.5165627577
                        ],
                        "iteration": 1175,
                        "passed_time": 22.48361843,
                        "remaining_time": 168.7036131,
                        "test": [
                          0.9030793722,
                          0.5582227919
                        ]
                      },
                      {
                        "learn": [
                          0.9291715557,
                          0.5163434942
                        ],
                        "iteration": 1176,
                        "passed_time": 22.50252142,
                        "remaining_time": 168.6828773,
                        "test": [
                          0.9030793722,
                          0.5580836999
                        ]
                      },
                      {
                        "learn": [
                          0.9293433089,
                          0.5162165403
                        ],
                        "iteration": 1177,
                        "passed_time": 22.5286875,
                        "remaining_time": 168.7165375,
                        "test": [
                          0.9030793722,
                          0.5580029143
                        ]
                      },
                      {
                        "learn": [
                          0.9293433089,
                          0.5159931899
                        ],
                        "iteration": 1178,
                        "passed_time": 22.56949656,
                        "remaining_time": 168.8596515,
                        "test": [
                          0.9030793722,
                          0.5577576605
                        ]
                      },
                      {
                        "learn": [
                          0.9292601124,
                          0.5157692397
                        ],
                        "iteration": 1179,
                        "passed_time": 22.60984499,
                        "remaining_time": 168.9990109,
                        "test": [
                          0.9032546496,
                          0.5575632691
                        ]
                      },
                      {
                        "learn": [
                          0.9292601124,
                          0.5156064418
                        ],
                        "iteration": 1180,
                        "passed_time": 22.65237675,
                        "remaining_time": 169.1543697,
                        "test": [
                          0.9032546496,
                          0.5574121491
                        ]
                      },
                      {
                        "learn": [
                          0.9292153096,
                          0.5154334455
                        ],
                        "iteration": 1181,
                        "passed_time": 22.69499644,
                        "remaining_time": 169.3100496,
                        "test": [
                          0.9032546496,
                          0.5571212036
                        ]
                      },
                      {
                        "learn": [
                          0.9292153096,
                          0.5151426064
                        ],
                        "iteration": 1182,
                        "passed_time": 22.73762919,
                        "remaining_time": 169.4654916,
                        "test": [
                          0.9032546496,
                          0.5568576878
                        ]
                      },
                      {
                        "learn": [
                          0.9292086874,
                          0.5150132529
                        ],
                        "iteration": 1183,
                        "passed_time": 22.78162664,
                        "remaining_time": 169.6307605,
                        "test": [
                          0.9032546496,
                          0.5568009216
                        ]
                      },
                      {
                        "learn": [
                          0.9293169125,
                          0.5146226429
                        ],
                        "iteration": 1184,
                        "passed_time": 22.82570451,
                        "remaining_time": 169.7962745,
                        "test": [
                          0.9032546496,
                          0.5565124331
                        ]
                      },
                      {
                        "learn": [
                          0.9293169125,
                          0.5144195392
                        ],
                        "iteration": 1185,
                        "passed_time": 22.8660588,
                        "remaining_time": 169.9337624,
                        "test": [
                          0.9034299271,
                          0.556369784
                        ]
                      },
                      {
                        "learn": [
                          0.9293433089,
                          0.514120189
                        ],
                        "iteration": 1186,
                        "passed_time": 22.90913837,
                        "remaining_time": 170.0911849,
                        "test": [
                          0.9034299271,
                          0.556125777
                        ]
                      },
                      {
                        "learn": [
                          0.929247081,
                          0.5138656063
                        ],
                        "iteration": 1187,
                        "passed_time": 22.95245507,
                        "remaining_time": 170.2500286,
                        "test": [
                          0.9032797239,
                          0.5560534624
                        ]
                      },
                      {
                        "learn": [
                          0.929042841,
                          0.5136775001
                        ],
                        "iteration": 1188,
                        "passed_time": 22.99232603,
                        "remaining_time": 170.382998,
                        "test": [
                          0.9032797239,
                          0.5558686053
                        ]
                      },
                      {
                        "learn": [
                          0.9291697913,
                          0.5135764169
                        ],
                        "iteration": 1189,
                        "passed_time": 23.00932436,
                        "remaining_time": 170.3463425,
                        "test": [
                          0.9032797239,
                          0.555893358
                        ]
                      },
                      {
                        "learn": [
                          0.9291697913,
                          0.513314523
                        ],
                        "iteration": 1190,
                        "passed_time": 23.0228674,
                        "remaining_time": 170.2841636,
                        "test": [
                          0.9032797239,
                          0.5556094167
                        ]
                      },
                      {
                        "learn": [
                          0.9291697913,
                          0.5131201553
                        ],
                        "iteration": 1191,
                        "passed_time": 23.03589626,
                        "remaining_time": 170.218267,
                        "test": [
                          0.9034550014,
                          0.5553878522
                        ]
                      },
                      {
                        "learn": [
                          0.9291697913,
                          0.5128750211
                        ],
                        "iteration": 1192,
                        "passed_time": 23.04898969,
                        "remaining_time": 170.1529357,
                        "test": [
                          0.9034550014,
                          0.5551232363
                        ]
                      },
                      {
                        "learn": [
                          0.9291697913,
                          0.5127998086
                        ],
                        "iteration": 1193,
                        "passed_time": 23.07758734,
                        "remaining_time": 170.2020386,
                        "test": [
                          0.9034550014,
                          0.5551999515
                        ]
                      },
                      {
                        "learn": [
                          0.9291697913,
                          0.5127023248
                        ],
                        "iteration": 1194,
                        "passed_time": 23.10746358,
                        "remaining_time": 170.2604325,
                        "test": [
                          0.9034550014,
                          0.5550615929
                        ]
                      },
                      {
                        "learn": [
                          0.9291817885,
                          0.5123333487
                        ],
                        "iteration": 1195,
                        "passed_time": 23.13787051,
                        "remaining_time": 170.3225853,
                        "test": [
                          0.9034550014,
                          0.5546947757
                        ]
                      },
                      {
                        "learn": [
                          0.9291817885,
                          0.5121215839
                        ],
                        "iteration": 1196,
                        "passed_time": 23.1623905,
                        "remaining_time": 170.3412895,
                        "test": [
                          0.9034550014,
                          0.5544279596
                        ]
                      },
                      {
                        "learn": [
                          0.9291817885,
                          0.5119326903
                        ],
                        "iteration": 1197,
                        "passed_time": 23.20138738,
                        "remaining_time": 170.4662869,
                        "test": [
                          0.9034550014,
                          0.5542418924
                        ]
                      },
                      {
                        "learn": [
                          0.9292660191,
                          0.5118789242
                        ],
                        "iteration": 1198,
                        "passed_time": 23.24137731,
                        "remaining_time": 170.5983,
                        "test": [
                          0.9034550014,
                          0.5542270774
                        ]
                      },
                      {
                        "learn": [
                          0.9292212163,
                          0.5116352523
                        ],
                        "iteration": 1199,
                        "passed_time": 23.2843847,
                        "remaining_time": 170.7521545,
                        "test": [
                          0.9034550014,
                          0.5541079342
                        ]
                      },
                      {
                        "learn": [
                          0.92946385,
                          0.511507811
                        ],
                        "iteration": 1200,
                        "passed_time": 23.32413497,
                        "remaining_time": 170.8818182,
                        "test": [
                          0.9036302788,
                          0.5539770565
                        ]
                      },
                      {
                        "learn": [
                          0.92946385,
                          0.5112461795
                        ],
                        "iteration": 1201,
                        "passed_time": 23.36776192,
                        "remaining_time": 171.0395752,
                        "test": [
                          0.9036302788,
                          0.5536526306
                        ]
                      },
                      {
                        "learn": [
                          0.9296048807,
                          0.5109885973
                        ],
                        "iteration": 1202,
                        "passed_time": 23.43197209,
                        "remaining_time": 171.3475132,
                        "test": [
                          0.9036302788,
                          0.5532990149
                        ]
                      },
                      {
                        "learn": [
                          0.9297131058,
                          0.510666001
                        ],
                        "iteration": 1203,
                        "passed_time": 23.50343994,
                        "remaining_time": 171.7078553,
                        "test": [
                          0.9036302788,
                          0.5531147079
                        ]
                      },
                      {
                        "learn": [
                          0.9297131058,
                          0.5103846478
                        ],
                        "iteration": 1204,
                        "passed_time": 23.57355241,
                        "remaining_time": 172.0575879,
                        "test": [
                          0.9036302788,
                          0.5528534657
                        ]
                      },
                      {
                        "learn": [
                          0.9298093337,
                          0.5101472373
                        ],
                        "iteration": 1205,
                        "passed_time": 23.62222103,
                        "remaining_time": 172.2502585,
                        "test": [
                          0.9036302788,
                          0.5527512644
                        ]
                      },
                      {
                        "learn": [
                          0.9298541365,
                          0.5099098267
                        ],
                        "iteration": 1206,
                        "passed_time": 23.67089277,
                        "remaining_time": 172.4425519,
                        "test": [
                          0.9036302788,
                          0.5525651972
                        ]
                      },
                      {
                        "learn": [
                          0.9298541365,
                          0.5096979495
                        ],
                        "iteration": 1207,
                        "passed_time": 23.71247556,
                        "remaining_time": 172.5828519,
                        "test": [
                          0.9036302788,
                          0.5523501602
                        ]
                      },
                      {
                        "learn": [
                          0.9298421393,
                          0.5095519113
                        ],
                        "iteration": 1208,
                        "passed_time": 23.75546956,
                        "remaining_time": 172.7331124,
                        "test": [
                          0.9036302788,
                          0.5522543029
                        ]
                      },
                      {
                        "learn": [
                          0.9298421393,
                          0.5093774153
                        ],
                        "iteration": 1209,
                        "passed_time": 23.79714825,
                        "remaining_time": 172.8734984,
                        "test": [
                          0.9036302788,
                          0.5519922906
                        ]
                      },
                      {
                        "learn": [
                          0.9298613671,
                          0.5090691041
                        ],
                        "iteration": 1210,
                        "passed_time": 23.83880703,
                        "remaining_time": 173.0134393,
                        "test": [
                          0.9036302788,
                          0.5517508507
                        ]
                      },
                      {
                        "learn": [
                          0.9298613671,
                          0.5090231367
                        ],
                        "iteration": 1211,
                        "passed_time": 23.88085958,
                        "remaining_time": 173.1559356,
                        "test": [
                          0.9036302788,
                          0.5517519874
                        ]
                      },
                      {
                        "learn": [
                          0.9298613671,
                          0.508838105
                        ],
                        "iteration": 1212,
                        "passed_time": 23.92572684,
                        "remaining_time": 173.3185175,
                        "test": [
                          0.9036302788,
                          0.5515555791
                        ]
                      },
                      {
                        "learn": [
                          0.9298613671,
                          0.5086756445
                        ],
                        "iteration": 1213,
                        "passed_time": 23.9685914,
                        "remaining_time": 173.4662636,
                        "test": [
                          0.9036302788,
                          0.5515116842
                        ]
                      },
                      {
                        "learn": [
                          0.9298613671,
                          0.5085566768
                        ],
                        "iteration": 1214,
                        "passed_time": 24.01587572,
                        "remaining_time": 173.6456528,
                        "test": [
                          0.9036302788,
                          0.5515141412
                        ]
                      },
                      {
                        "learn": [
                          0.9298613671,
                          0.5083498612
                        ],
                        "iteration": 1215,
                        "passed_time": 24.06663862,
                        "remaining_time": 173.8497974,
                        "test": [
                          0.9036302788,
                          0.5513329145
                        ]
                      },
                      {
                        "learn": [
                          0.9298613671,
                          0.5082722866
                        ],
                        "iteration": 1216,
                        "passed_time": 24.11498082,
                        "remaining_time": 174.036053,
                        "test": [
                          0.9036302788,
                          0.5513090785
                        ]
                      },
                      {
                        "learn": [
                          0.9297651392,
                          0.5079849344
                        ],
                        "iteration": 1217,
                        "passed_time": 24.16031045,
                        "remaining_time": 174.2002023,
                        "test": [
                          0.9036302788,
                          0.5511514311
                        ]
                      },
                      {
                        "learn": [
                          0.9297971235,
                          0.5078581305
                        ],
                        "iteration": 1218,
                        "passed_time": 24.19823574,
                        "remaining_time": 174.310671,
                        "test": [
                          0.9036302788,
                          0.5510484964
                        ]
                      },
                      {
                        "learn": [
                          0.9297523207,
                          0.5077512358
                        ],
                        "iteration": 1219,
                        "passed_time": 24.22370483,
                        "remaining_time": 174.3312528,
                        "test": [
                          0.9036302788,
                          0.5510509167
                        ]
                      },
                      {
                        "learn": [
                          0.9297651392,
                          0.5074406749
                        ],
                        "iteration": 1220,
                        "passed_time": 24.24822167,
                        "remaining_time": 174.3449124,
                        "test": [
                          0.9036302788,
                          0.5508966063
                        ]
                      },
                      {
                        "learn": [
                          0.9297651392,
                          0.5071998525
                        ],
                        "iteration": 1221,
                        "passed_time": 24.27529873,
                        "remaining_time": 174.3769004,
                        "test": [
                          0.9036302788,
                          0.550573574
                        ]
                      },
                      {
                        "learn": [
                          0.9297587299,
                          0.5070744358
                        ],
                        "iteration": 1222,
                        "passed_time": 24.30717401,
                        "remaining_time": 174.4432268,
                        "test": [
                          0.9036302788,
                          0.550486261
                        ]
                      },
                      {
                        "learn": [
                          0.9297651392,
                          0.5068726819
                        ],
                        "iteration": 1223,
                        "passed_time": 24.33678903,
                        "remaining_time": 174.4931867,
                        "test": [
                          0.9036302788,
                          0.5503048143
                        ]
                      },
                      {
                        "learn": [
                          0.9297651392,
                          0.5067531893
                        ],
                        "iteration": 1224,
                        "passed_time": 24.35961237,
                        "remaining_time": 174.4943662,
                        "test": [
                          0.9036302788,
                          0.5502093971
                        ]
                      },
                      {
                        "learn": [
                          0.9297651392,
                          0.5066504939
                        ],
                        "iteration": 1225,
                        "passed_time": 24.38549199,
                        "remaining_time": 174.5173791,
                        "test": [
                          0.9037804821,
                          0.5499804985
                        ]
                      },
                      {
                        "learn": [
                          0.9297651392,
                          0.5064323926
                        ],
                        "iteration": 1226,
                        "passed_time": 24.41366137,
                        "remaining_time": 174.5566839,
                        "test": [
                          0.9037804821,
                          0.5497784795
                        ]
                      },
                      {
                        "learn": [
                          0.9297651392,
                          0.5062749938
                        ],
                        "iteration": 1227,
                        "passed_time": 24.43781711,
                        "remaining_time": 174.5672083,
                        "test": [
                          0.9037804821,
                          0.5495953827
                        ]
                      },
                      {
                        "learn": [
                          0.9294974769,
                          0.5059846796
                        ],
                        "iteration": 1228,
                        "passed_time": 24.4729741,
                        "remaining_time": 174.6561887,
                        "test": [
                          0.9036052046,
                          0.5495256716
                        ]
                      },
                      {
                        "learn": [
                          0.9295358705,
                          0.5057306593
                        ],
                        "iteration": 1229,
                        "passed_time": 24.49657705,
                        "remaining_time": 174.662586,
                        "test": [
                          0.9034299271,
                          0.5494079953
                        ]
                      },
                      {
                        "learn": [
                          0.9297283262,
                          0.5055941071
                        ],
                        "iteration": 1230,
                        "passed_time": 24.52748777,
                        "remaining_time": 174.7209913,
                        "test": [
                          0.9034299271,
                          0.5494270274
                        ]
                      },
                      {
                        "learn": [
                          0.9297283262,
                          0.505417399
                        ],
                        "iteration": 1231,
                        "passed_time": 24.57618658,
                        "remaining_time": 174.9058474,
                        "test": [
                          0.9034299271,
                          0.5493547128
                        ]
                      },
                      {
                        "learn": [
                          0.9297283262,
                          0.5053667449
                        ],
                        "iteration": 1232,
                        "passed_time": 24.6166927,
                        "remaining_time": 175.0320721,
                        "test": [
                          0.9034299271,
                          0.5493550795
                        ]
                      },
                      {
                        "learn": [
                          0.9297283262,
                          0.5052394161
                        ],
                        "iteration": 1233,
                        "passed_time": 24.65411001,
                        "remaining_time": 175.1360845,
                        "test": [
                          0.9034299271,
                          0.549214924
                        ]
                      },
                      {
                        "learn": [
                          0.9298879763,
                          0.5051063507
                        ],
                        "iteration": 1234,
                        "passed_time": 24.69439916,
                        "remaining_time": 175.2602499,
                        "test": [
                          0.9034299271,
                          0.5492048029
                        ]
                      },
                      {
                        "learn": [
                          0.9298879763,
                          0.5050190277
                        ],
                        "iteration": 1235,
                        "passed_time": 24.72648842,
                        "remaining_time": 175.3260069,
                        "test": [
                          0.9034299271,
                          0.5492165375
                        ]
                      },
                      {
                        "learn": [
                          0.9298879763,
                          0.5048515806
                        ],
                        "iteration": 1236,
                        "passed_time": 24.76307332,
                        "remaining_time": 175.4234531,
                        "test": [
                          0.9034299271,
                          0.549064354
                        ]
                      },
                      {
                        "learn": [
                          0.9299962014,
                          0.5045700024
                        ],
                        "iteration": 1237,
                        "passed_time": 24.7905221,
                        "remaining_time": 175.4560215,
                        "test": [
                          0.9034299271,
                          0.5487433753
                        ]
                      },
                      {
                        "learn": [
                          0.930034595,
                          0.5042183484
                        ],
                        "iteration": 1238,
                        "passed_time": 24.81763219,
                        "remaining_time": 175.4860982,
                        "test": [
                          0.9030065296,
                          0.5483831588
                        ]
                      },
                      {
                        "learn": [
                          0.9300729886,
                          0.504085208
                        ],
                        "iteration": 1239,
                        "passed_time": 24.85907932,
                        "remaining_time": 175.6173668,
                        "test": [
                          0.9030065296,
                          0.5482801874
                        ]
                      },
                      {
                        "learn": [
                          0.9300281858,
                          0.5038527467
                        ],
                        "iteration": 1240,
                        "passed_time": 24.91253871,
                        "remaining_time": 175.8331398,
                        "test": [
                          0.9030065296,
                          0.5480905632
                        ]
                      },
                      {
                        "learn": [
                          0.9300281858,
                          0.5037795214
                        ],
                        "iteration": 1241,
                        "passed_time": 24.96295522,
                        "remaining_time": 176.0270224,
                        "test": [
                          0.9030065296,
                          0.5481197897
                        ]
                      },
                      {
                        "learn": [
                          0.930244636,
                          0.5033768383
                        ],
                        "iteration": 1242,
                        "passed_time": 25.01122024,
                        "remaining_time": 176.2053545,
                        "test": [
                          0.9028312521,
                          0.5478456028
                        ]
                      },
                      {
                        "learn": [
                          0.9303726353,
                          0.5032022299
                        ],
                        "iteration": 1243,
                        "passed_time": 25.06329623,
                        "remaining_time": 176.4101461,
                        "test": [
                          0.9028312521,
                          0.5476608557
                        ]
                      },
                      {
                        "learn": [
                          0.9303726353,
                          0.5029227514
                        ],
                        "iteration": 1244,
                        "passed_time": 25.11235857,
                        "remaining_time": 176.5933328,
                        "test": [
                          0.9028312521,
                          0.5473117138
                        ]
                      },
                      {
                        "learn": [
                          0.9304174382,
                          0.5027697393
                        ],
                        "iteration": 1245,
                        "passed_time": 25.16259201,
                        "remaining_time": 176.7843744,
                        "test": [
                          0.9026559746,
                          0.5472195237
                        ]
                      },
                      {
                        "learn": [
                          0.9304622411,
                          0.5025751092
                        ],
                        "iteration": 1246,
                        "passed_time": 25.21338999,
                        "remaining_time": 176.9789917,
                        "test": [
                          0.9025057714,
                          0.5471120051
                        ]
                      },
                      {
                        "learn": [
                          0.9304622411,
                          0.502284795
                        ],
                        "iteration": 1247,
                        "passed_time": 25.25342999,
                        "remaining_time": 177.0977719,
                        "test": [
                          0.9025057714,
                          0.5467347368
                        ]
                      },
                      {
                        "learn": [
                          0.9306098939,
                          0.5019476136
                        ],
                        "iteration": 1248,
                        "passed_time": 25.2739552,
                        "remaining_time": 177.0795692,
                        "test": [
                          0.9023304939,
                          0.5464555993
                        ]
                      },
                      {
                        "learn": [
                          0.9306098939,
                          0.501761682
                        ],
                        "iteration": 1249,
                        "passed_time": 25.29119272,
                        "remaining_time": 177.038349,
                        "test": [
                          0.9023304939,
                          0.5462952383
                        ]
                      },
                      {
                        "learn": [
                          0.9305331067,
                          0.5014642065
                        ],
                        "iteration": 1250,
                        "passed_time": 25.31157171,
                        "remaining_time": 177.0191374,
                        "test": [
                          0.9023304939,
                          0.5460336294
                        ]
                      },
                      {
                        "learn": [
                          0.9305331067,
                          0.5013224425
                        ],
                        "iteration": 1251,
                        "passed_time": 25.33993496,
                        "remaining_time": 177.0557117,
                        "test": [
                          0.9021552164,
                          0.5459294846
                        ]
                      },
                      {
                        "learn": [
                          0.9304883038,
                          0.5012126983
                        ],
                        "iteration": 1252,
                        "passed_time": 25.36678462,
                        "remaining_time": 177.0816162,
                        "test": [
                          0.9023054196,
                          0.5457799781
                        ]
                      },
                      {
                        "learn": [
                          0.9305266975,
                          0.5009536539
                        ],
                        "iteration": 1253,
                        "passed_time": 25.38926692,
                        "remaining_time": 177.0769765,
                        "test": [
                          0.9021552164,
                          0.5456107427
                        ]
                      },
                      {
                        "learn": [
                          0.9306349226,
                          0.5008481089
                        ],
                        "iteration": 1254,
                        "passed_time": 25.41084714,
                        "remaining_time": 177.0660225,
                        "test": [
                          0.9023054196,
                          0.5455991914
                        ]
                      },
                      {
                        "learn": [
                          0.9307431477,
                          0.5005727922
                        ],
                        "iteration": 1255,
                        "passed_time": 25.42700525,
                        "remaining_time": 177.0173041,
                        "test": [
                          0.9023054196,
                          0.5453781404
                        ]
                      },
                      {
                        "learn": [
                          0.9305266975,
                          0.5004360525
                        ],
                        "iteration": 1256,
                        "passed_time": 25.44142656,
                        "remaining_time": 176.9565572,
                        "test": [
                          0.9023054196,
                          0.5453151767
                        ]
                      },
                      {
                        "learn": [
                          0.9307815413,
                          0.5001400767
                        ],
                        "iteration": 1257,
                        "passed_time": 25.45795098,
                        "remaining_time": 176.9104988,
                        "test": [
                          0.9023054196,
                          0.5451913397
                        ]
                      },
                      {
                        "learn": [
                          0.9307815413,
                          0.4998692967
                        ],
                        "iteration": 1258,
                        "passed_time": 25.47381222,
                        "remaining_time": 176.8598829,
                        "test": [
                          0.9023304939,
                          0.5448876329
                        ]
                      },
                      {
                        "learn": [
                          0.9306733162,
                          0.4998000458
                        ],
                        "iteration": 1259,
                        "passed_time": 25.48985768,
                        "remaining_time": 176.8106001,
                        "test": [
                          0.9023304939,
                          0.5448881462
                        ]
                      },
                      {
                        "learn": [
                          0.9306733162,
                          0.4995935676
                        ],
                        "iteration": 1260,
                        "passed_time": 25.51268675,
                        "remaining_time": 176.8083819,
                        "test": [
                          0.9023304939,
                          0.5447722301
                        ]
                      },
                      {
                        "learn": [
                          0.9305650911,
                          0.4994779743
                        ],
                        "iteration": 1261,
                        "passed_time": 25.52896632,
                        "remaining_time": 176.7607827,
                        "test": [
                          0.9023304939,
                          0.5446705789
                        ]
                      },
                      {
                        "learn": [
                          0.9307688286,
                          0.4993692799
                        ],
                        "iteration": 1262,
                        "passed_time": 25.5691687,
                        "remaining_time": 176.8787228,
                        "test": [
                          0.9023304939,
                          0.5446546638
                        ]
                      },
                      {
                        "learn": [
                          0.9307688286,
                          0.4993468211
                        ],
                        "iteration": 1263,
                        "passed_time": 25.61284469,
                        "remaining_time": 177.0204203,
                        "test": [
                          0.9023304939,
                          0.5447160139
                        ]
                      },
                      {
                        "learn": [
                          0.9308770537,
                          0.4992835317
                        ],
                        "iteration": 1264,
                        "passed_time": 25.65783329,
                        "remaining_time": 177.1708884,
                        "test": [
                          0.9023304939,
                          0.5446728158
                        ]
                      },
                      {
                        "learn": [
                          0.9309218566,
                          0.4990973751
                        ],
                        "iteration": 1265,
                        "passed_time": 25.70294001,
                        "remaining_time": 177.3218626,
                        "test": [
                          0.9023304939,
                          0.5445310468
                        ]
                      },
                      {
                        "learn": [
                          0.9309218566,
                          0.4988489789
                        ],
                        "iteration": 1266,
                        "passed_time": 25.77423771,
                        "remaining_time": 177.6530528,
                        "test": [
                          0.9023304939,
                          0.5442955108
                        ]
                      },
                      {
                        "learn": [
                          0.9309218566,
                          0.4986515368
                        ],
                        "iteration": 1267,
                        "passed_time": 25.83619229,
                        "remaining_time": 177.9192674,
                        "test": [
                          0.9023304939,
                          0.5441110571
                        ]
                      },
                      {
                        "learn": [
                          0.9310300817,
                          0.4984861143
                        ],
                        "iteration": 1268,
                        "passed_time": 25.88065654,
                        "remaining_time": 178.0646275,
                        "test": [
                          0.9021552164,
                          0.5440713427
                        ]
                      },
                      {
                        "learn": [
                          0.9310300817,
                          0.4982373432
                        ],
                        "iteration": 1269,
                        "passed_time": 25.92386211,
                        "remaining_time": 178.2010364,
                        "test": [
                          0.9019799389,
                          0.5437926453
                        ]
                      },
                      {
                        "learn": [
                          0.9310300817,
                          0.4981588312
                        ],
                        "iteration": 1270,
                        "passed_time": 25.96544862,
                        "remaining_time": 178.3260433,
                        "test": [
                          0.9021552164,
                          0.5437730265
                        ]
                      },
                      {
                        "learn": [
                          0.9310300817,
                          0.4979833979
                        ],
                        "iteration": 1271,
                        "passed_time": 26.01030648,
                        "remaining_time": 178.4732351,
                        "test": [
                          0.9019799389,
                          0.5436476493
                        ]
                      },
                      {
                        "learn": [
                          0.9310935039,
                          0.4978677296
                        ],
                        "iteration": 1272,
                        "passed_time": 26.05513252,
                        "remaining_time": 178.6199069,
                        "test": [
                          0.9021301422,
                          0.5435865925
                        ]
                      },
                      {
                        "learn": [
                          0.9310300817,
                          0.4976462915
                        ],
                        "iteration": 1273,
                        "passed_time": 26.08891639,
                        "remaining_time": 178.6906471,
                        "test": [
                          0.9021552164,
                          0.543406356
                        ]
                      },
                      {
                        "learn": [
                          0.9310300817,
                          0.497604111
                        ],
                        "iteration": 1274,
                        "passed_time": 26.12715439,
                        "remaining_time": 178.7917036,
                        "test": [
                          0.9021552164,
                          0.5434088129
                        ]
                      },
                      {
                        "learn": [
                          0.9310300817,
                          0.4974340393
                        ],
                        "iteration": 1275,
                        "passed_time": 26.17232782,
                        "remaining_time": 178.9399591,
                        "test": [
                          0.9019799389,
                          0.5433194464
                        ]
                      },
                      {
                        "learn": [
                          0.9310300817,
                          0.497276228
                        ],
                        "iteration": 1276,
                        "passed_time": 26.21781538,
                        "remaining_time": 179.0900576,
                        "test": [
                          0.9021301422,
                          0.543150101
                        ]
                      },
                      {
                        "learn": [
                          0.9310300817,
                          0.4971991783
                        ],
                        "iteration": 1277,
                        "passed_time": 26.26245592,
                        "remaining_time": 179.2340693,
                        "test": [
                          0.9021301422,
                          0.5431210578
                        ]
                      },
                      {
                        "learn": [
                          0.9310300817,
                          0.4971224286
                        ],
                        "iteration": 1278,
                        "passed_time": 26.30832186,
                        "remaining_time": 179.3861415,
                        "test": [
                          0.9021301422,
                          0.5430157028
                        ]
                      },
                      {
                        "learn": [
                          0.9310300817,
                          0.4968603847
                        ],
                        "iteration": 1279,
                        "passed_time": 26.35360996,
                        "remaining_time": 179.5339679,
                        "test": [
                          0.9021301422,
                          0.5428379966
                        ]
                      },
                      {
                        "learn": [
                          0.9310300817,
                          0.4966898256
                        ],
                        "iteration": 1280,
                        "passed_time": 26.39979881,
                        "remaining_time": 179.6876236,
                        "test": [
                          0.9021301422,
                          0.5427095024
                        ]
                      },
                      {
                        "learn": [
                          0.9310300817,
                          0.4965072684
                        ],
                        "iteration": 1281,
                        "passed_time": 26.44369619,
                        "remaining_time": 179.8253848,
                        "test": [
                          0.9021301422,
                          0.5425242052
                        ]
                      },
                      {
                        "learn": [
                          0.9310748845,
                          0.4962614968
                        ],
                        "iteration": 1282,
                        "passed_time": 26.48893223,
                        "remaining_time": 179.9719581,
                        "test": [
                          0.9021301422,
                          0.5423046943
                        ]
                      },
                      {
                        "learn": [
                          0.9310748845,
                          0.4960929623
                        ],
                        "iteration": 1283,
                        "passed_time": 26.53274532,
                        "remaining_time": 180.1085734,
                        "test": [
                          0.9021301422,
                          0.5421175637
                        ]
                      },
                      {
                        "learn": [
                          0.9310364909,
                          0.4959441121
                        ],
                        "iteration": 1284,
                        "passed_time": 26.57718193,
                        "remaining_time": 180.2491366,
                        "test": [
                          0.9021301422,
                          0.5420197262
                        ]
                      },
                      {
                        "learn": [
                          0.931144716,
                          0.4958701744
                        ],
                        "iteration": 1285,
                        "passed_time": 26.62246959,
                        "remaining_time": 180.3951788,
                        "test": [
                          0.9021301422,
                          0.5419939834
                        ]
                      },
                      {
                        "learn": [
                          0.9310364909,
                          0.4958328681
                        ],
                        "iteration": 1286,
                        "passed_time": 26.67053272,
                        "remaining_time": 180.5597138,
                        "test": [
                          0.9021301422,
                          0.542002711
                        ]
                      },
                      {
                        "learn": [
                          0.9310812938,
                          0.4956874298
                        ],
                        "iteration": 1287,
                        "passed_time": 26.69476738,
                        "remaining_time": 180.5627433,
                        "test": [
                          0.9021301422,
                          0.5418258848
                        ]
                      },
                      {
                        "learn": [
                          0.9309282658,
                          0.4955679372
                        ],
                        "iteration": 1288,
                        "passed_time": 26.72831939,
                        "remaining_time": 180.6286968,
                        "test": [
                          0.9021301422,
                          0.5417420189
                        ]
                      },
                      {
                        "learn": [
                          0.9309666594,
                          0.4953333012
                        ],
                        "iteration": 1289,
                        "passed_time": 26.76912624,
                        "remaining_time": 180.7434803,
                        "test": [
                          0.9021301422,
                          0.5414478097
                        ]
                      },
                      {
                        "learn": [
                          0.931005053,
                          0.4951824263
                        ],
                        "iteration": 1290,
                        "passed_time": 26.80850154,
                        "remaining_time": 180.8483656,
                        "test": [
                          0.9021301422,
                          0.5413817291
                        ]
                      },
                      {
                        "learn": [
                          0.9309154473,
                          0.4949397666
                        ],
                        "iteration": 1291,
                        "passed_time": 26.83485372,
                        "remaining_time": 180.8652524,
                        "test": [
                          0.9023054196,
                          0.5410691479
                        ]
                      },
                      {
                        "learn": [
                          0.931005053,
                          0.494709255
                        ],
                        "iteration": 1292,
                        "passed_time": 26.88907873,
                        "remaining_time": 181.0697668,
                        "test": [
                          0.9023054196,
                          0.5409079434
                        ]
                      },
                      {
                        "learn": [
                          0.930883463,
                          0.4945010896
                        ],
                        "iteration": 1293,
                        "passed_time": 26.9383282,
                        "remaining_time": 181.240406,
                        "test": [
                          0.9023054196,
                          0.5405923919
                        ]
                      },
                      {
                        "learn": [
                          0.930883463,
                          0.4941594839
                        ],
                        "iteration": 1294,
                        "passed_time": 26.98453115,
                        "remaining_time": 181.3902267,
                        "test": [
                          0.9023054196,
                          0.5403137678
                        ]
                      },
                      {
                        "learn": [
                          0.930883463,
                          0.4939323842
                        ],
                        "iteration": 1295,
                        "passed_time": 27.0069061,
                        "remaining_time": 181.3797151,
                        "test": [
                          0.9023054196,
                          0.5402373461
                        ]
                      },
                      {
                        "learn": [
                          0.9309282658,
                          0.4935398995
                        ],
                        "iteration": 1296,
                        "passed_time": 27.02766023,
                        "remaining_time": 181.3583092,
                        "test": [
                          0.9024806971,
                          0.5399073463
                        ]
                      },
                      {
                        "learn": [
                          0.9309282658,
                          0.4932506726
                        ],
                        "iteration": 1297,
                        "passed_time": 27.04615624,
                        "remaining_time": 181.3217655,
                        "test": [
                          0.9024806971,
                          0.5396870286
                        ]
                      },
                      {
                        "learn": [
                          0.9309282658,
                          0.49311607
                        ],
                        "iteration": 1298,
                        "passed_time": 27.0640278,
                        "remaining_time": 181.2810669,
                        "test": [
                          0.9024806971,
                          0.5395873943
                        ]
                      },
                      {
                        "learn": [
                          0.9309282658,
                          0.4929396618
                        ],
                        "iteration": 1299,
                        "passed_time": 27.08141854,
                        "remaining_time": 181.2371856,
                        "test": [
                          0.9024806971,
                          0.5395019882
                        ]
                      },
                      {
                        "learn": [
                          0.9309282658,
                          0.4927499434
                        ],
                        "iteration": 1300,
                        "passed_time": 27.10373377,
                        "remaining_time": 181.2262721,
                        "test": [
                          0.9024806971,
                          0.5394056176
                        ]
                      },
                      {
                        "learn": [
                          0.9309218566,
                          0.4925022596
                        ],
                        "iteration": 1301,
                        "passed_time": 27.1198381,
                        "remaining_time": 181.1738493,
                        "test": [
                          0.9024806971,
                          0.539167698
                        ]
                      },
                      {
                        "learn": [
                          0.9309666594,
                          0.4923525845
                        ],
                        "iteration": 1302,
                        "passed_time": 27.13220554,
                        "remaining_time": 181.09654,
                        "test": [
                          0.9024806971,
                          0.5390785881
                        ]
                      },
                      {
                        "learn": [
                          0.9309666594,
                          0.4922656364
                        ],
                        "iteration": 1303,
                        "passed_time": 27.14672484,
                        "remaining_time": 181.0336804,
                        "test": [
                          0.9024806971,
                          0.539098757
                        ]
                      },
                      {
                        "learn": [
                          0.9307565127,
                          0.4920071169
                        ],
                        "iteration": 1304,
                        "passed_time": 27.16172509,
                        "remaining_time": 180.9740993,
                        "test": [
                          0.9024806971,
                          0.5387226255
                        ]
                      },
                      {
                        "learn": [
                          0.9307565127,
                          0.4919574752
                        ],
                        "iteration": 1305,
                        "passed_time": 27.19609491,
                        "remaining_time": 181.0435292,
                        "test": [
                          0.9024806971,
                          0.5386594419
                        ]
                      },
                      {
                        "learn": [
                          0.9307565127,
                          0.4919120327
                        ],
                        "iteration": 1306,
                        "passed_time": 27.21287296,
                        "remaining_time": 180.9957954,
                        "test": [
                          0.9024806971,
                          0.5386604686
                        ]
                      },
                      {
                        "learn": [
                          0.9309218566,
                          0.4916505887
                        ],
                        "iteration": 1307,
                        "passed_time": 27.24365116,
                        "remaining_time": 181.0411437,
                        "test": [
                          0.9020572996,
                          0.5381162752
                        ]
                      },
                      {
                        "learn": [
                          0.9309218566,
                          0.4913880199
                        ],
                        "iteration": 1308,
                        "passed_time": 27.2879647,
                        "remaining_time": 181.1762423,
                        "test": [
                          0.9018820221,
                          0.537932885
                        ]
                      },
                      {
                        "learn": [
                          0.9309666594,
                          0.4911019425
                        ],
                        "iteration": 1309,
                        "passed_time": 27.32942604,
                        "remaining_time": 181.2921468,
                        "test": [
                          0.9018820221,
                          0.5377145475
                        ]
                      },
                      {
                        "learn": [
                          0.9310748845,
                          0.4908030422
                        ],
                        "iteration": 1310,
                        "passed_time": 27.36901305,
                        "remaining_time": 181.3953885,
                        "test": [
                          0.9018820221,
                          0.537402003
                        ]
                      },
                      {
                        "learn": [
                          0.9311320033,
                          0.4906285837
                        ],
                        "iteration": 1311,
                        "passed_time": 27.40752748,
                        "remaining_time": 181.49131,
                        "test": [
                          0.9018820221,
                          0.5373086394
                        ]
                      },
                      {
                        "learn": [
                          0.9310621719,
                          0.4903765506
                        ],
                        "iteration": 1312,
                        "passed_time": 27.43138728,
                        "remaining_time": 181.4900695,
                        "test": [
                          0.9023054196,
                          0.5370987362
                        ]
                      },
                      {
                        "learn": [
                          0.9310621719,
                          0.4902878029
                        ],
                        "iteration": 1313,
                        "passed_time": 27.44375852,
                        "remaining_time": 181.4128512,
                        "test": [
                          0.9023054196,
                          0.5370055192
                        ]
                      },
                      {
                        "learn": [
                          0.9310621719,
                          0.4901739343
                        ],
                        "iteration": 1314,
                        "passed_time": 27.4563769,
                        "remaining_time": 181.3373638,
                        "test": [
                          0.9024806971,
                          0.5369344147
                        ]
                      },
                      {
                        "learn": [
                          0.9311005655,
                          0.4898858697
                        ],
                        "iteration": 1315,
                        "passed_time": 27.46981115,
                        "remaining_time": 181.2673557,
                        "test": [
                          0.9024806971,
                          0.5366184965
                        ]
                      },
                      {
                        "learn": [
                          0.9311389591,
                          0.4897318079
                        ],
                        "iteration": 1316,
                        "passed_time": 27.48200505,
                        "remaining_time": 181.1892558,
                        "test": [
                          0.9024806971,
                          0.5364627926
                        ]
                      },
                      {
                        "learn": [
                          0.9311389591,
                          0.4895999798
                        ],
                        "iteration": 1317,
                        "passed_time": 27.49429097,
                        "remaining_time": 181.111862,
                        "test": [
                          0.9024806971,
                          0.5363832905
                        ]
                      },
                      {
                        "learn": [
                          0.9311389591,
                          0.4895587366
                        ],
                        "iteration": 1318,
                        "passed_time": 27.50657914,
                        "remaining_time": 181.0345819,
                        "test": [
                          0.9020572996,
                          0.5363676321
                        ]
                      },
                      {
                        "learn": [
                          0.9312471842,
                          0.4895095073
                        ],
                        "iteration": 1319,
                        "passed_time": 27.51882428,
                        "remaining_time": 180.9571173,
                        "test": [
                          0.9020572996,
                          0.5363594546
                        ]
                      },
                      {
                        "learn": [
                          0.9312471842,
                          0.4894397314
                        ],
                        "iteration": 1320,
                        "passed_time": 27.53213576,
                        "remaining_time": 180.8867572,
                        "test": [
                          0.9020572996,
                          0.5362678511
                        ]
                      },
                      {
                        "learn": [
                          0.931291987,
                          0.4892659103
                        ],
                        "iteration": 1321,
                        "passed_time": 27.54442056,
                        "remaining_time": 180.809744,
                        "test": [
                          0.9020572996,
                          0.5361858554
                        ]
                      },
                      {
                        "learn": [
                          0.931291987,
                          0.4889708344
                        ],
                        "iteration": 1322,
                        "passed_time": 27.55688214,
                        "remaining_time": 180.7339881,
                        "test": [
                          0.9020572996,
                          0.5357626753
                        ]
                      },
                      {
                        "learn": [
                          0.931291987,
                          0.4887899645
                        ],
                        "iteration": 1323,
                        "passed_time": 27.56901206,
                        "remaining_time": 180.6561545,
                        "test": [
                          0.9024806971,
                          0.5357225576
                        ]
                      },
                      {
                        "learn": [
                          0.9314188315,
                          0.48859151
                        ],
                        "iteration": 1324,
                        "passed_time": 27.58143465,
                        "remaining_time": 180.5803363,
                        "test": [
                          0.9023054196,
                          0.5355352802
                        ]
                      },
                      {
                        "learn": [
                          0.9314188315,
                          0.4885341446
                        ],
                        "iteration": 1325,
                        "passed_time": 27.59351326,
                        "remaining_time": 180.5023635,
                        "test": [
                          0.9023054196,
                          0.5355096107
                        ]
                      },
                      {
                        "learn": [
                          0.9314188315,
                          0.4883408642
                        ],
                        "iteration": 1326,
                        "passed_time": 27.60579687,
                        "remaining_time": 180.4258299,
                        "test": [
                          0.9023054196,
                          0.5353546036
                        ]
                      },
                      {
                        "learn": [
                          0.9313106064,
                          0.4880189802
                        ],
                        "iteration": 1327,
                        "passed_time": 27.61817185,
                        "remaining_time": 180.3499897,
                        "test": [
                          0.9023054196,
                          0.5349094945
                        ]
                      },
                      {
                        "learn": [
                          0.9313106064,
                          0.4878357482
                        ],
                        "iteration": 1328,
                        "passed_time": 27.63133567,
                        "remaining_time": 180.2793917,
                        "test": [
                          0.9023054196,
                          0.5346856198
                        ]
                      },
                      {
                        "learn": [
                          0.9313106064,
                          0.4876087235
                        ],
                        "iteration": 1329,
                        "passed_time": 27.64365339,
                        "remaining_time": 180.2033646,
                        "test": [
                          0.9021552164,
                          0.5344503771
                        ]
                      },
                      {
                        "learn": [
                          0.9312722128,
                          0.487386348
                        ],
                        "iteration": 1330,
                        "passed_time": 27.65583753,
                        "remaining_time": 180.1265631,
                        "test": [
                          0.9021552164,
                          0.5342350467
                        ]
                      },
                      {
                        "learn": [
                          0.9312722128,
                          0.4871128685
                        ],
                        "iteration": 1331,
                        "passed_time": 27.68005251,
                        "remaining_time": 180.1281495,
                        "test": [
                          0.9021552164,
                          0.5339767382
                        ]
                      },
                      {
                        "learn": [
                          0.9312722128,
                          0.4870699381
                        ],
                        "iteration": 1332,
                        "passed_time": 27.70044751,
                        "remaining_time": 180.1048601,
                        "test": [
                          0.9021552164,
                          0.533959833
                        ]
                      },
                      {
                        "learn": [
                          0.9312722128,
                          0.4869167386
                        ],
                        "iteration": 1333,
                        "passed_time": 27.71256721,
                        "remaining_time": 180.0278167,
                        "test": [
                          0.9021552164,
                          0.5339037634
                        ]
                      },
                      {
                        "learn": [
                          0.9312722128,
                          0.4868075567
                        ],
                        "iteration": 1334,
                        "passed_time": 27.724943,
                        "remaining_time": 179.9525326,
                        "test": [
                          0.9021552164,
                          0.5338439168
                        ]
                      },
                      {
                        "learn": [
                          0.9312274099,
                          0.4865975542
                        ],
                        "iteration": 1335,
                        "passed_time": 27.73727816,
                        "remaining_time": 179.8770793,
                        "test": [
                          0.9021552164,
                          0.533658253
                        ]
                      },
                      {
                        "learn": [
                          0.9310300817,
                          0.4864265451
                        ],
                        "iteration": 1336,
                        "passed_time": 27.74957325,
                        "remaining_time": 179.8014608,
                        "test": [
                          0.9021552164,
                          0.5334996888
                        ]
                      },
                      {
                        "learn": [
                          0.9311506227,
                          0.4862343146
                        ],
                        "iteration": 1337,
                        "passed_time": 27.76202674,
                        "remaining_time": 179.7269624,
                        "test": [
                          0.9021552164,
                          0.5332907024
                        ]
                      },
                      {
                        "learn": [
                          0.9310935039,
                          0.4860851644
                        ],
                        "iteration": 1338,
                        "passed_time": 27.77443907,
                        "remaining_time": 179.6522904,
                        "test": [
                          0.902578614,
                          0.5331256475
                        ]
                      },
                      {
                        "learn": [
                          0.9310935039,
                          0.485948987
                        ],
                        "iteration": 1339,
                        "passed_time": 27.78795342,
                        "remaining_time": 179.5848333,
                        "test": [
                          0.9021552164,
                          0.5330519394
                        ]
                      },
                      {
                        "learn": [
                          0.9310935039,
                          0.4857458083
                        ],
                        "iteration": 1340,
                        "passed_time": 27.80017379,
                        "remaining_time": 179.5091013,
                        "test": [
                          0.9021552164,
                          0.5329455943
                        ]
                      },
                      {
                        "learn": [
                          0.9310487011,
                          0.4855270697
                        ],
                        "iteration": 1341,
                        "passed_time": 27.81259013,
                        "remaining_time": 179.4347283,
                        "test": [
                          0.9021552164,
                          0.5328041553
                        ]
                      },
                      {
                        "learn": [
                          0.9310422918,
                          0.4853154174
                        ],
                        "iteration": 1342,
                        "passed_time": 27.85008653,
                        "remaining_time": 179.522114,
                        "test": [
                          0.9019799389,
                          0.5326136877
                        ]
                      },
                      {
                        "learn": [
                          0.9310422918,
                          0.4850872304
                        ],
                        "iteration": 1343,
                        "passed_time": 27.87210092,
                        "remaining_time": 179.5096024,
                        "test": [
                          0.9018046615,
                          0.5324624576
                        ]
                      },
                      {
                        "learn": [
                          0.9310806854,
                          0.4847781318
                        ],
                        "iteration": 1344,
                        "passed_time": 27.91322647,
                        "remaining_time": 179.6200558,
                        "test": [
                          0.9018046615,
                          0.5321976951
                        ]
                      },
                      {
                        "learn": [
                          0.9312460293,
                          0.4846794857
                        ],
                        "iteration": 1345,
                        "passed_time": 27.92629057,
                        "remaining_time": 179.5498652,
                        "test": [
                          0.9018046615,
                          0.5321713655
                        ]
                      },
                      {
                        "learn": [
                          0.9312460293,
                          0.4845478826
                        ],
                        "iteration": 1346,
                        "passed_time": 27.9391107,
                        "remaining_time": 179.4781922,
                        "test": [
                          0.9012310607,
                          0.5321952381
                        ]
                      },
                      {
                        "learn": [
                          0.9312460293,
                          0.4843209703
                        ],
                        "iteration": 1347,
                        "passed_time": 27.95172743,
                        "remaining_time": 179.405301,
                        "test": [
                          0.9012310607,
                          0.5320476385
                        ]
                      },
                      {
                        "learn": [
                          0.9312460293,
                          0.4840021233
                        ],
                        "iteration": 1348,
                        "passed_time": 27.96689825,
                        "remaining_time": 179.3488783,
                        "test": [
                          0.9012310607,
                          0.531889001
                        ]
                      },
                      {
                        "learn": [
                          0.9312844229,
                          0.4838015317
                        ],
                        "iteration": 1349,
                        "passed_time": 27.97932617,
                        "remaining_time": 179.2749417,
                        "test": [
                          0.9012310607,
                          0.5316624493
                        ]
                      },
                      {
                        "learn": [
                          0.931392648,
                          0.4835071682
                        ],
                        "iteration": 1350,
                        "passed_time": 28.00387512,
                        "remaining_time": 179.2786942,
                        "test": [
                          0.9012310607,
                          0.5315094224
                        ]
                      },
                      {
                        "learn": [
                          0.9314694353,
                          0.4834707617
                        ],
                        "iteration": 1351,
                        "passed_time": 28.0158572,
                        "remaining_time": 179.2020215,
                        "test": [
                          0.9012310607,
                          0.5315143363
                        ]
                      },
                      {
                        "learn": [
                          0.9316170881,
                          0.4832717448
                        ],
                        "iteration": 1352,
                        "passed_time": 28.02835137,
                        "remaining_time": 179.1287171,
                        "test": [
                          0.9008545986,
                          0.5312675424
                        ]
                      },
                      {
                        "learn": [
                          0.9317376292,
                          0.4831539394
                        ],
                        "iteration": 1353,
                        "passed_time": 28.04048783,
                        "remaining_time": 179.0532185,
                        "test": [
                          0.9008545986,
                          0.5311959611
                        ]
                      },
                      {
                        "learn": [
                          0.9317760228,
                          0.4829736319
                        ],
                        "iteration": 1354,
                        "passed_time": 28.05266218,
                        "remaining_time": 178.978055,
                        "test": [
                          0.9008545986,
                          0.5310232787
                        ]
                      },
                      {
                        "learn": [
                          0.9316797949,
                          0.4827083635
                        ],
                        "iteration": 1355,
                        "passed_time": 28.09250664,
                        "remaining_time": 179.0793713,
                        "test": [
                          0.9008545986,
                          0.5307828655
                        ]
                      },
                      {
                        "learn": [
                          0.9318962452,
                          0.4825325928
                        ],
                        "iteration": 1356,
                        "passed_time": 28.11218939,
                        "remaining_time": 179.0520655,
                        "test": [
                          0.9008545986,
                          0.5306639057
                        ]
                      },
                      {
                        "learn": [
                          0.9318962452,
                          0.482498211
                        ],
                        "iteration": 1357,
                        "passed_time": 28.12448197,
                        "remaining_time": 178.9777417,
                        "test": [
                          0.9008545986,
                          0.5306732201
                        ]
                      },
                      {
                        "learn": [
                          0.9318962452,
                          0.4824387834
                        ],
                        "iteration": 1358,
                        "passed_time": 28.1368057,
                        "remaining_time": 178.9037072,
                        "test": [
                          0.9008545986,
                          0.5306341658
                        ]
                      },
                      {
                        "learn": [
                          0.9318962452,
                          0.4822650373
                        ],
                        "iteration": 1359,
                        "passed_time": 28.14913414,
                        "remaining_time": 178.8297934,
                        "test": [
                          0.901501456,
                          0.5305192397
                        ]
                      },
                      {
                        "learn": [
                          0.9321126954,
                          0.4821876126
                        ],
                        "iteration": 1360,
                        "passed_time": 28.16193745,
                        "remaining_time": 178.7589843,
                        "test": [
                          0.901501456,
                          0.5304801487
                        ]
                      },
                      {
                        "learn": [
                          0.9322209205,
                          0.4820757313
                        ],
                        "iteration": 1361,
                        "passed_time": 28.17411036,
                        "remaining_time": 178.6842623,
                        "test": [
                          0.9016516592,
                          0.5304242626
                        ]
                      },
                      {
                        "learn": [
                          0.9322209205,
                          0.4819663245
                        ],
                        "iteration": 1362,
                        "passed_time": 28.18756781,
                        "remaining_time": 178.617772,
                        "test": [
                          0.9020750568,
                          0.5303748305
                        ]
                      },
                      {
                        "learn": [
                          0.9322209205,
                          0.4818454446
                        ],
                        "iteration": 1363,
                        "passed_time": 28.19977665,
                        "remaining_time": 178.5434539,
                        "test": [
                          0.9016516592,
                          0.5302730692
                        ]
                      },
                      {
                        "learn": [
                          0.932304117,
                          0.4816701987
                        ],
                        "iteration": 1364,
                        "passed_time": 28.21200501,
                        "remaining_time": 178.4693504,
                        "test": [
                          0.9016516592,
                          0.530132107
                        ]
                      },
                      {
                        "learn": [
                          0.9323227363,
                          0.4815065384
                        ],
                        "iteration": 1365,
                        "passed_time": 28.22418114,
                        "remaining_time": 178.3950073,
                        "test": [
                          0.9018997793,
                          0.5300190145
                        ]
                      },
                      {
                        "learn": [
                          0.9323227363,
                          0.4814466609
                        ],
                        "iteration": 1366,
                        "passed_time": 28.2362813,
                        "remaining_time": 178.3202754,
                        "test": [
                          0.9018997793,
                          0.5299940784
                        ]
                      },
                      {
                        "learn": [
                          0.9324309614,
                          0.4811299136
                        ],
                        "iteration": 1367,
                        "passed_time": 28.24868765,
                        "remaining_time": 178.2475671,
                        "test": [
                          0.9018997793,
                          0.5297586891
                        ]
                      },
                      {
                        "learn": [
                          0.9325141579,
                          0.4809735271
                        ],
                        "iteration": 1368,
                        "passed_time": 28.26079591,
                        "remaining_time": 178.1730676,
                        "test": [
                          0.9018997793,
                          0.529634302
                        ]
                      },
                      {
                        "learn": [
                          0.9325973544,
                          0.4807520889
                        ],
                        "iteration": 1369,
                        "passed_time": 28.27307737,
                        "remaining_time": 178.0997502,
                        "test": [
                          0.9018997793,
                          0.5294404239
                        ]
                      },
                      {
                        "learn": [
                          0.9325973544,
                          0.4804777845
                        ],
                        "iteration": 1370,
                        "passed_time": 28.28527545,
                        "remaining_time": 178.025997,
                        "test": [
                          0.9017495761,
                          0.5292999384
                        ]
                      },
                      {
                        "learn": [
                          0.9325973544,
                          0.4804569755
                        ],
                        "iteration": 1371,
                        "passed_time": 28.2972517,
                        "remaining_time": 177.9509385,
                        "test": [
                          0.9017495761,
                          0.5293015153
                        ]
                      },
                      {
                        "learn": [
                          0.9325973544,
                          0.4804108957
                        ],
                        "iteration": 1372,
                        "passed_time": 28.30944212,
                        "remaining_time": 177.8773177,
                        "test": [
                          0.9021260381,
                          0.5293072359
                        ]
                      },
                      {
                        "learn": [
                          0.9327055795,
                          0.4803075254
                        ],
                        "iteration": 1373,
                        "passed_time": 28.32158014,
                        "remaining_time": 177.8034573,
                        "test": [
                          0.9021260381,
                          0.5292341878
                        ]
                      },
                      {
                        "learn": [
                          0.9327055795,
                          0.4801653115
                        ],
                        "iteration": 1374,
                        "passed_time": 28.33394772,
                        "remaining_time": 177.7311266,
                        "test": [
                          0.9021260381,
                          0.5290902186
                        ]
                      },
                      {
                        "learn": [
                          0.9326935823,
                          0.4799856789
                        ],
                        "iteration": 1375,
                        "passed_time": 28.34629111,
                        "remaining_time": 177.6587315,
                        "test": [
                          0.9021260381,
                          0.5289476429
                        ]
                      },
                      {
                        "learn": [
                          0.9326935823,
                          0.479819394
                        ],
                        "iteration": 1376,
                        "passed_time": 28.35898149,
                        "remaining_time": 177.5885965,
                        "test": [
                          0.9021260381,
                          0.528749401
                        ]
                      },
                      {
                        "learn": [
                          0.9326935823,
                          0.4796588082
                        ],
                        "iteration": 1377,
                        "passed_time": 28.3714903,
                        "remaining_time": 177.5174088,
                        "test": [
                          0.9021260381,
                          0.5287403066
                        ]
                      },
                      {
                        "learn": [
                          0.9327383851,
                          0.4793458853
                        ],
                        "iteration": 1378,
                        "passed_time": 28.38385243,
                        "remaining_time": 177.4453893,
                        "test": [
                          0.9021260381,
                          0.528450608
                        ]
                      },
                      {
                        "learn": [
                          0.9326935823,
                          0.479215482
                        ],
                        "iteration": 1379,
                        "passed_time": 28.40168136,
                        "remaining_time": 177.4076038,
                        "test": [
                          0.9021260381,
                          0.5284101235
                        ]
                      },
                      {
                        "learn": [
                          0.9327383851,
                          0.4790427857
                        ],
                        "iteration": 1380,
                        "passed_time": 28.41398993,
                        "remaining_time": 177.3353941,
                        "test": [
                          0.9019758349,
                          0.528390138
                        ]
                      },
                      {
                        "learn": [
                          0.9328466102,
                          0.4786986305
                        ],
                        "iteration": 1381,
                        "passed_time": 28.42622587,
                        "remaining_time": 177.2628181,
                        "test": [
                          0.9019758349,
                          0.5282016138
                        ]
                      },
                      {
                        "learn": [
                          0.9328466102,
                          0.4785625281
                        ],
                        "iteration": 1382,
                        "passed_time": 28.438779,
                        "remaining_time": 177.1923056,
                        "test": [
                          0.9021511124,
                          0.5280760533
                        ]
                      },
                      {
                        "learn": [
                          0.9328466102,
                          0.4783359908
                        ],
                        "iteration": 1383,
                        "passed_time": 28.45129043,
                        "remaining_time": 177.1216173,
                        "test": [
                          0.9021511124,
                          0.52786527
                        ]
                      },
                      {
                        "learn": [
                          0.9328466102,
                          0.47829576
                        ],
                        "iteration": 1384,
                        "passed_time": 28.46503004,
                        "remaining_time": 177.0586526,
                        "test": [
                          0.9021511124,
                          0.5278737776
                        ]
                      },
                      {
                        "learn": [
                          0.9328466102,
                          0.4782299209
                        ],
                        "iteration": 1385,
                        "passed_time": 28.47737238,
                        "remaining_time": 176.9870748,
                        "test": [
                          0.9021511124,
                          0.5278433043
                        ]
                      },
                      {
                        "learn": [
                          0.9328466102,
                          0.4781304874
                        ],
                        "iteration": 1386,
                        "passed_time": 28.49082679,
                        "remaining_time": 176.9224882,
                        "test": [
                          0.9019758349,
                          0.5277378393
                        ]
                      },
                      {
                        "learn": [
                          0.9328466102,
                          0.4779652899
                        ],
                        "iteration": 1387,
                        "passed_time": 28.50541084,
                        "remaining_time": 176.8649843,
                        "test": [
                          0.9019758349,
                          0.527737766
                        ]
                      },
                      {
                        "learn": [
                          0.9328466102,
                          0.4777801457
                        ],
                        "iteration": 1388,
                        "passed_time": 28.51767475,
                        "remaining_time": 176.7931586,
                        "test": [
                          0.9023992325,
                          0.5276117654
                        ]
                      },
                      {
                        "learn": [
                          0.9328466102,
                          0.4776101865
                        ],
                        "iteration": 1389,
                        "passed_time": 28.53000145,
                        "remaining_time": 176.7218075,
                        "test": [
                          0.9023992325,
                          0.5274275317
                        ]
                      },
                      {
                        "learn": [
                          0.9328466102,
                          0.4774699598
                        ],
                        "iteration": 1390,
                        "passed_time": 28.54231778,
                        "remaining_time": 176.6504772,
                        "test": [
                          0.9019758349,
                          0.5273165661
                        ]
                      },
                      {
                        "learn": [
                          0.9328466102,
                          0.4774038583
                        ],
                        "iteration": 1391,
                        "passed_time": 28.55462677,
                        "remaining_time": 176.5791863,
                        "test": [
                          0.9019758349,
                          0.5272872295
                        ]
                      },
                      {
                        "learn": [
                          0.9329548354,
                          0.4772308246
                        ],
                        "iteration": 1392,
                        "passed_time": 28.56883198,
                        "remaining_time": 176.5196963,
                        "test": [
                          0.9019758349,
                          0.5273087919
                        ]
                      },
                      {
                        "learn": [
                          0.9330510632,
                          0.4769912394
                        ],
                        "iteration": 1393,
                        "passed_time": 28.58139027,
                        "remaining_time": 176.4501038,
                        "test": [
                          0.9019758349,
                          0.5272388975
                        ]
                      },
                      {
                        "learn": [
                          0.9330062604,
                          0.4768825825
                        ],
                        "iteration": 1394,
                        "passed_time": 28.59426127,
                        "remaining_time": 176.382522,
                        "test": [
                          0.9019758349,
                          0.5271533081
                        ]
                      },
                      {
                        "learn": [
                          0.9330062604,
                          0.476744043
                        ],
                        "iteration": 1395,
                        "passed_time": 28.60684129,
                        "remaining_time": 176.3132253,
                        "test": [
                          0.9019758349,
                          0.5270783165
                        ]
                      },
                      {
                        "learn": [
                          0.9330062604,
                          0.4765919683
                        ],
                        "iteration": 1396,
                        "passed_time": 28.6203473,
                        "remaining_time": 176.2497121,
                        "test": [
                          0.9019758349,
                          0.5268662864
                        ]
                      },
                      {
                        "learn": [
                          0.9330062604,
                          0.4764163101
                        ],
                        "iteration": 1397,
                        "passed_time": 28.63465384,
                        "remaining_time": 176.1911962,
                        "test": [
                          0.9019758349,
                          0.5269513258
                        ]
                      },
                      {
                        "learn": [
                          0.9328980352,
                          0.4763442845
                        ],
                        "iteration": 1398,
                        "passed_time": 28.64697156,
                        "remaining_time": 176.1205163,
                        "test": [
                          0.9019758349,
                          0.5269938271
                        ]
                      },
                      {
                        "learn": [
                          0.9328980352,
                          0.4761868857
                        ],
                        "iteration": 1399,
                        "passed_time": 28.65930988,
                        "remaining_time": 176.0500464,
                        "test": [
                          0.9019758349,
                          0.5267066954
                        ]
                      },
                      {
                        "learn": [
                          0.9328980352,
                          0.4759747835
                        ],
                        "iteration": 1400,
                        "passed_time": 28.67629021,
                        "remaining_time": 176.008151,
                        "test": [
                          0.9019758349,
                          0.5265122673
                        ]
                      },
                      {
                        "learn": [
                          0.9329428381,
                          0.4758311824
                        ],
                        "iteration": 1401,
                        "passed_time": 28.70653578,
                        "remaining_time": 176.0476424,
                        "test": [
                          0.9023992325,
                          0.5264062156
                        ]
                      },
                      {
                        "learn": [
                          0.932987641,
                          0.4756458507
                        ],
                        "iteration": 1402,
                        "passed_time": 28.7189462,
                        "remaining_time": 175.977748,
                        "test": [
                          0.9023992325,
                          0.5264111295
                        ]
                      },
                      {
                        "learn": [
                          0.9328606907,
                          0.475559915
                        ],
                        "iteration": 1403,
                        "passed_time": 28.73104071,
                        "remaining_time": 175.9060014,
                        "test": [
                          0.9023992325,
                          0.5262763279
                        ]
                      },
                      {
                        "learn": [
                          0.9328606907,
                          0.4755264331
                        ],
                        "iteration": 1404,
                        "passed_time": 28.74315337,
                        "remaining_time": 175.8344507,
                        "test": [
                          0.9023992325,
                          0.5262850556
                        ]
                      },
                      {
                        "learn": [
                          0.9328606907,
                          0.4754677928
                        ],
                        "iteration": 1405,
                        "passed_time": 28.75526522,
                        "remaining_time": 175.7629796,
                        "test": [
                          0.9023992325,
                          0.5261916919
                        ]
                      },
                      {
                        "learn": [
                          0.9328606907,
                          0.4754298116
                        ],
                        "iteration": 1406,
                        "passed_time": 28.76740052,
                        "remaining_time": 175.6917361,
                        "test": [
                          0.9023992325,
                          0.5262161146
                        ]
                      },
                      {
                        "learn": [
                          0.9328606907,
                          0.4751964505
                        ],
                        "iteration": 1407,
                        "passed_time": 28.77972287,
                        "remaining_time": 175.621718,
                        "test": [
                          0.9023992325,
                          0.5260525632
                        ]
                      },
                      {
                        "learn": [
                          0.9330260346,
                          0.4748490707
                        ],
                        "iteration": 1408,
                        "passed_time": 28.79428496,
                        "remaining_time": 175.565438,
                        "test": [
                          0.9023992325,
                          0.5257472428
                        ]
                      },
                      {
                        "learn": [
                          0.9330260346,
                          0.4747860062
                        ],
                        "iteration": 1409,
                        "passed_time": 28.80635722,
                        "remaining_time": 175.4940486,
                        "test": [
                          0.9023992325,
                          0.525679292
                        ]
                      },
                      {
                        "learn": [
                          0.9330324438,
                          0.4746713503
                        ],
                        "iteration": 1410,
                        "passed_time": 28.81849856,
                        "remaining_time": 175.4231638,
                        "test": [
                          0.9023992325,
                          0.5256410811
                        ]
                      },
                      {
                        "learn": [
                          0.9330388531,
                          0.4744732332
                        ],
                        "iteration": 1411,
                        "passed_time": 28.83207159,
                        "remaining_time": 175.36107,
                        "test": [
                          0.9023992325,
                          0.525458571
                        ]
                      },
                      {
                        "learn": [
                          0.9329940502,
                          0.4741912051
                        ],
                        "iteration": 1412,
                        "passed_time": 28.84440184,
                        "remaining_time": 175.2914923,
                        "test": [
                          0.9023992325,
                          0.5252092468
                        ]
                      },
                      {
                        "learn": [
                          0.9331985032,
                          0.474134852
                        ],
                        "iteration": 1413,
                        "passed_time": 28.8566188,
                        "remaining_time": 175.2213076,
                        "test": [
                          0.9023992325,
                          0.5252389867
                        ]
                      },
                      {
                        "learn": [
                          0.9331022753,
                          0.4740078231
                        ],
                        "iteration": 1414,
                        "passed_time": 28.86897532,
                        "remaining_time": 175.1520517,
                        "test": [
                          0.9027756945,
                          0.5250456587
                        ]
                      },
                      {
                        "learn": [
                          0.9331086846,
                          0.4738848811
                        ],
                        "iteration": 1415,
                        "passed_time": 28.88139421,
                        "remaining_time": 175.0832541,
                        "test": [
                          0.9027756945,
                          0.5249069334
                        ]
                      },
                      {
                        "learn": [
                          0.9330638817,
                          0.4736286112
                        ],
                        "iteration": 1416,
                        "passed_time": 28.89682589,
                        "remaining_time": 175.0327852,
                        "test": [
                          0.9027756945,
                          0.5245877882
                        ]
                      },
                      {
                        "learn": [
                          0.9330638817,
                          0.4735600726
                        ],
                        "iteration": 1417,
                        "passed_time": 28.91030916,
                        "remaining_time": 174.9705735,
                        "test": [
                          0.9027756945,
                          0.5245278682
                        ]
                      },
                      {
                        "learn": [
                          0.9330638817,
                          0.4734061982
                        ],
                        "iteration": 1418,
                        "passed_time": 28.92250082,
                        "remaining_time": 174.9006198,
                        "test": [
                          0.9027756945,
                          0.5244445157
                        ]
                      },
                      {
                        "learn": [
                          0.9331022753,
                          0.4732114556
                        ],
                        "iteration": 1419,
                        "passed_time": 28.93718115,
                        "remaining_time": 174.8457847,
                        "test": [
                          0.9027756945,
                          0.5242243814
                        ]
                      },
                      {
                        "learn": [
                          0.9331854718,
                          0.4728777986
                        ],
                        "iteration": 1420,
                        "passed_time": 28.94965902,
                        "remaining_time": 174.7777092,
                        "test": [
                          0.9027756945,
                          0.5237794189
                        ]
                      },
                      {
                        "learn": [
                          0.9331854718,
                          0.4727405339
                        ],
                        "iteration": 1421,
                        "passed_time": 28.96330102,
                        "remaining_time": 174.7167343,
                        "test": [
                          0.9027756945,
                          0.5236021893
                        ]
                      },
                      {
                        "learn": [
                          0.9332302747,
                          0.4726061563
                        ],
                        "iteration": 1422,
                        "passed_time": 28.97559969,
                        "remaining_time": 174.6477291,
                        "test": [
                          0.9026254912,
                          0.5234708348
                        ]
                      },
                      {
                        "learn": [
                          0.9334467249,
                          0.472520708
                        ],
                        "iteration": 1423,
                        "passed_time": 28.98908969,
                        "remaining_time": 174.5859783,
                        "test": [
                          0.9026254912,
                          0.52345745
                        ]
                      },
                      {
                        "learn": [
                          0.9334467249,
                          0.4724436958
                        ],
                        "iteration": 1424,
                        "passed_time": 29.00141269,
                        "remaining_time": 174.5172728,
                        "test": [
                          0.9026254912,
                          0.5233584024
                        ]
                      },
                      {
                        "learn": [
                          0.9334531342,
                          0.4722147964
                        ],
                        "iteration": 1425,
                        "passed_time": 29.0137985,
                        "remaining_time": 174.4490241,
                        "test": [
                          0.9026254912,
                          0.5231758189
                        ]
                      }
                    ],
                    "meta": {
                      "test_sets": [
                        "test"
                      ],
                      "test_metrics": [
                        {
                          "best_value": "Max",
                          "name": "Accuracy"
                        },
                        {
                          "best_value": "Min",
                          "name": "MultiClass"
                        }
                      ],
                      "learn_metrics": [
                        {
                          "best_value": "Max",
                          "name": "Accuracy"
                        },
                        {
                          "best_value": "Min",
                          "name": "MultiClass"
                        }
                      ],
                      "launch_mode": "Train",
                      "parameters": "",
                      "iteration_count": 10000,
                      "learn_sets": [
                        "learn"
                      ],
                      "name": "experiment"
                    }
                  }
                }
              }
            },
            "layout": "IPY_MODEL_b17213fda3f648ffa4b43821c04e6973"
          }
        }
      }
    }
  },
  "cells": [
    {
      "cell_type": "markdown",
      "source": [
        "### ***Автоматическое распознавание эмоциональной окраски речи***"
      ],
      "metadata": {
        "id": "gRMr5dZ-MrXt"
      }
    },
    {
      "cell_type": "code",
      "source": [
        "!pip install catboost"
      ],
      "metadata": {
        "colab": {
          "base_uri": "https://localhost:8080/"
        },
        "id": "t-JNLlxpSshx",
        "outputId": "0290a80e-0662-4207-a1ad-52dc1af1b4e3"
      },
      "execution_count": null,
      "outputs": [
        {
          "output_type": "stream",
          "name": "stdout",
          "text": [
            "Collecting catboost\n",
            "  Downloading catboost-1.2.8-cp311-cp311-manylinux2014_x86_64.whl.metadata (1.2 kB)\n",
            "Requirement already satisfied: graphviz in /usr/local/lib/python3.11/dist-packages (from catboost) (0.20.3)\n",
            "Requirement already satisfied: matplotlib in /usr/local/lib/python3.11/dist-packages (from catboost) (3.10.0)\n",
            "Requirement already satisfied: numpy<3.0,>=1.16.0 in /usr/local/lib/python3.11/dist-packages (from catboost) (2.0.2)\n",
            "Requirement already satisfied: pandas>=0.24 in /usr/local/lib/python3.11/dist-packages (from catboost) (2.2.2)\n",
            "Requirement already satisfied: scipy in /usr/local/lib/python3.11/dist-packages (from catboost) (1.15.3)\n",
            "Requirement already satisfied: plotly in /usr/local/lib/python3.11/dist-packages (from catboost) (5.24.1)\n",
            "Requirement already satisfied: six in /usr/local/lib/python3.11/dist-packages (from catboost) (1.17.0)\n",
            "Requirement already satisfied: python-dateutil>=2.8.2 in /usr/local/lib/python3.11/dist-packages (from pandas>=0.24->catboost) (2.9.0.post0)\n",
            "Requirement already satisfied: pytz>=2020.1 in /usr/local/lib/python3.11/dist-packages (from pandas>=0.24->catboost) (2025.2)\n",
            "Requirement already satisfied: tzdata>=2022.7 in /usr/local/lib/python3.11/dist-packages (from pandas>=0.24->catboost) (2025.2)\n",
            "Requirement already satisfied: contourpy>=1.0.1 in /usr/local/lib/python3.11/dist-packages (from matplotlib->catboost) (1.3.2)\n",
            "Requirement already satisfied: cycler>=0.10 in /usr/local/lib/python3.11/dist-packages (from matplotlib->catboost) (0.12.1)\n",
            "Requirement already satisfied: fonttools>=4.22.0 in /usr/local/lib/python3.11/dist-packages (from matplotlib->catboost) (4.58.0)\n",
            "Requirement already satisfied: kiwisolver>=1.3.1 in /usr/local/lib/python3.11/dist-packages (from matplotlib->catboost) (1.4.8)\n",
            "Requirement already satisfied: packaging>=20.0 in /usr/local/lib/python3.11/dist-packages (from matplotlib->catboost) (24.2)\n",
            "Requirement already satisfied: pillow>=8 in /usr/local/lib/python3.11/dist-packages (from matplotlib->catboost) (11.2.1)\n",
            "Requirement already satisfied: pyparsing>=2.3.1 in /usr/local/lib/python3.11/dist-packages (from matplotlib->catboost) (3.2.3)\n",
            "Requirement already satisfied: tenacity>=6.2.0 in /usr/local/lib/python3.11/dist-packages (from plotly->catboost) (9.1.2)\n",
            "Downloading catboost-1.2.8-cp311-cp311-manylinux2014_x86_64.whl (99.2 MB)\n",
            "\u001b[2K   \u001b[90m━━━━━━━━━━━━━━━━━━━━━━━━━━━━━━━━━━━━━━━━\u001b[0m \u001b[32m99.2/99.2 MB\u001b[0m \u001b[31m11.2 MB/s\u001b[0m eta \u001b[36m0:00:00\u001b[0m\n",
            "\u001b[?25hInstalling collected packages: catboost\n",
            "Successfully installed catboost-1.2.8\n"
          ]
        }
      ]
    },
    {
      "cell_type": "code",
      "source": [
        "from catboost import CatBoostClassifier, Pool"
      ],
      "metadata": {
        "id": "pTS5UazSSvNZ"
      },
      "execution_count": null,
      "outputs": []
    },
    {
      "cell_type": "code",
      "source": [
        "import pandas as pd\n",
        "import numpy as np\n",
        "from sklearn.model_selection import train_test_split\n",
        "from sklearn.feature_extraction.text import TfidfVectorizer\n",
        "from sklearn.svm import SVC\n",
        "from sklearn.naive_bayes import MultinomialNB\n",
        "from sklearn.neighbors import KNeighborsClassifier\n",
        "from sklearn.metrics import classification_report\n",
        "from transformers import BertTokenizer, BertForSequenceClassification, Trainer, TrainingArguments\n",
        "import torch\n",
        "from torch.utils.data import Dataset\n",
        "import matplotlib.pyplot as plt\n",
        "from tqdm import tqdm\n",
        "from sklearn.preprocessing import LabelEncoder\n",
        "from transformers import AutoTokenizer, AutoModelForSequenceClassification\n",
        "from torch.optim import AdamW\n",
        "from torch.utils.data import Dataset, DataLoader"
      ],
      "metadata": {
        "id": "yeT2ivjaOmab"
      },
      "execution_count": null,
      "outputs": []
    },
    {
      "cell_type": "code",
      "source": [
        "import kagglehub\n",
        "\n",
        "# Download latest version\n",
        "path = kagglehub.dataset_download(\"praveengovi/emotions-dataset-for-nlp\")\n",
        "\n",
        "print(\"Path to dataset files:\", path)"
      ],
      "metadata": {
        "id": "DFu-XbU9II9y",
        "colab": {
          "base_uri": "https://localhost:8080/"
        },
        "outputId": "2d67e2e2-0b00-43a2-bbb2-ff2c14e8fe1c"
      },
      "execution_count": null,
      "outputs": [
        {
          "output_type": "stream",
          "name": "stdout",
          "text": [
            "Path to dataset files: /kaggle/input/emotions-dataset-for-nlp\n"
          ]
        }
      ]
    },
    {
      "cell_type": "code",
      "source": [
        "import pandas as pd"
      ],
      "metadata": {
        "id": "Mre6bz9lNOVS"
      },
      "execution_count": null,
      "outputs": []
    },
    {
      "cell_type": "code",
      "source": [
        "train = pd.read_csv(path + '/train.txt', sep=';', header = None, names = ['text', 'emotion'])"
      ],
      "metadata": {
        "id": "8m_zdux0Mr3u"
      },
      "execution_count": null,
      "outputs": []
    },
    {
      "cell_type": "code",
      "source": [
        "train"
      ],
      "metadata": {
        "colab": {
          "base_uri": "https://localhost:8080/",
          "height": 423
        },
        "id": "9oGzmxiGNUjW",
        "outputId": "bd267710-41cd-4c09-b59d-07ebf2ed4479"
      },
      "execution_count": null,
      "outputs": [
        {
          "output_type": "execute_result",
          "data": {
            "text/plain": [
              "                                                    text  emotion\n",
              "0                                i didnt feel humiliated  sadness\n",
              "1      i can go from feeling so hopeless to so damned...  sadness\n",
              "2       im grabbing a minute to post i feel greedy wrong    anger\n",
              "3      i am ever feeling nostalgic about the fireplac...     love\n",
              "4                                   i am feeling grouchy    anger\n",
              "...                                                  ...      ...\n",
              "15995  i just had a very brief time in the beanbag an...  sadness\n",
              "15996  i am now turning and i feel pathetic that i am...  sadness\n",
              "15997                     i feel strong and good overall      joy\n",
              "15998  i feel like this was such a rude comment and i...    anger\n",
              "15999  i know a lot but i feel so stupid because i ca...  sadness\n",
              "\n",
              "[16000 rows x 2 columns]"
            ],
            "text/html": [
              "\n",
              "  <div id=\"df-d46b9334-89fa-4992-878d-63cbd6beb52f\" class=\"colab-df-container\">\n",
              "    <div>\n",
              "<style scoped>\n",
              "    .dataframe tbody tr th:only-of-type {\n",
              "        vertical-align: middle;\n",
              "    }\n",
              "\n",
              "    .dataframe tbody tr th {\n",
              "        vertical-align: top;\n",
              "    }\n",
              "\n",
              "    .dataframe thead th {\n",
              "        text-align: right;\n",
              "    }\n",
              "</style>\n",
              "<table border=\"1\" class=\"dataframe\">\n",
              "  <thead>\n",
              "    <tr style=\"text-align: right;\">\n",
              "      <th></th>\n",
              "      <th>text</th>\n",
              "      <th>emotion</th>\n",
              "    </tr>\n",
              "  </thead>\n",
              "  <tbody>\n",
              "    <tr>\n",
              "      <th>0</th>\n",
              "      <td>i didnt feel humiliated</td>\n",
              "      <td>sadness</td>\n",
              "    </tr>\n",
              "    <tr>\n",
              "      <th>1</th>\n",
              "      <td>i can go from feeling so hopeless to so damned...</td>\n",
              "      <td>sadness</td>\n",
              "    </tr>\n",
              "    <tr>\n",
              "      <th>2</th>\n",
              "      <td>im grabbing a minute to post i feel greedy wrong</td>\n",
              "      <td>anger</td>\n",
              "    </tr>\n",
              "    <tr>\n",
              "      <th>3</th>\n",
              "      <td>i am ever feeling nostalgic about the fireplac...</td>\n",
              "      <td>love</td>\n",
              "    </tr>\n",
              "    <tr>\n",
              "      <th>4</th>\n",
              "      <td>i am feeling grouchy</td>\n",
              "      <td>anger</td>\n",
              "    </tr>\n",
              "    <tr>\n",
              "      <th>...</th>\n",
              "      <td>...</td>\n",
              "      <td>...</td>\n",
              "    </tr>\n",
              "    <tr>\n",
              "      <th>15995</th>\n",
              "      <td>i just had a very brief time in the beanbag an...</td>\n",
              "      <td>sadness</td>\n",
              "    </tr>\n",
              "    <tr>\n",
              "      <th>15996</th>\n",
              "      <td>i am now turning and i feel pathetic that i am...</td>\n",
              "      <td>sadness</td>\n",
              "    </tr>\n",
              "    <tr>\n",
              "      <th>15997</th>\n",
              "      <td>i feel strong and good overall</td>\n",
              "      <td>joy</td>\n",
              "    </tr>\n",
              "    <tr>\n",
              "      <th>15998</th>\n",
              "      <td>i feel like this was such a rude comment and i...</td>\n",
              "      <td>anger</td>\n",
              "    </tr>\n",
              "    <tr>\n",
              "      <th>15999</th>\n",
              "      <td>i know a lot but i feel so stupid because i ca...</td>\n",
              "      <td>sadness</td>\n",
              "    </tr>\n",
              "  </tbody>\n",
              "</table>\n",
              "<p>16000 rows × 2 columns</p>\n",
              "</div>\n",
              "    <div class=\"colab-df-buttons\">\n",
              "\n",
              "  <div class=\"colab-df-container\">\n",
              "    <button class=\"colab-df-convert\" onclick=\"convertToInteractive('df-d46b9334-89fa-4992-878d-63cbd6beb52f')\"\n",
              "            title=\"Convert this dataframe to an interactive table.\"\n",
              "            style=\"display:none;\">\n",
              "\n",
              "  <svg xmlns=\"http://www.w3.org/2000/svg\" height=\"24px\" viewBox=\"0 -960 960 960\">\n",
              "    <path d=\"M120-120v-720h720v720H120Zm60-500h600v-160H180v160Zm220 220h160v-160H400v160Zm0 220h160v-160H400v160ZM180-400h160v-160H180v160Zm440 0h160v-160H620v160ZM180-180h160v-160H180v160Zm440 0h160v-160H620v160Z\"/>\n",
              "  </svg>\n",
              "    </button>\n",
              "\n",
              "  <style>\n",
              "    .colab-df-container {\n",
              "      display:flex;\n",
              "      gap: 12px;\n",
              "    }\n",
              "\n",
              "    .colab-df-convert {\n",
              "      background-color: #E8F0FE;\n",
              "      border: none;\n",
              "      border-radius: 50%;\n",
              "      cursor: pointer;\n",
              "      display: none;\n",
              "      fill: #1967D2;\n",
              "      height: 32px;\n",
              "      padding: 0 0 0 0;\n",
              "      width: 32px;\n",
              "    }\n",
              "\n",
              "    .colab-df-convert:hover {\n",
              "      background-color: #E2EBFA;\n",
              "      box-shadow: 0px 1px 2px rgba(60, 64, 67, 0.3), 0px 1px 3px 1px rgba(60, 64, 67, 0.15);\n",
              "      fill: #174EA6;\n",
              "    }\n",
              "\n",
              "    .colab-df-buttons div {\n",
              "      margin-bottom: 4px;\n",
              "    }\n",
              "\n",
              "    [theme=dark] .colab-df-convert {\n",
              "      background-color: #3B4455;\n",
              "      fill: #D2E3FC;\n",
              "    }\n",
              "\n",
              "    [theme=dark] .colab-df-convert:hover {\n",
              "      background-color: #434B5C;\n",
              "      box-shadow: 0px 1px 3px 1px rgba(0, 0, 0, 0.15);\n",
              "      filter: drop-shadow(0px 1px 2px rgba(0, 0, 0, 0.3));\n",
              "      fill: #FFFFFF;\n",
              "    }\n",
              "  </style>\n",
              "\n",
              "    <script>\n",
              "      const buttonEl =\n",
              "        document.querySelector('#df-d46b9334-89fa-4992-878d-63cbd6beb52f button.colab-df-convert');\n",
              "      buttonEl.style.display =\n",
              "        google.colab.kernel.accessAllowed ? 'block' : 'none';\n",
              "\n",
              "      async function convertToInteractive(key) {\n",
              "        const element = document.querySelector('#df-d46b9334-89fa-4992-878d-63cbd6beb52f');\n",
              "        const dataTable =\n",
              "          await google.colab.kernel.invokeFunction('convertToInteractive',\n",
              "                                                    [key], {});\n",
              "        if (!dataTable) return;\n",
              "\n",
              "        const docLinkHtml = 'Like what you see? Visit the ' +\n",
              "          '<a target=\"_blank\" href=https://colab.research.google.com/notebooks/data_table.ipynb>data table notebook</a>'\n",
              "          + ' to learn more about interactive tables.';\n",
              "        element.innerHTML = '';\n",
              "        dataTable['output_type'] = 'display_data';\n",
              "        await google.colab.output.renderOutput(dataTable, element);\n",
              "        const docLink = document.createElement('div');\n",
              "        docLink.innerHTML = docLinkHtml;\n",
              "        element.appendChild(docLink);\n",
              "      }\n",
              "    </script>\n",
              "  </div>\n",
              "\n",
              "\n",
              "    <div id=\"df-ea6978ce-0b0d-4c58-9084-057190e3881b\">\n",
              "      <button class=\"colab-df-quickchart\" onclick=\"quickchart('df-ea6978ce-0b0d-4c58-9084-057190e3881b')\"\n",
              "                title=\"Suggest charts\"\n",
              "                style=\"display:none;\">\n",
              "\n",
              "<svg xmlns=\"http://www.w3.org/2000/svg\" height=\"24px\"viewBox=\"0 0 24 24\"\n",
              "     width=\"24px\">\n",
              "    <g>\n",
              "        <path d=\"M19 3H5c-1.1 0-2 .9-2 2v14c0 1.1.9 2 2 2h14c1.1 0 2-.9 2-2V5c0-1.1-.9-2-2-2zM9 17H7v-7h2v7zm4 0h-2V7h2v10zm4 0h-2v-4h2v4z\"/>\n",
              "    </g>\n",
              "</svg>\n",
              "      </button>\n",
              "\n",
              "<style>\n",
              "  .colab-df-quickchart {\n",
              "      --bg-color: #E8F0FE;\n",
              "      --fill-color: #1967D2;\n",
              "      --hover-bg-color: #E2EBFA;\n",
              "      --hover-fill-color: #174EA6;\n",
              "      --disabled-fill-color: #AAA;\n",
              "      --disabled-bg-color: #DDD;\n",
              "  }\n",
              "\n",
              "  [theme=dark] .colab-df-quickchart {\n",
              "      --bg-color: #3B4455;\n",
              "      --fill-color: #D2E3FC;\n",
              "      --hover-bg-color: #434B5C;\n",
              "      --hover-fill-color: #FFFFFF;\n",
              "      --disabled-bg-color: #3B4455;\n",
              "      --disabled-fill-color: #666;\n",
              "  }\n",
              "\n",
              "  .colab-df-quickchart {\n",
              "    background-color: var(--bg-color);\n",
              "    border: none;\n",
              "    border-radius: 50%;\n",
              "    cursor: pointer;\n",
              "    display: none;\n",
              "    fill: var(--fill-color);\n",
              "    height: 32px;\n",
              "    padding: 0;\n",
              "    width: 32px;\n",
              "  }\n",
              "\n",
              "  .colab-df-quickchart:hover {\n",
              "    background-color: var(--hover-bg-color);\n",
              "    box-shadow: 0 1px 2px rgba(60, 64, 67, 0.3), 0 1px 3px 1px rgba(60, 64, 67, 0.15);\n",
              "    fill: var(--button-hover-fill-color);\n",
              "  }\n",
              "\n",
              "  .colab-df-quickchart-complete:disabled,\n",
              "  .colab-df-quickchart-complete:disabled:hover {\n",
              "    background-color: var(--disabled-bg-color);\n",
              "    fill: var(--disabled-fill-color);\n",
              "    box-shadow: none;\n",
              "  }\n",
              "\n",
              "  .colab-df-spinner {\n",
              "    border: 2px solid var(--fill-color);\n",
              "    border-color: transparent;\n",
              "    border-bottom-color: var(--fill-color);\n",
              "    animation:\n",
              "      spin 1s steps(1) infinite;\n",
              "  }\n",
              "\n",
              "  @keyframes spin {\n",
              "    0% {\n",
              "      border-color: transparent;\n",
              "      border-bottom-color: var(--fill-color);\n",
              "      border-left-color: var(--fill-color);\n",
              "    }\n",
              "    20% {\n",
              "      border-color: transparent;\n",
              "      border-left-color: var(--fill-color);\n",
              "      border-top-color: var(--fill-color);\n",
              "    }\n",
              "    30% {\n",
              "      border-color: transparent;\n",
              "      border-left-color: var(--fill-color);\n",
              "      border-top-color: var(--fill-color);\n",
              "      border-right-color: var(--fill-color);\n",
              "    }\n",
              "    40% {\n",
              "      border-color: transparent;\n",
              "      border-right-color: var(--fill-color);\n",
              "      border-top-color: var(--fill-color);\n",
              "    }\n",
              "    60% {\n",
              "      border-color: transparent;\n",
              "      border-right-color: var(--fill-color);\n",
              "    }\n",
              "    80% {\n",
              "      border-color: transparent;\n",
              "      border-right-color: var(--fill-color);\n",
              "      border-bottom-color: var(--fill-color);\n",
              "    }\n",
              "    90% {\n",
              "      border-color: transparent;\n",
              "      border-bottom-color: var(--fill-color);\n",
              "    }\n",
              "  }\n",
              "</style>\n",
              "\n",
              "      <script>\n",
              "        async function quickchart(key) {\n",
              "          const quickchartButtonEl =\n",
              "            document.querySelector('#' + key + ' button');\n",
              "          quickchartButtonEl.disabled = true;  // To prevent multiple clicks.\n",
              "          quickchartButtonEl.classList.add('colab-df-spinner');\n",
              "          try {\n",
              "            const charts = await google.colab.kernel.invokeFunction(\n",
              "                'suggestCharts', [key], {});\n",
              "          } catch (error) {\n",
              "            console.error('Error during call to suggestCharts:', error);\n",
              "          }\n",
              "          quickchartButtonEl.classList.remove('colab-df-spinner');\n",
              "          quickchartButtonEl.classList.add('colab-df-quickchart-complete');\n",
              "        }\n",
              "        (() => {\n",
              "          let quickchartButtonEl =\n",
              "            document.querySelector('#df-ea6978ce-0b0d-4c58-9084-057190e3881b button');\n",
              "          quickchartButtonEl.style.display =\n",
              "            google.colab.kernel.accessAllowed ? 'block' : 'none';\n",
              "        })();\n",
              "      </script>\n",
              "    </div>\n",
              "    </div>\n",
              "  </div>\n"
            ],
            "application/vnd.google.colaboratory.intrinsic+json": {
              "type": "dataframe",
              "variable_name": "train",
              "summary": "{\n  \"name\": \"train\",\n  \"rows\": 16000,\n  \"fields\": [\n    {\n      \"column\": \"text\",\n      \"properties\": {\n        \"dtype\": \"string\",\n        \"num_unique_values\": 15969,\n        \"samples\": [\n          \"i feel rather imbicilic or at least complacent\",\n          \"i was in the bathroom i had sat down to pee it was to make me feel submissive again per instructions\",\n          \"i am thrilled with the way my skin and hair feel if you are like me you are skeptical\"\n        ],\n        \"semantic_type\": \"\",\n        \"description\": \"\"\n      }\n    },\n    {\n      \"column\": \"emotion\",\n      \"properties\": {\n        \"dtype\": \"category\",\n        \"num_unique_values\": 6,\n        \"samples\": [\n          \"sadness\",\n          \"anger\",\n          \"joy\"\n        ],\n        \"semantic_type\": \"\",\n        \"description\": \"\"\n      }\n    }\n  ]\n}"
            }
          },
          "metadata": {},
          "execution_count": 49
        }
      ]
    },
    {
      "cell_type": "code",
      "source": [
        "X = train['text']\n",
        "y = train['emotion']"
      ],
      "metadata": {
        "id": "_954ls6LP6BB"
      },
      "execution_count": null,
      "outputs": []
    },
    {
      "cell_type": "code",
      "source": [
        "X_train, X_test, y_train, y_test = train_test_split(X, y, test_size=0.2, random_state=42)\n",
        "\n",
        "# Векторизация текста\n",
        "vectorizer = TfidfVectorizer()\n",
        "X_train_vec = vectorizer.fit_transform(X_train)\n",
        "X_test_vec = vectorizer.transform(X_test)"
      ],
      "metadata": {
        "id": "iphxT_mQOsj3"
      },
      "execution_count": null,
      "outputs": []
    },
    {
      "cell_type": "code",
      "source": [
        "plt.figure(figsize=(10, 6))\n",
        "train['emotion'].value_counts().plot(kind='bar', color='skyblue')\n",
        "plt.title('Распределение статей по рубрикам')\n",
        "plt.xlabel('Рубрика')\n",
        "plt.ylabel('Количество')\n",
        "plt.xticks(rotation=45)\n",
        "plt.tight_layout()\n",
        "plt.show()"
      ],
      "metadata": {
        "colab": {
          "base_uri": "https://localhost:8080/",
          "height": 607
        },
        "id": "0Qu8d5vnQsVX",
        "outputId": "6fa77de2-fa5a-4a8b-e8e2-864b48a30b80"
      },
      "execution_count": null,
      "outputs": [
        {
          "output_type": "display_data",
          "data": {
            "text/plain": [
              "<Figure size 1000x600 with 1 Axes>"
            ],
            "image/png": "[encoded data removed]"
          },
          "metadata": {}
        }
      ]
    },
    {
      "cell_type": "code",
      "execution_count": null,
      "metadata": {
        "id": "Z3hcEvDV05Co"
      },
      "outputs": [],
      "source": [
        "device = torch.device(\"cuda\" if torch.cuda.is_available() else \"cpu\")"
      ]
    },
    {
      "cell_type": "code",
      "source": [
        "from transformers import AutoTokenizer, AutoModel"
      ],
      "metadata": {
        "id": "XqsZbuluRCwi"
      },
      "execution_count": null,
      "outputs": []
    },
    {
      "cell_type": "code",
      "source": [
        "le = LabelEncoder()\n",
        "train['emotion_encoded'] = le.fit_transform(train['emotion'])"
      ],
      "metadata": {
        "id": "SMPfYAxQSVIi"
      },
      "execution_count": null,
      "outputs": []
    },
    {
      "cell_type": "code",
      "source": [
        "vectorizer = TfidfVectorizer(max_features=10000, ngram_range=(1, 2))"
      ],
      "metadata": {
        "id": "AeT0StZYBd-D"
      },
      "execution_count": null,
      "outputs": []
    },
    {
      "cell_type": "code",
      "source": [
        "X_train, X_test, y_train_tfidf, y_test_tfidf = train_test_split(train['text'], train['emotion_encoded'], test_size=0.2, random_state=42)\n",
        "X_train_tfidf = vectorizer.fit_transform(X_train)\n",
        "X_test_tfidf = vectorizer.transform(X_test)"
      ],
      "metadata": {
        "id": "-4Fx-UBSB0rM"
      },
      "execution_count": null,
      "outputs": []
    },
    {
      "cell_type": "code",
      "execution_count": null,
      "metadata": {
        "id": "WUKijTaf05Cp"
      },
      "outputs": [],
      "source": [
        "model_catboost = CatBoostClassifier(\n",
        "    iterations=10000,\n",
        "    learning_rate=0.1,\n",
        "    auto_class_weights='Balanced',\n",
        "    depth=3,\n",
        "    eval_metric='Accuracy',\n",
        "    task_type='GPU',\n",
        "    devices='0:1',\n",
        "    random_seed=42,\n",
        "    early_stopping_rounds=200,\n",
        "    verbose=500,\n",
        ")"
      ]
    },
    {
      "cell_type": "code",
      "execution_count": null,
      "metadata": {
        "id": "choXJPBh05Cp"
      },
      "outputs": [],
      "source": [
        "train_pool_tfidf = Pool(X_train_tfidf, y_train_tfidf)\n",
        "valid_pool_tfidf = Pool(X_test_tfidf, y_test_tfidf)"
      ]
    },
    {
      "cell_type": "code",
      "execution_count": null,
      "metadata": {
        "colab": {
          "base_uri": "https://localhost:8080/",
          "height": 138,
          "referenced_widgets": [
            "3a53e851b60b44ba852f8a46647a2bb7"
          ]
        },
        "id": "EihRWkHk05Cp",
        "outputId": "1a6d1abc-d89a-4d1a-d94b-c2ae94c2a40b"
      },
      "outputs": [
        {
          "output_type": "display_data",
          "data": {
            "text/plain": [
              "MetricVisualizer(layout=Layout(align_self='stretch', height='500px'))"
            ],
            "application/vnd.jupyter.widget-view+json": {
              "version_major": 2,
              "version_minor": 0,
              "model_id": "3a53e851b60b44ba852f8a46647a2bb7"
            }
          },
          "metadata": {}
        },
        {
          "output_type": "stream",
          "name": "stdout",
          "text": [
            "0:\tlearn: 0.2206736\ttest: 0.2044099\tbest: 0.2044099 (0)\ttotal: 38.8ms\tremaining: 6m 27s\n",
            "500:\tlearn: 0.8858653\ttest: 0.8709383\tbest: 0.8709383 (496)\ttotal: 6.79s\tremaining: 2m 8s\n",
            "1000:\tlearn: 0.9251724\ttest: 0.9020233\tbest: 0.9030685 (923)\ttotal: 19s\tremaining: 2m 51s\n",
            "bestTest = 0.9037804821\n",
            "bestIteration = 1225\n",
            "Shrink model to first 1226 iterations.\n"
          ]
        },
        {
          "output_type": "execute_result",
          "data": {
            "text/plain": [
              "<catboost.core.CatBoostClassifier at 0x786e2a0b7790>"
            ]
          },
          "metadata": {},
          "execution_count": 81
        }
      ],
      "source": [
        "model_catboost.fit(\n",
        "    train_pool_tfidf,\n",
        "    eval_set=valid_pool_tfidf,\n",
        "    plot=True\n",
        ")"
      ]
    },
    {
      "cell_type": "code",
      "source": [
        "y_pred_cat_tfidf = model_catboost.predict(X_test_tfidf)\n",
        "\n",
        "print(classification_report(y_test_tfidf, y_pred_cat_tfidf, target_names=le.classes_))"
      ],
      "metadata": {
        "colab": {
          "base_uri": "https://localhost:8080/"
        },
        "id": "uBENvff-S7fY",
        "outputId": "a4138770-0bcf-4509-b930-dc2eb06d5682"
      },
      "execution_count": null,
      "outputs": [
        {
          "output_type": "stream",
          "name": "stdout",
          "text": [
            "              precision    recall  f1-score   support\n",
            "\n",
            "       anger       0.88      0.89      0.88       427\n",
            "        fear       0.86      0.85      0.86       397\n",
            "         joy       0.93      0.88      0.90      1021\n",
            "        love       0.73      0.95      0.82       296\n",
            "     sadness       0.97      0.88      0.93       946\n",
            "    surprise       0.65      0.97      0.78       113\n",
            "\n",
            "    accuracy                           0.89      3200\n",
            "   macro avg       0.84      0.90      0.86      3200\n",
            "weighted avg       0.90      0.89      0.89      3200\n",
            "\n"
          ]
        }
      ]
    },
    {
      "cell_type": "code",
      "execution_count": null,
      "metadata": {
        "colab": {
          "base_uri": "https://localhost:8080/"
        },
        "id": "V1ysV2bB05Cp",
        "outputId": "144bec74-7d4d-4fc7-e269-54628a49f476"
      },
      "outputs": [
        {
          "output_type": "stream",
          "name": "stderr",
          "text": [
            "Some weights of XLMRobertaForSequenceClassification were not initialized from the model checkpoint at xlm-roberta-base and are newly initialized: ['classifier.dense.bias', 'classifier.dense.weight', 'classifier.out_proj.bias', 'classifier.out_proj.weight']\n",
            "You should probably TRAIN this model on a down-stream task to be able to use it for predictions and inference.\n"
          ]
        }
      ],
      "source": [
        "num_labels = train[\"emotion_encoded\"].nunique()\n",
        "train_texts, test_texts, train_labels, test_labels = train_test_split(\n",
        "    train[\"text\"].tolist(), train[\"emotion_encoded\"].tolist(), test_size=0.2, random_state=42\n",
        ")\n",
        "\n",
        "model_name = \"xlm-roberta-base\"\n",
        "tokenizer = AutoTokenizer.from_pretrained(model_name)\n",
        "\n",
        "class EmotionsDataset(Dataset):\n",
        "    def __init__(self, texts, labels):\n",
        "        self.encodings = tokenizer(texts, truncation=True, padding=True, max_length=256)\n",
        "        self.labels = labels\n",
        "\n",
        "    def __getitem__(self, idx):\n",
        "        item = {key: torch.tensor(val[idx]) for key, val in self.encodings.items()}\n",
        "        item[\"labels\"] = torch.tensor(self.labels[idx])\n",
        "        return item\n",
        "\n",
        "    def __len__(self):\n",
        "        return len(self.labels)\n",
        "\n",
        "train_dataset = EmotionsDataset(train_texts, train_labels)\n",
        "test_dataset = EmotionsDataset(test_texts, test_labels)\n",
        "\n",
        "model = AutoModelForSequenceClassification.from_pretrained(model_name, num_labels=num_labels)\n",
        "model.to(device)\n",
        "\n",
        "train_loader = DataLoader(train_dataset, batch_size=16, shuffle=True)\n",
        "test_loader = DataLoader(test_dataset, batch_size=16)\n",
        "\n",
        "optimizer = AdamW(model.parameters(), lr=2e-5)\n"
      ]
    },
    {
      "cell_type": "code",
      "source": [
        "\n",
        "loss_values = []\n",
        "epoch_avg_losses = []\n",
        "best_loss = float('inf')\n",
        "no_improve_steps = 0\n",
        "early_stop_patience = 300\n",
        "\n",
        "model.train()\n",
        "\n",
        "stop_training = False\n",
        "\n",
        "for epoch in range(1, 100):\n",
        "    if stop_training:\n",
        "        break\n",
        "\n",
        "    loop = tqdm(train_loader, desc=f\"Эпоха {epoch}\")\n",
        "    epoch_losses = []\n",
        "    for batch in loop:\n",
        "        batch = {k: v.to(device) for k, v in batch.items()}\n",
        "        outputs = model(**batch)\n",
        "        loss = outputs.loss\n",
        "        loss.backward()\n",
        "        optimizer.step()\n",
        "        optimizer.zero_grad()\n",
        "\n",
        "        loss_val = loss.item()\n",
        "        epoch_losses.append(loss_val)\n",
        "        loss_values.append(loss_val)\n",
        "        loop.set_postfix(loss=loss_val)\n",
        "\n",
        "\n",
        "        if loss_val < best_loss - 1e-4:\n",
        "            best_loss = loss_val\n",
        "            no_improve_steps = 0\n",
        "        else:\n",
        "            no_improve_steps += 1\n",
        "\n",
        "        if no_improve_steps >= early_stop_patience:\n",
        "            print(f\"\\n📉 Ранняя остановка на эпохе {epoch} — без улучшения {early_stop_patience} батчей.\")\n",
        "            stop_training = True\n",
        "            break\n",
        "\n",
        "\n",
        "    epoch_avg_loss = np.mean(epoch_losses)\n",
        "    epoch_avg_losses.append(epoch_avg_loss)\n"
      ],
      "metadata": {
        "colab": {
          "base_uri": "https://localhost:8080/"
        },
        "id": "JQSwgGorVtHn",
        "outputId": "aa407066-3cef-4a8c-f6df-ea6cdbc17b93"
      },
      "execution_count": null,
      "outputs": [
        {
          "output_type": "stream",
          "name": "stderr",
          "text": [
            "Эпоха 1: 100%|██████████| 800/800 [03:59<00:00,  3.34it/s, loss=0.353]\n",
            "Эпоха 2: 100%|██████████| 800/800 [04:05<00:00,  3.26it/s, loss=0.0108]\n",
            "Эпоха 3:  50%|████▉     | 399/800 [02:03<02:03,  3.24it/s, loss=0.218]"
          ]
        },
        {
          "output_type": "stream",
          "name": "stdout",
          "text": [
            "\n",
            "📉 Ранняя остановка на эпохе 3 — без улучшения 300 батчей.\n"
          ]
        },
        {
          "output_type": "stream",
          "name": "stderr",
          "text": [
            "\n"
          ]
        }
      ]
    },
    {
      "cell_type": "code",
      "source": [
        "model.eval()\n",
        "all_preds, all_labels = [], []\n",
        "\n",
        "with torch.no_grad():\n",
        "    for batch in test_loader:\n",
        "        batch = {k: v.to(device) for k, v in batch.items()}\n",
        "        outputs = model(**batch)\n",
        "        logits = outputs.logits\n",
        "        preds = torch.argmax(logits, dim=1).cpu().numpy()\n",
        "        labels = batch[\"labels\"].cpu().numpy()\n",
        "        all_preds.extend(preds)\n",
        "        all_labels.extend(labels)"
      ],
      "metadata": {
        "id": "7dsmDA9ZIw1r"
      },
      "execution_count": null,
      "outputs": []
    },
    {
      "cell_type": "code",
      "execution_count": null,
      "metadata": {
        "colab": {
          "base_uri": "https://localhost:8080/"
        },
        "id": "CnRU905k05Cp",
        "outputId": "484c803c-b8ba-4f87-b056-ca3a969b1dea"
      },
      "outputs": [
        {
          "output_type": "stream",
          "name": "stdout",
          "text": [
            "              precision    recall  f1-score   support\n",
            "\n",
            "       anger       0.94      0.88      0.91       427\n",
            "        fear       0.91      0.86      0.88       397\n",
            "         joy       0.94      0.94      0.94      1021\n",
            "        love       0.82      0.91      0.86       296\n",
            "     sadness       0.96      0.95      0.96       946\n",
            "    surprise       0.74      0.94      0.82       113\n",
            "\n",
            "    accuracy                           0.92      3200\n",
            "   macro avg       0.88      0.91      0.90      3200\n",
            "weighted avg       0.93      0.92      0.92      3200\n",
            "\n"
          ]
        }
      ],
      "source": [
        "print(classification_report(all_labels, all_preds, target_names=le.classes_))"
      ]
    }
  ]
}